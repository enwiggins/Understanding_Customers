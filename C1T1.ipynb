{
 "cells": [
  {
   "cell_type": "code",
   "execution_count": 438,
   "metadata": {},
   "outputs": [],
   "source": [
    "#import packages\n",
    "import numpy as np\n",
    "import pandas as pd\n",
    "from Dora import Dora\n",
    "dora = Dora ()  #initialize dora\n",
    "%matplotlib inline\n",
    "import matplotlib as mpl\n",
    "import matplotlib.pyplot as plt\n",
    "import seaborn as sns"
   ]
  },
  {
   "cell_type": "code",
   "execution_count": 439,
   "metadata": {},
   "outputs": [],
   "source": [
    "#import the data set\n",
    "data = pd.read_csv('Demographic_Data.csv')"
   ]
  },
  {
   "cell_type": "code",
   "execution_count": 440,
   "metadata": {},
   "outputs": [
    {
     "data": {
      "text/html": [
       "<div>\n",
       "<style scoped>\n",
       "    .dataframe tbody tr th:only-of-type {\n",
       "        vertical-align: middle;\n",
       "    }\n",
       "\n",
       "    .dataframe tbody tr th {\n",
       "        vertical-align: top;\n",
       "    }\n",
       "\n",
       "    .dataframe thead th {\n",
       "        text-align: right;\n",
       "    }\n",
       "</style>\n",
       "<table border=\"1\" class=\"dataframe\">\n",
       "  <thead>\n",
       "    <tr style=\"text-align: right;\">\n",
       "      <th></th>\n",
       "      <th>in-store</th>\n",
       "      <th>age</th>\n",
       "      <th>items</th>\n",
       "      <th>amount</th>\n",
       "      <th>region</th>\n",
       "    </tr>\n",
       "  </thead>\n",
       "  <tbody>\n",
       "    <tr>\n",
       "      <th>0</th>\n",
       "      <td>0</td>\n",
       "      <td>37</td>\n",
       "      <td>4</td>\n",
       "      <td>281.03</td>\n",
       "      <td>2</td>\n",
       "    </tr>\n",
       "    <tr>\n",
       "      <th>1</th>\n",
       "      <td>0</td>\n",
       "      <td>35</td>\n",
       "      <td>2</td>\n",
       "      <td>219.51</td>\n",
       "      <td>2</td>\n",
       "    </tr>\n",
       "    <tr>\n",
       "      <th>2</th>\n",
       "      <td>1</td>\n",
       "      <td>45</td>\n",
       "      <td>3</td>\n",
       "      <td>1525.70</td>\n",
       "      <td>4</td>\n",
       "    </tr>\n",
       "    <tr>\n",
       "      <th>3</th>\n",
       "      <td>1</td>\n",
       "      <td>46</td>\n",
       "      <td>3</td>\n",
       "      <td>715.25</td>\n",
       "      <td>3</td>\n",
       "    </tr>\n",
       "    <tr>\n",
       "      <th>4</th>\n",
       "      <td>1</td>\n",
       "      <td>33</td>\n",
       "      <td>4</td>\n",
       "      <td>1937.50</td>\n",
       "      <td>1</td>\n",
       "    </tr>\n",
       "  </tbody>\n",
       "</table>\n",
       "</div>"
      ],
      "text/plain": [
       "   in-store  age  items   amount  region\n",
       "0         0   37      4   281.03       2\n",
       "1         0   35      2   219.51       2\n",
       "2         1   45      3  1525.70       4\n",
       "3         1   46      3   715.25       3\n",
       "4         1   33      4  1937.50       1"
      ]
     },
     "execution_count": 440,
     "metadata": {},
     "output_type": "execute_result"
    }
   ],
   "source": [
    "#view sample of data\n",
    "data.head()"
   ]
  },
  {
   "cell_type": "code",
   "execution_count": 4,
   "metadata": {},
   "outputs": [
    {
     "data": {
      "text/html": [
       "<div>\n",
       "<style scoped>\n",
       "    .dataframe tbody tr th:only-of-type {\n",
       "        vertical-align: middle;\n",
       "    }\n",
       "\n",
       "    .dataframe tbody tr th {\n",
       "        vertical-align: top;\n",
       "    }\n",
       "\n",
       "    .dataframe thead th {\n",
       "        text-align: right;\n",
       "    }\n",
       "</style>\n",
       "<table border=\"1\" class=\"dataframe\">\n",
       "  <thead>\n",
       "    <tr style=\"text-align: right;\">\n",
       "      <th></th>\n",
       "      <th>in-store</th>\n",
       "      <th>age</th>\n",
       "      <th>items</th>\n",
       "      <th>amount</th>\n",
       "      <th>region</th>\n",
       "    </tr>\n",
       "  </thead>\n",
       "  <tbody>\n",
       "    <tr>\n",
       "      <th>count</th>\n",
       "      <td>80000.000000</td>\n",
       "      <td>80000.000000</td>\n",
       "      <td>80000.000000</td>\n",
       "      <td>80000.000000</td>\n",
       "      <td>80000.000000</td>\n",
       "    </tr>\n",
       "    <tr>\n",
       "      <th>mean</th>\n",
       "      <td>0.500000</td>\n",
       "      <td>45.757925</td>\n",
       "      <td>4.504975</td>\n",
       "      <td>835.919670</td>\n",
       "      <td>2.675000</td>\n",
       "    </tr>\n",
       "    <tr>\n",
       "      <th>std</th>\n",
       "      <td>0.500003</td>\n",
       "      <td>15.715679</td>\n",
       "      <td>2.061238</td>\n",
       "      <td>721.273736</td>\n",
       "      <td>1.126672</td>\n",
       "    </tr>\n",
       "    <tr>\n",
       "      <th>min</th>\n",
       "      <td>0.000000</td>\n",
       "      <td>18.000000</td>\n",
       "      <td>1.000000</td>\n",
       "      <td>5.004700</td>\n",
       "      <td>1.000000</td>\n",
       "    </tr>\n",
       "    <tr>\n",
       "      <th>25%</th>\n",
       "      <td>0.000000</td>\n",
       "      <td>33.000000</td>\n",
       "      <td>3.000000</td>\n",
       "      <td>285.140000</td>\n",
       "      <td>2.000000</td>\n",
       "    </tr>\n",
       "    <tr>\n",
       "      <th>50%</th>\n",
       "      <td>0.500000</td>\n",
       "      <td>45.000000</td>\n",
       "      <td>4.000000</td>\n",
       "      <td>582.315000</td>\n",
       "      <td>3.000000</td>\n",
       "    </tr>\n",
       "    <tr>\n",
       "      <th>75%</th>\n",
       "      <td>1.000000</td>\n",
       "      <td>56.000000</td>\n",
       "      <td>6.000000</td>\n",
       "      <td>1233.700000</td>\n",
       "      <td>4.000000</td>\n",
       "    </tr>\n",
       "    <tr>\n",
       "      <th>max</th>\n",
       "      <td>1.000000</td>\n",
       "      <td>85.000000</td>\n",
       "      <td>8.000000</td>\n",
       "      <td>3000.000000</td>\n",
       "      <td>4.000000</td>\n",
       "    </tr>\n",
       "  </tbody>\n",
       "</table>\n",
       "</div>"
      ],
      "text/plain": [
       "           in-store           age         items        amount        region\n",
       "count  80000.000000  80000.000000  80000.000000  80000.000000  80000.000000\n",
       "mean       0.500000     45.757925      4.504975    835.919670      2.675000\n",
       "std        0.500003     15.715679      2.061238    721.273736      1.126672\n",
       "min        0.000000     18.000000      1.000000      5.004700      1.000000\n",
       "25%        0.000000     33.000000      3.000000    285.140000      2.000000\n",
       "50%        0.500000     45.000000      4.000000    582.315000      3.000000\n",
       "75%        1.000000     56.000000      6.000000   1233.700000      4.000000\n",
       "max        1.000000     85.000000      8.000000   3000.000000      4.000000"
      ]
     },
     "execution_count": 4,
     "metadata": {},
     "output_type": "execute_result"
    }
   ],
   "source": [
    "#understand the makeup of the data\n",
    "data.describe()"
   ]
  },
  {
   "cell_type": "code",
   "execution_count": 5,
   "metadata": {},
   "outputs": [
    {
     "name": "stdout",
     "output_type": "stream",
     "text": [
      "<class 'pandas.core.frame.DataFrame'>\n",
      "RangeIndex: 80000 entries, 0 to 79999\n",
      "Data columns (total 5 columns):\n",
      " #   Column    Non-Null Count  Dtype  \n",
      "---  ------    --------------  -----  \n",
      " 0   in-store  80000 non-null  int64  \n",
      " 1   age       80000 non-null  int64  \n",
      " 2   items     80000 non-null  int64  \n",
      " 3   amount    80000 non-null  float64\n",
      " 4   region    80000 non-null  int64  \n",
      "dtypes: float64(1), int64(4)\n",
      "memory usage: 3.1 MB\n"
     ]
    }
   ],
   "source": [
    "#check the data types of each variable\n",
    "data.info()"
   ]
  },
  {
   "cell_type": "code",
   "execution_count": 6,
   "metadata": {},
   "outputs": [],
   "source": [
    "#drop duplicate rows\n",
    "data = data.drop_duplicates()"
   ]
  },
  {
   "cell_type": "code",
   "execution_count": 7,
   "metadata": {},
   "outputs": [
    {
     "name": "stdout",
     "output_type": "stream",
     "text": [
      "in-store    0\n",
      "age         0\n",
      "items       0\n",
      "amount      0\n",
      "region      0\n",
      "dtype: int64\n"
     ]
    }
   ],
   "source": [
    "#check for missing values\n",
    "print(data.isnull().sum())"
   ]
  },
  {
   "cell_type": "code",
   "execution_count": 8,
   "metadata": {},
   "outputs": [
    {
     "data": {
      "text/plain": [
       "in-store      int64\n",
       "age           int64\n",
       "items         int64\n",
       "amount      float64\n",
       "region        int64\n",
       "dtype: object"
      ]
     },
     "execution_count": 8,
     "metadata": {},
     "output_type": "execute_result"
    }
   ],
   "source": [
    "# check all datatypes are numeric\n",
    "data.dtypes"
   ]
  },
  {
   "cell_type": "code",
   "execution_count": 9,
   "metadata": {},
   "outputs": [
    {
     "data": {
      "text/plain": [
       "in-store\n",
       "0    39989\n",
       "1    39990\n",
       "Name: in-store, dtype: int64"
      ]
     },
     "execution_count": 9,
     "metadata": {},
     "output_type": "execute_result"
    }
   ],
   "source": [
    "#number of in-store vs. online sales\n",
    "data.groupby('in-store')['in-store'].count()"
   ]
  },
  {
   "cell_type": "code",
   "execution_count": 10,
   "metadata": {},
   "outputs": [
    {
     "name": "stdout",
     "output_type": "stream",
     "text": [
      "Index(['in-store', 'age', 'items', 'amount', 'region'], dtype='object')\n"
     ]
    }
   ],
   "source": [
    "# review column names\n",
    "header = data.dtypes.index\n",
    "print(header)"
   ]
  },
  {
   "cell_type": "code",
   "execution_count": 11,
   "metadata": {},
   "outputs": [
    {
     "data": {
      "text/plain": [
       "array([2, 4, 3, 1], dtype=int64)"
      ]
     },
     "execution_count": 11,
     "metadata": {},
     "output_type": "execute_result"
    }
   ],
   "source": [
    "#unique values of region variable\n",
    "data.region.unique()"
   ]
  },
  {
   "cell_type": "code",
   "execution_count": 12,
   "metadata": {},
   "outputs": [
    {
     "data": {
      "text/html": [
       "<div>\n",
       "<style scoped>\n",
       "    .dataframe tbody tr th:only-of-type {\n",
       "        vertical-align: middle;\n",
       "    }\n",
       "\n",
       "    .dataframe tbody tr th {\n",
       "        vertical-align: top;\n",
       "    }\n",
       "\n",
       "    .dataframe thead th {\n",
       "        text-align: right;\n",
       "    }\n",
       "</style>\n",
       "<table border=\"1\" class=\"dataframe\">\n",
       "  <thead>\n",
       "    <tr style=\"text-align: right;\">\n",
       "      <th></th>\n",
       "      <th>in-store</th>\n",
       "      <th>age</th>\n",
       "      <th>items</th>\n",
       "      <th>amount</th>\n",
       "    </tr>\n",
       "    <tr>\n",
       "      <th>region</th>\n",
       "      <th></th>\n",
       "      <th></th>\n",
       "      <th></th>\n",
       "      <th></th>\n",
       "    </tr>\n",
       "  </thead>\n",
       "  <tbody>\n",
       "    <tr>\n",
       "      <th>1</th>\n",
       "      <td>1.000000</td>\n",
       "      <td>43.704132</td>\n",
       "      <td>4.510283</td>\n",
       "      <td>744.990939</td>\n",
       "    </tr>\n",
       "    <tr>\n",
       "      <th>2</th>\n",
       "      <td>0.000000</td>\n",
       "      <td>56.609083</td>\n",
       "      <td>4.512804</td>\n",
       "      <td>252.097741</td>\n",
       "    </tr>\n",
       "    <tr>\n",
       "      <th>3</th>\n",
       "      <td>0.611056</td>\n",
       "      <td>45.646944</td>\n",
       "      <td>4.494000</td>\n",
       "      <td>917.969637</td>\n",
       "    </tr>\n",
       "    <tr>\n",
       "      <th>4</th>\n",
       "      <td>0.500000</td>\n",
       "      <td>38.752424</td>\n",
       "      <td>4.503771</td>\n",
       "      <td>1283.938357</td>\n",
       "    </tr>\n",
       "  </tbody>\n",
       "</table>\n",
       "</div>"
      ],
      "text/plain": [
       "        in-store        age     items       amount\n",
       "region                                            \n",
       "1       1.000000  43.704132  4.510283   744.990939\n",
       "2       0.000000  56.609083  4.512804   252.097741\n",
       "3       0.611056  45.646944  4.494000   917.969637\n",
       "4       0.500000  38.752424  4.503771  1283.938357"
      ]
     },
     "execution_count": 12,
     "metadata": {},
     "output_type": "execute_result"
    }
   ],
   "source": [
    "#groupby region and review the mean\n",
    "data.groupby(data.region).mean()"
   ]
  },
  {
   "cell_type": "code",
   "execution_count": 13,
   "metadata": {},
   "outputs": [
    {
     "data": {
      "text/html": [
       "<div>\n",
       "<style scoped>\n",
       "    .dataframe tbody tr th:only-of-type {\n",
       "        vertical-align: middle;\n",
       "    }\n",
       "\n",
       "    .dataframe tbody tr th {\n",
       "        vertical-align: top;\n",
       "    }\n",
       "\n",
       "    .dataframe thead tr th {\n",
       "        text-align: left;\n",
       "    }\n",
       "\n",
       "    .dataframe thead tr:last-of-type th {\n",
       "        text-align: right;\n",
       "    }\n",
       "</style>\n",
       "<table border=\"1\" class=\"dataframe\">\n",
       "  <thead>\n",
       "    <tr>\n",
       "      <th></th>\n",
       "      <th colspan=\"8\" halign=\"left\">in-store</th>\n",
       "      <th colspan=\"2\" halign=\"left\">age</th>\n",
       "      <th>...</th>\n",
       "      <th colspan=\"2\" halign=\"left\">items</th>\n",
       "      <th colspan=\"8\" halign=\"left\">amount</th>\n",
       "    </tr>\n",
       "    <tr>\n",
       "      <th></th>\n",
       "      <th>count</th>\n",
       "      <th>mean</th>\n",
       "      <th>std</th>\n",
       "      <th>min</th>\n",
       "      <th>25%</th>\n",
       "      <th>50%</th>\n",
       "      <th>75%</th>\n",
       "      <th>max</th>\n",
       "      <th>count</th>\n",
       "      <th>mean</th>\n",
       "      <th>...</th>\n",
       "      <th>75%</th>\n",
       "      <th>max</th>\n",
       "      <th>count</th>\n",
       "      <th>mean</th>\n",
       "      <th>std</th>\n",
       "      <th>min</th>\n",
       "      <th>25%</th>\n",
       "      <th>50%</th>\n",
       "      <th>75%</th>\n",
       "      <th>max</th>\n",
       "    </tr>\n",
       "    <tr>\n",
       "      <th>region</th>\n",
       "      <th></th>\n",
       "      <th></th>\n",
       "      <th></th>\n",
       "      <th></th>\n",
       "      <th></th>\n",
       "      <th></th>\n",
       "      <th></th>\n",
       "      <th></th>\n",
       "      <th></th>\n",
       "      <th></th>\n",
       "      <th></th>\n",
       "      <th></th>\n",
       "      <th></th>\n",
       "      <th></th>\n",
       "      <th></th>\n",
       "      <th></th>\n",
       "      <th></th>\n",
       "      <th></th>\n",
       "      <th></th>\n",
       "      <th></th>\n",
       "      <th></th>\n",
       "    </tr>\n",
       "  </thead>\n",
       "  <tbody>\n",
       "    <tr>\n",
       "      <th>1</th>\n",
       "      <td>15997.0</td>\n",
       "      <td>1.000000</td>\n",
       "      <td>0.000000</td>\n",
       "      <td>1.0</td>\n",
       "      <td>1.0</td>\n",
       "      <td>1.0</td>\n",
       "      <td>1.0</td>\n",
       "      <td>1.0</td>\n",
       "      <td>15997.0</td>\n",
       "      <td>43.704132</td>\n",
       "      <td>...</td>\n",
       "      <td>6.0</td>\n",
       "      <td>8.0</td>\n",
       "      <td>15997.0</td>\n",
       "      <td>744.990939</td>\n",
       "      <td>492.989025</td>\n",
       "      <td>50.0500</td>\n",
       "      <td>358.9900</td>\n",
       "      <td>662.860</td>\n",
       "      <td>973.490</td>\n",
       "      <td>1999.80</td>\n",
       "    </tr>\n",
       "    <tr>\n",
       "      <th>2</th>\n",
       "      <td>19994.0</td>\n",
       "      <td>0.000000</td>\n",
       "      <td>0.000000</td>\n",
       "      <td>0.0</td>\n",
       "      <td>0.0</td>\n",
       "      <td>0.0</td>\n",
       "      <td>0.0</td>\n",
       "      <td>0.0</td>\n",
       "      <td>19994.0</td>\n",
       "      <td>56.609083</td>\n",
       "      <td>...</td>\n",
       "      <td>6.0</td>\n",
       "      <td>8.0</td>\n",
       "      <td>19994.0</td>\n",
       "      <td>252.097741</td>\n",
       "      <td>142.676946</td>\n",
       "      <td>5.0047</td>\n",
       "      <td>129.6300</td>\n",
       "      <td>250.205</td>\n",
       "      <td>374.920</td>\n",
       "      <td>499.94</td>\n",
       "    </tr>\n",
       "    <tr>\n",
       "      <th>3</th>\n",
       "      <td>18000.0</td>\n",
       "      <td>0.611056</td>\n",
       "      <td>0.487524</td>\n",
       "      <td>0.0</td>\n",
       "      <td>0.0</td>\n",
       "      <td>1.0</td>\n",
       "      <td>1.0</td>\n",
       "      <td>1.0</td>\n",
       "      <td>18000.0</td>\n",
       "      <td>45.646944</td>\n",
       "      <td>...</td>\n",
       "      <td>6.0</td>\n",
       "      <td>8.0</td>\n",
       "      <td>18000.0</td>\n",
       "      <td>917.969637</td>\n",
       "      <td>751.409992</td>\n",
       "      <td>50.1320</td>\n",
       "      <td>372.9975</td>\n",
       "      <td>697.825</td>\n",
       "      <td>1134.550</td>\n",
       "      <td>3000.00</td>\n",
       "    </tr>\n",
       "    <tr>\n",
       "      <th>4</th>\n",
       "      <td>25988.0</td>\n",
       "      <td>0.500000</td>\n",
       "      <td>0.500010</td>\n",
       "      <td>0.0</td>\n",
       "      <td>0.0</td>\n",
       "      <td>0.5</td>\n",
       "      <td>1.0</td>\n",
       "      <td>1.0</td>\n",
       "      <td>25988.0</td>\n",
       "      <td>38.752424</td>\n",
       "      <td>...</td>\n",
       "      <td>6.0</td>\n",
       "      <td>8.0</td>\n",
       "      <td>25988.0</td>\n",
       "      <td>1283.938357</td>\n",
       "      <td>756.302513</td>\n",
       "      <td>50.6000</td>\n",
       "      <td>659.4575</td>\n",
       "      <td>1230.250</td>\n",
       "      <td>1812.775</td>\n",
       "      <td>3000.00</td>\n",
       "    </tr>\n",
       "  </tbody>\n",
       "</table>\n",
       "<p>4 rows × 32 columns</p>\n",
       "</div>"
      ],
      "text/plain": [
       "       in-store                                                   age  \\\n",
       "          count      mean       std  min  25%  50%  75%  max    count   \n",
       "region                                                                  \n",
       "1       15997.0  1.000000  0.000000  1.0  1.0  1.0  1.0  1.0  15997.0   \n",
       "2       19994.0  0.000000  0.000000  0.0  0.0  0.0  0.0  0.0  19994.0   \n",
       "3       18000.0  0.611056  0.487524  0.0  0.0  1.0  1.0  1.0  18000.0   \n",
       "4       25988.0  0.500000  0.500010  0.0  0.0  0.5  1.0  1.0  25988.0   \n",
       "\n",
       "                   ... items        amount                                    \\\n",
       "             mean  ...   75%  max    count         mean         std      min   \n",
       "region             ...                                                         \n",
       "1       43.704132  ...   6.0  8.0  15997.0   744.990939  492.989025  50.0500   \n",
       "2       56.609083  ...   6.0  8.0  19994.0   252.097741  142.676946   5.0047   \n",
       "3       45.646944  ...   6.0  8.0  18000.0   917.969637  751.409992  50.1320   \n",
       "4       38.752424  ...   6.0  8.0  25988.0  1283.938357  756.302513  50.6000   \n",
       "\n",
       "                                               \n",
       "             25%       50%       75%      max  \n",
       "region                                         \n",
       "1       358.9900   662.860   973.490  1999.80  \n",
       "2       129.6300   250.205   374.920   499.94  \n",
       "3       372.9975   697.825  1134.550  3000.00  \n",
       "4       659.4575  1230.250  1812.775  3000.00  \n",
       "\n",
       "[4 rows x 32 columns]"
      ]
     },
     "execution_count": 13,
     "metadata": {},
     "output_type": "execute_result"
    }
   ],
   "source": [
    "#describe all the variables grouped by region\n",
    "data.groupby(data.region).describe()"
   ]
  },
  {
   "cell_type": "code",
   "execution_count": 14,
   "metadata": {},
   "outputs": [
    {
     "data": {
      "text/html": [
       "<div>\n",
       "<style scoped>\n",
       "    .dataframe tbody tr th:only-of-type {\n",
       "        vertical-align: middle;\n",
       "    }\n",
       "\n",
       "    .dataframe tbody tr th {\n",
       "        vertical-align: top;\n",
       "    }\n",
       "\n",
       "    .dataframe thead th {\n",
       "        text-align: right;\n",
       "    }\n",
       "</style>\n",
       "<table border=\"1\" class=\"dataframe\">\n",
       "  <thead>\n",
       "    <tr style=\"text-align: right;\">\n",
       "      <th></th>\n",
       "      <th>count</th>\n",
       "      <th>mean</th>\n",
       "      <th>std</th>\n",
       "      <th>min</th>\n",
       "      <th>25%</th>\n",
       "      <th>50%</th>\n",
       "      <th>75%</th>\n",
       "      <th>max</th>\n",
       "    </tr>\n",
       "    <tr>\n",
       "      <th>region</th>\n",
       "      <th></th>\n",
       "      <th></th>\n",
       "      <th></th>\n",
       "      <th></th>\n",
       "      <th></th>\n",
       "      <th></th>\n",
       "      <th></th>\n",
       "      <th></th>\n",
       "    </tr>\n",
       "  </thead>\n",
       "  <tbody>\n",
       "    <tr>\n",
       "      <th>1</th>\n",
       "      <td>15997.0</td>\n",
       "      <td>1.000000</td>\n",
       "      <td>0.000000</td>\n",
       "      <td>1.0</td>\n",
       "      <td>1.0</td>\n",
       "      <td>1.0</td>\n",
       "      <td>1.0</td>\n",
       "      <td>1.0</td>\n",
       "    </tr>\n",
       "    <tr>\n",
       "      <th>2</th>\n",
       "      <td>19994.0</td>\n",
       "      <td>0.000000</td>\n",
       "      <td>0.000000</td>\n",
       "      <td>0.0</td>\n",
       "      <td>0.0</td>\n",
       "      <td>0.0</td>\n",
       "      <td>0.0</td>\n",
       "      <td>0.0</td>\n",
       "    </tr>\n",
       "    <tr>\n",
       "      <th>3</th>\n",
       "      <td>18000.0</td>\n",
       "      <td>0.611056</td>\n",
       "      <td>0.487524</td>\n",
       "      <td>0.0</td>\n",
       "      <td>0.0</td>\n",
       "      <td>1.0</td>\n",
       "      <td>1.0</td>\n",
       "      <td>1.0</td>\n",
       "    </tr>\n",
       "    <tr>\n",
       "      <th>4</th>\n",
       "      <td>25988.0</td>\n",
       "      <td>0.500000</td>\n",
       "      <td>0.500010</td>\n",
       "      <td>0.0</td>\n",
       "      <td>0.0</td>\n",
       "      <td>0.5</td>\n",
       "      <td>1.0</td>\n",
       "      <td>1.0</td>\n",
       "    </tr>\n",
       "  </tbody>\n",
       "</table>\n",
       "</div>"
      ],
      "text/plain": [
       "          count      mean       std  min  25%  50%  75%  max\n",
       "region                                                      \n",
       "1       15997.0  1.000000  0.000000  1.0  1.0  1.0  1.0  1.0\n",
       "2       19994.0  0.000000  0.000000  0.0  0.0  0.0  0.0  0.0\n",
       "3       18000.0  0.611056  0.487524  0.0  0.0  1.0  1.0  1.0\n",
       "4       25988.0  0.500000  0.500010  0.0  0.0  0.5  1.0  1.0"
      ]
     },
     "execution_count": 14,
     "metadata": {},
     "output_type": "execute_result"
    }
   ],
   "source": [
    "#describe in-store sales grouped by region\n",
    "data.groupby(data.region)['in-store'].describe()"
   ]
  },
  {
   "cell_type": "code",
   "execution_count": 15,
   "metadata": {},
   "outputs": [
    {
     "data": {
      "text/html": [
       "<div>\n",
       "<style scoped>\n",
       "    .dataframe tbody tr th:only-of-type {\n",
       "        vertical-align: middle;\n",
       "    }\n",
       "\n",
       "    .dataframe tbody tr th {\n",
       "        vertical-align: top;\n",
       "    }\n",
       "\n",
       "    .dataframe thead th {\n",
       "        text-align: right;\n",
       "    }\n",
       "</style>\n",
       "<table border=\"1\" class=\"dataframe\">\n",
       "  <thead>\n",
       "    <tr style=\"text-align: right;\">\n",
       "      <th></th>\n",
       "      <th>count</th>\n",
       "      <th>mean</th>\n",
       "      <th>std</th>\n",
       "      <th>min</th>\n",
       "      <th>25%</th>\n",
       "      <th>50%</th>\n",
       "      <th>75%</th>\n",
       "      <th>max</th>\n",
       "    </tr>\n",
       "    <tr>\n",
       "      <th>region</th>\n",
       "      <th></th>\n",
       "      <th></th>\n",
       "      <th></th>\n",
       "      <th></th>\n",
       "      <th></th>\n",
       "      <th></th>\n",
       "      <th></th>\n",
       "      <th></th>\n",
       "    </tr>\n",
       "  </thead>\n",
       "  <tbody>\n",
       "    <tr>\n",
       "      <th>1</th>\n",
       "      <td>15997.0</td>\n",
       "      <td>43.704132</td>\n",
       "      <td>14.085525</td>\n",
       "      <td>19.0</td>\n",
       "      <td>32.0</td>\n",
       "      <td>43.0</td>\n",
       "      <td>53.0</td>\n",
       "      <td>74.0</td>\n",
       "    </tr>\n",
       "    <tr>\n",
       "      <th>2</th>\n",
       "      <td>19994.0</td>\n",
       "      <td>56.609083</td>\n",
       "      <td>16.537368</td>\n",
       "      <td>28.0</td>\n",
       "      <td>42.0</td>\n",
       "      <td>57.0</td>\n",
       "      <td>71.0</td>\n",
       "      <td>85.0</td>\n",
       "    </tr>\n",
       "    <tr>\n",
       "      <th>3</th>\n",
       "      <td>18000.0</td>\n",
       "      <td>45.646944</td>\n",
       "      <td>14.417935</td>\n",
       "      <td>18.0</td>\n",
       "      <td>34.0</td>\n",
       "      <td>45.0</td>\n",
       "      <td>57.0</td>\n",
       "      <td>74.0</td>\n",
       "    </tr>\n",
       "    <tr>\n",
       "      <th>4</th>\n",
       "      <td>25988.0</td>\n",
       "      <td>38.752424</td>\n",
       "      <td>11.886239</td>\n",
       "      <td>18.0</td>\n",
       "      <td>29.0</td>\n",
       "      <td>39.0</td>\n",
       "      <td>49.0</td>\n",
       "      <td>63.0</td>\n",
       "    </tr>\n",
       "  </tbody>\n",
       "</table>\n",
       "</div>"
      ],
      "text/plain": [
       "          count       mean        std   min   25%   50%   75%   max\n",
       "region                                                             \n",
       "1       15997.0  43.704132  14.085525  19.0  32.0  43.0  53.0  74.0\n",
       "2       19994.0  56.609083  16.537368  28.0  42.0  57.0  71.0  85.0\n",
       "3       18000.0  45.646944  14.417935  18.0  34.0  45.0  57.0  74.0\n",
       "4       25988.0  38.752424  11.886239  18.0  29.0  39.0  49.0  63.0"
      ]
     },
     "execution_count": 15,
     "metadata": {},
     "output_type": "execute_result"
    }
   ],
   "source": [
    "#describe age grouped by region\n",
    "data.groupby(data.region)['age'].describe()"
   ]
  },
  {
   "cell_type": "code",
   "execution_count": 16,
   "metadata": {
    "scrolled": true
   },
   "outputs": [
    {
     "data": {
      "text/html": [
       "<div>\n",
       "<style scoped>\n",
       "    .dataframe tbody tr th:only-of-type {\n",
       "        vertical-align: middle;\n",
       "    }\n",
       "\n",
       "    .dataframe tbody tr th {\n",
       "        vertical-align: top;\n",
       "    }\n",
       "\n",
       "    .dataframe thead th {\n",
       "        text-align: right;\n",
       "    }\n",
       "</style>\n",
       "<table border=\"1\" class=\"dataframe\">\n",
       "  <thead>\n",
       "    <tr style=\"text-align: right;\">\n",
       "      <th></th>\n",
       "      <th>count</th>\n",
       "      <th>mean</th>\n",
       "      <th>std</th>\n",
       "      <th>min</th>\n",
       "      <th>25%</th>\n",
       "      <th>50%</th>\n",
       "      <th>75%</th>\n",
       "      <th>max</th>\n",
       "    </tr>\n",
       "    <tr>\n",
       "      <th>region</th>\n",
       "      <th></th>\n",
       "      <th></th>\n",
       "      <th></th>\n",
       "      <th></th>\n",
       "      <th></th>\n",
       "      <th></th>\n",
       "      <th></th>\n",
       "      <th></th>\n",
       "    </tr>\n",
       "  </thead>\n",
       "  <tbody>\n",
       "    <tr>\n",
       "      <th>1</th>\n",
       "      <td>15997.0</td>\n",
       "      <td>4.510283</td>\n",
       "      <td>2.050402</td>\n",
       "      <td>1.0</td>\n",
       "      <td>3.0</td>\n",
       "      <td>4.0</td>\n",
       "      <td>6.0</td>\n",
       "      <td>8.0</td>\n",
       "    </tr>\n",
       "    <tr>\n",
       "      <th>2</th>\n",
       "      <td>19994.0</td>\n",
       "      <td>4.512804</td>\n",
       "      <td>2.065467</td>\n",
       "      <td>1.0</td>\n",
       "      <td>3.0</td>\n",
       "      <td>5.0</td>\n",
       "      <td>6.0</td>\n",
       "      <td>8.0</td>\n",
       "    </tr>\n",
       "    <tr>\n",
       "      <th>3</th>\n",
       "      <td>18000.0</td>\n",
       "      <td>4.494000</td>\n",
       "      <td>2.058095</td>\n",
       "      <td>1.0</td>\n",
       "      <td>3.0</td>\n",
       "      <td>4.0</td>\n",
       "      <td>6.0</td>\n",
       "      <td>8.0</td>\n",
       "    </tr>\n",
       "    <tr>\n",
       "      <th>4</th>\n",
       "      <td>25988.0</td>\n",
       "      <td>4.503771</td>\n",
       "      <td>2.066920</td>\n",
       "      <td>1.0</td>\n",
       "      <td>3.0</td>\n",
       "      <td>5.0</td>\n",
       "      <td>6.0</td>\n",
       "      <td>8.0</td>\n",
       "    </tr>\n",
       "  </tbody>\n",
       "</table>\n",
       "</div>"
      ],
      "text/plain": [
       "          count      mean       std  min  25%  50%  75%  max\n",
       "region                                                      \n",
       "1       15997.0  4.510283  2.050402  1.0  3.0  4.0  6.0  8.0\n",
       "2       19994.0  4.512804  2.065467  1.0  3.0  5.0  6.0  8.0\n",
       "3       18000.0  4.494000  2.058095  1.0  3.0  4.0  6.0  8.0\n",
       "4       25988.0  4.503771  2.066920  1.0  3.0  5.0  6.0  8.0"
      ]
     },
     "execution_count": 16,
     "metadata": {},
     "output_type": "execute_result"
    }
   ],
   "source": [
    "##describe number of items per transaction grouped by region\n",
    "data.groupby(data.region)['items'].describe()"
   ]
  },
  {
   "cell_type": "code",
   "execution_count": 17,
   "metadata": {},
   "outputs": [
    {
     "data": {
      "text/html": [
       "<div>\n",
       "<style scoped>\n",
       "    .dataframe tbody tr th:only-of-type {\n",
       "        vertical-align: middle;\n",
       "    }\n",
       "\n",
       "    .dataframe tbody tr th {\n",
       "        vertical-align: top;\n",
       "    }\n",
       "\n",
       "    .dataframe thead th {\n",
       "        text-align: right;\n",
       "    }\n",
       "</style>\n",
       "<table border=\"1\" class=\"dataframe\">\n",
       "  <thead>\n",
       "    <tr style=\"text-align: right;\">\n",
       "      <th></th>\n",
       "      <th>count</th>\n",
       "      <th>mean</th>\n",
       "      <th>std</th>\n",
       "      <th>min</th>\n",
       "      <th>25%</th>\n",
       "      <th>50%</th>\n",
       "      <th>75%</th>\n",
       "      <th>max</th>\n",
       "    </tr>\n",
       "    <tr>\n",
       "      <th>region</th>\n",
       "      <th></th>\n",
       "      <th></th>\n",
       "      <th></th>\n",
       "      <th></th>\n",
       "      <th></th>\n",
       "      <th></th>\n",
       "      <th></th>\n",
       "      <th></th>\n",
       "    </tr>\n",
       "  </thead>\n",
       "  <tbody>\n",
       "    <tr>\n",
       "      <th>1</th>\n",
       "      <td>15997.0</td>\n",
       "      <td>744.990939</td>\n",
       "      <td>492.989025</td>\n",
       "      <td>50.0500</td>\n",
       "      <td>358.9900</td>\n",
       "      <td>662.860</td>\n",
       "      <td>973.490</td>\n",
       "      <td>1999.80</td>\n",
       "    </tr>\n",
       "    <tr>\n",
       "      <th>2</th>\n",
       "      <td>19994.0</td>\n",
       "      <td>252.097741</td>\n",
       "      <td>142.676946</td>\n",
       "      <td>5.0047</td>\n",
       "      <td>129.6300</td>\n",
       "      <td>250.205</td>\n",
       "      <td>374.920</td>\n",
       "      <td>499.94</td>\n",
       "    </tr>\n",
       "    <tr>\n",
       "      <th>3</th>\n",
       "      <td>18000.0</td>\n",
       "      <td>917.969637</td>\n",
       "      <td>751.409992</td>\n",
       "      <td>50.1320</td>\n",
       "      <td>372.9975</td>\n",
       "      <td>697.825</td>\n",
       "      <td>1134.550</td>\n",
       "      <td>3000.00</td>\n",
       "    </tr>\n",
       "    <tr>\n",
       "      <th>4</th>\n",
       "      <td>25988.0</td>\n",
       "      <td>1283.938357</td>\n",
       "      <td>756.302513</td>\n",
       "      <td>50.6000</td>\n",
       "      <td>659.4575</td>\n",
       "      <td>1230.250</td>\n",
       "      <td>1812.775</td>\n",
       "      <td>3000.00</td>\n",
       "    </tr>\n",
       "  </tbody>\n",
       "</table>\n",
       "</div>"
      ],
      "text/plain": [
       "          count         mean         std      min       25%       50%  \\\n",
       "region                                                                  \n",
       "1       15997.0   744.990939  492.989025  50.0500  358.9900   662.860   \n",
       "2       19994.0   252.097741  142.676946   5.0047  129.6300   250.205   \n",
       "3       18000.0   917.969637  751.409992  50.1320  372.9975   697.825   \n",
       "4       25988.0  1283.938357  756.302513  50.6000  659.4575  1230.250   \n",
       "\n",
       "             75%      max  \n",
       "region                     \n",
       "1        973.490  1999.80  \n",
       "2        374.920   499.94  \n",
       "3       1134.550  3000.00  \n",
       "4       1812.775  3000.00  "
      ]
     },
     "execution_count": 17,
     "metadata": {},
     "output_type": "execute_result"
    }
   ],
   "source": [
    "#describe amount of the tranaction grouped by region\n",
    "data.groupby(data.region)['amount'].describe()"
   ]
  },
  {
   "cell_type": "code",
   "execution_count": 18,
   "metadata": {},
   "outputs": [],
   "source": [
    "# place data into a dataframe\n",
    "df=pd.DataFrame(data, columns=['in-store', 'age', 'items', 'amount', 'region'])"
   ]
  },
  {
   "cell_type": "code",
   "execution_count": 19,
   "metadata": {
    "scrolled": true
   },
   "outputs": [
    {
     "name": "stderr",
     "output_type": "stream",
     "text": [
      "C:\\Users\\enwig\\Anaconda3\\envs\\datascience\\lib\\site-packages\\seaborn\\categorical.py:3704: UserWarning: The `factorplot` function has been renamed to `catplot`. The original name will be removed in a future release. Please update your code. Note that the default `kind` in `factorplot` (`'point'`) has changed `'strip'` in `catplot`.\n",
      "  warnings.warn(msg)\n",
      "C:\\Users\\enwig\\Anaconda3\\envs\\datascience\\lib\\site-packages\\seaborn\\_decorators.py:36: FutureWarning: Pass the following variable as a keyword arg: x. From version 0.12, the only valid positional argument will be `data`, and passing other arguments without an explicit keyword will result in an error or misinterpretation.\n",
      "  warnings.warn(\n"
     ]
    },
    {
     "data": {
      "text/plain": [
       "<seaborn.axisgrid.FacetGrid at 0x1c3cd177520>"
      ]
     },
     "execution_count": 19,
     "metadata": {},
     "output_type": "execute_result"
    },
    {
     "data": {
      "image/png": "[encoded data removed]",
      "text/plain": [
       "<Figure size 540x360 with 1 Axes>"
      ]
     },
     "metadata": {
      "needs_background": "light"
     },
     "output_type": "display_data"
    }
   ],
   "source": [
    "# Instead of a group by, use seaborn to plot the in-store sales\n",
    "fg = sns.factorplot('region', data=df, kind='count', aspect=1.5)\n",
    "fg.set_xlabels('region')"
   ]
  },
  {
   "cell_type": "code",
   "execution_count": 20,
   "metadata": {},
   "outputs": [
    {
     "data": {
      "text/plain": [
       "<seaborn.axisgrid.FacetGrid at 0x1c3e31cfe50>"
      ]
     },
     "execution_count": 20,
     "metadata": {},
     "output_type": "execute_result"
    },
    {
     "data": {
      "image/png": "[encoded data removed]",
      "text/plain": [
       "<Figure size 216x360 with 1 Axes>"
      ]
     },
     "metadata": {
      "needs_background": "light"
     },
     "output_type": "display_data"
    }
   ],
   "source": [
    "# plot amount of sales by region\n",
    "g = sns.catplot(x=\"region\", y=\"amount\",\n",
    "                data=df, saturation=.5,\n",
    "                kind=\"bar\", ci=None, aspect=.6)\n",
    "(g.set_axis_labels(\"\", \"Number\")\n",
    "  .set_xticklabels([\"North\", \"South\", \"East\", \"West\"])\n",
    "  .set_titles(\"{col_name} {col_var}\")\n",
    "  .set(ylim=(0, 1400))\n",
    "  .despine(left=True))  "
   ]
  },
  {
   "cell_type": "code",
   "execution_count": 493,
   "metadata": {},
   "outputs": [
    {
     "data": {
      "text/plain": [
       "<seaborn.axisgrid.FacetGrid at 0x1c390b49940>"
      ]
     },
     "execution_count": 493,
     "metadata": {},
     "output_type": "execute_result"
    },
    {
     "data": {
      "image/png": "[encoded data removed]",
      "text/plain": [
       "<Figure size 216x360 with 1 Axes>"
      ]
     },
     "metadata": {
      "needs_background": "light"
     },
     "output_type": "display_data"
    }
   ],
   "source": [
    "# plot age by region\n",
    "g = sns.catplot(x=\"region\", y=\"age\",\n",
    "                data=df, saturation=.5,\n",
    "                kind=\"bar\", ci=None, aspect=.6)\n",
    "(g.set_axis_labels(\"\", \"Number\")\n",
    "  .set_xticklabels([\"North\", \"South\", \"East\", \"West\"])\n",
    "  .set_titles(\"{col_name} {col_var}\")\n",
    "  .set(ylim=(18, 60))\n",
    "  .despine(left=True))  "
   ]
  },
  {
   "cell_type": "code",
   "execution_count": 491,
   "metadata": {},
   "outputs": [
    {
     "data": {
      "text/html": [
       "<div>\n",
       "<style scoped>\n",
       "    .dataframe tbody tr th:only-of-type {\n",
       "        vertical-align: middle;\n",
       "    }\n",
       "\n",
       "    .dataframe tbody tr th {\n",
       "        vertical-align: top;\n",
       "    }\n",
       "\n",
       "    .dataframe thead th {\n",
       "        text-align: right;\n",
       "    }\n",
       "</style>\n",
       "<table border=\"1\" class=\"dataframe\">\n",
       "  <thead>\n",
       "    <tr style=\"text-align: right;\">\n",
       "      <th></th>\n",
       "      <th>in-store</th>\n",
       "      <th>age</th>\n",
       "      <th>items</th>\n",
       "      <th>amount</th>\n",
       "      <th>region</th>\n",
       "    </tr>\n",
       "  </thead>\n",
       "  <tbody>\n",
       "    <tr>\n",
       "      <th>0</th>\n",
       "      <td>0</td>\n",
       "      <td>37</td>\n",
       "      <td>4</td>\n",
       "      <td>281.03</td>\n",
       "      <td>2</td>\n",
       "    </tr>\n",
       "    <tr>\n",
       "      <th>1</th>\n",
       "      <td>0</td>\n",
       "      <td>35</td>\n",
       "      <td>2</td>\n",
       "      <td>219.51</td>\n",
       "      <td>2</td>\n",
       "    </tr>\n",
       "    <tr>\n",
       "      <th>2</th>\n",
       "      <td>1</td>\n",
       "      <td>45</td>\n",
       "      <td>3</td>\n",
       "      <td>1525.70</td>\n",
       "      <td>4</td>\n",
       "    </tr>\n",
       "    <tr>\n",
       "      <th>3</th>\n",
       "      <td>1</td>\n",
       "      <td>46</td>\n",
       "      <td>3</td>\n",
       "      <td>715.25</td>\n",
       "      <td>3</td>\n",
       "    </tr>\n",
       "    <tr>\n",
       "      <th>4</th>\n",
       "      <td>1</td>\n",
       "      <td>33</td>\n",
       "      <td>4</td>\n",
       "      <td>1937.50</td>\n",
       "      <td>1</td>\n",
       "    </tr>\n",
       "  </tbody>\n",
       "</table>\n",
       "</div>"
      ],
      "text/plain": [
       "   in-store  age  items   amount  region\n",
       "0         0   37      4   281.03       2\n",
       "1         0   35      2   219.51       2\n",
       "2         1   45      3  1525.70       4\n",
       "3         1   46      3   715.25       3\n",
       "4         1   33      4  1937.50       1"
      ]
     },
     "execution_count": 491,
     "metadata": {},
     "output_type": "execute_result"
    }
   ],
   "source": [
    "# view sample of dataframe data\n",
    "df.head()"
   ]
  },
  {
   "cell_type": "code",
   "execution_count": 22,
   "metadata": {},
   "outputs": [
    {
     "name": "stdout",
     "output_type": "stream",
     "text": [
      "        age    amount  items\n",
      "region                      \n",
      "1        43   662.860      4\n",
      "2        57   250.205      5\n",
      "3        45   697.825      4\n",
      "4        39  1230.250      5\n"
     ]
    }
   ],
   "source": [
    "#create pivot table to veiw mean for the variables, indexed by region\n",
    "pivot = df.pivot_table(index=['region'], values=['age','items', 'amount'], aggfunc='median')\n",
    "print (pivot)"
   ]
  },
  {
   "cell_type": "code",
   "execution_count": 23,
   "metadata": {
    "scrolled": true
   },
   "outputs": [
    {
     "data": {
      "image/png": "[encoded data removed]",
      "text/plain": [
       "<Figure size 432x288 with 1 Axes>"
      ]
     },
     "metadata": {
      "needs_background": "light"
     },
     "output_type": "display_data"
    }
   ],
   "source": [
    "# build histogram for in-store variable\n",
    "plt.hist(data['in-store'], bins =4)\n",
    "plt.show()"
   ]
  },
  {
   "cell_type": "code",
   "execution_count": 24,
   "metadata": {},
   "outputs": [
    {
     "data": {
      "image/png": "[encoded data removed]",
      "text/plain": [
       "<Figure size 432x288 with 1 Axes>"
      ]
     },
     "metadata": {
      "needs_background": "light"
     },
     "output_type": "display_data"
    }
   ],
   "source": [
    "# build histogram for age variable\n",
    "plt.hist(data['age'], bins=4)\n",
    "plt.show()"
   ]
  },
  {
   "cell_type": "code",
   "execution_count": 25,
   "metadata": {},
   "outputs": [
    {
     "data": {
      "image/png": "[encoded data removed]",
      "text/plain": [
       "<Figure size 432x288 with 1 Axes>"
      ]
     },
     "metadata": {
      "needs_background": "light"
     },
     "output_type": "display_data"
    }
   ],
   "source": [
    "# build histogram for items variable\n",
    "plt.hist(data['items'])\n",
    "plt.show()"
   ]
  },
  {
   "cell_type": "code",
   "execution_count": 26,
   "metadata": {},
   "outputs": [
    {
     "data": {
      "image/png": "[encoded data removed]",
      "text/plain": [
       "<Figure size 432x288 with 1 Axes>"
      ]
     },
     "metadata": {
      "needs_background": "light"
     },
     "output_type": "display_data"
    }
   ],
   "source": [
    "# build histogram for amount variable\n",
    "plt.hist(data['amount'], bins=4)\n",
    "plt.show()"
   ]
  },
  {
   "cell_type": "code",
   "execution_count": 27,
   "metadata": {},
   "outputs": [
    {
     "data": {
      "image/png": "[encoded data removed]",
      "text/plain": [
       "<Figure size 432x288 with 1 Axes>"
      ]
     },
     "metadata": {
      "needs_background": "light"
     },
     "output_type": "display_data"
    }
   ],
   "source": [
    "# build histogram for region variable\n",
    "plt.hist(data['region'], bins=4)\n",
    "plt.show()"
   ]
  },
  {
   "cell_type": "code",
   "execution_count": 28,
   "metadata": {},
   "outputs": [],
   "source": [
    "import numpy as np"
   ]
  },
  {
   "cell_type": "code",
   "execution_count": 29,
   "metadata": {},
   "outputs": [],
   "source": [
    "# Data for plotting\n",
    "t = np.arange(0.0, 2.0, 0.01)\n",
    "s = 1 + np.sin(2 * np.pi * t)"
   ]
  },
  {
   "cell_type": "code",
   "execution_count": 30,
   "metadata": {},
   "outputs": [
    {
     "data": {
      "image/png": "[encoded data removed]",
      "text/plain": [
       "<Figure size 432x288 with 1 Axes>"
      ]
     },
     "metadata": {
      "needs_background": "light"
     },
     "output_type": "display_data"
    }
   ],
   "source": [
    "fig, ax = plt.subplots()\n",
    "ax.plot(t,s)\n",
    "plt.show()"
   ]
  },
  {
   "cell_type": "code",
   "execution_count": 31,
   "metadata": {},
   "outputs": [],
   "source": [
    "data_sample = data.sample(100)"
   ]
  },
  {
   "cell_type": "code",
   "execution_count": 32,
   "metadata": {},
   "outputs": [],
   "source": [
    "x = data_sample['age']\n",
    "y = data_sample['amount']"
   ]
  },
  {
   "cell_type": "code",
   "execution_count": 33,
   "metadata": {},
   "outputs": [
    {
     "data": {
      "image/png": "[encoded data removed]",
      "text/plain": [
       "<Figure size 432x288 with 1 Axes>"
      ]
     },
     "metadata": {
      "needs_background": "light"
     },
     "output_type": "display_data"
    }
   ],
   "source": [
    "#create scatterplot\n",
    "plt.scatter(x,y, marker='o')\n",
    "plt.xlabel('Age')\n",
    "plt.ylabel('Amount')\n",
    "plt.title(r'Scatter Plot of Random Sample')\n",
    "plt.show()"
   ]
  },
  {
   "cell_type": "code",
   "execution_count": 34,
   "metadata": {},
   "outputs": [],
   "source": [
    "data_sample = data.sample(100)"
   ]
  },
  {
   "cell_type": "code",
   "execution_count": 35,
   "metadata": {},
   "outputs": [],
   "source": [
    "x = data_sample['region']\n",
    "y = data_sample['amount']"
   ]
  },
  {
   "cell_type": "code",
   "execution_count": 36,
   "metadata": {},
   "outputs": [
    {
     "data": {
      "image/png": "[encoded data removed]",
      "text/plain": [
       "<Figure size 432x288 with 1 Axes>"
      ]
     },
     "metadata": {
      "needs_background": "light"
     },
     "output_type": "display_data"
    }
   ],
   "source": [
    "# create random scatter plot, region and amount\n",
    "plt.scatter(x,y, marker='o')\n",
    "plt.xlabel('Region')\n",
    "plt.ylabel('Amount')\n",
    "plt.title(r'Scatter Plot of Random Sample')\n",
    "plt.show()"
   ]
  },
  {
   "cell_type": "code",
   "execution_count": 37,
   "metadata": {},
   "outputs": [
    {
     "name": "stdout",
     "output_type": "stream",
     "text": [
      "Index(['in-store', 'age', 'items', 'amount', 'region'], dtype='object')\n"
     ]
    }
   ],
   "source": [
    "#look at column names\n",
    "header = data.dtypes.index\n",
    "print(header)"
   ]
  },
  {
   "cell_type": "code",
   "execution_count": 38,
   "metadata": {},
   "outputs": [
    {
     "data": {
      "image/png": "[encoded data removed]",
      "text/plain": [
       "<Figure size 432x288 with 1 Axes>"
      ]
     },
     "metadata": {
      "needs_background": "light"
     },
     "output_type": "display_data"
    }
   ],
   "source": [
    "#create boxplot of amount values\n",
    "A = data['amount']\n",
    "plt.boxplot(A,0,'gD')\n",
    "plt.title(r'Box Plot of Amount Variable')\n",
    "plt.show()"
   ]
  },
  {
   "cell_type": "code",
   "execution_count": 39,
   "metadata": {},
   "outputs": [
    {
     "data": {
      "image/png": "[encoded data removed]",
      "text/plain": [
       "<Figure size 432x288 with 1 Axes>"
      ]
     },
     "metadata": {
      "needs_background": "light"
     },
     "output_type": "display_data"
    }
   ],
   "source": [
    "#create boxplot of Item values\n",
    "A = data['items']\n",
    "plt.boxplot(A,0,'gD')\n",
    "plt.title(r'Box Plot of Items Variable')\n",
    "plt.show()"
   ]
  },
  {
   "cell_type": "code",
   "execution_count": 40,
   "metadata": {},
   "outputs": [
    {
     "data": {
      "image/png": "[encoded data removed]",
      "text/plain": [
       "<Figure size 432x288 with 1 Axes>"
      ]
     },
     "metadata": {
      "needs_background": "light"
     },
     "output_type": "display_data"
    }
   ],
   "source": [
    "#create boxplot of age range\n",
    "A = data['age']\n",
    "plt.boxplot(A,0,'gD')\n",
    "plt.title(r'Box Plot of Age Variable')\n",
    "plt.show()"
   ]
  },
  {
   "cell_type": "code",
   "execution_count": 41,
   "metadata": {},
   "outputs": [
    {
     "name": "stdout",
     "output_type": "stream",
     "text": [
      "          in-store       age     items    amount    region\n",
      "in-store  1.000000 -0.178180 -0.003897 -0.085573 -0.133171\n",
      "age      -0.178180  1.000000  0.000657 -0.282033 -0.235370\n",
      "items    -0.003897  0.000657  1.000000  0.000384 -0.001904\n",
      "amount   -0.085573 -0.282033  0.000384  1.000000  0.403486\n",
      "region   -0.133171 -0.235370 -0.001904  0.403486  1.000000\n"
     ]
    }
   ],
   "source": [
    "#review correlation \n",
    "corr_mat = data.corr()\n",
    "print(corr_mat)"
   ]
  },
  {
   "cell_type": "code",
   "execution_count": 42,
   "metadata": {},
   "outputs": [
    {
     "name": "stdout",
     "output_type": "stream",
     "text": [
      "           in-store          age     items         amount      region\n",
      "in-store   0.250003    -1.400071 -0.004017     -30.860425   -0.075019\n",
      "age       -1.400071   246.966189  0.021270   -3196.782841   -4.167305\n",
      "items     -0.004017     0.021270  4.248751       0.570791   -0.004421\n",
      "amount   -30.860425 -3196.782841  0.570791  520221.252295  327.874873\n",
      "region    -0.075019    -4.167305 -0.004421     327.874873    1.269321\n"
     ]
    }
   ],
   "source": [
    "#review covariance\n",
    "cov_mat = data.cov()\n",
    "print(cov_mat)"
   ]
  },
  {
   "cell_type": "code",
   "execution_count": null,
   "metadata": {},
   "outputs": [],
   "source": [
    "#Next Section: Build Decision Tree with Region as dependant variable"
   ]
  },
  {
   "cell_type": "code",
   "execution_count": 478,
   "metadata": {
    "scrolled": true
   },
   "outputs": [
    {
     "data": {
      "text/html": [
       "<div>\n",
       "<style scoped>\n",
       "    .dataframe tbody tr th:only-of-type {\n",
       "        vertical-align: middle;\n",
       "    }\n",
       "\n",
       "    .dataframe tbody tr th {\n",
       "        vertical-align: top;\n",
       "    }\n",
       "\n",
       "    .dataframe thead th {\n",
       "        text-align: right;\n",
       "    }\n",
       "</style>\n",
       "<table border=\"1\" class=\"dataframe\">\n",
       "  <thead>\n",
       "    <tr style=\"text-align: right;\">\n",
       "      <th></th>\n",
       "      <th>in-store</th>\n",
       "      <th>age</th>\n",
       "      <th>items</th>\n",
       "      <th>amount</th>\n",
       "      <th>region</th>\n",
       "    </tr>\n",
       "  </thead>\n",
       "  <tbody>\n",
       "    <tr>\n",
       "      <th>0</th>\n",
       "      <td>0</td>\n",
       "      <td>37</td>\n",
       "      <td>4</td>\n",
       "      <td>281.03</td>\n",
       "      <td>2</td>\n",
       "    </tr>\n",
       "    <tr>\n",
       "      <th>1</th>\n",
       "      <td>0</td>\n",
       "      <td>35</td>\n",
       "      <td>2</td>\n",
       "      <td>219.51</td>\n",
       "      <td>2</td>\n",
       "    </tr>\n",
       "    <tr>\n",
       "      <th>2</th>\n",
       "      <td>1</td>\n",
       "      <td>45</td>\n",
       "      <td>3</td>\n",
       "      <td>1525.70</td>\n",
       "      <td>4</td>\n",
       "    </tr>\n",
       "    <tr>\n",
       "      <th>3</th>\n",
       "      <td>1</td>\n",
       "      <td>46</td>\n",
       "      <td>3</td>\n",
       "      <td>715.25</td>\n",
       "      <td>3</td>\n",
       "    </tr>\n",
       "    <tr>\n",
       "      <th>4</th>\n",
       "      <td>1</td>\n",
       "      <td>33</td>\n",
       "      <td>4</td>\n",
       "      <td>1937.50</td>\n",
       "      <td>1</td>\n",
       "    </tr>\n",
       "  </tbody>\n",
       "</table>\n",
       "</div>"
      ],
      "text/plain": [
       "   in-store  age  items   amount  region\n",
       "0         0   37      4   281.03       2\n",
       "1         0   35      2   219.51       2\n",
       "2         1   45      3  1525.70       4\n",
       "3         1   46      3   715.25       3\n",
       "4         1   33      4  1937.50       1"
      ]
     },
     "execution_count": 478,
     "metadata": {},
     "output_type": "execute_result"
    }
   ],
   "source": [
    "#DS Basics\n",
    "import numpy as np \n",
    "import pandas as pd\n",
    "import pandas_profiling\n",
    "import matplotlib.pyplot as plt\n",
    "\n",
    "#SKLearn Stuff\n",
    "from sklearn.model_selection import train_test_split\n",
    "from sklearn.metrics import accuracy_score, classification_report\n",
    "from sklearn.ensemble import RandomForestClassifier, GradientBoostingClassifier\n",
    "from sklearn.tree import DecisionTreeClassifier\n",
    "from sklearn.model_selection import cross_val_score\n",
    "from sklearn.metrics import confusion_matrix\n",
    "from sklearn.metrics import plot_confusion_matrix\n",
    "\n",
    "#helpers\n",
    "%matplotlib inline\n",
    "\n",
    "#review sample of data\n",
    "data.head()"
   ]
  },
  {
   "cell_type": "code",
   "execution_count": 479,
   "metadata": {},
   "outputs": [
    {
     "name": "stdout",
     "output_type": "stream",
     "text": [
      "Summary of feature sample\n"
     ]
    },
    {
     "data": {
      "text/html": [
       "<div>\n",
       "<style scoped>\n",
       "    .dataframe tbody tr th:only-of-type {\n",
       "        vertical-align: middle;\n",
       "    }\n",
       "\n",
       "    .dataframe tbody tr th {\n",
       "        vertical-align: top;\n",
       "    }\n",
       "\n",
       "    .dataframe thead th {\n",
       "        text-align: right;\n",
       "    }\n",
       "</style>\n",
       "<table border=\"1\" class=\"dataframe\">\n",
       "  <thead>\n",
       "    <tr style=\"text-align: right;\">\n",
       "      <th></th>\n",
       "      <th>in-store</th>\n",
       "      <th>age</th>\n",
       "      <th>items</th>\n",
       "      <th>amount</th>\n",
       "    </tr>\n",
       "  </thead>\n",
       "  <tbody>\n",
       "    <tr>\n",
       "      <th>0</th>\n",
       "      <td>0</td>\n",
       "      <td>37</td>\n",
       "      <td>4</td>\n",
       "      <td>281.03</td>\n",
       "    </tr>\n",
       "    <tr>\n",
       "      <th>1</th>\n",
       "      <td>0</td>\n",
       "      <td>35</td>\n",
       "      <td>2</td>\n",
       "      <td>219.51</td>\n",
       "    </tr>\n",
       "    <tr>\n",
       "      <th>2</th>\n",
       "      <td>1</td>\n",
       "      <td>45</td>\n",
       "      <td>3</td>\n",
       "      <td>1525.70</td>\n",
       "    </tr>\n",
       "    <tr>\n",
       "      <th>3</th>\n",
       "      <td>1</td>\n",
       "      <td>46</td>\n",
       "      <td>3</td>\n",
       "      <td>715.25</td>\n",
       "    </tr>\n",
       "    <tr>\n",
       "      <th>4</th>\n",
       "      <td>1</td>\n",
       "      <td>33</td>\n",
       "      <td>4</td>\n",
       "      <td>1937.50</td>\n",
       "    </tr>\n",
       "  </tbody>\n",
       "</table>\n",
       "</div>"
      ],
      "text/plain": [
       "   in-store  age  items   amount\n",
       "0         0   37      4   281.03\n",
       "1         0   35      2   219.51\n",
       "2         1   45      3  1525.70\n",
       "3         1   46      3   715.25\n",
       "4         1   33      4  1937.50"
      ]
     },
     "execution_count": 479,
     "metadata": {},
     "output_type": "execute_result"
    }
   ],
   "source": [
    "#Select features and split data\n",
    "X = data.iloc[:,0:4]\n",
    "print('Summary of feature sample')\n",
    "X.head()"
   ]
  },
  {
   "cell_type": "code",
   "execution_count": 480,
   "metadata": {},
   "outputs": [],
   "source": [
    "#dependent variable\n",
    "y = data['region']"
   ]
  },
  {
   "cell_type": "code",
   "execution_count": 481,
   "metadata": {},
   "outputs": [],
   "source": [
    "#Train/Test Split\n",
    "X_train, X_test, y_train, y_test = train_test_split(X, y, test_size = .30, \n",
    "                                                random_state = 123)"
   ]
  },
  {
   "cell_type": "code",
   "execution_count": 482,
   "metadata": {},
   "outputs": [],
   "source": [
    "#Modeling (Classification)\n",
    "dtc = DecisionTreeClassifier(max_depth=5)\n",
    "dtcFit1 = dtc.fit(X_train,y_train)"
   ]
  },
  {
   "cell_type": "code",
   "execution_count": 483,
   "metadata": {},
   "outputs": [],
   "source": [
    "#Predictions\n",
    "dtc1pred = dtcFit1.predict(X_test)"
   ]
  },
  {
   "cell_type": "code",
   "execution_count": 484,
   "metadata": {},
   "outputs": [
    {
     "name": "stdout",
     "output_type": "stream",
     "text": [
      "              precision    recall  f1-score   support\n",
      "\n",
      "           1       0.41      0.53      0.46      4857\n",
      "           2       0.90      1.00      0.95      5945\n",
      "           3       0.55      0.24      0.34      5389\n",
      "           4       0.65      0.73      0.69      7809\n",
      "\n",
      "    accuracy                           0.65     24000\n",
      "   macro avg       0.63      0.63      0.61     24000\n",
      "weighted avg       0.64      0.65      0.63     24000\n",
      "\n"
     ]
    }
   ],
   "source": [
    "print(classification_report(y_test, dtc1pred))"
   ]
  },
  {
   "cell_type": "code",
   "execution_count": null,
   "metadata": {},
   "outputs": [],
   "source": [
    "#Region as dependent is decent model with accuracy just below desired target of 70%"
   ]
  },
  {
   "cell_type": "code",
   "execution_count": 485,
   "metadata": {},
   "outputs": [],
   "source": [
    "from sklearn.tree import plot_tree"
   ]
  },
  {
   "cell_type": "code",
   "execution_count": 486,
   "metadata": {
    "scrolled": true
   },
   "outputs": [
    {
     "data": {
      "image/png": "[encoded data removed]",
      "text/plain": [
       "<Figure size 2160x1800 with 1 Axes>"
      ]
     },
     "metadata": {
      "needs_background": "light"
     },
     "output_type": "display_data"
    }
   ],
   "source": [
    "fig = plt.figure(figsize=(30,25))\n",
    "tree = plot_tree(dtcFit1, feature_names=X.columns,class_names=['Region_One', 'Region_Two', 'Region_Three', 'Region_Four'], filled=True)"
   ]
  },
  {
   "cell_type": "code",
   "execution_count": 487,
   "metadata": {},
   "outputs": [
    {
     "data": {
      "text/plain": [
       "<sklearn.metrics._plot.confusion_matrix.ConfusionMatrixDisplay at 0x1c3e333acd0>"
      ]
     },
     "execution_count": 487,
     "metadata": {},
     "output_type": "execute_result"
    },
    {
     "data": {
      "image/png": "[encoded data removed]",
      "text/plain": [
       "<Figure size 432x288 with 2 Axes>"
      ]
     },
     "metadata": {
      "needs_background": "light"
     },
     "output_type": "display_data"
    }
   ],
   "source": [
    "#plot confusion matrix to veiw accuracy and misses visually\n",
    "plot_confusion_matrix(dtcFit1, X_test, y_test, display_labels=['Region_One', 'Region_Two', 'Region_Three', 'Region_Four'])"
   ]
  },
  {
   "cell_type": "code",
   "execution_count": null,
   "metadata": {},
   "outputs": [],
   "source": [
    "#In addion to the accuracy, the confusion matrix gives a viusal of what the Decision Tree gets wrong.\n",
    "#The y-axis is the target (true value of Region 1-4) and x-axis is the predicted value of Region\n",
    "#Accuracy is Good Predictions (2597+5941+1308+5682) / All predictions (all squares) = 67%"
   ]
  },
  {
   "cell_type": "code",
   "execution_count": 488,
   "metadata": {},
   "outputs": [],
   "source": [
    "from sklearn import tree"
   ]
  },
  {
   "cell_type": "code",
   "execution_count": 156,
   "metadata": {},
   "outputs": [
    {
     "data": {
      "text/plain": [
       "'dtcFit1.pdf'"
      ]
     },
     "execution_count": 156,
     "metadata": {},
     "output_type": "execute_result"
    }
   ],
   "source": [
    "# graph with graphviz\n",
    "import graphviz \n",
    "dtcFit1 = tree.export_graphviz(dtc, out_file=None) \n",
    "graph = graphviz.Source(dtcFit1) \n",
    "graph.render(\"dtcFit1\") "
   ]
  },
  {
   "cell_type": "code",
   "execution_count": 489,
   "metadata": {},
   "outputs": [
    {
     "data": {
      "image/svg+xml": [
       "<?xml version=\"1.0\" encoding=\"UTF-8\" standalone=\"no\"?>\r\n",
       "<!DOCTYPE svg PUBLIC \"-//W3C//DTD SVG 1.1//EN\"\r\n",
       " \"http://www.w3.org/Graphics/SVG/1.1/DTD/svg11.dtd\">\r\n",
       "<!-- Generated by graphviz version 2.38.0 (20140413.2041)\r\n",
       " -->\r\n",
       "<!-- Title: Tree Pages: 1 -->\r\n",
       "<svg width=\"5782pt\" height=\"761pt\"\r\n",
       " viewBox=\"0.00 0.00 5781.50 761.00\" xmlns=\"http://www.w3.org/2000/svg\" xmlns:xlink=\"http://www.w3.org/1999/xlink\">\r\n",
       "<g id=\"graph0\" class=\"graph\" transform=\"scale(1 1) rotate(0) translate(4 757)\">\r\n",
       "<title>Tree</title>\r\n",
       "<polygon fill=\"white\" stroke=\"none\" points=\"-4,4 -4,-757 5777.5,-757 5777.5,4 -4,4\"/>\r\n",
       "<!-- 0 -->\r\n",
       "<g id=\"node1\" class=\"node\"><title>0</title>\r\n",
       "<path fill=\"#fbebfc\" stroke=\"black\" d=\"M3110.5,-753C3110.5,-753 2874.5,-753 2874.5,-753 2868.5,-753 2862.5,-747 2862.5,-741 2862.5,-741 2862.5,-667 2862.5,-667 2862.5,-661 2868.5,-655 2874.5,-655 2874.5,-655 3110.5,-655 3110.5,-655 3116.5,-655 3122.5,-661 3122.5,-667 3122.5,-667 3122.5,-741 3122.5,-741 3122.5,-747 3116.5,-753 3110.5,-753\"/>\r\n",
       "<text text-anchor=\"start\" x=\"2966\" y=\"-737.8\" font-family=\"Helvetica,sans-Serif\" font-size=\"14.00\">node #0</text>\r\n",
       "<text text-anchor=\"start\" x=\"2939\" y=\"-722.8\" font-family=\"Helvetica,sans-Serif\" font-size=\"14.00\">amount ≤ 499.65</text>\r\n",
       "<text text-anchor=\"start\" x=\"2955\" y=\"-707.8\" font-family=\"Helvetica,sans-Serif\" font-size=\"14.00\">gini = 0.741</text>\r\n",
       "<text text-anchor=\"start\" x=\"2936.5\" y=\"-692.8\" font-family=\"Helvetica,sans-Serif\" font-size=\"14.00\">samples = 56000</text>\r\n",
       "<text text-anchor=\"start\" x=\"2870.5\" y=\"-677.8\" font-family=\"Helvetica,sans-Serif\" font-size=\"14.00\">value = [11143, 14055, 12611, 18191]</text>\r\n",
       "<text text-anchor=\"start\" x=\"2926\" y=\"-662.8\" font-family=\"Helvetica,sans-Serif\" font-size=\"14.00\">class = Region_Four</text>\r\n",
       "</g>\r\n",
       "<!-- 1 -->\r\n",
       "<g id=\"node2\" class=\"node\"><title>1</title>\r\n",
       "<path fill=\"#acf3a6\" stroke=\"black\" d=\"M2308.5,-619C2308.5,-619 2096.5,-619 2096.5,-619 2090.5,-619 2084.5,-613 2084.5,-607 2084.5,-607 2084.5,-533 2084.5,-533 2084.5,-527 2090.5,-521 2096.5,-521 2096.5,-521 2308.5,-521 2308.5,-521 2314.5,-521 2320.5,-527 2320.5,-533 2320.5,-533 2320.5,-607 2320.5,-607 2320.5,-613 2314.5,-619 2308.5,-619\"/>\r\n",
       "<text text-anchor=\"start\" x=\"2176\" y=\"-603.8\" font-family=\"Helvetica,sans-Serif\" font-size=\"14.00\">node #1</text>\r\n",
       "<text text-anchor=\"start\" x=\"2161\" y=\"-588.8\" font-family=\"Helvetica,sans-Serif\" font-size=\"14.00\">in&#45;store ≤ 0.5</text>\r\n",
       "<text text-anchor=\"start\" x=\"2165\" y=\"-573.8\" font-family=\"Helvetica,sans-Serif\" font-size=\"14.00\">gini = 0.635</text>\r\n",
       "<text text-anchor=\"start\" x=\"2146.5\" y=\"-558.8\" font-family=\"Helvetica,sans-Serif\" font-size=\"14.00\">samples = 25892</text>\r\n",
       "<text text-anchor=\"start\" x=\"2092.5\" y=\"-543.8\" font-family=\"Helvetica,sans-Serif\" font-size=\"14.00\">value = [4093, 14052, 4418, 3329]</text>\r\n",
       "<text text-anchor=\"start\" x=\"2137.5\" y=\"-528.8\" font-family=\"Helvetica,sans-Serif\" font-size=\"14.00\">class = Region_Two</text>\r\n",
       "</g>\r\n",
       "<!-- 0&#45;&gt;1 -->\r\n",
       "<g id=\"edge1\" class=\"edge\"><title>0&#45;&gt;1</title>\r\n",
       "<path fill=\"none\" stroke=\"black\" d=\"M2862.49,-681.277C2715.31,-656.685 2477.04,-616.872 2330.64,-592.41\"/>\r\n",
       "<polygon fill=\"black\" stroke=\"black\" points=\"2331.13,-588.945 2320.69,-590.749 2329.98,-595.849 2331.13,-588.945\"/>\r\n",
       "<text text-anchor=\"middle\" x=\"2335.22\" y=\"-607.398\" font-family=\"Helvetica,sans-Serif\" font-size=\"14.00\">True</text>\r\n",
       "</g>\r\n",
       "<!-- 32 -->\r\n",
       "<g id=\"node33\" class=\"node\"><title>32</title>\r\n",
       "<path fill=\"#f3c3f7\" stroke=\"black\" d=\"M3698,-619C3698,-619 3511,-619 3511,-619 3505,-619 3499,-613 3499,-607 3499,-607 3499,-533 3499,-533 3499,-527 3505,-521 3511,-521 3511,-521 3698,-521 3698,-521 3704,-521 3710,-527 3710,-533 3710,-533 3710,-607 3710,-607 3710,-613 3704,-619 3698,-619\"/>\r\n",
       "<text text-anchor=\"start\" x=\"3574\" y=\"-603.8\" font-family=\"Helvetica,sans-Serif\" font-size=\"14.00\">node #32</text>\r\n",
       "<text text-anchor=\"start\" x=\"3563\" y=\"-588.8\" font-family=\"Helvetica,sans-Serif\" font-size=\"14.00\">in&#45;store ≤ 0.5</text>\r\n",
       "<text text-anchor=\"start\" x=\"3567\" y=\"-573.8\" font-family=\"Helvetica,sans-Serif\" font-size=\"14.00\">gini = 0.627</text>\r\n",
       "<text text-anchor=\"start\" x=\"3548.5\" y=\"-558.8\" font-family=\"Helvetica,sans-Serif\" font-size=\"14.00\">samples = 30108</text>\r\n",
       "<text text-anchor=\"start\" x=\"3507\" y=\"-543.8\" font-family=\"Helvetica,sans-Serif\" font-size=\"14.00\">value = [7050, 3, 8193, 14862]</text>\r\n",
       "<text text-anchor=\"start\" x=\"3538\" y=\"-528.8\" font-family=\"Helvetica,sans-Serif\" font-size=\"14.00\">class = Region_Four</text>\r\n",
       "</g>\r\n",
       "<!-- 0&#45;&gt;32 -->\r\n",
       "<g id=\"edge32\" class=\"edge\"><title>0&#45;&gt;32</title>\r\n",
       "<path fill=\"none\" stroke=\"black\" d=\"M3122.66,-674.925C3231.29,-651.496 3384.67,-618.414 3488.99,-595.913\"/>\r\n",
       "<polygon fill=\"black\" stroke=\"black\" points=\"3489.9,-599.299 3498.93,-593.769 3488.42,-592.456 3489.9,-599.299\"/>\r\n",
       "<text text-anchor=\"middle\" x=\"3485.38\" y=\"-611.076\" font-family=\"Helvetica,sans-Serif\" font-size=\"14.00\">False</text>\r\n",
       "</g>\r\n",
       "<!-- 2 -->\r\n",
       "<g id=\"node3\" class=\"node\"><title>2</title>\r\n",
       "<path fill=\"#5fe853\" stroke=\"black\" d=\"M1144,-485C1144,-485 965,-485 965,-485 959,-485 953,-479 953,-473 953,-473 953,-399 953,-399 953,-393 959,-387 965,-387 965,-387 1144,-387 1144,-387 1150,-387 1156,-393 1156,-399 1156,-399 1156,-473 1156,-473 1156,-479 1150,-485 1144,-485\"/>\r\n",
       "<text text-anchor=\"start\" x=\"1028\" y=\"-469.8\" font-family=\"Helvetica,sans-Serif\" font-size=\"14.00\">node #2</text>\r\n",
       "<text text-anchor=\"start\" x=\"1020.5\" y=\"-454.8\" font-family=\"Helvetica,sans-Serif\" font-size=\"14.00\">age ≤ 27.5</text>\r\n",
       "<text text-anchor=\"start\" x=\"1017\" y=\"-439.8\" font-family=\"Helvetica,sans-Serif\" font-size=\"14.00\">gini = 0.221</text>\r\n",
       "<text text-anchor=\"start\" x=\"998.5\" y=\"-424.8\" font-family=\"Helvetica,sans-Serif\" font-size=\"14.00\">samples = 16008</text>\r\n",
       "<text text-anchor=\"start\" x=\"961\" y=\"-409.8\" font-family=\"Helvetica,sans-Serif\" font-size=\"14.00\">value = [0, 14052, 711, 1245]</text>\r\n",
       "<text text-anchor=\"start\" x=\"989.5\" y=\"-394.8\" font-family=\"Helvetica,sans-Serif\" font-size=\"14.00\">class = Region_Two</text>\r\n",
       "</g>\r\n",
       "<!-- 1&#45;&gt;2 -->\r\n",
       "<g id=\"edge2\" class=\"edge\"><title>1&#45;&gt;2</title>\r\n",
       "<path fill=\"none\" stroke=\"black\" d=\"M2084.24,-555.402C1861.76,-529.821 1383.85,-474.87 1166.37,-449.864\"/>\r\n",
       "<polygon fill=\"black\" stroke=\"black\" points=\"1166.55,-446.361 1156.22,-448.696 1165.75,-453.315 1166.55,-446.361\"/>\r\n",
       "</g>\r\n",
       "<!-- 17 -->\r\n",
       "<g id=\"node18\" class=\"node\"><title>17</title>\r\n",
       "<path fill=\"#fdf7f3\" stroke=\"black\" d=\"M2292,-485C2292,-485 2113,-485 2113,-485 2107,-485 2101,-479 2101,-473 2101,-473 2101,-399 2101,-399 2101,-393 2107,-387 2113,-387 2113,-387 2292,-387 2292,-387 2298,-387 2304,-393 2304,-399 2304,-399 2304,-473 2304,-473 2304,-479 2298,-485 2292,-485\"/>\r\n",
       "<text text-anchor=\"start\" x=\"2172\" y=\"-469.8\" font-family=\"Helvetica,sans-Serif\" font-size=\"14.00\">node #17</text>\r\n",
       "<text text-anchor=\"start\" x=\"2168.5\" y=\"-454.8\" font-family=\"Helvetica,sans-Serif\" font-size=\"14.00\">age ≤ 55.5</text>\r\n",
       "<text text-anchor=\"start\" x=\"2165\" y=\"-439.8\" font-family=\"Helvetica,sans-Serif\" font-size=\"14.00\">gini = 0.643</text>\r\n",
       "<text text-anchor=\"start\" x=\"2151\" y=\"-424.8\" font-family=\"Helvetica,sans-Serif\" font-size=\"14.00\">samples = 9884</text>\r\n",
       "<text text-anchor=\"start\" x=\"2109\" y=\"-409.8\" font-family=\"Helvetica,sans-Serif\" font-size=\"14.00\">value = [4093, 0, 3707, 2084]</text>\r\n",
       "<text text-anchor=\"start\" x=\"2137.5\" y=\"-394.8\" font-family=\"Helvetica,sans-Serif\" font-size=\"14.00\">class = Region_One</text>\r\n",
       "</g>\r\n",
       "<!-- 1&#45;&gt;17 -->\r\n",
       "<g id=\"edge17\" class=\"edge\"><title>1&#45;&gt;17</title>\r\n",
       "<path fill=\"none\" stroke=\"black\" d=\"M2202.5,-520.972C2202.5,-512.691 2202.5,-504.003 2202.5,-495.483\"/>\r\n",
       "<polygon fill=\"black\" stroke=\"black\" points=\"2206,-495.214 2202.5,-485.214 2199,-495.214 2206,-495.214\"/>\r\n",
       "</g>\r\n",
       "<!-- 3 -->\r\n",
       "<g id=\"node4\" class=\"node\"><title>3</title>\r\n",
       "<path fill=\"#f1b9f6\" stroke=\"black\" d=\"M586,-351C586,-351 449,-351 449,-351 443,-351 437,-345 437,-339 437,-339 437,-265 437,-265 437,-259 443,-253 449,-253 449,-253 586,-253 586,-253 592,-253 598,-259 598,-265 598,-265 598,-339 598,-339 598,-345 592,-351 586,-351\"/>\r\n",
       "<text text-anchor=\"start\" x=\"491\" y=\"-335.8\" font-family=\"Helvetica,sans-Serif\" font-size=\"14.00\">node #3</text>\r\n",
       "<text text-anchor=\"start\" x=\"460\" y=\"-320.8\" font-family=\"Helvetica,sans-Serif\" font-size=\"14.00\">amount ≤ 115.045</text>\r\n",
       "<text text-anchor=\"start\" x=\"480\" y=\"-305.8\" font-family=\"Helvetica,sans-Serif\" font-size=\"14.00\">gini = 0.477</text>\r\n",
       "<text text-anchor=\"start\" x=\"470\" y=\"-290.8\" font-family=\"Helvetica,sans-Serif\" font-size=\"14.00\">samples = 413</text>\r\n",
       "<text text-anchor=\"start\" x=\"445\" y=\"-275.8\" font-family=\"Helvetica,sans-Serif\" font-size=\"14.00\">value = [0, 0, 162, 251]</text>\r\n",
       "<text text-anchor=\"start\" x=\"451\" y=\"-260.8\" font-family=\"Helvetica,sans-Serif\" font-size=\"14.00\">class = Region_Four</text>\r\n",
       "</g>\r\n",
       "<!-- 2&#45;&gt;3 -->\r\n",
       "<g id=\"edge3\" class=\"edge\"><title>2&#45;&gt;3</title>\r\n",
       "<path fill=\"none\" stroke=\"black\" d=\"M952.863,-410.017C853.455,-385.581 703.488,-348.718 608.062,-325.261\"/>\r\n",
       "<polygon fill=\"black\" stroke=\"black\" points=\"608.686,-321.81 598.14,-322.822 607.015,-328.608 608.686,-321.81\"/>\r\n",
       "</g>\r\n",
       "<!-- 10 -->\r\n",
       "<g id=\"node11\" class=\"node\"><title>10</title>\r\n",
       "<path fill=\"#5ae84e\" stroke=\"black\" d=\"M1139.5,-351C1139.5,-351 969.5,-351 969.5,-351 963.5,-351 957.5,-345 957.5,-339 957.5,-339 957.5,-265 957.5,-265 957.5,-259 963.5,-253 969.5,-253 969.5,-253 1139.5,-253 1139.5,-253 1145.5,-253 1151.5,-259 1151.5,-265 1151.5,-265 1151.5,-339 1151.5,-339 1151.5,-345 1145.5,-351 1139.5,-351\"/>\r\n",
       "<text text-anchor=\"start\" x=\"1024\" y=\"-335.8\" font-family=\"Helvetica,sans-Serif\" font-size=\"14.00\">node #10</text>\r\n",
       "<text text-anchor=\"start\" x=\"1020.5\" y=\"-320.8\" font-family=\"Helvetica,sans-Serif\" font-size=\"14.00\">age ≤ 62.5</text>\r\n",
       "<text text-anchor=\"start\" x=\"1017\" y=\"-305.8\" font-family=\"Helvetica,sans-Serif\" font-size=\"14.00\">gini = 0.183</text>\r\n",
       "<text text-anchor=\"start\" x=\"998.5\" y=\"-290.8\" font-family=\"Helvetica,sans-Serif\" font-size=\"14.00\">samples = 15595</text>\r\n",
       "<text text-anchor=\"start\" x=\"965.5\" y=\"-275.8\" font-family=\"Helvetica,sans-Serif\" font-size=\"14.00\">value = [0, 14052, 549, 994]</text>\r\n",
       "<text text-anchor=\"start\" x=\"989.5\" y=\"-260.8\" font-family=\"Helvetica,sans-Serif\" font-size=\"14.00\">class = Region_Two</text>\r\n",
       "</g>\r\n",
       "<!-- 2&#45;&gt;10 -->\r\n",
       "<g id=\"edge10\" class=\"edge\"><title>2&#45;&gt;10</title>\r\n",
       "<path fill=\"none\" stroke=\"black\" d=\"M1054.5,-386.972C1054.5,-378.691 1054.5,-370.003 1054.5,-361.483\"/>\r\n",
       "<polygon fill=\"black\" stroke=\"black\" points=\"1058,-361.214 1054.5,-351.214 1051,-361.214 1058,-361.214\"/>\r\n",
       "</g>\r\n",
       "<!-- 4 -->\r\n",
       "<g id=\"node5\" class=\"node\"><title>4</title>\r\n",
       "<path fill=\"#93caf1\" stroke=\"black\" d=\"M320,-217C320,-217 187,-217 187,-217 181,-217 175,-211 175,-205 175,-205 175,-131 175,-131 175,-125 181,-119 187,-119 187,-119 320,-119 320,-119 326,-119 332,-125 332,-131 332,-131 332,-205 332,-205 332,-211 326,-217 320,-217\"/>\r\n",
       "<text text-anchor=\"start\" x=\"227\" y=\"-201.8\" font-family=\"Helvetica,sans-Serif\" font-size=\"14.00\">node #4</text>\r\n",
       "<text text-anchor=\"start\" x=\"218.5\" y=\"-186.8\" font-family=\"Helvetica,sans-Serif\" font-size=\"14.00\">items ≤ 4.5</text>\r\n",
       "<text text-anchor=\"start\" x=\"220\" y=\"-171.8\" font-family=\"Helvetica,sans-Serif\" font-size=\"14.00\">gini = 0.43</text>\r\n",
       "<text text-anchor=\"start\" x=\"210\" y=\"-156.8\" font-family=\"Helvetica,sans-Serif\" font-size=\"14.00\">samples = 16</text>\r\n",
       "<text text-anchor=\"start\" x=\"193\" y=\"-141.8\" font-family=\"Helvetica,sans-Serif\" font-size=\"14.00\">value = [0, 0, 11, 5]</text>\r\n",
       "<text text-anchor=\"start\" x=\"183\" y=\"-126.8\" font-family=\"Helvetica,sans-Serif\" font-size=\"14.00\">class = Region_Three</text>\r\n",
       "</g>\r\n",
       "<!-- 3&#45;&gt;4 -->\r\n",
       "<g id=\"edge4\" class=\"edge\"><title>3&#45;&gt;4</title>\r\n",
       "<path fill=\"none\" stroke=\"black\" d=\"M436.857,-260.678C406.632,-245.566 372.151,-228.326 341.309,-212.905\"/>\r\n",
       "<polygon fill=\"black\" stroke=\"black\" points=\"342.799,-209.737 332.29,-208.395 339.669,-215.998 342.799,-209.737\"/>\r\n",
       "</g>\r\n",
       "<!-- 7 -->\r\n",
       "<g id=\"node8\" class=\"node\"><title>7</title>\r\n",
       "<path fill=\"#f0b3f5\" stroke=\"black\" d=\"M586,-217C586,-217 449,-217 449,-217 443,-217 437,-211 437,-205 437,-205 437,-131 437,-131 437,-125 443,-119 449,-119 449,-119 586,-119 586,-119 592,-119 598,-125 598,-131 598,-131 598,-205 598,-205 598,-211 592,-217 586,-217\"/>\r\n",
       "<text text-anchor=\"start\" x=\"491\" y=\"-201.8\" font-family=\"Helvetica,sans-Serif\" font-size=\"14.00\">node #7</text>\r\n",
       "<text text-anchor=\"start\" x=\"483.5\" y=\"-186.8\" font-family=\"Helvetica,sans-Serif\" font-size=\"14.00\">age ≤ 25.5</text>\r\n",
       "<text text-anchor=\"start\" x=\"480\" y=\"-171.8\" font-family=\"Helvetica,sans-Serif\" font-size=\"14.00\">gini = 0.471</text>\r\n",
       "<text text-anchor=\"start\" x=\"470\" y=\"-156.8\" font-family=\"Helvetica,sans-Serif\" font-size=\"14.00\">samples = 397</text>\r\n",
       "<text text-anchor=\"start\" x=\"445\" y=\"-141.8\" font-family=\"Helvetica,sans-Serif\" font-size=\"14.00\">value = [0, 0, 151, 246]</text>\r\n",
       "<text text-anchor=\"start\" x=\"451\" y=\"-126.8\" font-family=\"Helvetica,sans-Serif\" font-size=\"14.00\">class = Region_Four</text>\r\n",
       "</g>\r\n",
       "<!-- 3&#45;&gt;7 -->\r\n",
       "<g id=\"edge7\" class=\"edge\"><title>3&#45;&gt;7</title>\r\n",
       "<path fill=\"none\" stroke=\"black\" d=\"M517.5,-252.972C517.5,-244.691 517.5,-236.003 517.5,-227.483\"/>\r\n",
       "<polygon fill=\"black\" stroke=\"black\" points=\"521,-227.214 517.5,-217.214 514,-227.214 521,-227.214\"/>\r\n",
       "</g>\r\n",
       "<!-- 5 -->\r\n",
       "<g id=\"node6\" class=\"node\"><title>5</title>\r\n",
       "<path fill=\"#d7ebfa\" stroke=\"black\" d=\"M145,-83C145,-83 12,-83 12,-83 6,-83 0,-77 0,-71 0,-71 0,-12 0,-12 0,-6 6,-0 12,-0 12,-0 145,-0 145,-0 151,-0 157,-6 157,-12 157,-12 157,-71 157,-71 157,-77 151,-83 145,-83\"/>\r\n",
       "<text text-anchor=\"start\" x=\"52\" y=\"-67.8\" font-family=\"Helvetica,sans-Serif\" font-size=\"14.00\">node #5</text>\r\n",
       "<text text-anchor=\"start\" x=\"41\" y=\"-52.8\" font-family=\"Helvetica,sans-Serif\" font-size=\"14.00\">gini = 0.494</text>\r\n",
       "<text text-anchor=\"start\" x=\"39\" y=\"-37.8\" font-family=\"Helvetica,sans-Serif\" font-size=\"14.00\">samples = 9</text>\r\n",
       "<text text-anchor=\"start\" x=\"22.5\" y=\"-22.8\" font-family=\"Helvetica,sans-Serif\" font-size=\"14.00\">value = [0, 0, 5, 4]</text>\r\n",
       "<text text-anchor=\"start\" x=\"8\" y=\"-7.8\" font-family=\"Helvetica,sans-Serif\" font-size=\"14.00\">class = Region_Three</text>\r\n",
       "</g>\r\n",
       "<!-- 4&#45;&gt;5 -->\r\n",
       "<g id=\"edge5\" class=\"edge\"><title>4&#45;&gt;5</title>\r\n",
       "<path fill=\"none\" stroke=\"black\" d=\"M185.84,-118.865C172.061,-109.062 157.588,-98.7658 143.89,-89.0201\"/>\r\n",
       "<polygon fill=\"black\" stroke=\"black\" points=\"145.651,-85.9776 135.473,-83.0325 141.593,-91.6814 145.651,-85.9776\"/>\r\n",
       "</g>\r\n",
       "<!-- 6 -->\r\n",
       "<g id=\"node7\" class=\"node\"><title>6</title>\r\n",
       "<path fill=\"#5aade9\" stroke=\"black\" d=\"M320,-83C320,-83 187,-83 187,-83 181,-83 175,-77 175,-71 175,-71 175,-12 175,-12 175,-6 181,-0 187,-0 187,-0 320,-0 320,-0 326,-0 332,-6 332,-12 332,-12 332,-71 332,-71 332,-77 326,-83 320,-83\"/>\r\n",
       "<text text-anchor=\"start\" x=\"227\" y=\"-67.8\" font-family=\"Helvetica,sans-Serif\" font-size=\"14.00\">node #6</text>\r\n",
       "<text text-anchor=\"start\" x=\"216\" y=\"-52.8\" font-family=\"Helvetica,sans-Serif\" font-size=\"14.00\">gini = 0.245</text>\r\n",
       "<text text-anchor=\"start\" x=\"214\" y=\"-37.8\" font-family=\"Helvetica,sans-Serif\" font-size=\"14.00\">samples = 7</text>\r\n",
       "<text text-anchor=\"start\" x=\"197.5\" y=\"-22.8\" font-family=\"Helvetica,sans-Serif\" font-size=\"14.00\">value = [0, 0, 6, 1]</text>\r\n",
       "<text text-anchor=\"start\" x=\"183\" y=\"-7.8\" font-family=\"Helvetica,sans-Serif\" font-size=\"14.00\">class = Region_Three</text>\r\n",
       "</g>\r\n",
       "<!-- 4&#45;&gt;6 -->\r\n",
       "<g id=\"edge6\" class=\"edge\"><title>4&#45;&gt;6</title>\r\n",
       "<path fill=\"none\" stroke=\"black\" d=\"M253.5,-118.865C253.5,-110.498 253.5,-101.771 253.5,-93.3346\"/>\r\n",
       "<polygon fill=\"black\" stroke=\"black\" points=\"257,-93.2309 253.5,-83.231 250,-93.231 257,-93.2309\"/>\r\n",
       "</g>\r\n",
       "<!-- 8 -->\r\n",
       "<g id=\"node9\" class=\"node\"><title>8</title>\r\n",
       "<path fill=\"#eda6f3\" stroke=\"black\" d=\"M499,-83C499,-83 362,-83 362,-83 356,-83 350,-77 350,-71 350,-71 350,-12 350,-12 350,-6 356,-0 362,-0 362,-0 499,-0 499,-0 505,-0 511,-6 511,-12 511,-12 511,-71 511,-71 511,-77 505,-83 499,-83\"/>\r\n",
       "<text text-anchor=\"start\" x=\"404\" y=\"-67.8\" font-family=\"Helvetica,sans-Serif\" font-size=\"14.00\">node #8</text>\r\n",
       "<text text-anchor=\"start\" x=\"393\" y=\"-52.8\" font-family=\"Helvetica,sans-Serif\" font-size=\"14.00\">gini = 0.459</text>\r\n",
       "<text text-anchor=\"start\" x=\"383\" y=\"-37.8\" font-family=\"Helvetica,sans-Serif\" font-size=\"14.00\">samples = 309</text>\r\n",
       "<text text-anchor=\"start\" x=\"358\" y=\"-22.8\" font-family=\"Helvetica,sans-Serif\" font-size=\"14.00\">value = [0, 0, 110, 199]</text>\r\n",
       "<text text-anchor=\"start\" x=\"364\" y=\"-7.8\" font-family=\"Helvetica,sans-Serif\" font-size=\"14.00\">class = Region_Four</text>\r\n",
       "</g>\r\n",
       "<!-- 7&#45;&gt;8 -->\r\n",
       "<g id=\"edge8\" class=\"edge\"><title>7&#45;&gt;8</title>\r\n",
       "<path fill=\"none\" stroke=\"black\" d=\"M483.864,-118.865C477.631,-109.946 471.113,-100.619 464.86,-91.6698\"/>\r\n",
       "<polygon fill=\"black\" stroke=\"black\" points=\"467.56,-89.4231 458.963,-83.231 461.822,-93.4327 467.56,-89.4231\"/>\r\n",
       "</g>\r\n",
       "<!-- 9 -->\r\n",
       "<g id=\"node10\" class=\"node\"><title>9</title>\r\n",
       "<path fill=\"#fae6fc\" stroke=\"black\" d=\"M666,-83C666,-83 541,-83 541,-83 535,-83 529,-77 529,-71 529,-71 529,-12 529,-12 529,-6 535,-0 541,-0 541,-0 666,-0 666,-0 672,-0 678,-6 678,-12 678,-12 678,-71 678,-71 678,-77 672,-83 666,-83\"/>\r\n",
       "<text text-anchor=\"start\" x=\"577\" y=\"-67.8\" font-family=\"Helvetica,sans-Serif\" font-size=\"14.00\">node #9</text>\r\n",
       "<text text-anchor=\"start\" x=\"566\" y=\"-52.8\" font-family=\"Helvetica,sans-Serif\" font-size=\"14.00\">gini = 0.498</text>\r\n",
       "<text text-anchor=\"start\" x=\"560\" y=\"-37.8\" font-family=\"Helvetica,sans-Serif\" font-size=\"14.00\">samples = 88</text>\r\n",
       "<text text-anchor=\"start\" x=\"539\" y=\"-22.8\" font-family=\"Helvetica,sans-Serif\" font-size=\"14.00\">value = [0, 0, 41, 47]</text>\r\n",
       "<text text-anchor=\"start\" x=\"537\" y=\"-7.8\" font-family=\"Helvetica,sans-Serif\" font-size=\"14.00\">class = Region_Four</text>\r\n",
       "</g>\r\n",
       "<!-- 7&#45;&gt;9 -->\r\n",
       "<g id=\"edge9\" class=\"edge\"><title>7&#45;&gt;9</title>\r\n",
       "<path fill=\"none\" stroke=\"black\" d=\"M550.75,-118.865C556.911,-109.946 563.353,-100.619 569.535,-91.6698\"/>\r\n",
       "<polygon fill=\"black\" stroke=\"black\" points=\"572.561,-93.4481 575.365,-83.231 566.801,-89.4696 572.561,-93.4481\"/>\r\n",
       "</g>\r\n",
       "<!-- 11 -->\r\n",
       "<g id=\"node12\" class=\"node\"><title>11</title>\r\n",
       "<path fill=\"#66e95b\" stroke=\"black\" d=\"M1039.5,-217C1039.5,-217 877.5,-217 877.5,-217 871.5,-217 865.5,-211 865.5,-205 865.5,-205 865.5,-131 865.5,-131 865.5,-125 871.5,-119 877.5,-119 877.5,-119 1039.5,-119 1039.5,-119 1045.5,-119 1051.5,-125 1051.5,-131 1051.5,-131 1051.5,-205 1051.5,-205 1051.5,-211 1045.5,-217 1039.5,-217\"/>\r\n",
       "<text text-anchor=\"start\" x=\"928\" y=\"-201.8\" font-family=\"Helvetica,sans-Serif\" font-size=\"14.00\">node #11</text>\r\n",
       "<text text-anchor=\"start\" x=\"905\" y=\"-186.8\" font-family=\"Helvetica,sans-Serif\" font-size=\"14.00\">amount ≤ 101.38</text>\r\n",
       "<text text-anchor=\"start\" x=\"925\" y=\"-171.8\" font-family=\"Helvetica,sans-Serif\" font-size=\"14.00\">gini = 0.27</text>\r\n",
       "<text text-anchor=\"start\" x=\"907\" y=\"-156.8\" font-family=\"Helvetica,sans-Serif\" font-size=\"14.00\">samples = 9944</text>\r\n",
       "<text text-anchor=\"start\" x=\"873.5\" y=\"-141.8\" font-family=\"Helvetica,sans-Serif\" font-size=\"14.00\">value = [0, 8420, 541, 983]</text>\r\n",
       "<text text-anchor=\"start\" x=\"893.5\" y=\"-126.8\" font-family=\"Helvetica,sans-Serif\" font-size=\"14.00\">class = Region_Two</text>\r\n",
       "</g>\r\n",
       "<!-- 10&#45;&gt;11 -->\r\n",
       "<g id=\"edge11\" class=\"edge\"><title>10&#45;&gt;11</title>\r\n",
       "<path fill=\"none\" stroke=\"black\" d=\"M1019.57,-252.972C1013.08,-244.054 1006.26,-234.663 999.606,-225.52\"/>\r\n",
       "<polygon fill=\"black\" stroke=\"black\" points=\"1002.28,-223.243 993.565,-217.214 996.616,-227.36 1002.28,-223.243\"/>\r\n",
       "</g>\r\n",
       "<!-- 14 -->\r\n",
       "<g id=\"node15\" class=\"node\"><title>14</title>\r\n",
       "<path fill=\"#48e53a\" stroke=\"black\" d=\"M1219,-217C1219,-217 1082,-217 1082,-217 1076,-217 1070,-211 1070,-205 1070,-205 1070,-131 1070,-131 1070,-125 1076,-119 1082,-119 1082,-119 1219,-119 1219,-119 1225,-119 1231,-125 1231,-131 1231,-131 1231,-205 1231,-205 1231,-211 1225,-217 1219,-217\"/>\r\n",
       "<text text-anchor=\"start\" x=\"1120\" y=\"-201.8\" font-family=\"Helvetica,sans-Serif\" font-size=\"14.00\">node #14</text>\r\n",
       "<text text-anchor=\"start\" x=\"1116.5\" y=\"-186.8\" font-family=\"Helvetica,sans-Serif\" font-size=\"14.00\">age ≤ 63.5</text>\r\n",
       "<text text-anchor=\"start\" x=\"1113\" y=\"-171.8\" font-family=\"Helvetica,sans-Serif\" font-size=\"14.00\">gini = 0.007</text>\r\n",
       "<text text-anchor=\"start\" x=\"1099\" y=\"-156.8\" font-family=\"Helvetica,sans-Serif\" font-size=\"14.00\">samples = 5651</text>\r\n",
       "<text text-anchor=\"start\" x=\"1078\" y=\"-141.8\" font-family=\"Helvetica,sans-Serif\" font-size=\"14.00\">value = [0, 5632, 8, 11]</text>\r\n",
       "<text text-anchor=\"start\" x=\"1085.5\" y=\"-126.8\" font-family=\"Helvetica,sans-Serif\" font-size=\"14.00\">class = Region_Two</text>\r\n",
       "</g>\r\n",
       "<!-- 10&#45;&gt;14 -->\r\n",
       "<g id=\"edge14\" class=\"edge\"><title>10&#45;&gt;14</title>\r\n",
       "<path fill=\"none\" stroke=\"black\" d=\"M1089.43,-252.972C1095.92,-244.054 1102.74,-234.663 1109.39,-225.52\"/>\r\n",
       "<polygon fill=\"black\" stroke=\"black\" points=\"1112.38,-227.36 1115.44,-217.214 1106.72,-223.243 1112.38,-227.36\"/>\r\n",
       "</g>\r\n",
       "<!-- 12 -->\r\n",
       "<g id=\"node13\" class=\"node\"><title>12</title>\r\n",
       "<path fill=\"#47e539\" stroke=\"black\" d=\"M837,-83C837,-83 708,-83 708,-83 702,-83 696,-77 696,-71 696,-71 696,-12 696,-12 696,-6 702,-0 708,-0 708,-0 837,-0 837,-0 843,-0 849,-6 849,-12 849,-12 849,-71 849,-71 849,-77 843,-83 837,-83\"/>\r\n",
       "<text text-anchor=\"start\" x=\"742\" y=\"-67.8\" font-family=\"Helvetica,sans-Serif\" font-size=\"14.00\">node #12</text>\r\n",
       "<text text-anchor=\"start\" x=\"735\" y=\"-52.8\" font-family=\"Helvetica,sans-Serif\" font-size=\"14.00\">gini = 0.002</text>\r\n",
       "<text text-anchor=\"start\" x=\"721\" y=\"-37.8\" font-family=\"Helvetica,sans-Serif\" font-size=\"14.00\">samples = 1664</text>\r\n",
       "<text text-anchor=\"start\" x=\"704\" y=\"-22.8\" font-family=\"Helvetica,sans-Serif\" font-size=\"14.00\">value = [0, 1662, 1, 1]</text>\r\n",
       "<text text-anchor=\"start\" x=\"707.5\" y=\"-7.8\" font-family=\"Helvetica,sans-Serif\" font-size=\"14.00\">class = Region_Two</text>\r\n",
       "</g>\r\n",
       "<!-- 11&#45;&gt;12 -->\r\n",
       "<g id=\"edge12\" class=\"edge\"><title>11&#45;&gt;12</title>\r\n",
       "<path fill=\"none\" stroke=\"black\" d=\"M886.588,-118.865C871.804,-108.969 856.269,-98.5715 841.588,-88.7444\"/>\r\n",
       "<polygon fill=\"black\" stroke=\"black\" points=\"843.312,-85.6864 833.055,-83.0325 839.418,-91.5036 843.312,-85.6864\"/>\r\n",
       "</g>\r\n",
       "<!-- 13 -->\r\n",
       "<g id=\"node14\" class=\"node\"><title>13</title>\r\n",
       "<path fill=\"#6dea62\" stroke=\"black\" d=\"M1041.5,-83C1041.5,-83 879.5,-83 879.5,-83 873.5,-83 867.5,-77 867.5,-71 867.5,-71 867.5,-12 867.5,-12 867.5,-6 873.5,-0 879.5,-0 879.5,-0 1041.5,-0 1041.5,-0 1047.5,-0 1053.5,-6 1053.5,-12 1053.5,-12 1053.5,-71 1053.5,-71 1053.5,-77 1047.5,-83 1041.5,-83\"/>\r\n",
       "<text text-anchor=\"start\" x=\"930\" y=\"-67.8\" font-family=\"Helvetica,sans-Serif\" font-size=\"14.00\">node #13</text>\r\n",
       "<text text-anchor=\"start\" x=\"923\" y=\"-52.8\" font-family=\"Helvetica,sans-Serif\" font-size=\"14.00\">gini = 0.316</text>\r\n",
       "<text text-anchor=\"start\" x=\"909\" y=\"-37.8\" font-family=\"Helvetica,sans-Serif\" font-size=\"14.00\">samples = 8280</text>\r\n",
       "<text text-anchor=\"start\" x=\"875.5\" y=\"-22.8\" font-family=\"Helvetica,sans-Serif\" font-size=\"14.00\">value = [0, 6758, 540, 982]</text>\r\n",
       "<text text-anchor=\"start\" x=\"895.5\" y=\"-7.8\" font-family=\"Helvetica,sans-Serif\" font-size=\"14.00\">class = Region_Two</text>\r\n",
       "</g>\r\n",
       "<!-- 11&#45;&gt;13 -->\r\n",
       "<g id=\"edge13\" class=\"edge\"><title>11&#45;&gt;13</title>\r\n",
       "<path fill=\"none\" stroke=\"black\" d=\"M959.273,-118.865C959.408,-110.498 959.548,-101.771 959.683,-93.3346\"/>\r\n",
       "<polygon fill=\"black\" stroke=\"black\" points=\"963.185,-93.2859 959.846,-83.231 956.185,-93.1734 963.185,-93.2859\"/>\r\n",
       "</g>\r\n",
       "<!-- 15 -->\r\n",
       "<g id=\"node16\" class=\"node\"><title>15</title>\r\n",
       "<path fill=\"#54e747\" stroke=\"black\" d=\"M1213,-83C1213,-83 1084,-83 1084,-83 1078,-83 1072,-77 1072,-71 1072,-71 1072,-12 1072,-12 1072,-6 1078,-0 1084,-0 1084,-0 1213,-0 1213,-0 1219,-0 1225,-6 1225,-12 1225,-12 1225,-71 1225,-71 1225,-77 1219,-83 1213,-83\"/>\r\n",
       "<text text-anchor=\"start\" x=\"1118\" y=\"-67.8\" font-family=\"Helvetica,sans-Serif\" font-size=\"14.00\">node #15</text>\r\n",
       "<text text-anchor=\"start\" x=\"1111\" y=\"-52.8\" font-family=\"Helvetica,sans-Serif\" font-size=\"14.00\">gini = 0.131</text>\r\n",
       "<text text-anchor=\"start\" x=\"1101\" y=\"-37.8\" font-family=\"Helvetica,sans-Serif\" font-size=\"14.00\">samples = 274</text>\r\n",
       "<text text-anchor=\"start\" x=\"1080\" y=\"-22.8\" font-family=\"Helvetica,sans-Serif\" font-size=\"14.00\">value = [0, 255, 8, 11]</text>\r\n",
       "<text text-anchor=\"start\" x=\"1083.5\" y=\"-7.8\" font-family=\"Helvetica,sans-Serif\" font-size=\"14.00\">class = Region_Two</text>\r\n",
       "</g>\r\n",
       "<!-- 14&#45;&gt;15 -->\r\n",
       "<g id=\"edge15\" class=\"edge\"><title>14&#45;&gt;15</title>\r\n",
       "<path fill=\"none\" stroke=\"black\" d=\"M1149.73,-118.865C1149.59,-110.498 1149.45,-101.771 1149.32,-93.3346\"/>\r\n",
       "<polygon fill=\"black\" stroke=\"black\" points=\"1152.81,-93.1734 1149.15,-83.231 1145.82,-93.2859 1152.81,-93.1734\"/>\r\n",
       "</g>\r\n",
       "<!-- 16 -->\r\n",
       "<g id=\"node17\" class=\"node\"><title>16</title>\r\n",
       "<path fill=\"#47e539\" stroke=\"black\" d=\"M1384,-83C1384,-83 1255,-83 1255,-83 1249,-83 1243,-77 1243,-71 1243,-71 1243,-12 1243,-12 1243,-6 1249,-0 1255,-0 1255,-0 1384,-0 1384,-0 1390,-0 1396,-6 1396,-12 1396,-12 1396,-71 1396,-71 1396,-77 1390,-83 1384,-83\"/>\r\n",
       "<text text-anchor=\"start\" x=\"1289\" y=\"-67.8\" font-family=\"Helvetica,sans-Serif\" font-size=\"14.00\">node #16</text>\r\n",
       "<text text-anchor=\"start\" x=\"1290.5\" y=\"-52.8\" font-family=\"Helvetica,sans-Serif\" font-size=\"14.00\">gini = 0.0</text>\r\n",
       "<text text-anchor=\"start\" x=\"1268\" y=\"-37.8\" font-family=\"Helvetica,sans-Serif\" font-size=\"14.00\">samples = 5377</text>\r\n",
       "<text text-anchor=\"start\" x=\"1251\" y=\"-22.8\" font-family=\"Helvetica,sans-Serif\" font-size=\"14.00\">value = [0, 5377, 0, 0]</text>\r\n",
       "<text text-anchor=\"start\" x=\"1254.5\" y=\"-7.8\" font-family=\"Helvetica,sans-Serif\" font-size=\"14.00\">class = Region_Two</text>\r\n",
       "</g>\r\n",
       "<!-- 14&#45;&gt;16 -->\r\n",
       "<g id=\"edge16\" class=\"edge\"><title>14&#45;&gt;16</title>\r\n",
       "<path fill=\"none\" stroke=\"black\" d=\"M1215.84,-118.865C1229.15,-109.062 1243.12,-98.7658 1256.35,-89.0201\"/>\r\n",
       "<polygon fill=\"black\" stroke=\"black\" points=\"1258.5,-91.7816 1264.48,-83.0325 1254.35,-86.1458 1258.5,-91.7816\"/>\r\n",
       "</g>\r\n",
       "<!-- 18 -->\r\n",
       "<g id=\"node19\" class=\"node\"><title>18</title>\r\n",
       "<path fill=\"#fcf0e8\" stroke=\"black\" d=\"M2052,-351C2052,-351 1873,-351 1873,-351 1867,-351 1861,-345 1861,-339 1861,-339 1861,-265 1861,-265 1861,-259 1867,-253 1873,-253 1873,-253 2052,-253 2052,-253 2058,-253 2064,-259 2064,-265 2064,-265 2064,-339 2064,-339 2064,-345 2058,-351 2052,-351\"/>\r\n",
       "<text text-anchor=\"start\" x=\"1932\" y=\"-335.8\" font-family=\"Helvetica,sans-Serif\" font-size=\"14.00\">node #18</text>\r\n",
       "<text text-anchor=\"start\" x=\"1928.5\" y=\"-320.8\" font-family=\"Helvetica,sans-Serif\" font-size=\"14.00\">age ≤ 23.5</text>\r\n",
       "<text text-anchor=\"start\" x=\"1925\" y=\"-305.8\" font-family=\"Helvetica,sans-Serif\" font-size=\"14.00\">gini = 0.659</text>\r\n",
       "<text text-anchor=\"start\" x=\"1911\" y=\"-290.8\" font-family=\"Helvetica,sans-Serif\" font-size=\"14.00\">samples = 7455</text>\r\n",
       "<text text-anchor=\"start\" x=\"1869\" y=\"-275.8\" font-family=\"Helvetica,sans-Serif\" font-size=\"14.00\">value = [2982, 0, 2389, 2084]</text>\r\n",
       "<text text-anchor=\"start\" x=\"1897.5\" y=\"-260.8\" font-family=\"Helvetica,sans-Serif\" font-size=\"14.00\">class = Region_One</text>\r\n",
       "</g>\r\n",
       "<!-- 17&#45;&gt;18 -->\r\n",
       "<g id=\"edge18\" class=\"edge\"><title>17&#45;&gt;18</title>\r\n",
       "<path fill=\"none\" stroke=\"black\" d=\"M2115.18,-386.972C2096.89,-376.917 2077.52,-366.26 2058.93,-356.035\"/>\r\n",
       "<polygon fill=\"black\" stroke=\"black\" points=\"2060.61,-352.966 2050.16,-351.214 2057.24,-359.1 2060.61,-352.966\"/>\r\n",
       "</g>\r\n",
       "<!-- 25 -->\r\n",
       "<g id=\"node26\" class=\"node\"><title>25</title>\r\n",
       "<path fill=\"#e0f0fb\" stroke=\"black\" d=\"M2425.5,-351C2425.5,-351 2271.5,-351 2271.5,-351 2265.5,-351 2259.5,-345 2259.5,-339 2259.5,-339 2259.5,-265 2259.5,-265 2259.5,-259 2265.5,-253 2271.5,-253 2271.5,-253 2425.5,-253 2425.5,-253 2431.5,-253 2437.5,-259 2437.5,-265 2437.5,-265 2437.5,-339 2437.5,-339 2437.5,-345 2431.5,-351 2425.5,-351\"/>\r\n",
       "<text text-anchor=\"start\" x=\"2318\" y=\"-335.8\" font-family=\"Helvetica,sans-Serif\" font-size=\"14.00\">node #25</text>\r\n",
       "<text text-anchor=\"start\" x=\"2295\" y=\"-320.8\" font-family=\"Helvetica,sans-Serif\" font-size=\"14.00\">amount ≤ 494.58</text>\r\n",
       "<text text-anchor=\"start\" x=\"2311\" y=\"-305.8\" font-family=\"Helvetica,sans-Serif\" font-size=\"14.00\">gini = 0.496</text>\r\n",
       "<text text-anchor=\"start\" x=\"2297\" y=\"-290.8\" font-family=\"Helvetica,sans-Serif\" font-size=\"14.00\">samples = 2429</text>\r\n",
       "<text text-anchor=\"start\" x=\"2267.5\" y=\"-275.8\" font-family=\"Helvetica,sans-Serif\" font-size=\"14.00\">value = [1111, 0, 1318, 0]</text>\r\n",
       "<text text-anchor=\"start\" x=\"2278\" y=\"-260.8\" font-family=\"Helvetica,sans-Serif\" font-size=\"14.00\">class = Region_Three</text>\r\n",
       "</g>\r\n",
       "<!-- 17&#45;&gt;25 -->\r\n",
       "<g id=\"edge25\" class=\"edge\"><title>17&#45;&gt;25</title>\r\n",
       "<path fill=\"none\" stroke=\"black\" d=\"M2255.62,-386.972C2265.99,-377.599 2276.93,-367.704 2287.53,-358.123\"/>\r\n",
       "<polygon fill=\"black\" stroke=\"black\" points=\"2290.1,-360.517 2295.17,-351.214 2285.41,-355.324 2290.1,-360.517\"/>\r\n",
       "</g>\r\n",
       "<!-- 19 -->\r\n",
       "<g id=\"node20\" class=\"node\"><title>19</title>\r\n",
       "<path fill=\"#eca2f3\" stroke=\"black\" d=\"M1736,-217C1736,-217 1599,-217 1599,-217 1593,-217 1587,-211 1587,-205 1587,-205 1587,-131 1587,-131 1587,-125 1593,-119 1599,-119 1599,-119 1736,-119 1736,-119 1742,-119 1748,-125 1748,-131 1748,-131 1748,-205 1748,-205 1748,-211 1742,-217 1736,-217\"/>\r\n",
       "<text text-anchor=\"start\" x=\"1637\" y=\"-201.8\" font-family=\"Helvetica,sans-Serif\" font-size=\"14.00\">node #19</text>\r\n",
       "<text text-anchor=\"start\" x=\"1614\" y=\"-186.8\" font-family=\"Helvetica,sans-Serif\" font-size=\"14.00\">amount ≤ 403.64</text>\r\n",
       "<text text-anchor=\"start\" x=\"1630\" y=\"-171.8\" font-family=\"Helvetica,sans-Serif\" font-size=\"14.00\">gini = 0.453</text>\r\n",
       "<text text-anchor=\"start\" x=\"1620\" y=\"-156.8\" font-family=\"Helvetica,sans-Serif\" font-size=\"14.00\">samples = 423</text>\r\n",
       "<text text-anchor=\"start\" x=\"1595\" y=\"-141.8\" font-family=\"Helvetica,sans-Serif\" font-size=\"14.00\">value = [147, 0, 0, 276]</text>\r\n",
       "<text text-anchor=\"start\" x=\"1601\" y=\"-126.8\" font-family=\"Helvetica,sans-Serif\" font-size=\"14.00\">class = Region_Four</text>\r\n",
       "</g>\r\n",
       "<!-- 18&#45;&gt;19 -->\r\n",
       "<g id=\"edge19\" class=\"edge\"><title>18&#45;&gt;19</title>\r\n",
       "<path fill=\"none\" stroke=\"black\" d=\"M1860.98,-255.573C1827.45,-240.573 1790.41,-223.997 1757.78,-209.398\"/>\r\n",
       "<polygon fill=\"black\" stroke=\"black\" points=\"1758.82,-206.026 1748.26,-205.136 1755.96,-212.416 1758.82,-206.026\"/>\r\n",
       "</g>\r\n",
       "<!-- 22 -->\r\n",
       "<g id=\"node23\" class=\"node\"><title>22</title>\r\n",
       "<path fill=\"#fdf3ec\" stroke=\"black\" d=\"M2052,-217C2052,-217 1873,-217 1873,-217 1867,-217 1861,-211 1861,-205 1861,-205 1861,-131 1861,-131 1861,-125 1867,-119 1873,-119 1873,-119 2052,-119 2052,-119 2058,-119 2064,-125 2064,-131 2064,-131 2064,-205 2064,-205 2064,-211 2058,-217 2052,-217\"/>\r\n",
       "<text text-anchor=\"start\" x=\"1932\" y=\"-201.8\" font-family=\"Helvetica,sans-Serif\" font-size=\"14.00\">node #22</text>\r\n",
       "<text text-anchor=\"start\" x=\"1909\" y=\"-186.8\" font-family=\"Helvetica,sans-Serif\" font-size=\"14.00\">amount ≤ 82.836</text>\r\n",
       "<text text-anchor=\"start\" x=\"1925\" y=\"-171.8\" font-family=\"Helvetica,sans-Serif\" font-size=\"14.00\">gini = 0.656</text>\r\n",
       "<text text-anchor=\"start\" x=\"1911\" y=\"-156.8\" font-family=\"Helvetica,sans-Serif\" font-size=\"14.00\">samples = 7032</text>\r\n",
       "<text text-anchor=\"start\" x=\"1869\" y=\"-141.8\" font-family=\"Helvetica,sans-Serif\" font-size=\"14.00\">value = [2835, 0, 2389, 1808]</text>\r\n",
       "<text text-anchor=\"start\" x=\"1897.5\" y=\"-126.8\" font-family=\"Helvetica,sans-Serif\" font-size=\"14.00\">class = Region_One</text>\r\n",
       "</g>\r\n",
       "<!-- 18&#45;&gt;22 -->\r\n",
       "<g id=\"edge22\" class=\"edge\"><title>18&#45;&gt;22</title>\r\n",
       "<path fill=\"none\" stroke=\"black\" d=\"M1962.5,-252.972C1962.5,-244.691 1962.5,-236.003 1962.5,-227.483\"/>\r\n",
       "<polygon fill=\"black\" stroke=\"black\" points=\"1966,-227.214 1962.5,-217.214 1959,-227.214 1966,-227.214\"/>\r\n",
       "</g>\r\n",
       "<!-- 20 -->\r\n",
       "<g id=\"node21\" class=\"node\"><title>20</title>\r\n",
       "<path fill=\"#f1baf6\" stroke=\"black\" d=\"M1563,-83C1563,-83 1426,-83 1426,-83 1420,-83 1414,-77 1414,-71 1414,-71 1414,-12 1414,-12 1414,-6 1420,-0 1426,-0 1426,-0 1563,-0 1563,-0 1569,-0 1575,-6 1575,-12 1575,-12 1575,-71 1575,-71 1575,-77 1569,-83 1563,-83\"/>\r\n",
       "<text text-anchor=\"start\" x=\"1464\" y=\"-67.8\" font-family=\"Helvetica,sans-Serif\" font-size=\"14.00\">node #20</text>\r\n",
       "<text text-anchor=\"start\" x=\"1457\" y=\"-52.8\" font-family=\"Helvetica,sans-Serif\" font-size=\"14.00\">gini = 0.477</text>\r\n",
       "<text text-anchor=\"start\" x=\"1447\" y=\"-37.8\" font-family=\"Helvetica,sans-Serif\" font-size=\"14.00\">samples = 325</text>\r\n",
       "<text text-anchor=\"start\" x=\"1422\" y=\"-22.8\" font-family=\"Helvetica,sans-Serif\" font-size=\"14.00\">value = [128, 0, 0, 197]</text>\r\n",
       "<text text-anchor=\"start\" x=\"1428\" y=\"-7.8\" font-family=\"Helvetica,sans-Serif\" font-size=\"14.00\">class = Region_Four</text>\r\n",
       "</g>\r\n",
       "<!-- 19&#45;&gt;20 -->\r\n",
       "<g id=\"edge20\" class=\"edge\"><title>19&#45;&gt;20</title>\r\n",
       "<path fill=\"none\" stroke=\"black\" d=\"M1600.61,-118.865C1586.99,-109.062 1572.68,-98.7658 1559.14,-89.0201\"/>\r\n",
       "<polygon fill=\"black\" stroke=\"black\" points=\"1560.98,-86.0329 1550.82,-83.0325 1556.89,-91.7146 1560.98,-86.0329\"/>\r\n",
       "</g>\r\n",
       "<!-- 21 -->\r\n",
       "<g id=\"node22\" class=\"node\"><title>21</title>\r\n",
       "<path fill=\"#e169eb\" stroke=\"black\" d=\"M1730,-83C1730,-83 1605,-83 1605,-83 1599,-83 1593,-77 1593,-71 1593,-71 1593,-12 1593,-12 1593,-6 1599,-0 1605,-0 1605,-0 1730,-0 1730,-0 1736,-0 1742,-6 1742,-12 1742,-12 1742,-71 1742,-71 1742,-77 1736,-83 1730,-83\"/>\r\n",
       "<text text-anchor=\"start\" x=\"1637\" y=\"-67.8\" font-family=\"Helvetica,sans-Serif\" font-size=\"14.00\">node #21</text>\r\n",
       "<text text-anchor=\"start\" x=\"1630\" y=\"-52.8\" font-family=\"Helvetica,sans-Serif\" font-size=\"14.00\">gini = 0.313</text>\r\n",
       "<text text-anchor=\"start\" x=\"1624\" y=\"-37.8\" font-family=\"Helvetica,sans-Serif\" font-size=\"14.00\">samples = 98</text>\r\n",
       "<text text-anchor=\"start\" x=\"1603\" y=\"-22.8\" font-family=\"Helvetica,sans-Serif\" font-size=\"14.00\">value = [19, 0, 0, 79]</text>\r\n",
       "<text text-anchor=\"start\" x=\"1601\" y=\"-7.8\" font-family=\"Helvetica,sans-Serif\" font-size=\"14.00\">class = Region_Four</text>\r\n",
       "</g>\r\n",
       "<!-- 19&#45;&gt;21 -->\r\n",
       "<g id=\"edge21\" class=\"edge\"><title>19&#45;&gt;21</title>\r\n",
       "<path fill=\"none\" stroke=\"black\" d=\"M1667.5,-118.865C1667.5,-110.498 1667.5,-101.771 1667.5,-93.3346\"/>\r\n",
       "<polygon fill=\"black\" stroke=\"black\" points=\"1671,-93.2309 1667.5,-83.231 1664,-93.231 1671,-93.2309\"/>\r\n",
       "</g>\r\n",
       "<!-- 23 -->\r\n",
       "<g id=\"node24\" class=\"node\"><title>23</title>\r\n",
       "<path fill=\"#f9e1cf\" stroke=\"black\" d=\"M1926.5,-83C1926.5,-83 1772.5,-83 1772.5,-83 1766.5,-83 1760.5,-77 1760.5,-71 1760.5,-71 1760.5,-12 1760.5,-12 1760.5,-6 1766.5,-0 1772.5,-0 1772.5,-0 1926.5,-0 1926.5,-0 1932.5,-0 1938.5,-6 1938.5,-12 1938.5,-12 1938.5,-71 1938.5,-71 1938.5,-77 1932.5,-83 1926.5,-83\"/>\r\n",
       "<text text-anchor=\"start\" x=\"1819\" y=\"-67.8\" font-family=\"Helvetica,sans-Serif\" font-size=\"14.00\">node #23</text>\r\n",
       "<text text-anchor=\"start\" x=\"1812\" y=\"-52.8\" font-family=\"Helvetica,sans-Serif\" font-size=\"14.00\">gini = 0.645</text>\r\n",
       "<text text-anchor=\"start\" x=\"1802\" y=\"-37.8\" font-family=\"Helvetica,sans-Serif\" font-size=\"14.00\">samples = 526</text>\r\n",
       "<text text-anchor=\"start\" x=\"1768.5\" y=\"-22.8\" font-family=\"Helvetica,sans-Serif\" font-size=\"14.00\">value = [239, 0, 148, 139]</text>\r\n",
       "<text text-anchor=\"start\" x=\"1784.5\" y=\"-7.8\" font-family=\"Helvetica,sans-Serif\" font-size=\"14.00\">class = Region_One</text>\r\n",
       "</g>\r\n",
       "<!-- 22&#45;&gt;23 -->\r\n",
       "<g id=\"edge23\" class=\"edge\"><title>22&#45;&gt;23</title>\r\n",
       "<path fill=\"none\" stroke=\"black\" d=\"M1918.81,-118.865C1910.47,-109.67 1901.73,-100.042 1893.38,-90.8406\"/>\r\n",
       "<polygon fill=\"black\" stroke=\"black\" points=\"1895.78,-88.2835 1886.47,-83.231 1890.6,-92.988 1895.78,-88.2835\"/>\r\n",
       "</g>\r\n",
       "<!-- 24 -->\r\n",
       "<g id=\"node25\" class=\"node\"><title>24</title>\r\n",
       "<path fill=\"#fdf5ef\" stroke=\"black\" d=\"M2148,-83C2148,-83 1969,-83 1969,-83 1963,-83 1957,-77 1957,-71 1957,-71 1957,-12 1957,-12 1957,-6 1963,-0 1969,-0 1969,-0 2148,-0 2148,-0 2154,-0 2160,-6 2160,-12 2160,-12 2160,-71 2160,-71 2160,-77 2154,-83 2148,-83\"/>\r\n",
       "<text text-anchor=\"start\" x=\"2028\" y=\"-67.8\" font-family=\"Helvetica,sans-Serif\" font-size=\"14.00\">node #24</text>\r\n",
       "<text text-anchor=\"start\" x=\"2021\" y=\"-52.8\" font-family=\"Helvetica,sans-Serif\" font-size=\"14.00\">gini = 0.656</text>\r\n",
       "<text text-anchor=\"start\" x=\"2007\" y=\"-37.8\" font-family=\"Helvetica,sans-Serif\" font-size=\"14.00\">samples = 6506</text>\r\n",
       "<text text-anchor=\"start\" x=\"1965\" y=\"-22.8\" font-family=\"Helvetica,sans-Serif\" font-size=\"14.00\">value = [2596, 0, 2241, 1669]</text>\r\n",
       "<text text-anchor=\"start\" x=\"1993.5\" y=\"-7.8\" font-family=\"Helvetica,sans-Serif\" font-size=\"14.00\">class = Region_One</text>\r\n",
       "</g>\r\n",
       "<!-- 22&#45;&gt;24 -->\r\n",
       "<g id=\"edge24\" class=\"edge\"><title>22&#45;&gt;24</title>\r\n",
       "<path fill=\"none\" stroke=\"black\" d=\"M1999.62,-118.865C2006.56,-109.854 2013.83,-100.427 2020.8,-91.3931\"/>\r\n",
       "<polygon fill=\"black\" stroke=\"black\" points=\"2023.76,-93.2873 2027.09,-83.231 2018.21,-89.0129 2023.76,-93.2873\"/>\r\n",
       "</g>\r\n",
       "<!-- 26 -->\r\n",
       "<g id=\"node27\" class=\"node\"><title>26</title>\r\n",
       "<path fill=\"#deeffb\" stroke=\"black\" d=\"M2425.5,-217C2425.5,-217 2271.5,-217 2271.5,-217 2265.5,-217 2259.5,-211 2259.5,-205 2259.5,-205 2259.5,-131 2259.5,-131 2259.5,-125 2265.5,-119 2271.5,-119 2271.5,-119 2425.5,-119 2425.5,-119 2431.5,-119 2437.5,-125 2437.5,-131 2437.5,-131 2437.5,-205 2437.5,-205 2437.5,-211 2431.5,-217 2425.5,-217\"/>\r\n",
       "<text text-anchor=\"start\" x=\"2318\" y=\"-201.8\" font-family=\"Helvetica,sans-Serif\" font-size=\"14.00\">node #26</text>\r\n",
       "<text text-anchor=\"start\" x=\"2313.5\" y=\"-186.8\" font-family=\"Helvetica,sans-Serif\" font-size=\"14.00\">items ≤ 2.5</text>\r\n",
       "<text text-anchor=\"start\" x=\"2311\" y=\"-171.8\" font-family=\"Helvetica,sans-Serif\" font-size=\"14.00\">gini = 0.496</text>\r\n",
       "<text text-anchor=\"start\" x=\"2297\" y=\"-156.8\" font-family=\"Helvetica,sans-Serif\" font-size=\"14.00\">samples = 2415</text>\r\n",
       "<text text-anchor=\"start\" x=\"2267.5\" y=\"-141.8\" font-family=\"Helvetica,sans-Serif\" font-size=\"14.00\">value = [1099, 0, 1316, 0]</text>\r\n",
       "<text text-anchor=\"start\" x=\"2278\" y=\"-126.8\" font-family=\"Helvetica,sans-Serif\" font-size=\"14.00\">class = Region_Three</text>\r\n",
       "</g>\r\n",
       "<!-- 25&#45;&gt;26 -->\r\n",
       "<g id=\"edge26\" class=\"edge\"><title>25&#45;&gt;26</title>\r\n",
       "<path fill=\"none\" stroke=\"black\" d=\"M2348.5,-252.972C2348.5,-244.691 2348.5,-236.003 2348.5,-227.483\"/>\r\n",
       "<polygon fill=\"black\" stroke=\"black\" points=\"2352,-227.214 2348.5,-217.214 2345,-227.214 2352,-227.214\"/>\r\n",
       "</g>\r\n",
       "<!-- 29 -->\r\n",
       "<g id=\"node30\" class=\"node\"><title>29</title>\r\n",
       "<path fill=\"#e9965a\" stroke=\"black\" d=\"M2679.5,-217C2679.5,-217 2557.5,-217 2557.5,-217 2551.5,-217 2545.5,-211 2545.5,-205 2545.5,-205 2545.5,-131 2545.5,-131 2545.5,-125 2551.5,-119 2557.5,-119 2557.5,-119 2679.5,-119 2679.5,-119 2685.5,-119 2691.5,-125 2691.5,-131 2691.5,-131 2691.5,-205 2691.5,-205 2691.5,-211 2685.5,-217 2679.5,-217\"/>\r\n",
       "<text text-anchor=\"start\" x=\"2588\" y=\"-201.8\" font-family=\"Helvetica,sans-Serif\" font-size=\"14.00\">node #29</text>\r\n",
       "<text text-anchor=\"start\" x=\"2584.5\" y=\"-186.8\" font-family=\"Helvetica,sans-Serif\" font-size=\"14.00\">age ≤ 70.5</text>\r\n",
       "<text text-anchor=\"start\" x=\"2581\" y=\"-171.8\" font-family=\"Helvetica,sans-Serif\" font-size=\"14.00\">gini = 0.245</text>\r\n",
       "<text text-anchor=\"start\" x=\"2575\" y=\"-156.8\" font-family=\"Helvetica,sans-Serif\" font-size=\"14.00\">samples = 14</text>\r\n",
       "<text text-anchor=\"start\" x=\"2558\" y=\"-141.8\" font-family=\"Helvetica,sans-Serif\" font-size=\"14.00\">value = [12, 0, 2, 0]</text>\r\n",
       "<text text-anchor=\"start\" x=\"2553.5\" y=\"-126.8\" font-family=\"Helvetica,sans-Serif\" font-size=\"14.00\">class = Region_One</text>\r\n",
       "</g>\r\n",
       "<!-- 25&#45;&gt;29 -->\r\n",
       "<g id=\"edge29\" class=\"edge\"><title>25&#45;&gt;29</title>\r\n",
       "<path fill=\"none\" stroke=\"black\" d=\"M2437.66,-257.412C2469.39,-241.897 2504.96,-224.507 2536.11,-209.282\"/>\r\n",
       "<polygon fill=\"black\" stroke=\"black\" points=\"2537.74,-212.377 2545.19,-204.84 2534.67,-206.088 2537.74,-212.377\"/>\r\n",
       "</g>\r\n",
       "<!-- 27 -->\r\n",
       "<g id=\"node28\" class=\"node\"><title>27</title>\r\n",
       "<path fill=\"#c0e0f7\" stroke=\"black\" d=\"M2327,-83C2327,-83 2190,-83 2190,-83 2184,-83 2178,-77 2178,-71 2178,-71 2178,-12 2178,-12 2178,-6 2184,-0 2190,-0 2190,-0 2327,-0 2327,-0 2333,-0 2339,-6 2339,-12 2339,-12 2339,-71 2339,-71 2339,-77 2333,-83 2327,-83\"/>\r\n",
       "<text text-anchor=\"start\" x=\"2228\" y=\"-67.8\" font-family=\"Helvetica,sans-Serif\" font-size=\"14.00\">node #27</text>\r\n",
       "<text text-anchor=\"start\" x=\"2221\" y=\"-52.8\" font-family=\"Helvetica,sans-Serif\" font-size=\"14.00\">gini = 0.482</text>\r\n",
       "<text text-anchor=\"start\" x=\"2211\" y=\"-37.8\" font-family=\"Helvetica,sans-Serif\" font-size=\"14.00\">samples = 495</text>\r\n",
       "<text text-anchor=\"start\" x=\"2186\" y=\"-22.8\" font-family=\"Helvetica,sans-Serif\" font-size=\"14.00\">value = [201, 0, 294, 0]</text>\r\n",
       "<text text-anchor=\"start\" x=\"2188\" y=\"-7.8\" font-family=\"Helvetica,sans-Serif\" font-size=\"14.00\">class = Region_Three</text>\r\n",
       "</g>\r\n",
       "<!-- 26&#45;&gt;27 -->\r\n",
       "<g id=\"edge27\" class=\"edge\"><title>26&#45;&gt;27</title>\r\n",
       "<path fill=\"none\" stroke=\"black\" d=\"M2313.7,-118.865C2307.19,-109.854 2300.37,-100.427 2293.84,-91.3931\"/>\r\n",
       "<polygon fill=\"black\" stroke=\"black\" points=\"2296.64,-89.2847 2287.94,-83.231 2290.97,-93.3857 2296.64,-89.2847\"/>\r\n",
       "</g>\r\n",
       "<!-- 28 -->\r\n",
       "<g id=\"node29\" class=\"node\"><title>28</title>\r\n",
       "<path fill=\"#e7f3fc\" stroke=\"black\" d=\"M2515.5,-83C2515.5,-83 2369.5,-83 2369.5,-83 2363.5,-83 2357.5,-77 2357.5,-71 2357.5,-71 2357.5,-12 2357.5,-12 2357.5,-6 2363.5,-0 2369.5,-0 2369.5,-0 2515.5,-0 2515.5,-0 2521.5,-0 2527.5,-6 2527.5,-12 2527.5,-12 2527.5,-71 2527.5,-71 2527.5,-77 2521.5,-83 2515.5,-83\"/>\r\n",
       "<text text-anchor=\"start\" x=\"2412\" y=\"-67.8\" font-family=\"Helvetica,sans-Serif\" font-size=\"14.00\">node #28</text>\r\n",
       "<text text-anchor=\"start\" x=\"2405\" y=\"-52.8\" font-family=\"Helvetica,sans-Serif\" font-size=\"14.00\">gini = 0.498</text>\r\n",
       "<text text-anchor=\"start\" x=\"2391\" y=\"-37.8\" font-family=\"Helvetica,sans-Serif\" font-size=\"14.00\">samples = 1920</text>\r\n",
       "<text text-anchor=\"start\" x=\"2365.5\" y=\"-22.8\" font-family=\"Helvetica,sans-Serif\" font-size=\"14.00\">value = [898, 0, 1022, 0]</text>\r\n",
       "<text text-anchor=\"start\" x=\"2372\" y=\"-7.8\" font-family=\"Helvetica,sans-Serif\" font-size=\"14.00\">class = Region_Three</text>\r\n",
       "</g>\r\n",
       "<!-- 26&#45;&gt;28 -->\r\n",
       "<g id=\"edge28\" class=\"edge\"><title>26&#45;&gt;28</title>\r\n",
       "<path fill=\"none\" stroke=\"black\" d=\"M2384.84,-118.865C2391.65,-109.854 2398.76,-100.427 2405.58,-91.3931\"/>\r\n",
       "<polygon fill=\"black\" stroke=\"black\" points=\"2408.51,-93.3207 2411.75,-83.231 2402.93,-89.1027 2408.51,-93.3207\"/>\r\n",
       "</g>\r\n",
       "<!-- 30 -->\r\n",
       "<g id=\"node31\" class=\"node\"><title>30</title>\r\n",
       "<path fill=\"#e78c4b\" stroke=\"black\" d=\"M2679.5,-83C2679.5,-83 2557.5,-83 2557.5,-83 2551.5,-83 2545.5,-77 2545.5,-71 2545.5,-71 2545.5,-12 2545.5,-12 2545.5,-6 2551.5,-0 2557.5,-0 2557.5,-0 2679.5,-0 2679.5,-0 2685.5,-0 2691.5,-6 2691.5,-12 2691.5,-12 2691.5,-71 2691.5,-71 2691.5,-77 2685.5,-83 2679.5,-83\"/>\r\n",
       "<text text-anchor=\"start\" x=\"2588\" y=\"-67.8\" font-family=\"Helvetica,sans-Serif\" font-size=\"14.00\">node #30</text>\r\n",
       "<text text-anchor=\"start\" x=\"2581\" y=\"-52.8\" font-family=\"Helvetica,sans-Serif\" font-size=\"14.00\">gini = 0.153</text>\r\n",
       "<text text-anchor=\"start\" x=\"2575\" y=\"-37.8\" font-family=\"Helvetica,sans-Serif\" font-size=\"14.00\">samples = 12</text>\r\n",
       "<text text-anchor=\"start\" x=\"2558\" y=\"-22.8\" font-family=\"Helvetica,sans-Serif\" font-size=\"14.00\">value = [11, 0, 1, 0]</text>\r\n",
       "<text text-anchor=\"start\" x=\"2553.5\" y=\"-7.8\" font-family=\"Helvetica,sans-Serif\" font-size=\"14.00\">class = Region_One</text>\r\n",
       "</g>\r\n",
       "<!-- 29&#45;&gt;30 -->\r\n",
       "<g id=\"edge30\" class=\"edge\"><title>29&#45;&gt;30</title>\r\n",
       "<path fill=\"none\" stroke=\"black\" d=\"M2618.5,-118.865C2618.5,-110.498 2618.5,-101.771 2618.5,-93.3346\"/>\r\n",
       "<polygon fill=\"black\" stroke=\"black\" points=\"2622,-93.2309 2618.5,-83.231 2615,-93.231 2622,-93.2309\"/>\r\n",
       "</g>\r\n",
       "<!-- 31 -->\r\n",
       "<g id=\"node32\" class=\"node\"><title>31</title>\r\n",
       "<path fill=\"#ffffff\" stroke=\"black\" d=\"M2843.5,-83C2843.5,-83 2721.5,-83 2721.5,-83 2715.5,-83 2709.5,-77 2709.5,-71 2709.5,-71 2709.5,-12 2709.5,-12 2709.5,-6 2715.5,-0 2721.5,-0 2721.5,-0 2843.5,-0 2843.5,-0 2849.5,-0 2855.5,-6 2855.5,-12 2855.5,-12 2855.5,-71 2855.5,-71 2855.5,-77 2849.5,-83 2843.5,-83\"/>\r\n",
       "<text text-anchor=\"start\" x=\"2752\" y=\"-67.8\" font-family=\"Helvetica,sans-Serif\" font-size=\"14.00\">node #31</text>\r\n",
       "<text text-anchor=\"start\" x=\"2753.5\" y=\"-52.8\" font-family=\"Helvetica,sans-Serif\" font-size=\"14.00\">gini = 0.5</text>\r\n",
       "<text text-anchor=\"start\" x=\"2743\" y=\"-37.8\" font-family=\"Helvetica,sans-Serif\" font-size=\"14.00\">samples = 2</text>\r\n",
       "<text text-anchor=\"start\" x=\"2726.5\" y=\"-22.8\" font-family=\"Helvetica,sans-Serif\" font-size=\"14.00\">value = [1, 0, 1, 0]</text>\r\n",
       "<text text-anchor=\"start\" x=\"2717.5\" y=\"-7.8\" font-family=\"Helvetica,sans-Serif\" font-size=\"14.00\">class = Region_One</text>\r\n",
       "</g>\r\n",
       "<!-- 29&#45;&gt;31 -->\r\n",
       "<g id=\"edge31\" class=\"edge\"><title>29&#45;&gt;31</title>\r\n",
       "<path fill=\"none\" stroke=\"black\" d=\"M2681.91,-118.865C2694.7,-109.154 2708.13,-98.96 2720.86,-89.2961\"/>\r\n",
       "<polygon fill=\"black\" stroke=\"black\" points=\"2723.26,-91.8668 2729.11,-83.0325 2719.03,-86.2913 2723.26,-91.8668\"/>\r\n",
       "</g>\r\n",
       "<!-- 33 -->\r\n",
       "<g id=\"node34\" class=\"node\"><title>33</title>\r\n",
       "<path fill=\"#eda3f3\" stroke=\"black\" d=\"M3681.5,-485C3681.5,-485 3527.5,-485 3527.5,-485 3521.5,-485 3515.5,-479 3515.5,-473 3515.5,-473 3515.5,-399 3515.5,-399 3515.5,-393 3521.5,-387 3527.5,-387 3527.5,-387 3681.5,-387 3681.5,-387 3687.5,-387 3693.5,-393 3693.5,-399 3693.5,-399 3693.5,-473 3693.5,-473 3693.5,-479 3687.5,-485 3681.5,-485\"/>\r\n",
       "<text text-anchor=\"start\" x=\"3574\" y=\"-469.8\" font-family=\"Helvetica,sans-Serif\" font-size=\"14.00\">node #33</text>\r\n",
       "<text text-anchor=\"start\" x=\"3551\" y=\"-454.8\" font-family=\"Helvetica,sans-Serif\" font-size=\"14.00\">amount ≤ 2970.8</text>\r\n",
       "<text text-anchor=\"start\" x=\"3567\" y=\"-439.8\" font-family=\"Helvetica,sans-Serif\" font-size=\"14.00\">gini = 0.455</text>\r\n",
       "<text text-anchor=\"start\" x=\"3548.5\" y=\"-424.8\" font-family=\"Helvetica,sans-Serif\" font-size=\"14.00\">samples = 12161</text>\r\n",
       "<text text-anchor=\"start\" x=\"3523.5\" y=\"-409.8\" font-family=\"Helvetica,sans-Serif\" font-size=\"14.00\">value = [0, 3, 4251, 7907]</text>\r\n",
       "<text text-anchor=\"start\" x=\"3538\" y=\"-394.8\" font-family=\"Helvetica,sans-Serif\" font-size=\"14.00\">class = Region_Four</text>\r\n",
       "</g>\r\n",
       "<!-- 32&#45;&gt;33 -->\r\n",
       "<g id=\"edge33\" class=\"edge\"><title>32&#45;&gt;33</title>\r\n",
       "<path fill=\"none\" stroke=\"black\" d=\"M3604.5,-520.972C3604.5,-512.691 3604.5,-504.003 3604.5,-495.483\"/>\r\n",
       "<polygon fill=\"black\" stroke=\"black\" points=\"3608,-495.214 3604.5,-485.214 3601,-495.214 3608,-495.214\"/>\r\n",
       "</g>\r\n",
       "<!-- 48 -->\r\n",
       "<g id=\"node49\" class=\"node\"><title>48</title>\r\n",
       "<path fill=\"#fffefd\" stroke=\"black\" d=\"M4772,-485C4772,-485 4593,-485 4593,-485 4587,-485 4581,-479 4581,-473 4581,-473 4581,-399 4581,-399 4581,-393 4587,-387 4593,-387 4593,-387 4772,-387 4772,-387 4778,-387 4784,-393 4784,-399 4784,-399 4784,-473 4784,-473 4784,-479 4778,-485 4772,-485\"/>\r\n",
       "<text text-anchor=\"start\" x=\"4652\" y=\"-469.8\" font-family=\"Helvetica,sans-Serif\" font-size=\"14.00\">node #48</text>\r\n",
       "<text text-anchor=\"start\" x=\"4625\" y=\"-454.8\" font-family=\"Helvetica,sans-Serif\" font-size=\"14.00\">amount ≤ 999.905</text>\r\n",
       "<text text-anchor=\"start\" x=\"4645\" y=\"-439.8\" font-family=\"Helvetica,sans-Serif\" font-size=\"14.00\">gini = 0.647</text>\r\n",
       "<text text-anchor=\"start\" x=\"4626.5\" y=\"-424.8\" font-family=\"Helvetica,sans-Serif\" font-size=\"14.00\">samples = 17947</text>\r\n",
       "<text text-anchor=\"start\" x=\"4589\" y=\"-409.8\" font-family=\"Helvetica,sans-Serif\" font-size=\"14.00\">value = [7050, 0, 3942, 6955]</text>\r\n",
       "<text text-anchor=\"start\" x=\"4617.5\" y=\"-394.8\" font-family=\"Helvetica,sans-Serif\" font-size=\"14.00\">class = Region_One</text>\r\n",
       "</g>\r\n",
       "<!-- 32&#45;&gt;48 -->\r\n",
       "<g id=\"edge48\" class=\"edge\"><title>32&#45;&gt;48</title>\r\n",
       "<path fill=\"none\" stroke=\"black\" d=\"M3710.32,-556.043C3914.66,-531.022 4361.79,-476.271 4570.74,-450.685\"/>\r\n",
       "<polygon fill=\"black\" stroke=\"black\" points=\"4571.31,-454.141 4580.81,-449.452 4570.46,-447.193 4571.31,-454.141\"/>\r\n",
       "</g>\r\n",
       "<!-- 34 -->\r\n",
       "<g id=\"node35\" class=\"node\"><title>34</title>\r\n",
       "<path fill=\"#eca3f3\" stroke=\"black\" d=\"M3507.5,-351C3507.5,-351 3353.5,-351 3353.5,-351 3347.5,-351 3341.5,-345 3341.5,-339 3341.5,-339 3341.5,-265 3341.5,-265 3341.5,-259 3347.5,-253 3353.5,-253 3353.5,-253 3507.5,-253 3507.5,-253 3513.5,-253 3519.5,-259 3519.5,-265 3519.5,-265 3519.5,-339 3519.5,-339 3519.5,-345 3513.5,-351 3507.5,-351\"/>\r\n",
       "<text text-anchor=\"start\" x=\"3400\" y=\"-335.8\" font-family=\"Helvetica,sans-Serif\" font-size=\"14.00\">node #34</text>\r\n",
       "<text text-anchor=\"start\" x=\"3373\" y=\"-320.8\" font-family=\"Helvetica,sans-Serif\" font-size=\"14.00\">amount ≤ 2699.35</text>\r\n",
       "<text text-anchor=\"start\" x=\"3393\" y=\"-305.8\" font-family=\"Helvetica,sans-Serif\" font-size=\"14.00\">gini = 0.454</text>\r\n",
       "<text text-anchor=\"start\" x=\"3374.5\" y=\"-290.8\" font-family=\"Helvetica,sans-Serif\" font-size=\"14.00\">samples = 12031</text>\r\n",
       "<text text-anchor=\"start\" x=\"3349.5\" y=\"-275.8\" font-family=\"Helvetica,sans-Serif\" font-size=\"14.00\">value = [0, 3, 4191, 7837]</text>\r\n",
       "<text text-anchor=\"start\" x=\"3364\" y=\"-260.8\" font-family=\"Helvetica,sans-Serif\" font-size=\"14.00\">class = Region_Four</text>\r\n",
       "</g>\r\n",
       "<!-- 33&#45;&gt;34 -->\r\n",
       "<g id=\"edge34\" class=\"edge\"><title>33&#45;&gt;34</title>\r\n",
       "<path fill=\"none\" stroke=\"black\" d=\"M3541.19,-386.972C3528.48,-377.326 3515.03,-367.127 3502.06,-357.286\"/>\r\n",
       "<polygon fill=\"black\" stroke=\"black\" points=\"3504.14,-354.469 3494.05,-351.214 3499.91,-360.046 3504.14,-354.469\"/>\r\n",
       "</g>\r\n",
       "<!-- 41 -->\r\n",
       "<g id=\"node42\" class=\"node\"><title>41</title>\r\n",
       "<path fill=\"#f9e3fb\" stroke=\"black\" d=\"M3839,-351C3839,-351 3714,-351 3714,-351 3708,-351 3702,-345 3702,-339 3702,-339 3702,-265 3702,-265 3702,-259 3708,-253 3714,-253 3714,-253 3839,-253 3839,-253 3845,-253 3851,-259 3851,-265 3851,-265 3851,-339 3851,-339 3851,-345 3845,-351 3839,-351\"/>\r\n",
       "<text text-anchor=\"start\" x=\"3746\" y=\"-335.8\" font-family=\"Helvetica,sans-Serif\" font-size=\"14.00\">node #41</text>\r\n",
       "<text text-anchor=\"start\" x=\"3741.5\" y=\"-320.8\" font-family=\"Helvetica,sans-Serif\" font-size=\"14.00\">items ≤ 3.5</text>\r\n",
       "<text text-anchor=\"start\" x=\"3739\" y=\"-305.8\" font-family=\"Helvetica,sans-Serif\" font-size=\"14.00\">gini = 0.497</text>\r\n",
       "<text text-anchor=\"start\" x=\"3729\" y=\"-290.8\" font-family=\"Helvetica,sans-Serif\" font-size=\"14.00\">samples = 130</text>\r\n",
       "<text text-anchor=\"start\" x=\"3712\" y=\"-275.8\" font-family=\"Helvetica,sans-Serif\" font-size=\"14.00\">value = [0, 0, 60, 70]</text>\r\n",
       "<text text-anchor=\"start\" x=\"3710\" y=\"-260.8\" font-family=\"Helvetica,sans-Serif\" font-size=\"14.00\">class = Region_Four</text>\r\n",
       "</g>\r\n",
       "<!-- 33&#45;&gt;41 -->\r\n",
       "<g id=\"edge41\" class=\"edge\"><title>33&#45;&gt;41</title>\r\n",
       "<path fill=\"none\" stroke=\"black\" d=\"M3667.08,-386.972C3679.53,-377.417 3692.69,-367.319 3705.4,-357.565\"/>\r\n",
       "<polygon fill=\"black\" stroke=\"black\" points=\"3707.87,-360.079 3713.68,-351.214 3703.61,-354.526 3707.87,-360.079\"/>\r\n",
       "</g>\r\n",
       "<!-- 35 -->\r\n",
       "<g id=\"node36\" class=\"node\"><title>35</title>\r\n",
       "<path fill=\"#eda5f3\" stroke=\"black\" d=\"M3235.5,-217C3235.5,-217 3081.5,-217 3081.5,-217 3075.5,-217 3069.5,-211 3069.5,-205 3069.5,-205 3069.5,-131 3069.5,-131 3069.5,-125 3075.5,-119 3081.5,-119 3081.5,-119 3235.5,-119 3235.5,-119 3241.5,-119 3247.5,-125 3247.5,-131 3247.5,-131 3247.5,-205 3247.5,-205 3247.5,-211 3241.5,-217 3235.5,-217\"/>\r\n",
       "<text text-anchor=\"start\" x=\"3128\" y=\"-201.8\" font-family=\"Helvetica,sans-Serif\" font-size=\"14.00\">node #35</text>\r\n",
       "<text text-anchor=\"start\" x=\"3101\" y=\"-186.8\" font-family=\"Helvetica,sans-Serif\" font-size=\"14.00\">amount ≤ 1582.45</text>\r\n",
       "<text text-anchor=\"start\" x=\"3121\" y=\"-171.8\" font-family=\"Helvetica,sans-Serif\" font-size=\"14.00\">gini = 0.457</text>\r\n",
       "<text text-anchor=\"start\" x=\"3102.5\" y=\"-156.8\" font-family=\"Helvetica,sans-Serif\" font-size=\"14.00\">samples = 10755</text>\r\n",
       "<text text-anchor=\"start\" x=\"3077.5\" y=\"-141.8\" font-family=\"Helvetica,sans-Serif\" font-size=\"14.00\">value = [0, 3, 3794, 6958]</text>\r\n",
       "<text text-anchor=\"start\" x=\"3092\" y=\"-126.8\" font-family=\"Helvetica,sans-Serif\" font-size=\"14.00\">class = Region_Four</text>\r\n",
       "</g>\r\n",
       "<!-- 34&#45;&gt;35 -->\r\n",
       "<g id=\"edge35\" class=\"edge\"><title>34&#45;&gt;35</title>\r\n",
       "<path fill=\"none\" stroke=\"black\" d=\"M3341.44,-257.778C3314.43,-244.673 3284.61,-230.202 3257.03,-216.814\"/>\r\n",
       "<polygon fill=\"black\" stroke=\"black\" points=\"3258.29,-213.536 3247.76,-212.319 3255.23,-219.834 3258.29,-213.536\"/>\r\n",
       "</g>\r\n",
       "<!-- 38 -->\r\n",
       "<g id=\"node39\" class=\"node\"><title>38</title>\r\n",
       "<path fill=\"#e992f1\" stroke=\"black\" d=\"M3499,-217C3499,-217 3362,-217 3362,-217 3356,-217 3350,-211 3350,-205 3350,-205 3350,-131 3350,-131 3350,-125 3356,-119 3362,-119 3362,-119 3499,-119 3499,-119 3505,-119 3511,-125 3511,-131 3511,-131 3511,-205 3511,-205 3511,-211 3505,-217 3499,-217\"/>\r\n",
       "<text text-anchor=\"start\" x=\"3400\" y=\"-201.8\" font-family=\"Helvetica,sans-Serif\" font-size=\"14.00\">node #38</text>\r\n",
       "<text text-anchor=\"start\" x=\"3377\" y=\"-186.8\" font-family=\"Helvetica,sans-Serif\" font-size=\"14.00\">amount ≤ 2701.3</text>\r\n",
       "<text text-anchor=\"start\" x=\"3393\" y=\"-171.8\" font-family=\"Helvetica,sans-Serif\" font-size=\"14.00\">gini = 0.429</text>\r\n",
       "<text text-anchor=\"start\" x=\"3379\" y=\"-156.8\" font-family=\"Helvetica,sans-Serif\" font-size=\"14.00\">samples = 1276</text>\r\n",
       "<text text-anchor=\"start\" x=\"3358\" y=\"-141.8\" font-family=\"Helvetica,sans-Serif\" font-size=\"14.00\">value = [0, 0, 397, 879]</text>\r\n",
       "<text text-anchor=\"start\" x=\"3364\" y=\"-126.8\" font-family=\"Helvetica,sans-Serif\" font-size=\"14.00\">class = Region_Four</text>\r\n",
       "</g>\r\n",
       "<!-- 34&#45;&gt;38 -->\r\n",
       "<g id=\"edge38\" class=\"edge\"><title>34&#45;&gt;38</title>\r\n",
       "<path fill=\"none\" stroke=\"black\" d=\"M3430.5,-252.972C3430.5,-244.691 3430.5,-236.003 3430.5,-227.483\"/>\r\n",
       "<polygon fill=\"black\" stroke=\"black\" points=\"3434,-227.214 3430.5,-217.214 3427,-227.214 3434,-227.214\"/>\r\n",
       "</g>\r\n",
       "<!-- 36 -->\r\n",
       "<g id=\"node37\" class=\"node\"><title>36</title>\r\n",
       "<path fill=\"#ec9ff2\" stroke=\"black\" d=\"M3039.5,-83C3039.5,-83 2885.5,-83 2885.5,-83 2879.5,-83 2873.5,-77 2873.5,-71 2873.5,-71 2873.5,-12 2873.5,-12 2873.5,-6 2879.5,-0 2885.5,-0 2885.5,-0 3039.5,-0 3039.5,-0 3045.5,-0 3051.5,-6 3051.5,-12 3051.5,-12 3051.5,-71 3051.5,-71 3051.5,-77 3045.5,-83 3039.5,-83\"/>\r\n",
       "<text text-anchor=\"start\" x=\"2932\" y=\"-67.8\" font-family=\"Helvetica,sans-Serif\" font-size=\"14.00\">node #36</text>\r\n",
       "<text text-anchor=\"start\" x=\"2925\" y=\"-52.8\" font-family=\"Helvetica,sans-Serif\" font-size=\"14.00\">gini = 0.449</text>\r\n",
       "<text text-anchor=\"start\" x=\"2911\" y=\"-37.8\" font-family=\"Helvetica,sans-Serif\" font-size=\"14.00\">samples = 5345</text>\r\n",
       "<text text-anchor=\"start\" x=\"2881.5\" y=\"-22.8\" font-family=\"Helvetica,sans-Serif\" font-size=\"14.00\">value = [0, 3, 1815, 3527]</text>\r\n",
       "<text text-anchor=\"start\" x=\"2896\" y=\"-7.8\" font-family=\"Helvetica,sans-Serif\" font-size=\"14.00\">class = Region_Four</text>\r\n",
       "</g>\r\n",
       "<!-- 35&#45;&gt;36 -->\r\n",
       "<g id=\"edge36\" class=\"edge\"><title>35&#45;&gt;36</title>\r\n",
       "<path fill=\"none\" stroke=\"black\" d=\"M3082.72,-118.865C3067,-108.877 3050.47,-98.3771 3034.87,-88.469\"/>\r\n",
       "<polygon fill=\"black\" stroke=\"black\" points=\"3036.63,-85.4399 3026.31,-83.0325 3032.87,-91.3487 3036.63,-85.4399\"/>\r\n",
       "</g>\r\n",
       "<!-- 37 -->\r\n",
       "<g id=\"node38\" class=\"node\"><title>37</title>\r\n",
       "<path fill=\"#eeabf4\" stroke=\"black\" d=\"M3235.5,-83C3235.5,-83 3081.5,-83 3081.5,-83 3075.5,-83 3069.5,-77 3069.5,-71 3069.5,-71 3069.5,-12 3069.5,-12 3069.5,-6 3075.5,-0 3081.5,-0 3081.5,-0 3235.5,-0 3235.5,-0 3241.5,-0 3247.5,-6 3247.5,-12 3247.5,-12 3247.5,-71 3247.5,-71 3247.5,-77 3241.5,-83 3235.5,-83\"/>\r\n",
       "<text text-anchor=\"start\" x=\"3128\" y=\"-67.8\" font-family=\"Helvetica,sans-Serif\" font-size=\"14.00\">node #37</text>\r\n",
       "<text text-anchor=\"start\" x=\"3121\" y=\"-52.8\" font-family=\"Helvetica,sans-Serif\" font-size=\"14.00\">gini = 0.464</text>\r\n",
       "<text text-anchor=\"start\" x=\"3107\" y=\"-37.8\" font-family=\"Helvetica,sans-Serif\" font-size=\"14.00\">samples = 5410</text>\r\n",
       "<text text-anchor=\"start\" x=\"3077.5\" y=\"-22.8\" font-family=\"Helvetica,sans-Serif\" font-size=\"14.00\">value = [0, 0, 1979, 3431]</text>\r\n",
       "<text text-anchor=\"start\" x=\"3092\" y=\"-7.8\" font-family=\"Helvetica,sans-Serif\" font-size=\"14.00\">class = Region_Four</text>\r\n",
       "</g>\r\n",
       "<!-- 35&#45;&gt;37 -->\r\n",
       "<g id=\"edge37\" class=\"edge\"><title>35&#45;&gt;37</title>\r\n",
       "<path fill=\"none\" stroke=\"black\" d=\"M3158.5,-118.865C3158.5,-110.498 3158.5,-101.771 3158.5,-93.3346\"/>\r\n",
       "<polygon fill=\"black\" stroke=\"black\" points=\"3162,-93.2309 3158.5,-83.231 3155,-93.231 3162,-93.2309\"/>\r\n",
       "</g>\r\n",
       "<!-- 39 -->\r\n",
       "<g id=\"node40\" class=\"node\"><title>39</title>\r\n",
       "<path fill=\"#d739e5\" stroke=\"black\" d=\"M3403,-83C3403,-83 3278,-83 3278,-83 3272,-83 3266,-77 3266,-71 3266,-71 3266,-12 3266,-12 3266,-6 3272,-0 3278,-0 3278,-0 3403,-0 3403,-0 3409,-0 3415,-6 3415,-12 3415,-12 3415,-71 3415,-71 3415,-77 3409,-83 3403,-83\"/>\r\n",
       "<text text-anchor=\"start\" x=\"3310\" y=\"-67.8\" font-family=\"Helvetica,sans-Serif\" font-size=\"14.00\">node #39</text>\r\n",
       "<text text-anchor=\"start\" x=\"3311.5\" y=\"-52.8\" font-family=\"Helvetica,sans-Serif\" font-size=\"14.00\">gini = 0.0</text>\r\n",
       "<text text-anchor=\"start\" x=\"3297\" y=\"-37.8\" font-family=\"Helvetica,sans-Serif\" font-size=\"14.00\">samples = 11</text>\r\n",
       "<text text-anchor=\"start\" x=\"3280\" y=\"-22.8\" font-family=\"Helvetica,sans-Serif\" font-size=\"14.00\">value = [0, 0, 0, 11]</text>\r\n",
       "<text text-anchor=\"start\" x=\"3274\" y=\"-7.8\" font-family=\"Helvetica,sans-Serif\" font-size=\"14.00\">class = Region_Four</text>\r\n",
       "</g>\r\n",
       "<!-- 38&#45;&gt;39 -->\r\n",
       "<g id=\"edge39\" class=\"edge\"><title>38&#45;&gt;39</title>\r\n",
       "<path fill=\"none\" stroke=\"black\" d=\"M3395.7,-118.865C3389.19,-109.854 3382.37,-100.427 3375.84,-91.3931\"/>\r\n",
       "<polygon fill=\"black\" stroke=\"black\" points=\"3378.64,-89.2847 3369.94,-83.231 3372.97,-93.3857 3378.64,-89.2847\"/>\r\n",
       "</g>\r\n",
       "<!-- 40 -->\r\n",
       "<g id=\"node41\" class=\"node\"><title>40</title>\r\n",
       "<path fill=\"#e994f1\" stroke=\"black\" d=\"M3582,-83C3582,-83 3445,-83 3445,-83 3439,-83 3433,-77 3433,-71 3433,-71 3433,-12 3433,-12 3433,-6 3439,-0 3445,-0 3445,-0 3582,-0 3582,-0 3588,-0 3594,-6 3594,-12 3594,-12 3594,-71 3594,-71 3594,-77 3588,-83 3582,-83\"/>\r\n",
       "<text text-anchor=\"start\" x=\"3483\" y=\"-67.8\" font-family=\"Helvetica,sans-Serif\" font-size=\"14.00\">node #40</text>\r\n",
       "<text text-anchor=\"start\" x=\"3476\" y=\"-52.8\" font-family=\"Helvetica,sans-Serif\" font-size=\"14.00\">gini = 0.431</text>\r\n",
       "<text text-anchor=\"start\" x=\"3462\" y=\"-37.8\" font-family=\"Helvetica,sans-Serif\" font-size=\"14.00\">samples = 1265</text>\r\n",
       "<text text-anchor=\"start\" x=\"3441\" y=\"-22.8\" font-family=\"Helvetica,sans-Serif\" font-size=\"14.00\">value = [0, 0, 397, 868]</text>\r\n",
       "<text text-anchor=\"start\" x=\"3447\" y=\"-7.8\" font-family=\"Helvetica,sans-Serif\" font-size=\"14.00\">class = Region_Four</text>\r\n",
       "</g>\r\n",
       "<!-- 38&#45;&gt;40 -->\r\n",
       "<g id=\"edge40\" class=\"edge\"><title>38&#45;&gt;40</title>\r\n",
       "<path fill=\"none\" stroke=\"black\" d=\"M3462.59,-118.865C3468.54,-109.946 3474.75,-100.619 3480.72,-91.6698\"/>\r\n",
       "<polygon fill=\"black\" stroke=\"black\" points=\"3483.71,-93.4929 3486.35,-83.231 3477.89,-89.61 3483.71,-93.4929\"/>\r\n",
       "</g>\r\n",
       "<!-- 42 -->\r\n",
       "<g id=\"node43\" class=\"node\"><title>42</title>\r\n",
       "<path fill=\"#e88cf0\" stroke=\"black\" d=\"M3839,-217C3839,-217 3714,-217 3714,-217 3708,-217 3702,-211 3702,-205 3702,-205 3702,-131 3702,-131 3702,-125 3708,-119 3714,-119 3714,-119 3839,-119 3839,-119 3845,-119 3851,-125 3851,-131 3851,-131 3851,-205 3851,-205 3851,-211 3845,-217 3839,-217\"/>\r\n",
       "<text text-anchor=\"start\" x=\"3746\" y=\"-201.8\" font-family=\"Helvetica,sans-Serif\" font-size=\"14.00\">node #42</text>\r\n",
       "<text text-anchor=\"start\" x=\"3719\" y=\"-186.8\" font-family=\"Helvetica,sans-Serif\" font-size=\"14.00\">amount ≤ 2981.15</text>\r\n",
       "<text text-anchor=\"start\" x=\"3739\" y=\"-171.8\" font-family=\"Helvetica,sans-Serif\" font-size=\"14.00\">gini = 0.416</text>\r\n",
       "<text text-anchor=\"start\" x=\"3733\" y=\"-156.8\" font-family=\"Helvetica,sans-Serif\" font-size=\"14.00\">samples = 44</text>\r\n",
       "<text text-anchor=\"start\" x=\"3712\" y=\"-141.8\" font-family=\"Helvetica,sans-Serif\" font-size=\"14.00\">value = [0, 0, 13, 31]</text>\r\n",
       "<text text-anchor=\"start\" x=\"3710\" y=\"-126.8\" font-family=\"Helvetica,sans-Serif\" font-size=\"14.00\">class = Region_Four</text>\r\n",
       "</g>\r\n",
       "<!-- 41&#45;&gt;42 -->\r\n",
       "<g id=\"edge42\" class=\"edge\"><title>41&#45;&gt;42</title>\r\n",
       "<path fill=\"none\" stroke=\"black\" d=\"M3776.5,-252.972C3776.5,-244.691 3776.5,-236.003 3776.5,-227.483\"/>\r\n",
       "<polygon fill=\"black\" stroke=\"black\" points=\"3780,-227.214 3776.5,-217.214 3773,-227.214 3780,-227.214\"/>\r\n",
       "</g>\r\n",
       "<!-- 45 -->\r\n",
       "<g id=\"node46\" class=\"node\"><title>45</title>\r\n",
       "<path fill=\"#ddeefb\" stroke=\"black\" d=\"M4099,-217C4099,-217 3966,-217 3966,-217 3960,-217 3954,-211 3954,-205 3954,-205 3954,-131 3954,-131 3954,-125 3960,-119 3966,-119 3966,-119 4099,-119 4099,-119 4105,-119 4111,-125 4111,-131 4111,-131 4111,-205 4111,-205 4111,-211 4105,-217 4099,-217\"/>\r\n",
       "<text text-anchor=\"start\" x=\"4002\" y=\"-201.8\" font-family=\"Helvetica,sans-Serif\" font-size=\"14.00\">node #45</text>\r\n",
       "<text text-anchor=\"start\" x=\"3979\" y=\"-186.8\" font-family=\"Helvetica,sans-Serif\" font-size=\"14.00\">amount ≤ 2971.4</text>\r\n",
       "<text text-anchor=\"start\" x=\"3995\" y=\"-171.8\" font-family=\"Helvetica,sans-Serif\" font-size=\"14.00\">gini = 0.496</text>\r\n",
       "<text text-anchor=\"start\" x=\"3989\" y=\"-156.8\" font-family=\"Helvetica,sans-Serif\" font-size=\"14.00\">samples = 86</text>\r\n",
       "<text text-anchor=\"start\" x=\"3968\" y=\"-141.8\" font-family=\"Helvetica,sans-Serif\" font-size=\"14.00\">value = [0, 0, 47, 39]</text>\r\n",
       "<text text-anchor=\"start\" x=\"3962\" y=\"-126.8\" font-family=\"Helvetica,sans-Serif\" font-size=\"14.00\">class = Region_Three</text>\r\n",
       "</g>\r\n",
       "<!-- 41&#45;&gt;45 -->\r\n",
       "<g id=\"edge45\" class=\"edge\"><title>41&#45;&gt;45</title>\r\n",
       "<path fill=\"none\" stroke=\"black\" d=\"M3851.23,-262.465C3880.52,-247.367 3914.33,-229.934 3944.76,-214.244\"/>\r\n",
       "<polygon fill=\"black\" stroke=\"black\" points=\"3946.38,-217.346 3953.66,-209.652 3943.17,-211.124 3946.38,-217.346\"/>\r\n",
       "</g>\r\n",
       "<!-- 43 -->\r\n",
       "<g id=\"node44\" class=\"node\"><title>43</title>\r\n",
       "<path fill=\"#aad5f4\" stroke=\"black\" d=\"M3757,-83C3757,-83 3624,-83 3624,-83 3618,-83 3612,-77 3612,-71 3612,-71 3612,-12 3612,-12 3612,-6 3618,-0 3624,-0 3624,-0 3757,-0 3757,-0 3763,-0 3769,-6 3769,-12 3769,-12 3769,-71 3769,-71 3769,-77 3763,-83 3757,-83\"/>\r\n",
       "<text text-anchor=\"start\" x=\"3660\" y=\"-67.8\" font-family=\"Helvetica,sans-Serif\" font-size=\"14.00\">node #43</text>\r\n",
       "<text text-anchor=\"start\" x=\"3653\" y=\"-52.8\" font-family=\"Helvetica,sans-Serif\" font-size=\"14.00\">gini = 0.463</text>\r\n",
       "<text text-anchor=\"start\" x=\"3647\" y=\"-37.8\" font-family=\"Helvetica,sans-Serif\" font-size=\"14.00\">samples = 11</text>\r\n",
       "<text text-anchor=\"start\" x=\"3634.5\" y=\"-22.8\" font-family=\"Helvetica,sans-Serif\" font-size=\"14.00\">value = [0, 0, 7, 4]</text>\r\n",
       "<text text-anchor=\"start\" x=\"3620\" y=\"-7.8\" font-family=\"Helvetica,sans-Serif\" font-size=\"14.00\">class = Region_Three</text>\r\n",
       "</g>\r\n",
       "<!-- 42&#45;&gt;43 -->\r\n",
       "<g id=\"edge43\" class=\"edge\"><title>42&#45;&gt;43</title>\r\n",
       "<path fill=\"none\" stroke=\"black\" d=\"M3743.25,-118.865C3737.09,-109.946 3730.65,-100.619 3724.46,-91.6698\"/>\r\n",
       "<polygon fill=\"black\" stroke=\"black\" points=\"3727.2,-89.4696 3718.64,-83.231 3721.44,-93.4481 3727.2,-89.4696\"/>\r\n",
       "</g>\r\n",
       "<!-- 44 -->\r\n",
       "<g id=\"node45\" class=\"node\"><title>44</title>\r\n",
       "<path fill=\"#e065eb\" stroke=\"black\" d=\"M3924,-83C3924,-83 3799,-83 3799,-83 3793,-83 3787,-77 3787,-71 3787,-71 3787,-12 3787,-12 3787,-6 3793,-0 3799,-0 3799,-0 3924,-0 3924,-0 3930,-0 3936,-6 3936,-12 3936,-12 3936,-71 3936,-71 3936,-77 3930,-83 3924,-83\"/>\r\n",
       "<text text-anchor=\"start\" x=\"3831\" y=\"-67.8\" font-family=\"Helvetica,sans-Serif\" font-size=\"14.00\">node #44</text>\r\n",
       "<text text-anchor=\"start\" x=\"3824\" y=\"-52.8\" font-family=\"Helvetica,sans-Serif\" font-size=\"14.00\">gini = 0.298</text>\r\n",
       "<text text-anchor=\"start\" x=\"3818\" y=\"-37.8\" font-family=\"Helvetica,sans-Serif\" font-size=\"14.00\">samples = 33</text>\r\n",
       "<text text-anchor=\"start\" x=\"3801\" y=\"-22.8\" font-family=\"Helvetica,sans-Serif\" font-size=\"14.00\">value = [0, 0, 6, 27]</text>\r\n",
       "<text text-anchor=\"start\" x=\"3795\" y=\"-7.8\" font-family=\"Helvetica,sans-Serif\" font-size=\"14.00\">class = Region_Four</text>\r\n",
       "</g>\r\n",
       "<!-- 42&#45;&gt;44 -->\r\n",
       "<g id=\"edge44\" class=\"edge\"><title>42&#45;&gt;44</title>\r\n",
       "<path fill=\"none\" stroke=\"black\" d=\"M3809.36,-118.865C3815.45,-109.946 3821.82,-100.619 3827.93,-91.6698\"/>\r\n",
       "<polygon fill=\"black\" stroke=\"black\" points=\"3830.94,-93.4632 3833.69,-83.231 3825.16,-89.5162 3830.94,-93.4632\"/>\r\n",
       "</g>\r\n",
       "<!-- 46 -->\r\n",
       "<g id=\"node47\" class=\"node\"><title>46</title>\r\n",
       "<path fill=\"#399de5\" stroke=\"black\" d=\"M4099,-83C4099,-83 3966,-83 3966,-83 3960,-83 3954,-77 3954,-71 3954,-71 3954,-12 3954,-12 3954,-6 3960,-0 3966,-0 3966,-0 4099,-0 4099,-0 4105,-0 4111,-6 4111,-12 4111,-12 4111,-71 4111,-71 4111,-77 4105,-83 4099,-83\"/>\r\n",
       "<text text-anchor=\"start\" x=\"4002\" y=\"-67.8\" font-family=\"Helvetica,sans-Serif\" font-size=\"14.00\">node #46</text>\r\n",
       "<text text-anchor=\"start\" x=\"4003.5\" y=\"-52.8\" font-family=\"Helvetica,sans-Serif\" font-size=\"14.00\">gini = 0.0</text>\r\n",
       "<text text-anchor=\"start\" x=\"3993\" y=\"-37.8\" font-family=\"Helvetica,sans-Serif\" font-size=\"14.00\">samples = 3</text>\r\n",
       "<text text-anchor=\"start\" x=\"3976.5\" y=\"-22.8\" font-family=\"Helvetica,sans-Serif\" font-size=\"14.00\">value = [0, 0, 3, 0]</text>\r\n",
       "<text text-anchor=\"start\" x=\"3962\" y=\"-7.8\" font-family=\"Helvetica,sans-Serif\" font-size=\"14.00\">class = Region_Three</text>\r\n",
       "</g>\r\n",
       "<!-- 45&#45;&gt;46 -->\r\n",
       "<g id=\"edge46\" class=\"edge\"><title>45&#45;&gt;46</title>\r\n",
       "<path fill=\"none\" stroke=\"black\" d=\"M4032.5,-118.865C4032.5,-110.498 4032.5,-101.771 4032.5,-93.3346\"/>\r\n",
       "<polygon fill=\"black\" stroke=\"black\" points=\"4036,-93.2309 4032.5,-83.231 4029,-93.231 4036,-93.2309\"/>\r\n",
       "</g>\r\n",
       "<!-- 47 -->\r\n",
       "<g id=\"node48\" class=\"node\"><title>47</title>\r\n",
       "<path fill=\"#e8f4fc\" stroke=\"black\" d=\"M4274,-83C4274,-83 4141,-83 4141,-83 4135,-83 4129,-77 4129,-71 4129,-71 4129,-12 4129,-12 4129,-6 4135,-0 4141,-0 4141,-0 4274,-0 4274,-0 4280,-0 4286,-6 4286,-12 4286,-12 4286,-71 4286,-71 4286,-77 4280,-83 4274,-83\"/>\r\n",
       "<text text-anchor=\"start\" x=\"4177\" y=\"-67.8\" font-family=\"Helvetica,sans-Serif\" font-size=\"14.00\">node #47</text>\r\n",
       "<text text-anchor=\"start\" x=\"4170\" y=\"-52.8\" font-family=\"Helvetica,sans-Serif\" font-size=\"14.00\">gini = 0.498</text>\r\n",
       "<text text-anchor=\"start\" x=\"4164\" y=\"-37.8\" font-family=\"Helvetica,sans-Serif\" font-size=\"14.00\">samples = 83</text>\r\n",
       "<text text-anchor=\"start\" x=\"4143\" y=\"-22.8\" font-family=\"Helvetica,sans-Serif\" font-size=\"14.00\">value = [0, 0, 44, 39]</text>\r\n",
       "<text text-anchor=\"start\" x=\"4137\" y=\"-7.8\" font-family=\"Helvetica,sans-Serif\" font-size=\"14.00\">class = Region_Three</text>\r\n",
       "</g>\r\n",
       "<!-- 45&#45;&gt;47 -->\r\n",
       "<g id=\"edge47\" class=\"edge\"><title>45&#45;&gt;47</title>\r\n",
       "<path fill=\"none\" stroke=\"black\" d=\"M4100.16,-118.865C4113.94,-109.062 4128.41,-98.7658 4142.11,-89.0201\"/>\r\n",
       "<polygon fill=\"black\" stroke=\"black\" points=\"4144.41,-91.6814 4150.53,-83.0325 4140.35,-85.9776 4144.41,-91.6814\"/>\r\n",
       "</g>\r\n",
       "<!-- 49 -->\r\n",
       "<g id=\"node50\" class=\"node\"><title>49</title>\r\n",
       "<path fill=\"#fdf4ee\" stroke=\"black\" d=\"M4772,-351C4772,-351 4593,-351 4593,-351 4587,-351 4581,-345 4581,-339 4581,-339 4581,-265 4581,-265 4581,-259 4587,-253 4593,-253 4593,-253 4772,-253 4772,-253 4778,-253 4784,-259 4784,-265 4784,-265 4784,-339 4784,-339 4784,-345 4778,-351 4772,-351\"/>\r\n",
       "<text text-anchor=\"start\" x=\"4652\" y=\"-335.8\" font-family=\"Helvetica,sans-Serif\" font-size=\"14.00\">node #49</text>\r\n",
       "<text text-anchor=\"start\" x=\"4648.5\" y=\"-320.8\" font-family=\"Helvetica,sans-Serif\" font-size=\"14.00\">age ≤ 54.5</text>\r\n",
       "<text text-anchor=\"start\" x=\"4645\" y=\"-305.8\" font-family=\"Helvetica,sans-Serif\" font-size=\"14.00\">gini = 0.647</text>\r\n",
       "<text text-anchor=\"start\" x=\"4626.5\" y=\"-290.8\" font-family=\"Helvetica,sans-Serif\" font-size=\"14.00\">samples = 10895</text>\r\n",
       "<text text-anchor=\"start\" x=\"4589\" y=\"-275.8\" font-family=\"Helvetica,sans-Serif\" font-size=\"14.00\">value = [4530, 0, 3942, 2423]</text>\r\n",
       "<text text-anchor=\"start\" x=\"4617.5\" y=\"-260.8\" font-family=\"Helvetica,sans-Serif\" font-size=\"14.00\">class = Region_One</text>\r\n",
       "</g>\r\n",
       "<!-- 48&#45;&gt;49 -->\r\n",
       "<g id=\"edge49\" class=\"edge\"><title>48&#45;&gt;49</title>\r\n",
       "<path fill=\"none\" stroke=\"black\" d=\"M4682.5,-386.972C4682.5,-378.691 4682.5,-370.003 4682.5,-361.483\"/>\r\n",
       "<polygon fill=\"black\" stroke=\"black\" points=\"4686,-361.214 4682.5,-351.214 4679,-361.214 4686,-361.214\"/>\r\n",
       "</g>\r\n",
       "<!-- 56 -->\r\n",
       "<g id=\"node57\" class=\"node\"><title>56</title>\r\n",
       "<path fill=\"#eda7f3\" stroke=\"black\" d=\"M5318.5,-351C5318.5,-351 5164.5,-351 5164.5,-351 5158.5,-351 5152.5,-345 5152.5,-339 5152.5,-339 5152.5,-265 5152.5,-265 5152.5,-259 5158.5,-253 5164.5,-253 5164.5,-253 5318.5,-253 5318.5,-253 5324.5,-253 5330.5,-259 5330.5,-265 5330.5,-265 5330.5,-339 5330.5,-339 5330.5,-345 5324.5,-351 5318.5,-351\"/>\r\n",
       "<text text-anchor=\"start\" x=\"5211\" y=\"-335.8\" font-family=\"Helvetica,sans-Serif\" font-size=\"14.00\">node #56</text>\r\n",
       "<text text-anchor=\"start\" x=\"5188\" y=\"-320.8\" font-family=\"Helvetica,sans-Serif\" font-size=\"14.00\">amount ≤ 1682.7</text>\r\n",
       "<text text-anchor=\"start\" x=\"5204\" y=\"-305.8\" font-family=\"Helvetica,sans-Serif\" font-size=\"14.00\">gini = 0.459</text>\r\n",
       "<text text-anchor=\"start\" x=\"5190\" y=\"-290.8\" font-family=\"Helvetica,sans-Serif\" font-size=\"14.00\">samples = 7052</text>\r\n",
       "<text text-anchor=\"start\" x=\"5160.5\" y=\"-275.8\" font-family=\"Helvetica,sans-Serif\" font-size=\"14.00\">value = [2520, 0, 0, 4532]</text>\r\n",
       "<text text-anchor=\"start\" x=\"5175\" y=\"-260.8\" font-family=\"Helvetica,sans-Serif\" font-size=\"14.00\">class = Region_Four</text>\r\n",
       "</g>\r\n",
       "<!-- 48&#45;&gt;56 -->\r\n",
       "<g id=\"edge56\" class=\"edge\"><title>48&#45;&gt;56</title>\r\n",
       "<path fill=\"none\" stroke=\"black\" d=\"M4784.05,-411.019C4885.8,-386.994 5041.4,-350.251 5142.3,-326.424\"/>\r\n",
       "<polygon fill=\"black\" stroke=\"black\" points=\"5143.27,-329.792 5152.2,-324.088 5141.66,-322.98 5143.27,-329.792\"/>\r\n",
       "</g>\r\n",
       "<!-- 50 -->\r\n",
       "<g id=\"node51\" class=\"node\"><title>50</title>\r\n",
       "<path fill=\"#fbede3\" stroke=\"black\" d=\"M4666,-217C4666,-217 4487,-217 4487,-217 4481,-217 4475,-211 4475,-205 4475,-205 4475,-131 4475,-131 4475,-125 4481,-119 4487,-119 4487,-119 4666,-119 4666,-119 4672,-119 4678,-125 4678,-131 4678,-131 4678,-205 4678,-205 4678,-211 4672,-217 4666,-217\"/>\r\n",
       "<text text-anchor=\"start\" x=\"4546\" y=\"-201.8\" font-family=\"Helvetica,sans-Serif\" font-size=\"14.00\">node #50</text>\r\n",
       "<text text-anchor=\"start\" x=\"4542.5\" y=\"-186.8\" font-family=\"Helvetica,sans-Serif\" font-size=\"14.00\">age ≤ 23.5</text>\r\n",
       "<text text-anchor=\"start\" x=\"4543\" y=\"-171.8\" font-family=\"Helvetica,sans-Serif\" font-size=\"14.00\">gini = 0.66</text>\r\n",
       "<text text-anchor=\"start\" x=\"4525\" y=\"-156.8\" font-family=\"Helvetica,sans-Serif\" font-size=\"14.00\">samples = 8092</text>\r\n",
       "<text text-anchor=\"start\" x=\"4483\" y=\"-141.8\" font-family=\"Helvetica,sans-Serif\" font-size=\"14.00\">value = [3248, 0, 2452, 2392]</text>\r\n",
       "<text text-anchor=\"start\" x=\"4511.5\" y=\"-126.8\" font-family=\"Helvetica,sans-Serif\" font-size=\"14.00\">class = Region_One</text>\r\n",
       "</g>\r\n",
       "<!-- 49&#45;&gt;50 -->\r\n",
       "<g id=\"edge50\" class=\"edge\"><title>49&#45;&gt;50</title>\r\n",
       "<path fill=\"none\" stroke=\"black\" d=\"M4643.93,-252.972C4636.7,-243.963 4629.08,-234.472 4621.66,-225.24\"/>\r\n",
       "<polygon fill=\"black\" stroke=\"black\" points=\"4624.21,-222.82 4615.22,-217.214 4618.75,-227.203 4624.21,-222.82\"/>\r\n",
       "</g>\r\n",
       "<!-- 53 -->\r\n",
       "<g id=\"node54\" class=\"node\"><title>53</title>\r\n",
       "<path fill=\"#e4f2fb\" stroke=\"black\" d=\"M4870.5,-217C4870.5,-217 4708.5,-217 4708.5,-217 4702.5,-217 4696.5,-211 4696.5,-205 4696.5,-205 4696.5,-131 4696.5,-131 4696.5,-125 4702.5,-119 4708.5,-119 4708.5,-119 4870.5,-119 4870.5,-119 4876.5,-119 4882.5,-125 4882.5,-131 4882.5,-131 4882.5,-205 4882.5,-205 4882.5,-211 4876.5,-217 4870.5,-217\"/>\r\n",
       "<text text-anchor=\"start\" x=\"4759\" y=\"-201.8\" font-family=\"Helvetica,sans-Serif\" font-size=\"14.00\">node #53</text>\r\n",
       "<text text-anchor=\"start\" x=\"4755.5\" y=\"-186.8\" font-family=\"Helvetica,sans-Serif\" font-size=\"14.00\">age ≤ 55.5</text>\r\n",
       "<text text-anchor=\"start\" x=\"4752\" y=\"-171.8\" font-family=\"Helvetica,sans-Serif\" font-size=\"14.00\">gini = 0.508</text>\r\n",
       "<text text-anchor=\"start\" x=\"4738\" y=\"-156.8\" font-family=\"Helvetica,sans-Serif\" font-size=\"14.00\">samples = 2803</text>\r\n",
       "<text text-anchor=\"start\" x=\"4704.5\" y=\"-141.8\" font-family=\"Helvetica,sans-Serif\" font-size=\"14.00\">value = [1282, 0, 1490, 31]</text>\r\n",
       "<text text-anchor=\"start\" x=\"4719\" y=\"-126.8\" font-family=\"Helvetica,sans-Serif\" font-size=\"14.00\">class = Region_Three</text>\r\n",
       "</g>\r\n",
       "<!-- 49&#45;&gt;53 -->\r\n",
       "<g id=\"edge53\" class=\"edge\"><title>49&#45;&gt;53</title>\r\n",
       "<path fill=\"none\" stroke=\"black\" d=\"M4721.43,-252.972C4728.73,-243.963 4736.43,-234.472 4743.91,-225.24\"/>\r\n",
       "<polygon fill=\"black\" stroke=\"black\" points=\"4746.84,-227.186 4750.42,-217.214 4741.4,-222.778 4746.84,-227.186\"/>\r\n",
       "</g>\r\n",
       "<!-- 51 -->\r\n",
       "<g id=\"node52\" class=\"node\"><title>51</title>\r\n",
       "<path fill=\"#eb9bf2\" stroke=\"black\" d=\"M4453,-83C4453,-83 4316,-83 4316,-83 4310,-83 4304,-77 4304,-71 4304,-71 4304,-12 4304,-12 4304,-6 4310,-0 4316,-0 4316,-0 4453,-0 4453,-0 4459,-0 4465,-6 4465,-12 4465,-12 4465,-71 4465,-71 4465,-77 4459,-83 4453,-83\"/>\r\n",
       "<text text-anchor=\"start\" x=\"4354\" y=\"-67.8\" font-family=\"Helvetica,sans-Serif\" font-size=\"14.00\">node #51</text>\r\n",
       "<text text-anchor=\"start\" x=\"4347\" y=\"-52.8\" font-family=\"Helvetica,sans-Serif\" font-size=\"14.00\">gini = 0.443</text>\r\n",
       "<text text-anchor=\"start\" x=\"4337\" y=\"-37.8\" font-family=\"Helvetica,sans-Serif\" font-size=\"14.00\">samples = 426</text>\r\n",
       "<text text-anchor=\"start\" x=\"4312\" y=\"-22.8\" font-family=\"Helvetica,sans-Serif\" font-size=\"14.00\">value = [141, 0, 0, 285]</text>\r\n",
       "<text text-anchor=\"start\" x=\"4318\" y=\"-7.8\" font-family=\"Helvetica,sans-Serif\" font-size=\"14.00\">class = Region_Four</text>\r\n",
       "</g>\r\n",
       "<!-- 50&#45;&gt;51 -->\r\n",
       "<g id=\"edge51\" class=\"edge\"><title>50&#45;&gt;51</title>\r\n",
       "<path fill=\"none\" stroke=\"black\" d=\"M4502.27,-118.865C4487.01,-108.969 4470.97,-98.5715 4455.82,-88.7444\"/>\r\n",
       "<polygon fill=\"black\" stroke=\"black\" points=\"4457.3,-85.5365 4447.01,-83.0325 4453.49,-91.4098 4457.3,-85.5365\"/>\r\n",
       "</g>\r\n",
       "<!-- 52 -->\r\n",
       "<g id=\"node53\" class=\"node\"><title>52</title>\r\n",
       "<path fill=\"#fcefe6\" stroke=\"black\" d=\"M4674,-83C4674,-83 4495,-83 4495,-83 4489,-83 4483,-77 4483,-71 4483,-71 4483,-12 4483,-12 4483,-6 4489,-0 4495,-0 4495,-0 4674,-0 4674,-0 4680,-0 4686,-6 4686,-12 4686,-12 4686,-71 4686,-71 4686,-77 4680,-83 4674,-83\"/>\r\n",
       "<text text-anchor=\"start\" x=\"4554\" y=\"-67.8\" font-family=\"Helvetica,sans-Serif\" font-size=\"14.00\">node #52</text>\r\n",
       "<text text-anchor=\"start\" x=\"4547\" y=\"-52.8\" font-family=\"Helvetica,sans-Serif\" font-size=\"14.00\">gini = 0.658</text>\r\n",
       "<text text-anchor=\"start\" x=\"4533\" y=\"-37.8\" font-family=\"Helvetica,sans-Serif\" font-size=\"14.00\">samples = 7666</text>\r\n",
       "<text text-anchor=\"start\" x=\"4491\" y=\"-22.8\" font-family=\"Helvetica,sans-Serif\" font-size=\"14.00\">value = [3107, 0, 2452, 2107]</text>\r\n",
       "<text text-anchor=\"start\" x=\"4519.5\" y=\"-7.8\" font-family=\"Helvetica,sans-Serif\" font-size=\"14.00\">class = Region_One</text>\r\n",
       "</g>\r\n",
       "<!-- 50&#45;&gt;52 -->\r\n",
       "<g id=\"edge52\" class=\"edge\"><title>50&#45;&gt;52</title>\r\n",
       "<path fill=\"none\" stroke=\"black\" d=\"M4579.59,-118.865C4580.13,-110.498 4580.69,-101.771 4581.23,-93.3346\"/>\r\n",
       "<polygon fill=\"black\" stroke=\"black\" points=\"4584.73,-93.4348 4581.88,-83.231 4577.75,-92.9859 4584.73,-93.4348\"/>\r\n",
       "</g>\r\n",
       "<!-- 54 -->\r\n",
       "<g id=\"node55\" class=\"node\"><title>54</title>\r\n",
       "<path fill=\"#f5fafe\" stroke=\"black\" d=\"M4849,-83C4849,-83 4716,-83 4716,-83 4710,-83 4704,-77 4704,-71 4704,-71 4704,-12 4704,-12 4704,-6 4710,-0 4716,-0 4716,-0 4849,-0 4849,-0 4855,-0 4861,-6 4861,-12 4861,-12 4861,-71 4861,-71 4861,-77 4855,-83 4849,-83\"/>\r\n",
       "<text text-anchor=\"start\" x=\"4752\" y=\"-67.8\" font-family=\"Helvetica,sans-Serif\" font-size=\"14.00\">node #54</text>\r\n",
       "<text text-anchor=\"start\" x=\"4745\" y=\"-52.8\" font-family=\"Helvetica,sans-Serif\" font-size=\"14.00\">gini = 0.616</text>\r\n",
       "<text text-anchor=\"start\" x=\"4735\" y=\"-37.8\" font-family=\"Helvetica,sans-Serif\" font-size=\"14.00\">samples = 205</text>\r\n",
       "<text text-anchor=\"start\" x=\"4714\" y=\"-22.8\" font-family=\"Helvetica,sans-Serif\" font-size=\"14.00\">value = [84, 0, 90, 31]</text>\r\n",
       "<text text-anchor=\"start\" x=\"4712\" y=\"-7.8\" font-family=\"Helvetica,sans-Serif\" font-size=\"14.00\">class = Region_Three</text>\r\n",
       "</g>\r\n",
       "<!-- 53&#45;&gt;54 -->\r\n",
       "<g id=\"edge54\" class=\"edge\"><title>53&#45;&gt;54</title>\r\n",
       "<path fill=\"none\" stroke=\"black\" d=\"M4786.79,-118.865C4786.32,-110.498 4785.83,-101.771 4785.36,-93.3346\"/>\r\n",
       "<polygon fill=\"black\" stroke=\"black\" points=\"4788.85,-93.0187 4784.79,-83.231 4781.86,-93.4117 4788.85,-93.0187\"/>\r\n",
       "</g>\r\n",
       "<!-- 55 -->\r\n",
       "<g id=\"node56\" class=\"node\"><title>55</title>\r\n",
       "<path fill=\"#e2f1fb\" stroke=\"black\" d=\"M5045.5,-83C5045.5,-83 4891.5,-83 4891.5,-83 4885.5,-83 4879.5,-77 4879.5,-71 4879.5,-71 4879.5,-12 4879.5,-12 4879.5,-6 4885.5,-0 4891.5,-0 4891.5,-0 5045.5,-0 5045.5,-0 5051.5,-0 5057.5,-6 5057.5,-12 5057.5,-12 5057.5,-71 5057.5,-71 5057.5,-77 5051.5,-83 5045.5,-83\"/>\r\n",
       "<text text-anchor=\"start\" x=\"4938\" y=\"-67.8\" font-family=\"Helvetica,sans-Serif\" font-size=\"14.00\">node #55</text>\r\n",
       "<text text-anchor=\"start\" x=\"4931\" y=\"-52.8\" font-family=\"Helvetica,sans-Serif\" font-size=\"14.00\">gini = 0.497</text>\r\n",
       "<text text-anchor=\"start\" x=\"4917\" y=\"-37.8\" font-family=\"Helvetica,sans-Serif\" font-size=\"14.00\">samples = 2598</text>\r\n",
       "<text text-anchor=\"start\" x=\"4887.5\" y=\"-22.8\" font-family=\"Helvetica,sans-Serif\" font-size=\"14.00\">value = [1198, 0, 1400, 0]</text>\r\n",
       "<text text-anchor=\"start\" x=\"4898\" y=\"-7.8\" font-family=\"Helvetica,sans-Serif\" font-size=\"14.00\">class = Region_Three</text>\r\n",
       "</g>\r\n",
       "<!-- 53&#45;&gt;55 -->\r\n",
       "<g id=\"edge55\" class=\"edge\"><title>53&#45;&gt;55</title>\r\n",
       "<path fill=\"none\" stroke=\"black\" d=\"M4858.71,-118.865C4872.93,-108.969 4887.88,-98.5715 4902.01,-88.7444\"/>\r\n",
       "<polygon fill=\"black\" stroke=\"black\" points=\"4904.01,-91.6158 4910.22,-83.0325 4900.02,-85.8692 4904.01,-91.6158\"/>\r\n",
       "</g>\r\n",
       "<!-- 57 -->\r\n",
       "<g id=\"node58\" class=\"node\"><title>57</title>\r\n",
       "<path fill=\"#eeacf4\" stroke=\"black\" d=\"M5318.5,-217C5318.5,-217 5164.5,-217 5164.5,-217 5158.5,-217 5152.5,-211 5152.5,-205 5152.5,-205 5152.5,-131 5152.5,-131 5152.5,-125 5158.5,-119 5164.5,-119 5164.5,-119 5318.5,-119 5318.5,-119 5324.5,-119 5330.5,-125 5330.5,-131 5330.5,-131 5330.5,-205 5330.5,-205 5330.5,-211 5324.5,-217 5318.5,-217\"/>\r\n",
       "<text text-anchor=\"start\" x=\"5211\" y=\"-201.8\" font-family=\"Helvetica,sans-Serif\" font-size=\"14.00\">node #57</text>\r\n",
       "<text text-anchor=\"start\" x=\"5184\" y=\"-186.8\" font-family=\"Helvetica,sans-Serif\" font-size=\"14.00\">amount ≤ 1681.75</text>\r\n",
       "<text text-anchor=\"start\" x=\"5204\" y=\"-171.8\" font-family=\"Helvetica,sans-Serif\" font-size=\"14.00\">gini = 0.465</text>\r\n",
       "<text text-anchor=\"start\" x=\"5190\" y=\"-156.8\" font-family=\"Helvetica,sans-Serif\" font-size=\"14.00\">samples = 4768</text>\r\n",
       "<text text-anchor=\"start\" x=\"5160.5\" y=\"-141.8\" font-family=\"Helvetica,sans-Serif\" font-size=\"14.00\">value = [1755, 0, 0, 3013]</text>\r\n",
       "<text text-anchor=\"start\" x=\"5175\" y=\"-126.8\" font-family=\"Helvetica,sans-Serif\" font-size=\"14.00\">class = Region_Four</text>\r\n",
       "</g>\r\n",
       "<!-- 56&#45;&gt;57 -->\r\n",
       "<g id=\"edge57\" class=\"edge\"><title>56&#45;&gt;57</title>\r\n",
       "<path fill=\"none\" stroke=\"black\" d=\"M5241.5,-252.972C5241.5,-244.691 5241.5,-236.003 5241.5,-227.483\"/>\r\n",
       "<polygon fill=\"black\" stroke=\"black\" points=\"5245,-227.214 5241.5,-217.214 5238,-227.214 5245,-227.214\"/>\r\n",
       "</g>\r\n",
       "<!-- 60 -->\r\n",
       "<g id=\"node61\" class=\"node\"><title>60</title>\r\n",
       "<path fill=\"#eb9df2\" stroke=\"black\" d=\"M5583.5,-217C5583.5,-217 5437.5,-217 5437.5,-217 5431.5,-217 5425.5,-211 5425.5,-205 5425.5,-205 5425.5,-131 5425.5,-131 5425.5,-125 5431.5,-119 5437.5,-119 5437.5,-119 5583.5,-119 5583.5,-119 5589.5,-119 5595.5,-125 5595.5,-131 5595.5,-131 5595.5,-205 5595.5,-205 5595.5,-211 5589.5,-217 5583.5,-217\"/>\r\n",
       "<text text-anchor=\"start\" x=\"5480\" y=\"-201.8\" font-family=\"Helvetica,sans-Serif\" font-size=\"14.00\">node #60</text>\r\n",
       "<text text-anchor=\"start\" x=\"5457\" y=\"-186.8\" font-family=\"Helvetica,sans-Serif\" font-size=\"14.00\">amount ≤ 1691.7</text>\r\n",
       "<text text-anchor=\"start\" x=\"5473\" y=\"-171.8\" font-family=\"Helvetica,sans-Serif\" font-size=\"14.00\">gini = 0.446</text>\r\n",
       "<text text-anchor=\"start\" x=\"5459\" y=\"-156.8\" font-family=\"Helvetica,sans-Serif\" font-size=\"14.00\">samples = 2284</text>\r\n",
       "<text text-anchor=\"start\" x=\"5433.5\" y=\"-141.8\" font-family=\"Helvetica,sans-Serif\" font-size=\"14.00\">value = [765, 0, 0, 1519]</text>\r\n",
       "<text text-anchor=\"start\" x=\"5444\" y=\"-126.8\" font-family=\"Helvetica,sans-Serif\" font-size=\"14.00\">class = Region_Four</text>\r\n",
       "</g>\r\n",
       "<!-- 56&#45;&gt;60 -->\r\n",
       "<g id=\"edge60\" class=\"edge\"><title>56&#45;&gt;60</title>\r\n",
       "<path fill=\"none\" stroke=\"black\" d=\"M5330.7,-257.229C5358.04,-243.812 5388.21,-229.006 5415.9,-215.418\"/>\r\n",
       "<polygon fill=\"black\" stroke=\"black\" points=\"5417.76,-218.408 5425.19,-210.861 5414.67,-212.124 5417.76,-218.408\"/>\r\n",
       "</g>\r\n",
       "<!-- 58 -->\r\n",
       "<g id=\"node59\" class=\"node\"><title>58</title>\r\n",
       "<path fill=\"#eeacf4\" stroke=\"black\" d=\"M5241.5,-83C5241.5,-83 5087.5,-83 5087.5,-83 5081.5,-83 5075.5,-77 5075.5,-71 5075.5,-71 5075.5,-12 5075.5,-12 5075.5,-6 5081.5,-0 5087.5,-0 5087.5,-0 5241.5,-0 5241.5,-0 5247.5,-0 5253.5,-6 5253.5,-12 5253.5,-12 5253.5,-71 5253.5,-71 5253.5,-77 5247.5,-83 5241.5,-83\"/>\r\n",
       "<text text-anchor=\"start\" x=\"5134\" y=\"-67.8\" font-family=\"Helvetica,sans-Serif\" font-size=\"14.00\">node #58</text>\r\n",
       "<text text-anchor=\"start\" x=\"5127\" y=\"-52.8\" font-family=\"Helvetica,sans-Serif\" font-size=\"14.00\">gini = 0.465</text>\r\n",
       "<text text-anchor=\"start\" x=\"5113\" y=\"-37.8\" font-family=\"Helvetica,sans-Serif\" font-size=\"14.00\">samples = 4755</text>\r\n",
       "<text text-anchor=\"start\" x=\"5083.5\" y=\"-22.8\" font-family=\"Helvetica,sans-Serif\" font-size=\"14.00\">value = [1745, 0, 0, 3010]</text>\r\n",
       "<text text-anchor=\"start\" x=\"5098\" y=\"-7.8\" font-family=\"Helvetica,sans-Serif\" font-size=\"14.00\">class = Region_Four</text>\r\n",
       "</g>\r\n",
       "<!-- 57&#45;&gt;58 -->\r\n",
       "<g id=\"edge58\" class=\"edge\"><title>57&#45;&gt;58</title>\r\n",
       "<path fill=\"none\" stroke=\"black\" d=\"M5211.73,-118.865C5206.27,-110.038 5200.56,-100.811 5195.08,-91.9467\"/>\r\n",
       "<polygon fill=\"black\" stroke=\"black\" points=\"5197.93,-89.8948 5189.69,-83.231 5191.97,-93.5768 5197.93,-89.8948\"/>\r\n",
       "</g>\r\n",
       "<!-- 59 -->\r\n",
       "<g id=\"node60\" class=\"node\"><title>59</title>\r\n",
       "<path fill=\"#eda774\" stroke=\"black\" d=\"M5405.5,-83C5405.5,-83 5283.5,-83 5283.5,-83 5277.5,-83 5271.5,-77 5271.5,-71 5271.5,-71 5271.5,-12 5271.5,-12 5271.5,-6 5277.5,-0 5283.5,-0 5283.5,-0 5405.5,-0 5405.5,-0 5411.5,-0 5417.5,-6 5417.5,-12 5417.5,-12 5417.5,-71 5417.5,-71 5417.5,-77 5411.5,-83 5405.5,-83\"/>\r\n",
       "<text text-anchor=\"start\" x=\"5314\" y=\"-67.8\" font-family=\"Helvetica,sans-Serif\" font-size=\"14.00\">node #59</text>\r\n",
       "<text text-anchor=\"start\" x=\"5307\" y=\"-52.8\" font-family=\"Helvetica,sans-Serif\" font-size=\"14.00\">gini = 0.355</text>\r\n",
       "<text text-anchor=\"start\" x=\"5301\" y=\"-37.8\" font-family=\"Helvetica,sans-Serif\" font-size=\"14.00\">samples = 13</text>\r\n",
       "<text text-anchor=\"start\" x=\"5284\" y=\"-22.8\" font-family=\"Helvetica,sans-Serif\" font-size=\"14.00\">value = [10, 0, 0, 3]</text>\r\n",
       "<text text-anchor=\"start\" x=\"5279.5\" y=\"-7.8\" font-family=\"Helvetica,sans-Serif\" font-size=\"14.00\">class = Region_One</text>\r\n",
       "</g>\r\n",
       "<!-- 57&#45;&gt;59 -->\r\n",
       "<g id=\"edge59\" class=\"edge\"><title>57&#45;&gt;59</title>\r\n",
       "<path fill=\"none\" stroke=\"black\" d=\"M5281.32,-118.865C5288.85,-109.762 5296.74,-100.234 5304.28,-91.1167\"/>\r\n",
       "<polygon fill=\"black\" stroke=\"black\" points=\"5307.13,-93.167 5310.8,-83.231 5301.73,-88.7049 5307.13,-93.167\"/>\r\n",
       "</g>\r\n",
       "<!-- 61 -->\r\n",
       "<g id=\"node62\" class=\"node\"><title>61</title>\r\n",
       "<path fill=\"#e065eb\" stroke=\"black\" d=\"M5573,-83C5573,-83 5448,-83 5448,-83 5442,-83 5436,-77 5436,-71 5436,-71 5436,-12 5436,-12 5436,-6 5442,-0 5448,-0 5448,-0 5573,-0 5573,-0 5579,-0 5585,-6 5585,-12 5585,-12 5585,-71 5585,-71 5585,-77 5579,-83 5573,-83\"/>\r\n",
       "<text text-anchor=\"start\" x=\"5480\" y=\"-67.8\" font-family=\"Helvetica,sans-Serif\" font-size=\"14.00\">node #61</text>\r\n",
       "<text text-anchor=\"start\" x=\"5473\" y=\"-52.8\" font-family=\"Helvetica,sans-Serif\" font-size=\"14.00\">gini = 0.298</text>\r\n",
       "<text text-anchor=\"start\" x=\"5467\" y=\"-37.8\" font-family=\"Helvetica,sans-Serif\" font-size=\"14.00\">samples = 66</text>\r\n",
       "<text text-anchor=\"start\" x=\"5446\" y=\"-22.8\" font-family=\"Helvetica,sans-Serif\" font-size=\"14.00\">value = [12, 0, 0, 54]</text>\r\n",
       "<text text-anchor=\"start\" x=\"5444\" y=\"-7.8\" font-family=\"Helvetica,sans-Serif\" font-size=\"14.00\">class = Region_Four</text>\r\n",
       "</g>\r\n",
       "<!-- 60&#45;&gt;61 -->\r\n",
       "<g id=\"edge61\" class=\"edge\"><title>60&#45;&gt;61</title>\r\n",
       "<path fill=\"none\" stroke=\"black\" d=\"M5510.5,-118.865C5510.5,-110.498 5510.5,-101.771 5510.5,-93.3346\"/>\r\n",
       "<polygon fill=\"black\" stroke=\"black\" points=\"5514,-93.2309 5510.5,-83.231 5507,-93.231 5514,-93.2309\"/>\r\n",
       "</g>\r\n",
       "<!-- 62 -->\r\n",
       "<g id=\"node63\" class=\"node\"><title>62</title>\r\n",
       "<path fill=\"#ec9ff2\" stroke=\"black\" d=\"M5761.5,-83C5761.5,-83 5615.5,-83 5615.5,-83 5609.5,-83 5603.5,-77 5603.5,-71 5603.5,-71 5603.5,-12 5603.5,-12 5603.5,-6 5609.5,-0 5615.5,-0 5615.5,-0 5761.5,-0 5761.5,-0 5767.5,-0 5773.5,-6 5773.5,-12 5773.5,-12 5773.5,-71 5773.5,-71 5773.5,-77 5767.5,-83 5761.5,-83\"/>\r\n",
       "<text text-anchor=\"start\" x=\"5658\" y=\"-67.8\" font-family=\"Helvetica,sans-Serif\" font-size=\"14.00\">node #62</text>\r\n",
       "<text text-anchor=\"start\" x=\"5651\" y=\"-52.8\" font-family=\"Helvetica,sans-Serif\" font-size=\"14.00\">gini = 0.448</text>\r\n",
       "<text text-anchor=\"start\" x=\"5637\" y=\"-37.8\" font-family=\"Helvetica,sans-Serif\" font-size=\"14.00\">samples = 2218</text>\r\n",
       "<text text-anchor=\"start\" x=\"5611.5\" y=\"-22.8\" font-family=\"Helvetica,sans-Serif\" font-size=\"14.00\">value = [753, 0, 0, 1465]</text>\r\n",
       "<text text-anchor=\"start\" x=\"5622\" y=\"-7.8\" font-family=\"Helvetica,sans-Serif\" font-size=\"14.00\">class = Region_Four</text>\r\n",
       "</g>\r\n",
       "<!-- 60&#45;&gt;62 -->\r\n",
       "<g id=\"edge62\" class=\"edge\"><title>60&#45;&gt;62</title>\r\n",
       "<path fill=\"none\" stroke=\"black\" d=\"M5579.32,-118.865C5593.34,-109.062 5608.06,-98.7658 5621.99,-89.0201\"/>\r\n",
       "<polygon fill=\"black\" stroke=\"black\" points=\"5624.36,-91.6321 5630.55,-83.0325 5620.35,-85.896 5624.36,-91.6321\"/>\r\n",
       "</g>\r\n",
       "</g>\r\n",
       "</svg>\r\n"
      ],
      "text/plain": [
       "<graphviz.files.Source at 0x1c390760850>"
      ]
     },
     "execution_count": 489,
     "metadata": {},
     "output_type": "execute_result"
    }
   ],
   "source": [
    "# graph with graphviz and view graph\n",
    "dtcFit1 = tree.export_graphviz(dtc, out_file=None, \n",
    "                  feature_names=X.columns,\n",
    "                  class_names=['Region_One', 'Region_Two', 'Region_Three', 'Region_Four'], \n",
    "                  filled=True, rounded=True,\n",
    "                  special_characters=True,\n",
    "                   rotate=False, node_ids=True)\n",
    "graph = graphviz.Source(dtcFit1)\n",
    "graph"
   ]
  },
  {
   "cell_type": "code",
   "execution_count": null,
   "metadata": {},
   "outputs": [],
   "source": [
    "#Conclusion - Range per decision tree \n",
    "#Region 1 has ages from 23.5 to 55, with a median of 43 (EDA)\n",
    "#Region 2 has ages from 27.5 to 70.5, with a median of 57 (EDA)\n",
    "#Region 3 has ages from 27.5 to 55, with a median of 45 (EDA)\n",
    "#Region 4 has ages from 23.5 to 54.5, with a median of 43 (EDA)"
   ]
  },
  {
   "cell_type": "code",
   "execution_count": null,
   "metadata": {},
   "outputs": [],
   "source": [
    "#Next Section: Build Decision Tree with Age as dependant variable"
   ]
  },
  {
   "cell_type": "code",
   "execution_count": 521,
   "metadata": {
    "scrolled": true
   },
   "outputs": [
    {
     "data": {
      "text/html": [
       "<div>\n",
       "<style scoped>\n",
       "    .dataframe tbody tr th:only-of-type {\n",
       "        vertical-align: middle;\n",
       "    }\n",
       "\n",
       "    .dataframe tbody tr th {\n",
       "        vertical-align: top;\n",
       "    }\n",
       "\n",
       "    .dataframe thead th {\n",
       "        text-align: right;\n",
       "    }\n",
       "</style>\n",
       "<table border=\"1\" class=\"dataframe\">\n",
       "  <thead>\n",
       "    <tr style=\"text-align: right;\">\n",
       "      <th></th>\n",
       "      <th>in-store</th>\n",
       "      <th>items</th>\n",
       "      <th>amount</th>\n",
       "      <th>region</th>\n",
       "      <th>age</th>\n",
       "    </tr>\n",
       "  </thead>\n",
       "  <tbody>\n",
       "    <tr>\n",
       "      <th>0</th>\n",
       "      <td>0</td>\n",
       "      <td>4</td>\n",
       "      <td>281.03</td>\n",
       "      <td>2</td>\n",
       "      <td>37</td>\n",
       "    </tr>\n",
       "    <tr>\n",
       "      <th>1</th>\n",
       "      <td>0</td>\n",
       "      <td>2</td>\n",
       "      <td>219.51</td>\n",
       "      <td>2</td>\n",
       "      <td>35</td>\n",
       "    </tr>\n",
       "    <tr>\n",
       "      <th>2</th>\n",
       "      <td>1</td>\n",
       "      <td>3</td>\n",
       "      <td>1525.70</td>\n",
       "      <td>4</td>\n",
       "      <td>45</td>\n",
       "    </tr>\n",
       "    <tr>\n",
       "      <th>3</th>\n",
       "      <td>1</td>\n",
       "      <td>3</td>\n",
       "      <td>715.25</td>\n",
       "      <td>3</td>\n",
       "      <td>46</td>\n",
       "    </tr>\n",
       "    <tr>\n",
       "      <th>4</th>\n",
       "      <td>1</td>\n",
       "      <td>4</td>\n",
       "      <td>1937.50</td>\n",
       "      <td>1</td>\n",
       "      <td>33</td>\n",
       "    </tr>\n",
       "  </tbody>\n",
       "</table>\n",
       "</div>"
      ],
      "text/plain": [
       "   in-store  items   amount  region  age\n",
       "0         0      4   281.03       2   37\n",
       "1         0      2   219.51       2   35\n",
       "2         1      3  1525.70       4   45\n",
       "3         1      3   715.25       3   46\n",
       "4         1      4  1937.50       1   33"
      ]
     },
     "execution_count": 521,
     "metadata": {},
     "output_type": "execute_result"
    }
   ],
   "source": [
    "# create new dataframe with age in last column\n",
    "column_names = [\"in-store\", \"items\", \"amount\", \"region\", \"age\"]\n",
    "data_age = df.reindex(columns=column_names)\n",
    "data_age.head()"
   ]
  },
  {
   "cell_type": "code",
   "execution_count": 522,
   "metadata": {},
   "outputs": [
    {
     "data": {
      "text/plain": [
       "0    1\n",
       "1    1\n",
       "2    1\n",
       "3    1\n",
       "4    0\n",
       "Name: age, dtype: int64"
      ]
     },
     "execution_count": 522,
     "metadata": {},
     "output_type": "execute_result"
    }
   ],
   "source": [
    "# discretise age variable and view data\n",
    "pd.cut(data_age['age'], bins = 4, labels=False, right=True).head()"
   ]
  },
  {
   "cell_type": "code",
   "execution_count": 523,
   "metadata": {},
   "outputs": [
    {
     "data": {
      "text/html": [
       "<div>\n",
       "<style scoped>\n",
       "    .dataframe tbody tr th:only-of-type {\n",
       "        vertical-align: middle;\n",
       "    }\n",
       "\n",
       "    .dataframe tbody tr th {\n",
       "        vertical-align: top;\n",
       "    }\n",
       "\n",
       "    .dataframe thead th {\n",
       "        text-align: right;\n",
       "    }\n",
       "</style>\n",
       "<table border=\"1\" class=\"dataframe\">\n",
       "  <thead>\n",
       "    <tr style=\"text-align: right;\">\n",
       "      <th></th>\n",
       "      <th>in-store</th>\n",
       "      <th>items</th>\n",
       "      <th>amount</th>\n",
       "      <th>region</th>\n",
       "      <th>age</th>\n",
       "    </tr>\n",
       "  </thead>\n",
       "  <tbody>\n",
       "    <tr>\n",
       "      <th>0</th>\n",
       "      <td>0</td>\n",
       "      <td>4</td>\n",
       "      <td>281.03</td>\n",
       "      <td>2</td>\n",
       "      <td>1</td>\n",
       "    </tr>\n",
       "    <tr>\n",
       "      <th>1</th>\n",
       "      <td>0</td>\n",
       "      <td>2</td>\n",
       "      <td>219.51</td>\n",
       "      <td>2</td>\n",
       "      <td>1</td>\n",
       "    </tr>\n",
       "    <tr>\n",
       "      <th>2</th>\n",
       "      <td>1</td>\n",
       "      <td>3</td>\n",
       "      <td>1525.70</td>\n",
       "      <td>4</td>\n",
       "      <td>1</td>\n",
       "    </tr>\n",
       "    <tr>\n",
       "      <th>3</th>\n",
       "      <td>1</td>\n",
       "      <td>3</td>\n",
       "      <td>715.25</td>\n",
       "      <td>3</td>\n",
       "      <td>1</td>\n",
       "    </tr>\n",
       "    <tr>\n",
       "      <th>4</th>\n",
       "      <td>1</td>\n",
       "      <td>4</td>\n",
       "      <td>1937.50</td>\n",
       "      <td>1</td>\n",
       "      <td>0</td>\n",
       "    </tr>\n",
       "  </tbody>\n",
       "</table>\n",
       "</div>"
      ],
      "text/plain": [
       "   in-store  items   amount  region  age\n",
       "0         0      4   281.03       2    1\n",
       "1         0      2   219.51       2    1\n",
       "2         1      3  1525.70       4    1\n",
       "3         1      3   715.25       3    1\n",
       "4         1      4  1937.50       1    0"
      ]
     },
     "execution_count": 523,
     "metadata": {},
     "output_type": "execute_result"
    }
   ],
   "source": [
    "# replace age variable in dataframe with discretised age, view data\n",
    "data_age['age'] = pd.cut(data_age['age'], bins = 4, labels=False, right=True)\n",
    "data_age.head()"
   ]
  },
  {
   "cell_type": "code",
   "execution_count": 99,
   "metadata": {},
   "outputs": [
    {
     "name": "stdout",
     "output_type": "stream",
     "text": [
      "Summary of feature sample\n"
     ]
    },
    {
     "data": {
      "text/html": [
       "<div>\n",
       "<style scoped>\n",
       "    .dataframe tbody tr th:only-of-type {\n",
       "        vertical-align: middle;\n",
       "    }\n",
       "\n",
       "    .dataframe tbody tr th {\n",
       "        vertical-align: top;\n",
       "    }\n",
       "\n",
       "    .dataframe thead th {\n",
       "        text-align: right;\n",
       "    }\n",
       "</style>\n",
       "<table border=\"1\" class=\"dataframe\">\n",
       "  <thead>\n",
       "    <tr style=\"text-align: right;\">\n",
       "      <th></th>\n",
       "      <th>in-store</th>\n",
       "      <th>items</th>\n",
       "      <th>amount</th>\n",
       "      <th>region</th>\n",
       "    </tr>\n",
       "  </thead>\n",
       "  <tbody>\n",
       "    <tr>\n",
       "      <th>0</th>\n",
       "      <td>0</td>\n",
       "      <td>4</td>\n",
       "      <td>281.03</td>\n",
       "      <td>2</td>\n",
       "    </tr>\n",
       "    <tr>\n",
       "      <th>1</th>\n",
       "      <td>0</td>\n",
       "      <td>2</td>\n",
       "      <td>219.51</td>\n",
       "      <td>2</td>\n",
       "    </tr>\n",
       "    <tr>\n",
       "      <th>2</th>\n",
       "      <td>1</td>\n",
       "      <td>3</td>\n",
       "      <td>1525.70</td>\n",
       "      <td>4</td>\n",
       "    </tr>\n",
       "    <tr>\n",
       "      <th>3</th>\n",
       "      <td>1</td>\n",
       "      <td>3</td>\n",
       "      <td>715.25</td>\n",
       "      <td>3</td>\n",
       "    </tr>\n",
       "    <tr>\n",
       "      <th>4</th>\n",
       "      <td>1</td>\n",
       "      <td>4</td>\n",
       "      <td>1937.50</td>\n",
       "      <td>1</td>\n",
       "    </tr>\n",
       "  </tbody>\n",
       "</table>\n",
       "</div>"
      ],
      "text/plain": [
       "   in-store  items   amount  region\n",
       "0         0      4   281.03       2\n",
       "1         0      2   219.51       2\n",
       "2         1      3  1525.70       4\n",
       "3         1      3   715.25       3\n",
       "4         1      4  1937.50       1"
      ]
     },
     "execution_count": 99,
     "metadata": {},
     "output_type": "execute_result"
    }
   ],
   "source": [
    "#Select features\n",
    "X = data_age.iloc[:,0:4]\n",
    "print('Summary of feature sample')\n",
    "X.head()"
   ]
  },
  {
   "cell_type": "code",
   "execution_count": 100,
   "metadata": {},
   "outputs": [],
   "source": [
    "#dependent variable\n",
    "y = data_age['age']"
   ]
  },
  {
   "cell_type": "code",
   "execution_count": 101,
   "metadata": {},
   "outputs": [],
   "source": [
    "#Train/Test Split\n",
    "X_train, X_test, y_train, y_test = train_test_split(X, y, test_size = .30, \n",
    "                                                random_state = 123)"
   ]
  },
  {
   "cell_type": "code",
   "execution_count": 102,
   "metadata": {},
   "outputs": [],
   "source": [
    "#Modeling (Classification)\n",
    "dtc = DecisionTreeClassifier(max_depth=5)\n",
    "dtcFit2 = dtc.fit(X_train,y_train)"
   ]
  },
  {
   "cell_type": "code",
   "execution_count": 103,
   "metadata": {},
   "outputs": [],
   "source": [
    "#Predictions\n",
    "dtc2pred = dtcFit2.predict(X_test)"
   ]
  },
  {
   "cell_type": "code",
   "execution_count": 104,
   "metadata": {
    "scrolled": true
   },
   "outputs": [
    {
     "name": "stdout",
     "output_type": "stream",
     "text": [
      "              precision    recall  f1-score   support\n",
      "\n",
      "           0       0.36      0.10      0.15      6703\n",
      "           1       0.41      0.66      0.50      8935\n",
      "           2       0.31      0.36      0.33      5929\n",
      "           3       0.28      0.08      0.13      2427\n",
      "\n",
      "    accuracy                           0.37     23994\n",
      "   macro avg       0.34      0.30      0.28     23994\n",
      "weighted avg       0.36      0.37      0.32     23994\n",
      "\n"
     ]
    }
   ],
   "source": [
    "print(classification_report(y_test, dtc2pred))"
   ]
  },
  {
   "cell_type": "code",
   "execution_count": null,
   "metadata": {},
   "outputs": [],
   "source": [
    "#Age is not a good dependent variable based on averages and accuracy"
   ]
  },
  {
   "cell_type": "code",
   "execution_count": 105,
   "metadata": {},
   "outputs": [
    {
     "data": {
      "text/html": [
       "<div>\n",
       "<style scoped>\n",
       "    .dataframe tbody tr th:only-of-type {\n",
       "        vertical-align: middle;\n",
       "    }\n",
       "\n",
       "    .dataframe tbody tr th {\n",
       "        vertical-align: top;\n",
       "    }\n",
       "\n",
       "    .dataframe thead th {\n",
       "        text-align: right;\n",
       "    }\n",
       "</style>\n",
       "<table border=\"1\" class=\"dataframe\">\n",
       "  <thead>\n",
       "    <tr style=\"text-align: right;\">\n",
       "      <th></th>\n",
       "      <th>in-store</th>\n",
       "      <th>items</th>\n",
       "      <th>amount</th>\n",
       "      <th>region</th>\n",
       "      <th>age</th>\n",
       "    </tr>\n",
       "  </thead>\n",
       "  <tbody>\n",
       "    <tr>\n",
       "      <th>0</th>\n",
       "      <td>0</td>\n",
       "      <td>4</td>\n",
       "      <td>281.03</td>\n",
       "      <td>2</td>\n",
       "      <td>37</td>\n",
       "    </tr>\n",
       "    <tr>\n",
       "      <th>1</th>\n",
       "      <td>0</td>\n",
       "      <td>2</td>\n",
       "      <td>219.51</td>\n",
       "      <td>2</td>\n",
       "      <td>35</td>\n",
       "    </tr>\n",
       "    <tr>\n",
       "      <th>2</th>\n",
       "      <td>1</td>\n",
       "      <td>3</td>\n",
       "      <td>1525.70</td>\n",
       "      <td>4</td>\n",
       "      <td>45</td>\n",
       "    </tr>\n",
       "    <tr>\n",
       "      <th>3</th>\n",
       "      <td>1</td>\n",
       "      <td>3</td>\n",
       "      <td>715.25</td>\n",
       "      <td>3</td>\n",
       "      <td>46</td>\n",
       "    </tr>\n",
       "    <tr>\n",
       "      <th>4</th>\n",
       "      <td>1</td>\n",
       "      <td>4</td>\n",
       "      <td>1937.50</td>\n",
       "      <td>1</td>\n",
       "      <td>33</td>\n",
       "    </tr>\n",
       "  </tbody>\n",
       "</table>\n",
       "</div>"
      ],
      "text/plain": [
       "   in-store  items   amount  region  age\n",
       "0         0      4   281.03       2   37\n",
       "1         0      2   219.51       2   35\n",
       "2         1      3  1525.70       4   45\n",
       "3         1      3   715.25       3   46\n",
       "4         1      4  1937.50       1   33"
      ]
     },
     "execution_count": 105,
     "metadata": {},
     "output_type": "execute_result"
    }
   ],
   "source": [
    "# create new dataframe with age in last column\n",
    "column_names = [\"in-store\", \"items\", \"amount\", \"region\", \"age\"]\n",
    "data_age = df.reindex(columns=column_names)\n",
    "data_age.head()"
   ]
  },
  {
   "cell_type": "code",
   "execution_count": 109,
   "metadata": {},
   "outputs": [
    {
     "data": {
      "text/plain": [
       "0    [27.571, 37.143)\n",
       "1    [27.571, 37.143)\n",
       "2    [37.143, 46.714)\n",
       "3    [37.143, 46.714)\n",
       "4    [27.571, 37.143)\n",
       "Name: age, dtype: category\n",
       "Categories (7, interval[float64]): [[18.0, 27.571) < [27.571, 37.143) < [37.143, 46.714) < [46.714, 56.286) < [56.286, 65.857) < [65.857, 75.429) < [75.429, 85.067)]"
      ]
     },
     "execution_count": 109,
     "metadata": {},
     "output_type": "execute_result"
    }
   ],
   "source": [
    "# discretise age variable to 7 bins, and view data with the bin ranges\n",
    "pd.cut(data_age['age'], bins = 7, right=False).head()"
   ]
  },
  {
   "cell_type": "code",
   "execution_count": 110,
   "metadata": {},
   "outputs": [
    {
     "data": {
      "text/plain": [
       "0    1\n",
       "1    1\n",
       "2    2\n",
       "3    2\n",
       "4    1\n",
       "Name: age, dtype: int64"
      ]
     },
     "execution_count": 110,
     "metadata": {},
     "output_type": "execute_result"
    }
   ],
   "source": [
    "# discretise age variable  with 7 bins and view data\n",
    "pd.cut(data_age['age'], bins = 7, labels=False, right=True).head()"
   ]
  },
  {
   "cell_type": "code",
   "execution_count": 111,
   "metadata": {},
   "outputs": [
    {
     "data": {
      "text/html": [
       "<div>\n",
       "<style scoped>\n",
       "    .dataframe tbody tr th:only-of-type {\n",
       "        vertical-align: middle;\n",
       "    }\n",
       "\n",
       "    .dataframe tbody tr th {\n",
       "        vertical-align: top;\n",
       "    }\n",
       "\n",
       "    .dataframe thead th {\n",
       "        text-align: right;\n",
       "    }\n",
       "</style>\n",
       "<table border=\"1\" class=\"dataframe\">\n",
       "  <thead>\n",
       "    <tr style=\"text-align: right;\">\n",
       "      <th></th>\n",
       "      <th>in-store</th>\n",
       "      <th>items</th>\n",
       "      <th>amount</th>\n",
       "      <th>region</th>\n",
       "      <th>age</th>\n",
       "    </tr>\n",
       "  </thead>\n",
       "  <tbody>\n",
       "    <tr>\n",
       "      <th>0</th>\n",
       "      <td>0</td>\n",
       "      <td>4</td>\n",
       "      <td>281.03</td>\n",
       "      <td>2</td>\n",
       "      <td>1</td>\n",
       "    </tr>\n",
       "    <tr>\n",
       "      <th>1</th>\n",
       "      <td>0</td>\n",
       "      <td>2</td>\n",
       "      <td>219.51</td>\n",
       "      <td>2</td>\n",
       "      <td>1</td>\n",
       "    </tr>\n",
       "    <tr>\n",
       "      <th>2</th>\n",
       "      <td>1</td>\n",
       "      <td>3</td>\n",
       "      <td>1525.70</td>\n",
       "      <td>4</td>\n",
       "      <td>2</td>\n",
       "    </tr>\n",
       "    <tr>\n",
       "      <th>3</th>\n",
       "      <td>1</td>\n",
       "      <td>3</td>\n",
       "      <td>715.25</td>\n",
       "      <td>3</td>\n",
       "      <td>2</td>\n",
       "    </tr>\n",
       "    <tr>\n",
       "      <th>4</th>\n",
       "      <td>1</td>\n",
       "      <td>4</td>\n",
       "      <td>1937.50</td>\n",
       "      <td>1</td>\n",
       "      <td>1</td>\n",
       "    </tr>\n",
       "  </tbody>\n",
       "</table>\n",
       "</div>"
      ],
      "text/plain": [
       "   in-store  items   amount  region  age\n",
       "0         0      4   281.03       2    1\n",
       "1         0      2   219.51       2    1\n",
       "2         1      3  1525.70       4    2\n",
       "3         1      3   715.25       3    2\n",
       "4         1      4  1937.50       1    1"
      ]
     },
     "execution_count": 111,
     "metadata": {},
     "output_type": "execute_result"
    }
   ],
   "source": [
    "# replace age variable in dataframe with discretised age, view data\n",
    "data_age['age'] = pd.cut(data_age['age'], bins = 7, labels=False, right=True)\n",
    "data_age.head()"
   ]
  },
  {
   "cell_type": "code",
   "execution_count": 112,
   "metadata": {},
   "outputs": [
    {
     "name": "stdout",
     "output_type": "stream",
     "text": [
      "Summary of feature sample\n"
     ]
    },
    {
     "data": {
      "text/html": [
       "<div>\n",
       "<style scoped>\n",
       "    .dataframe tbody tr th:only-of-type {\n",
       "        vertical-align: middle;\n",
       "    }\n",
       "\n",
       "    .dataframe tbody tr th {\n",
       "        vertical-align: top;\n",
       "    }\n",
       "\n",
       "    .dataframe thead th {\n",
       "        text-align: right;\n",
       "    }\n",
       "</style>\n",
       "<table border=\"1\" class=\"dataframe\">\n",
       "  <thead>\n",
       "    <tr style=\"text-align: right;\">\n",
       "      <th></th>\n",
       "      <th>in-store</th>\n",
       "      <th>items</th>\n",
       "      <th>amount</th>\n",
       "      <th>region</th>\n",
       "    </tr>\n",
       "  </thead>\n",
       "  <tbody>\n",
       "    <tr>\n",
       "      <th>0</th>\n",
       "      <td>0</td>\n",
       "      <td>4</td>\n",
       "      <td>281.03</td>\n",
       "      <td>2</td>\n",
       "    </tr>\n",
       "    <tr>\n",
       "      <th>1</th>\n",
       "      <td>0</td>\n",
       "      <td>2</td>\n",
       "      <td>219.51</td>\n",
       "      <td>2</td>\n",
       "    </tr>\n",
       "    <tr>\n",
       "      <th>2</th>\n",
       "      <td>1</td>\n",
       "      <td>3</td>\n",
       "      <td>1525.70</td>\n",
       "      <td>4</td>\n",
       "    </tr>\n",
       "    <tr>\n",
       "      <th>3</th>\n",
       "      <td>1</td>\n",
       "      <td>3</td>\n",
       "      <td>715.25</td>\n",
       "      <td>3</td>\n",
       "    </tr>\n",
       "    <tr>\n",
       "      <th>4</th>\n",
       "      <td>1</td>\n",
       "      <td>4</td>\n",
       "      <td>1937.50</td>\n",
       "      <td>1</td>\n",
       "    </tr>\n",
       "  </tbody>\n",
       "</table>\n",
       "</div>"
      ],
      "text/plain": [
       "   in-store  items   amount  region\n",
       "0         0      4   281.03       2\n",
       "1         0      2   219.51       2\n",
       "2         1      3  1525.70       4\n",
       "3         1      3   715.25       3\n",
       "4         1      4  1937.50       1"
      ]
     },
     "execution_count": 112,
     "metadata": {},
     "output_type": "execute_result"
    }
   ],
   "source": [
    "#Select features\n",
    "X = data_age.iloc[:,0:4]\n",
    "print('Summary of feature sample')\n",
    "X.head()"
   ]
  },
  {
   "cell_type": "code",
   "execution_count": 113,
   "metadata": {},
   "outputs": [],
   "source": [
    "#dependent variable\n",
    "y = data_age['age']"
   ]
  },
  {
   "cell_type": "code",
   "execution_count": 114,
   "metadata": {},
   "outputs": [],
   "source": [
    "#Train/Test Split\n",
    "X_train, X_test, y_train, y_test = train_test_split(X, y, test_size = .30, \n",
    "                                                random_state = 123)"
   ]
  },
  {
   "cell_type": "code",
   "execution_count": 115,
   "metadata": {},
   "outputs": [],
   "source": [
    "#Modeling (Classification)\n",
    "dtc = DecisionTreeClassifier(max_depth=5)\n",
    "dtcFit3 = dtc.fit(X_train,y_train)"
   ]
  },
  {
   "cell_type": "code",
   "execution_count": 116,
   "metadata": {},
   "outputs": [],
   "source": [
    "#Predictions\n",
    "dtc3pred = dtcFit3.predict(X_test)"
   ]
  },
  {
   "cell_type": "code",
   "execution_count": 117,
   "metadata": {},
   "outputs": [
    {
     "name": "stdout",
     "output_type": "stream",
     "text": [
      "              precision    recall  f1-score   support\n",
      "\n",
      "           0       0.21      0.04      0.07      3105\n",
      "           1       0.24      0.58      0.34      5165\n",
      "           2       0.19      0.03      0.05      4788\n",
      "           3       0.19      0.37      0.25      4962\n",
      "           4       0.25      0.00      0.00      2861\n",
      "           5       0.25      0.00      0.01      2096\n",
      "           6       0.00      0.00      0.00      1017\n",
      "\n",
      "    accuracy                           0.21     23994\n",
      "   macro avg       0.19      0.15      0.10     23994\n",
      "weighted avg       0.21      0.21      0.14     23994\n",
      "\n"
     ]
    },
    {
     "name": "stderr",
     "output_type": "stream",
     "text": [
      "C:\\Users\\enwig\\Anaconda3\\envs\\datascience\\lib\\site-packages\\sklearn\\metrics\\_classification.py:1221: UndefinedMetricWarning: Precision and F-score are ill-defined and being set to 0.0 in labels with no predicted samples. Use `zero_division` parameter to control this behavior.\n",
      "  _warn_prf(average, modifier, msg_start, len(result))\n"
     ]
    }
   ],
   "source": [
    "print(classification_report(y_test, dtc3pred))"
   ]
  },
  {
   "cell_type": "code",
   "execution_count": null,
   "metadata": {},
   "outputs": [],
   "source": [
    "#Age is not a good dependent variable based on avverages and accuracy, performed worse with 7 bins"
   ]
  },
  {
   "cell_type": "code",
   "execution_count": null,
   "metadata": {},
   "outputs": [],
   "source": [
    "#Next Section: Build Decision Tree with Amount as dependant variable"
   ]
  },
  {
   "cell_type": "code",
   "execution_count": 121,
   "metadata": {},
   "outputs": [
    {
     "data": {
      "text/html": [
       "<div>\n",
       "<style scoped>\n",
       "    .dataframe tbody tr th:only-of-type {\n",
       "        vertical-align: middle;\n",
       "    }\n",
       "\n",
       "    .dataframe tbody tr th {\n",
       "        vertical-align: top;\n",
       "    }\n",
       "\n",
       "    .dataframe thead th {\n",
       "        text-align: right;\n",
       "    }\n",
       "</style>\n",
       "<table border=\"1\" class=\"dataframe\">\n",
       "  <thead>\n",
       "    <tr style=\"text-align: right;\">\n",
       "      <th></th>\n",
       "      <th>in-store</th>\n",
       "      <th>items</th>\n",
       "      <th>region</th>\n",
       "      <th>age</th>\n",
       "      <th>amount</th>\n",
       "    </tr>\n",
       "  </thead>\n",
       "  <tbody>\n",
       "    <tr>\n",
       "      <th>0</th>\n",
       "      <td>0</td>\n",
       "      <td>4</td>\n",
       "      <td>2</td>\n",
       "      <td>37</td>\n",
       "      <td>281.03</td>\n",
       "    </tr>\n",
       "    <tr>\n",
       "      <th>1</th>\n",
       "      <td>0</td>\n",
       "      <td>2</td>\n",
       "      <td>2</td>\n",
       "      <td>35</td>\n",
       "      <td>219.51</td>\n",
       "    </tr>\n",
       "    <tr>\n",
       "      <th>2</th>\n",
       "      <td>1</td>\n",
       "      <td>3</td>\n",
       "      <td>4</td>\n",
       "      <td>45</td>\n",
       "      <td>1525.70</td>\n",
       "    </tr>\n",
       "    <tr>\n",
       "      <th>3</th>\n",
       "      <td>1</td>\n",
       "      <td>3</td>\n",
       "      <td>3</td>\n",
       "      <td>46</td>\n",
       "      <td>715.25</td>\n",
       "    </tr>\n",
       "    <tr>\n",
       "      <th>4</th>\n",
       "      <td>1</td>\n",
       "      <td>4</td>\n",
       "      <td>1</td>\n",
       "      <td>33</td>\n",
       "      <td>1937.50</td>\n",
       "    </tr>\n",
       "  </tbody>\n",
       "</table>\n",
       "</div>"
      ],
      "text/plain": [
       "   in-store  items  region  age   amount\n",
       "0         0      4       2   37   281.03\n",
       "1         0      2       2   35   219.51\n",
       "2         1      3       4   45  1525.70\n",
       "3         1      3       3   46   715.25\n",
       "4         1      4       1   33  1937.50"
      ]
     },
     "execution_count": 121,
     "metadata": {},
     "output_type": "execute_result"
    }
   ],
   "source": [
    "# create new dataframe with age in last column\n",
    "column_names = [\"in-store\", \"items\", \"region\", \"age\", \"amount\"]\n",
    "data_amount = df.reindex(columns=column_names)\n",
    "data_amount.head()"
   ]
  },
  {
   "cell_type": "code",
   "execution_count": 122,
   "metadata": {},
   "outputs": [
    {
     "data": {
      "text/plain": [
       "0       [5.005, 1003.336)\n",
       "1       [5.005, 1003.336)\n",
       "2    [1003.336, 2001.668)\n",
       "3       [5.005, 1003.336)\n",
       "4    [1003.336, 2001.668)\n",
       "Name: amount, dtype: category\n",
       "Categories (3, interval[float64]): [[5.005, 1003.336) < [1003.336, 2001.668) < [2001.668, 3002.995)]"
      ]
     },
     "execution_count": 122,
     "metadata": {},
     "output_type": "execute_result"
    }
   ],
   "source": [
    "# discretise amount variable to 3 bins, and view data with the bin ranges\n",
    "pd.cut(data_amount['amount'], bins = 3, right=False).head()"
   ]
  },
  {
   "cell_type": "code",
   "execution_count": 123,
   "metadata": {},
   "outputs": [
    {
     "data": {
      "text/html": [
       "<div>\n",
       "<style scoped>\n",
       "    .dataframe tbody tr th:only-of-type {\n",
       "        vertical-align: middle;\n",
       "    }\n",
       "\n",
       "    .dataframe tbody tr th {\n",
       "        vertical-align: top;\n",
       "    }\n",
       "\n",
       "    .dataframe thead th {\n",
       "        text-align: right;\n",
       "    }\n",
       "</style>\n",
       "<table border=\"1\" class=\"dataframe\">\n",
       "  <thead>\n",
       "    <tr style=\"text-align: right;\">\n",
       "      <th></th>\n",
       "      <th>in-store</th>\n",
       "      <th>items</th>\n",
       "      <th>region</th>\n",
       "      <th>age</th>\n",
       "      <th>amount</th>\n",
       "    </tr>\n",
       "  </thead>\n",
       "  <tbody>\n",
       "    <tr>\n",
       "      <th>0</th>\n",
       "      <td>0</td>\n",
       "      <td>4</td>\n",
       "      <td>2</td>\n",
       "      <td>37</td>\n",
       "      <td>0</td>\n",
       "    </tr>\n",
       "    <tr>\n",
       "      <th>1</th>\n",
       "      <td>0</td>\n",
       "      <td>2</td>\n",
       "      <td>2</td>\n",
       "      <td>35</td>\n",
       "      <td>0</td>\n",
       "    </tr>\n",
       "    <tr>\n",
       "      <th>2</th>\n",
       "      <td>1</td>\n",
       "      <td>3</td>\n",
       "      <td>4</td>\n",
       "      <td>45</td>\n",
       "      <td>1</td>\n",
       "    </tr>\n",
       "    <tr>\n",
       "      <th>3</th>\n",
       "      <td>1</td>\n",
       "      <td>3</td>\n",
       "      <td>3</td>\n",
       "      <td>46</td>\n",
       "      <td>0</td>\n",
       "    </tr>\n",
       "    <tr>\n",
       "      <th>4</th>\n",
       "      <td>1</td>\n",
       "      <td>4</td>\n",
       "      <td>1</td>\n",
       "      <td>33</td>\n",
       "      <td>1</td>\n",
       "    </tr>\n",
       "  </tbody>\n",
       "</table>\n",
       "</div>"
      ],
      "text/plain": [
       "   in-store  items  region  age  amount\n",
       "0         0      4       2   37       0\n",
       "1         0      2       2   35       0\n",
       "2         1      3       4   45       1\n",
       "3         1      3       3   46       0\n",
       "4         1      4       1   33       1"
      ]
     },
     "execution_count": 123,
     "metadata": {},
     "output_type": "execute_result"
    }
   ],
   "source": [
    "# replace amount variable in dataframe with discretised amount, view data\n",
    "data_amount['amount'] = pd.cut(data_amount['amount'], bins = 3, labels=False, right=True)\n",
    "data_amount.head()"
   ]
  },
  {
   "cell_type": "code",
   "execution_count": 124,
   "metadata": {},
   "outputs": [
    {
     "name": "stdout",
     "output_type": "stream",
     "text": [
      "Summary of feature sample\n"
     ]
    },
    {
     "data": {
      "text/html": [
       "<div>\n",
       "<style scoped>\n",
       "    .dataframe tbody tr th:only-of-type {\n",
       "        vertical-align: middle;\n",
       "    }\n",
       "\n",
       "    .dataframe tbody tr th {\n",
       "        vertical-align: top;\n",
       "    }\n",
       "\n",
       "    .dataframe thead th {\n",
       "        text-align: right;\n",
       "    }\n",
       "</style>\n",
       "<table border=\"1\" class=\"dataframe\">\n",
       "  <thead>\n",
       "    <tr style=\"text-align: right;\">\n",
       "      <th></th>\n",
       "      <th>in-store</th>\n",
       "      <th>items</th>\n",
       "      <th>region</th>\n",
       "      <th>age</th>\n",
       "    </tr>\n",
       "  </thead>\n",
       "  <tbody>\n",
       "    <tr>\n",
       "      <th>0</th>\n",
       "      <td>0</td>\n",
       "      <td>4</td>\n",
       "      <td>2</td>\n",
       "      <td>37</td>\n",
       "    </tr>\n",
       "    <tr>\n",
       "      <th>1</th>\n",
       "      <td>0</td>\n",
       "      <td>2</td>\n",
       "      <td>2</td>\n",
       "      <td>35</td>\n",
       "    </tr>\n",
       "    <tr>\n",
       "      <th>2</th>\n",
       "      <td>1</td>\n",
       "      <td>3</td>\n",
       "      <td>4</td>\n",
       "      <td>45</td>\n",
       "    </tr>\n",
       "    <tr>\n",
       "      <th>3</th>\n",
       "      <td>1</td>\n",
       "      <td>3</td>\n",
       "      <td>3</td>\n",
       "      <td>46</td>\n",
       "    </tr>\n",
       "    <tr>\n",
       "      <th>4</th>\n",
       "      <td>1</td>\n",
       "      <td>4</td>\n",
       "      <td>1</td>\n",
       "      <td>33</td>\n",
       "    </tr>\n",
       "  </tbody>\n",
       "</table>\n",
       "</div>"
      ],
      "text/plain": [
       "   in-store  items  region  age\n",
       "0         0      4       2   37\n",
       "1         0      2       2   35\n",
       "2         1      3       4   45\n",
       "3         1      3       3   46\n",
       "4         1      4       1   33"
      ]
     },
     "execution_count": 124,
     "metadata": {},
     "output_type": "execute_result"
    }
   ],
   "source": [
    "#Select features\n",
    "X = data_amount.iloc[:,0:4]\n",
    "print('Summary of feature sample')\n",
    "X.head()"
   ]
  },
  {
   "cell_type": "code",
   "execution_count": 125,
   "metadata": {},
   "outputs": [],
   "source": [
    "#Predictions\n",
    "dtc4pred = dtcFit4.predict(X_test)"
   ]
  },
  {
   "cell_type": "code",
   "execution_count": 126,
   "metadata": {},
   "outputs": [],
   "source": [
    "#Train/Test Split\n",
    "X_train, X_test, y_train, y_test = train_test_split(X, y, test_size = .30, \n",
    "                                                random_state = 123)"
   ]
  },
  {
   "cell_type": "code",
   "execution_count": 127,
   "metadata": {},
   "outputs": [],
   "source": [
    "#Modeling (Classification)\n",
    "dtc = DecisionTreeClassifier(max_depth=5)\n",
    "dtcFit4 = dtc.fit(X_train,y_train)"
   ]
  },
  {
   "cell_type": "code",
   "execution_count": 128,
   "metadata": {},
   "outputs": [],
   "source": [
    "#Predictions\n",
    "dtc4pred = dtcFit4.predict(X_test)"
   ]
  },
  {
   "cell_type": "code",
   "execution_count": 129,
   "metadata": {},
   "outputs": [
    {
     "name": "stdout",
     "output_type": "stream",
     "text": [
      "              precision    recall  f1-score   support\n",
      "\n",
      "           0       0.91      0.80      0.85     16840\n",
      "           1       0.41      0.72      0.52      5147\n",
      "           2       0.35      0.05      0.09      2007\n",
      "\n",
      "    accuracy                           0.72     23994\n",
      "   macro avg       0.56      0.52      0.49     23994\n",
      "weighted avg       0.76      0.72      0.72     23994\n",
      "\n"
     ]
    }
   ],
   "source": [
    "print(classification_report(y_test, dtc4pred))"
   ]
  },
  {
   "cell_type": "code",
   "execution_count": null,
   "metadata": {},
   "outputs": [],
   "source": [
    "#Amount with 3 bins had better accuracy and averages than Region as dependent variable"
   ]
  },
  {
   "cell_type": "code",
   "execution_count": 130,
   "metadata": {},
   "outputs": [
    {
     "data": {
      "text/plain": [
       "<sklearn.metrics._plot.confusion_matrix.ConfusionMatrixDisplay at 0x1c3e349f3a0>"
      ]
     },
     "execution_count": 130,
     "metadata": {},
     "output_type": "execute_result"
    },
    {
     "data": {
      "image/png": "[encoded data removed]",
      "text/plain": [
       "<Figure size 432x288 with 2 Axes>"
      ]
     },
     "metadata": {
      "needs_background": "light"
     },
     "output_type": "display_data"
    }
   ],
   "source": [
    "# plot_confusion matrix() will run test data down the tree and draw a confusion matrix\n",
    "plot_confusion_matrix(dtcFit4, X_test, y_test, display_labels=['Amt1', 'Amt2', 'Amt3'])"
   ]
  },
  {
   "cell_type": "code",
   "execution_count": 131,
   "metadata": {},
   "outputs": [
    {
     "data": {
      "image/svg+xml": [
       "<?xml version=\"1.0\" encoding=\"UTF-8\" standalone=\"no\"?>\r\n",
       "<!DOCTYPE svg PUBLIC \"-//W3C//DTD SVG 1.1//EN\"\r\n",
       " \"http://www.w3.org/Graphics/SVG/1.1/DTD/svg11.dtd\">\r\n",
       "<!-- Generated by graphviz version 2.38.0 (20140413.2041)\r\n",
       " -->\r\n",
       "<!-- Title: Tree Pages: 1 -->\r\n",
       "<svg width=\"3586pt\" height=\"671pt\"\r\n",
       " viewBox=\"0.00 0.00 3586.00 671.00\" xmlns=\"http://www.w3.org/2000/svg\" xmlns:xlink=\"http://www.w3.org/1999/xlink\">\r\n",
       "<g id=\"graph0\" class=\"graph\" transform=\"scale(1 1) rotate(0) translate(4 667)\">\r\n",
       "<title>Tree</title>\r\n",
       "<polygon fill=\"white\" stroke=\"none\" points=\"-4,4 -4,-667 3582,-667 3582,4 -4,4\"/>\r\n",
       "<!-- 0 -->\r\n",
       "<g id=\"node1\" class=\"node\"><title>0</title>\r\n",
       "<path fill=\"#efb185\" stroke=\"black\" d=\"M1652,-663C1652,-663 1473,-663 1473,-663 1467,-663 1461,-657 1461,-651 1461,-651 1461,-592 1461,-592 1461,-586 1467,-580 1473,-580 1473,-580 1652,-580 1652,-580 1658,-580 1664,-586 1664,-592 1664,-592 1664,-651 1664,-651 1664,-657 1658,-663 1652,-663\"/>\r\n",
       "<text text-anchor=\"start\" x=\"1524.5\" y=\"-647.8\" font-family=\"Helvetica,sans-Serif\" font-size=\"14.00\">region ≤ 3.5</text>\r\n",
       "<text text-anchor=\"start\" x=\"1525\" y=\"-632.8\" font-family=\"Helvetica,sans-Serif\" font-size=\"14.00\">gini = 0.457</text>\r\n",
       "<text text-anchor=\"start\" x=\"1506.5\" y=\"-617.8\" font-family=\"Helvetica,sans-Serif\" font-size=\"14.00\">samples = 55985</text>\r\n",
       "<text text-anchor=\"start\" x=\"1469\" y=\"-602.8\" font-family=\"Helvetica,sans-Serif\" font-size=\"14.00\">value = [39182, 12074, 4729]</text>\r\n",
       "<text text-anchor=\"start\" x=\"1521\" y=\"-587.8\" font-family=\"Helvetica,sans-Serif\" font-size=\"14.00\">class = Amt1</text>\r\n",
       "</g>\r\n",
       "<!-- 1 -->\r\n",
       "<g id=\"node2\" class=\"node\"><title>1</title>\r\n",
       "<path fill=\"#ea975c\" stroke=\"black\" d=\"M1326,-544C1326,-544 1155,-544 1155,-544 1149,-544 1143,-538 1143,-532 1143,-532 1143,-473 1143,-473 1143,-467 1149,-461 1155,-461 1155,-461 1326,-461 1326,-461 1332,-461 1338,-467 1338,-473 1338,-473 1338,-532 1338,-532 1338,-538 1332,-544 1326,-544\"/>\r\n",
       "<text text-anchor=\"start\" x=\"1206.5\" y=\"-528.8\" font-family=\"Helvetica,sans-Serif\" font-size=\"14.00\">age ≤ 55.5</text>\r\n",
       "<text text-anchor=\"start\" x=\"1203\" y=\"-513.8\" font-family=\"Helvetica,sans-Serif\" font-size=\"14.00\">gini = 0.275</text>\r\n",
       "<text text-anchor=\"start\" x=\"1184.5\" y=\"-498.8\" font-family=\"Helvetica,sans-Serif\" font-size=\"14.00\">samples = 37783</text>\r\n",
       "<text text-anchor=\"start\" x=\"1151\" y=\"-483.8\" font-family=\"Helvetica,sans-Serif\" font-size=\"14.00\">value = [31836, 4280, 1667]</text>\r\n",
       "<text text-anchor=\"start\" x=\"1199\" y=\"-468.8\" font-family=\"Helvetica,sans-Serif\" font-size=\"14.00\">class = Amt1</text>\r\n",
       "</g>\r\n",
       "<!-- 0&#45;&gt;1 -->\r\n",
       "<g id=\"edge1\" class=\"edge\"><title>0&#45;&gt;1</title>\r\n",
       "<path fill=\"none\" stroke=\"black\" d=\"M1460.62,-583.48C1424.68,-570.421 1384.17,-555.703 1347.79,-542.486\"/>\r\n",
       "<polygon fill=\"black\" stroke=\"black\" points=\"1348.74,-539.107 1338.15,-538.981 1346.35,-545.686 1348.74,-539.107\"/>\r\n",
       "<text text-anchor=\"middle\" x=\"1348.73\" y=\"-557.933\" font-family=\"Helvetica,sans-Serif\" font-size=\"14.00\">True</text>\r\n",
       "</g>\r\n",
       "<!-- 22 -->\r\n",
       "<g id=\"node23\" class=\"node\"><title>22</title>\r\n",
       "<path fill=\"#f7fefa\" stroke=\"black\" d=\"M1967,-544C1967,-544 1804,-544 1804,-544 1798,-544 1792,-538 1792,-532 1792,-532 1792,-473 1792,-473 1792,-467 1798,-461 1804,-461 1804,-461 1967,-461 1967,-461 1973,-461 1979,-467 1979,-473 1979,-473 1979,-532 1979,-532 1979,-538 1973,-544 1967,-544\"/>\r\n",
       "<text text-anchor=\"start\" x=\"1844\" y=\"-528.8\" font-family=\"Helvetica,sans-Serif\" font-size=\"14.00\">in&#45;store ≤ 0.5</text>\r\n",
       "<text text-anchor=\"start\" x=\"1848\" y=\"-513.8\" font-family=\"Helvetica,sans-Serif\" font-size=\"14.00\">gini = 0.625</text>\r\n",
       "<text text-anchor=\"start\" x=\"1829.5\" y=\"-498.8\" font-family=\"Helvetica,sans-Serif\" font-size=\"14.00\">samples = 18202</text>\r\n",
       "<text text-anchor=\"start\" x=\"1800\" y=\"-483.8\" font-family=\"Helvetica,sans-Serif\" font-size=\"14.00\">value = [7346, 7794, 3062]</text>\r\n",
       "<text text-anchor=\"start\" x=\"1844\" y=\"-468.8\" font-family=\"Helvetica,sans-Serif\" font-size=\"14.00\">class = Amt2</text>\r\n",
       "</g>\r\n",
       "<!-- 0&#45;&gt;22 -->\r\n",
       "<g id=\"edge22\" class=\"edge\"><title>0&#45;&gt;22</title>\r\n",
       "<path fill=\"none\" stroke=\"black\" d=\"M1664.26,-583.641C1701.93,-569.994 1744.65,-554.519 1782.44,-540.831\"/>\r\n",
       "<polygon fill=\"black\" stroke=\"black\" points=\"1783.73,-544.088 1791.94,-537.391 1781.34,-537.506 1783.73,-544.088\"/>\r\n",
       "<text text-anchor=\"middle\" x=\"1781.34\" y=\"-556.333\" font-family=\"Helvetica,sans-Serif\" font-size=\"14.00\">False</text>\r\n",
       "</g>\r\n",
       "<!-- 2 -->\r\n",
       "<g id=\"node3\" class=\"node\"><title>2</title>\r\n",
       "<path fill=\"#eca26d\" stroke=\"black\" d=\"M880,-425C880,-425 709,-425 709,-425 703,-425 697,-419 697,-413 697,-413 697,-354 697,-354 697,-348 703,-342 709,-342 709,-342 880,-342 880,-342 886,-342 892,-348 892,-354 892,-354 892,-413 892,-413 892,-419 886,-425 880,-425\"/>\r\n",
       "<text text-anchor=\"start\" x=\"756.5\" y=\"-409.8\" font-family=\"Helvetica,sans-Serif\" font-size=\"14.00\">region ≤ 1.5</text>\r\n",
       "<text text-anchor=\"start\" x=\"761\" y=\"-394.8\" font-family=\"Helvetica,sans-Serif\" font-size=\"14.00\">gini = 0.36</text>\r\n",
       "<text text-anchor=\"start\" x=\"738.5\" y=\"-379.8\" font-family=\"Helvetica,sans-Serif\" font-size=\"14.00\">samples = 24628</text>\r\n",
       "<text text-anchor=\"start\" x=\"705\" y=\"-364.8\" font-family=\"Helvetica,sans-Serif\" font-size=\"14.00\">value = [19246, 3982, 1400]</text>\r\n",
       "<text text-anchor=\"start\" x=\"753\" y=\"-349.8\" font-family=\"Helvetica,sans-Serif\" font-size=\"14.00\">class = Amt1</text>\r\n",
       "</g>\r\n",
       "<!-- 1&#45;&gt;2 -->\r\n",
       "<g id=\"edge2\" class=\"edge\"><title>1&#45;&gt;2</title>\r\n",
       "<path fill=\"none\" stroke=\"black\" d=\"M1142.9,-475.896C1071.75,-457.231 975.361,-431.946 902.005,-412.702\"/>\r\n",
       "<polygon fill=\"black\" stroke=\"black\" points=\"902.829,-409.3 892.268,-410.148 901.052,-416.071 902.829,-409.3\"/>\r\n",
       "</g>\r\n",
       "<!-- 15 -->\r\n",
       "<g id=\"node16\" class=\"node\"><title>15</title>\r\n",
       "<path fill=\"#e68742\" stroke=\"black\" d=\"M1318,-425C1318,-425 1163,-425 1163,-425 1157,-425 1151,-419 1151,-413 1151,-413 1151,-354 1151,-354 1151,-348 1157,-342 1163,-342 1163,-342 1318,-342 1318,-342 1324,-342 1330,-348 1330,-354 1330,-354 1330,-413 1330,-413 1330,-419 1324,-425 1318,-425\"/>\r\n",
       "<text text-anchor=\"start\" x=\"1202.5\" y=\"-409.8\" font-family=\"Helvetica,sans-Serif\" font-size=\"14.00\">region ≤ 2.5</text>\r\n",
       "<text text-anchor=\"start\" x=\"1203\" y=\"-394.8\" font-family=\"Helvetica,sans-Serif\" font-size=\"14.00\">gini = 0.083</text>\r\n",
       "<text text-anchor=\"start\" x=\"1184.5\" y=\"-379.8\" font-family=\"Helvetica,sans-Serif\" font-size=\"14.00\">samples = 13155</text>\r\n",
       "<text text-anchor=\"start\" x=\"1159\" y=\"-364.8\" font-family=\"Helvetica,sans-Serif\" font-size=\"14.00\">value = [12590, 298, 267]</text>\r\n",
       "<text text-anchor=\"start\" x=\"1199\" y=\"-349.8\" font-family=\"Helvetica,sans-Serif\" font-size=\"14.00\">class = Amt1</text>\r\n",
       "</g>\r\n",
       "<!-- 1&#45;&gt;15 -->\r\n",
       "<g id=\"edge15\" class=\"edge\"><title>1&#45;&gt;15</title>\r\n",
       "<path fill=\"none\" stroke=\"black\" d=\"M1240.5,-460.907C1240.5,-452.649 1240.5,-443.864 1240.5,-435.302\"/>\r\n",
       "<polygon fill=\"black\" stroke=\"black\" points=\"1244,-435.021 1240.5,-425.021 1237,-435.021 1244,-435.021\"/>\r\n",
       "</g>\r\n",
       "<!-- 3 -->\r\n",
       "<g id=\"node4\" class=\"node\"><title>3</title>\r\n",
       "<path fill=\"#efb488\" stroke=\"black\" d=\"M547.5,-306C547.5,-306 409.5,-306 409.5,-306 403.5,-306 397.5,-300 397.5,-294 397.5,-294 397.5,-235 397.5,-235 397.5,-229 403.5,-223 409.5,-223 409.5,-223 547.5,-223 547.5,-223 553.5,-223 559.5,-229 559.5,-235 559.5,-235 559.5,-294 559.5,-294 559.5,-300 553.5,-306 547.5,-306\"/>\r\n",
       "<text text-anchor=\"start\" x=\"444.5\" y=\"-290.8\" font-family=\"Helvetica,sans-Serif\" font-size=\"14.00\">age ≤ 23.5</text>\r\n",
       "<text text-anchor=\"start\" x=\"441\" y=\"-275.8\" font-family=\"Helvetica,sans-Serif\" font-size=\"14.00\">gini = 0.409</text>\r\n",
       "<text text-anchor=\"start\" x=\"427\" y=\"-260.8\" font-family=\"Helvetica,sans-Serif\" font-size=\"14.00\">samples = 8892</text>\r\n",
       "<text text-anchor=\"start\" x=\"405.5\" y=\"-245.8\" font-family=\"Helvetica,sans-Serif\" font-size=\"14.00\">value = [6347, 2545, 0]</text>\r\n",
       "<text text-anchor=\"start\" x=\"437\" y=\"-230.8\" font-family=\"Helvetica,sans-Serif\" font-size=\"14.00\">class = Amt1</text>\r\n",
       "</g>\r\n",
       "<!-- 2&#45;&gt;3 -->\r\n",
       "<g id=\"edge3\" class=\"edge\"><title>2&#45;&gt;3</title>\r\n",
       "<path fill=\"none\" stroke=\"black\" d=\"M696.68,-346.282C655.986,-331.215 609.031,-313.829 569.129,-299.056\"/>\r\n",
       "<polygon fill=\"black\" stroke=\"black\" points=\"570.269,-295.745 559.675,-295.555 567.838,-302.31 570.269,-295.745\"/>\r\n",
       "</g>\r\n",
       "<!-- 10 -->\r\n",
       "<g id=\"node11\" class=\"node\"><title>10</title>\r\n",
       "<path fill=\"#ea9a60\" stroke=\"black\" d=\"M880,-306C880,-306 709,-306 709,-306 703,-306 697,-300 697,-294 697,-294 697,-235 697,-235 697,-229 703,-223 709,-223 709,-223 880,-223 880,-223 886,-223 892,-229 892,-235 892,-235 892,-294 892,-294 892,-300 886,-306 880,-306\"/>\r\n",
       "<text text-anchor=\"start\" x=\"756.5\" y=\"-290.8\" font-family=\"Helvetica,sans-Serif\" font-size=\"14.00\">region ≤ 2.5</text>\r\n",
       "<text text-anchor=\"start\" x=\"757\" y=\"-275.8\" font-family=\"Helvetica,sans-Serif\" font-size=\"14.00\">gini = 0.312</text>\r\n",
       "<text text-anchor=\"start\" x=\"738.5\" y=\"-260.8\" font-family=\"Helvetica,sans-Serif\" font-size=\"14.00\">samples = 15736</text>\r\n",
       "<text text-anchor=\"start\" x=\"705\" y=\"-245.8\" font-family=\"Helvetica,sans-Serif\" font-size=\"14.00\">value = [12899, 1437, 1400]</text>\r\n",
       "<text text-anchor=\"start\" x=\"753\" y=\"-230.8\" font-family=\"Helvetica,sans-Serif\" font-size=\"14.00\">class = Amt1</text>\r\n",
       "</g>\r\n",
       "<!-- 2&#45;&gt;10 -->\r\n",
       "<g id=\"edge10\" class=\"edge\"><title>2&#45;&gt;10</title>\r\n",
       "<path fill=\"none\" stroke=\"black\" d=\"M794.5,-341.907C794.5,-333.649 794.5,-324.864 794.5,-316.302\"/>\r\n",
       "<polygon fill=\"black\" stroke=\"black\" points=\"798,-316.021 794.5,-306.021 791,-316.021 798,-316.021\"/>\r\n",
       "</g>\r\n",
       "<!-- 4 -->\r\n",
       "<g id=\"node5\" class=\"node\"><title>4</title>\r\n",
       "<path fill=\"#e3fbed\" stroke=\"black\" d=\"M281.5,-187C281.5,-187 159.5,-187 159.5,-187 153.5,-187 147.5,-181 147.5,-175 147.5,-175 147.5,-116 147.5,-116 147.5,-110 153.5,-104 159.5,-104 159.5,-104 281.5,-104 281.5,-104 287.5,-104 293.5,-110 293.5,-116 293.5,-116 293.5,-175 293.5,-175 293.5,-181 287.5,-187 281.5,-187\"/>\r\n",
       "<text text-anchor=\"start\" x=\"186.5\" y=\"-171.8\" font-family=\"Helvetica,sans-Serif\" font-size=\"14.00\">age ≤ 19.5</text>\r\n",
       "<text text-anchor=\"start\" x=\"183\" y=\"-156.8\" font-family=\"Helvetica,sans-Serif\" font-size=\"14.00\">gini = 0.497</text>\r\n",
       "<text text-anchor=\"start\" x=\"173\" y=\"-141.8\" font-family=\"Helvetica,sans-Serif\" font-size=\"14.00\">samples = 558</text>\r\n",
       "<text text-anchor=\"start\" x=\"155.5\" y=\"-126.8\" font-family=\"Helvetica,sans-Serif\" font-size=\"14.00\">value = [258, 300, 0]</text>\r\n",
       "<text text-anchor=\"start\" x=\"179\" y=\"-111.8\" font-family=\"Helvetica,sans-Serif\" font-size=\"14.00\">class = Amt2</text>\r\n",
       "</g>\r\n",
       "<!-- 3&#45;&gt;4 -->\r\n",
       "<g id=\"edge4\" class=\"edge\"><title>3&#45;&gt;4</title>\r\n",
       "<path fill=\"none\" stroke=\"black\" d=\"M397.221,-226.641C367.103,-212.983 332.945,-197.493 302.742,-183.796\"/>\r\n",
       "<polygon fill=\"black\" stroke=\"black\" points=\"304.058,-180.549 293.505,-179.607 301.167,-186.925 304.058,-180.549\"/>\r\n",
       "</g>\r\n",
       "<!-- 7 -->\r\n",
       "<g id=\"node8\" class=\"node\"><title>7</title>\r\n",
       "<path fill=\"#efaf82\" stroke=\"black\" d=\"M547.5,-187C547.5,-187 409.5,-187 409.5,-187 403.5,-187 397.5,-181 397.5,-175 397.5,-175 397.5,-116 397.5,-116 397.5,-110 403.5,-104 409.5,-104 409.5,-104 547.5,-104 547.5,-104 553.5,-104 559.5,-110 559.5,-116 559.5,-116 559.5,-175 559.5,-175 559.5,-181 553.5,-187 547.5,-187\"/>\r\n",
       "<text text-anchor=\"start\" x=\"444.5\" y=\"-171.8\" font-family=\"Helvetica,sans-Serif\" font-size=\"14.00\">age ≤ 33.5</text>\r\n",
       "<text text-anchor=\"start\" x=\"441\" y=\"-156.8\" font-family=\"Helvetica,sans-Serif\" font-size=\"14.00\">gini = 0.394</text>\r\n",
       "<text text-anchor=\"start\" x=\"427\" y=\"-141.8\" font-family=\"Helvetica,sans-Serif\" font-size=\"14.00\">samples = 8334</text>\r\n",
       "<text text-anchor=\"start\" x=\"405.5\" y=\"-126.8\" font-family=\"Helvetica,sans-Serif\" font-size=\"14.00\">value = [6089, 2245, 0]</text>\r\n",
       "<text text-anchor=\"start\" x=\"437\" y=\"-111.8\" font-family=\"Helvetica,sans-Serif\" font-size=\"14.00\">class = Amt1</text>\r\n",
       "</g>\r\n",
       "<!-- 3&#45;&gt;7 -->\r\n",
       "<g id=\"edge7\" class=\"edge\"><title>3&#45;&gt;7</title>\r\n",
       "<path fill=\"none\" stroke=\"black\" d=\"M478.5,-222.907C478.5,-214.649 478.5,-205.864 478.5,-197.302\"/>\r\n",
       "<polygon fill=\"black\" stroke=\"black\" points=\"482,-197.021 478.5,-187.021 475,-197.021 482,-197.021\"/>\r\n",
       "</g>\r\n",
       "<!-- 5 -->\r\n",
       "<g id=\"node6\" class=\"node\"><title>5</title>\r\n",
       "<path fill=\"#f8ddc9\" stroke=\"black\" d=\"M117,-68C117,-68 12,-68 12,-68 6,-68 0,-62 0,-56 0,-56 0,-12 0,-12 0,-6 6,-0 12,-0 12,-0 117,-0 117,-0 123,-0 129,-6 129,-12 129,-12 129,-56 129,-56 129,-62 123,-68 117,-68\"/>\r\n",
       "<text text-anchor=\"start\" x=\"27\" y=\"-52.8\" font-family=\"Helvetica,sans-Serif\" font-size=\"14.00\">gini = 0.488</text>\r\n",
       "<text text-anchor=\"start\" x=\"21\" y=\"-37.8\" font-family=\"Helvetica,sans-Serif\" font-size=\"14.00\">samples = 64</text>\r\n",
       "<text text-anchor=\"start\" x=\"8\" y=\"-22.8\" font-family=\"Helvetica,sans-Serif\" font-size=\"14.00\">value = [37, 27, 0]</text>\r\n",
       "<text text-anchor=\"start\" x=\"23\" y=\"-7.8\" font-family=\"Helvetica,sans-Serif\" font-size=\"14.00\">class = Amt1</text>\r\n",
       "</g>\r\n",
       "<!-- 4&#45;&gt;5 -->\r\n",
       "<g id=\"edge5\" class=\"edge\"><title>4&#45;&gt;5</title>\r\n",
       "<path fill=\"none\" stroke=\"black\" d=\"M162.411,-103.726C148.638,-94.0582 133.976,-83.767 120.307,-74.172\"/>\r\n",
       "<polygon fill=\"black\" stroke=\"black\" points=\"122.136,-71.1801 111.941,-68.2996 118.115,-76.9096 122.136,-71.1801\"/>\r\n",
       "</g>\r\n",
       "<!-- 6 -->\r\n",
       "<g id=\"node7\" class=\"node\"><title>6</title>\r\n",
       "<path fill=\"#d9fae7\" stroke=\"black\" d=\"M281.5,-68C281.5,-68 159.5,-68 159.5,-68 153.5,-68 147.5,-62 147.5,-56 147.5,-56 147.5,-12 147.5,-12 147.5,-6 153.5,-0 159.5,-0 159.5,-0 281.5,-0 281.5,-0 287.5,-0 293.5,-6 293.5,-12 293.5,-12 293.5,-56 293.5,-56 293.5,-62 287.5,-68 281.5,-68\"/>\r\n",
       "<text text-anchor=\"start\" x=\"183\" y=\"-52.8\" font-family=\"Helvetica,sans-Serif\" font-size=\"14.00\">gini = 0.494</text>\r\n",
       "<text text-anchor=\"start\" x=\"173\" y=\"-37.8\" font-family=\"Helvetica,sans-Serif\" font-size=\"14.00\">samples = 494</text>\r\n",
       "<text text-anchor=\"start\" x=\"155.5\" y=\"-22.8\" font-family=\"Helvetica,sans-Serif\" font-size=\"14.00\">value = [221, 273, 0]</text>\r\n",
       "<text text-anchor=\"start\" x=\"179\" y=\"-7.8\" font-family=\"Helvetica,sans-Serif\" font-size=\"14.00\">class = Amt2</text>\r\n",
       "</g>\r\n",
       "<!-- 4&#45;&gt;6 -->\r\n",
       "<g id=\"edge6\" class=\"edge\"><title>4&#45;&gt;6</title>\r\n",
       "<path fill=\"none\" stroke=\"black\" d=\"M220.5,-103.726C220.5,-95.5175 220.5,-86.8595 220.5,-78.56\"/>\r\n",
       "<polygon fill=\"black\" stroke=\"black\" points=\"224,-78.2996 220.5,-68.2996 217,-78.2996 224,-78.2996\"/>\r\n",
       "</g>\r\n",
       "<!-- 8 -->\r\n",
       "<g id=\"node9\" class=\"node\"><title>8</title>\r\n",
       "<path fill=\"#f0b68d\" stroke=\"black\" d=\"M453.5,-68C453.5,-68 323.5,-68 323.5,-68 317.5,-68 311.5,-62 311.5,-56 311.5,-56 311.5,-12 311.5,-12 311.5,-6 317.5,-0 323.5,-0 323.5,-0 453.5,-0 453.5,-0 459.5,-0 465.5,-6 465.5,-12 465.5,-12 465.5,-56 465.5,-56 465.5,-62 459.5,-68 453.5,-68\"/>\r\n",
       "<text text-anchor=\"start\" x=\"351\" y=\"-52.8\" font-family=\"Helvetica,sans-Serif\" font-size=\"14.00\">gini = 0.418</text>\r\n",
       "<text text-anchor=\"start\" x=\"337\" y=\"-37.8\" font-family=\"Helvetica,sans-Serif\" font-size=\"14.00\">samples = 2583</text>\r\n",
       "<text text-anchor=\"start\" x=\"319.5\" y=\"-22.8\" font-family=\"Helvetica,sans-Serif\" font-size=\"14.00\">value = [1816, 767, 0]</text>\r\n",
       "<text text-anchor=\"start\" x=\"347\" y=\"-7.8\" font-family=\"Helvetica,sans-Serif\" font-size=\"14.00\">class = Amt1</text>\r\n",
       "</g>\r\n",
       "<!-- 7&#45;&gt;8 -->\r\n",
       "<g id=\"edge8\" class=\"edge\"><title>7&#45;&gt;8</title>\r\n",
       "<path fill=\"none\" stroke=\"black\" d=\"M444.987,-103.726C437.566,-94.6966 429.697,-85.1235 422.266,-76.0816\"/>\r\n",
       "<polygon fill=\"black\" stroke=\"black\" points=\"424.923,-73.8026 415.87,-68.2996 419.515,-78.2474 424.923,-73.8026\"/>\r\n",
       "</g>\r\n",
       "<!-- 9 -->\r\n",
       "<g id=\"node10\" class=\"node\"><title>9</title>\r\n",
       "<path fill=\"#eead7d\" stroke=\"black\" d=\"M633.5,-68C633.5,-68 495.5,-68 495.5,-68 489.5,-68 483.5,-62 483.5,-56 483.5,-56 483.5,-12 483.5,-12 483.5,-6 489.5,-0 495.5,-0 495.5,-0 633.5,-0 633.5,-0 639.5,-0 645.5,-6 645.5,-12 645.5,-12 645.5,-56 645.5,-56 645.5,-62 639.5,-68 633.5,-68\"/>\r\n",
       "<text text-anchor=\"start\" x=\"527\" y=\"-52.8\" font-family=\"Helvetica,sans-Serif\" font-size=\"14.00\">gini = 0.382</text>\r\n",
       "<text text-anchor=\"start\" x=\"513\" y=\"-37.8\" font-family=\"Helvetica,sans-Serif\" font-size=\"14.00\">samples = 5751</text>\r\n",
       "<text text-anchor=\"start\" x=\"491.5\" y=\"-22.8\" font-family=\"Helvetica,sans-Serif\" font-size=\"14.00\">value = [4273, 1478, 0]</text>\r\n",
       "<text text-anchor=\"start\" x=\"523\" y=\"-7.8\" font-family=\"Helvetica,sans-Serif\" font-size=\"14.00\">class = Amt1</text>\r\n",
       "</g>\r\n",
       "<!-- 7&#45;&gt;9 -->\r\n",
       "<g id=\"edge9\" class=\"edge\"><title>7&#45;&gt;9</title>\r\n",
       "<path fill=\"none\" stroke=\"black\" d=\"M510.523,-103.726C517.543,-94.7878 524.982,-85.3168 532.02,-76.3558\"/>\r\n",
       "<polygon fill=\"black\" stroke=\"black\" points=\"534.923,-78.3259 538.347,-68.2996 529.418,-74.0022 534.923,-78.3259\"/>\r\n",
       "</g>\r\n",
       "<!-- 11 -->\r\n",
       "<g id=\"node12\" class=\"node\"><title>11</title>\r\n",
       "<path fill=\"#e58139\" stroke=\"black\" d=\"M759,-179.5C759,-179.5 646,-179.5 646,-179.5 640,-179.5 634,-173.5 634,-167.5 634,-167.5 634,-123.5 634,-123.5 634,-117.5 640,-111.5 646,-111.5 646,-111.5 759,-111.5 759,-111.5 765,-111.5 771,-117.5 771,-123.5 771,-123.5 771,-167.5 771,-167.5 771,-173.5 765,-179.5 759,-179.5\"/>\r\n",
       "<text text-anchor=\"start\" x=\"673.5\" y=\"-164.3\" font-family=\"Helvetica,sans-Serif\" font-size=\"14.00\">gini = 0.0</text>\r\n",
       "<text text-anchor=\"start\" x=\"651\" y=\"-149.3\" font-family=\"Helvetica,sans-Serif\" font-size=\"14.00\">samples = 6735</text>\r\n",
       "<text text-anchor=\"start\" x=\"642\" y=\"-134.3\" font-family=\"Helvetica,sans-Serif\" font-size=\"14.00\">value = [6735, 0, 0]</text>\r\n",
       "<text text-anchor=\"start\" x=\"661\" y=\"-119.3\" font-family=\"Helvetica,sans-Serif\" font-size=\"14.00\">class = Amt1</text>\r\n",
       "</g>\r\n",
       "<!-- 10&#45;&gt;11 -->\r\n",
       "<g id=\"edge11\" class=\"edge\"><title>10&#45;&gt;11</title>\r\n",
       "<path fill=\"none\" stroke=\"black\" d=\"M762.581,-222.907C753.644,-211.542 743.922,-199.178 734.955,-187.774\"/>\r\n",
       "<polygon fill=\"black\" stroke=\"black\" points=\"737.513,-185.364 728.58,-179.667 732.01,-189.691 737.513,-185.364\"/>\r\n",
       "</g>\r\n",
       "<!-- 12 -->\r\n",
       "<g id=\"node13\" class=\"node\"><title>12</title>\r\n",
       "<path fill=\"#efb083\" stroke=\"black\" d=\"M964,-187C964,-187 801,-187 801,-187 795,-187 789,-181 789,-175 789,-175 789,-116 789,-116 789,-110 795,-104 801,-104 801,-104 964,-104 964,-104 970,-104 976,-110 976,-116 976,-116 976,-175 976,-175 976,-181 970,-187 964,-187\"/>\r\n",
       "<text text-anchor=\"start\" x=\"841\" y=\"-171.8\" font-family=\"Helvetica,sans-Serif\" font-size=\"14.00\">in&#45;store ≤ 0.5</text>\r\n",
       "<text text-anchor=\"start\" x=\"845\" y=\"-156.8\" font-family=\"Helvetica,sans-Serif\" font-size=\"14.00\">gini = 0.481</text>\r\n",
       "<text text-anchor=\"start\" x=\"831\" y=\"-141.8\" font-family=\"Helvetica,sans-Serif\" font-size=\"14.00\">samples = 9001</text>\r\n",
       "<text text-anchor=\"start\" x=\"797\" y=\"-126.8\" font-family=\"Helvetica,sans-Serif\" font-size=\"14.00\">value = [6164, 1437, 1400]</text>\r\n",
       "<text text-anchor=\"start\" x=\"841\" y=\"-111.8\" font-family=\"Helvetica,sans-Serif\" font-size=\"14.00\">class = Amt1</text>\r\n",
       "</g>\r\n",
       "<!-- 10&#45;&gt;12 -->\r\n",
       "<g id=\"edge12\" class=\"edge\"><title>10&#45;&gt;12</title>\r\n",
       "<path fill=\"none\" stroke=\"black\" d=\"M825.031,-222.907C831.789,-213.923 839.015,-204.315 845.984,-195.05\"/>\r\n",
       "<polygon fill=\"black\" stroke=\"black\" points=\"848.809,-197.116 852.023,-187.021 843.215,-192.909 848.809,-197.116\"/>\r\n",
       "</g>\r\n",
       "<!-- 13 -->\r\n",
       "<g id=\"node14\" class=\"node\"><title>13</title>\r\n",
       "<path fill=\"#fcfffd\" stroke=\"black\" d=\"M839,-68C839,-68 676,-68 676,-68 670,-68 664,-62 664,-56 664,-56 664,-12 664,-12 664,-6 670,-0 676,-0 676,-0 839,-0 839,-0 845,-0 851,-6 851,-12 851,-12 851,-56 851,-56 851,-62 845,-68 839,-68\"/>\r\n",
       "<text text-anchor=\"start\" x=\"720\" y=\"-52.8\" font-family=\"Helvetica,sans-Serif\" font-size=\"14.00\">gini = 0.666</text>\r\n",
       "<text text-anchor=\"start\" x=\"706\" y=\"-37.8\" font-family=\"Helvetica,sans-Serif\" font-size=\"14.00\">samples = 4117</text>\r\n",
       "<text text-anchor=\"start\" x=\"672\" y=\"-22.8\" font-family=\"Helvetica,sans-Serif\" font-size=\"14.00\">value = [1280, 1437, 1400]</text>\r\n",
       "<text text-anchor=\"start\" x=\"716\" y=\"-7.8\" font-family=\"Helvetica,sans-Serif\" font-size=\"14.00\">class = Amt2</text>\r\n",
       "</g>\r\n",
       "<!-- 12&#45;&gt;13 -->\r\n",
       "<g id=\"edge13\" class=\"edge\"><title>12&#45;&gt;13</title>\r\n",
       "<path fill=\"none\" stroke=\"black\" d=\"M835.955,-103.726C825.23,-94.3318 813.834,-84.349 803.149,-74.9883\"/>\r\n",
       "<polygon fill=\"black\" stroke=\"black\" points=\"805.342,-72.2562 795.513,-68.2996 800.729,-77.5217 805.342,-72.2562\"/>\r\n",
       "</g>\r\n",
       "<!-- 14 -->\r\n",
       "<g id=\"node15\" class=\"node\"><title>14</title>\r\n",
       "<path fill=\"#e58139\" stroke=\"black\" d=\"M994,-68C994,-68 881,-68 881,-68 875,-68 869,-62 869,-56 869,-56 869,-12 869,-12 869,-6 875,-0 881,-0 881,-0 994,-0 994,-0 1000,-0 1006,-6 1006,-12 1006,-12 1006,-56 1006,-56 1006,-62 1000,-68 994,-68\"/>\r\n",
       "<text text-anchor=\"start\" x=\"908.5\" y=\"-52.8\" font-family=\"Helvetica,sans-Serif\" font-size=\"14.00\">gini = 0.0</text>\r\n",
       "<text text-anchor=\"start\" x=\"886\" y=\"-37.8\" font-family=\"Helvetica,sans-Serif\" font-size=\"14.00\">samples = 4884</text>\r\n",
       "<text text-anchor=\"start\" x=\"877\" y=\"-22.8\" font-family=\"Helvetica,sans-Serif\" font-size=\"14.00\">value = [4884, 0, 0]</text>\r\n",
       "<text text-anchor=\"start\" x=\"896\" y=\"-7.8\" font-family=\"Helvetica,sans-Serif\" font-size=\"14.00\">class = Amt1</text>\r\n",
       "</g>\r\n",
       "<!-- 12&#45;&gt;14 -->\r\n",
       "<g id=\"edge14\" class=\"edge\"><title>12&#45;&gt;14</title>\r\n",
       "<path fill=\"none\" stroke=\"black\" d=\"M902.98,-103.726C907.286,-95.1527 911.839,-86.0891 916.175,-77.4555\"/>\r\n",
       "<polygon fill=\"black\" stroke=\"black\" points=\"919.413,-78.8067 920.774,-68.2996 913.158,-75.6647 919.413,-78.8067\"/>\r\n",
       "</g>\r\n",
       "<!-- 16 -->\r\n",
       "<g id=\"node17\" class=\"node\"><title>16</title>\r\n",
       "<path fill=\"#e58139\" stroke=\"black\" d=\"M1211,-298.5C1211,-298.5 1098,-298.5 1098,-298.5 1092,-298.5 1086,-292.5 1086,-286.5 1086,-286.5 1086,-242.5 1086,-242.5 1086,-236.5 1092,-230.5 1098,-230.5 1098,-230.5 1211,-230.5 1211,-230.5 1217,-230.5 1223,-236.5 1223,-242.5 1223,-242.5 1223,-286.5 1223,-286.5 1223,-292.5 1217,-298.5 1211,-298.5\"/>\r\n",
       "<text text-anchor=\"start\" x=\"1125.5\" y=\"-283.3\" font-family=\"Helvetica,sans-Serif\" font-size=\"14.00\">gini = 0.0</text>\r\n",
       "<text text-anchor=\"start\" x=\"1103\" y=\"-268.3\" font-family=\"Helvetica,sans-Serif\" font-size=\"14.00\">samples = 9547</text>\r\n",
       "<text text-anchor=\"start\" x=\"1094\" y=\"-253.3\" font-family=\"Helvetica,sans-Serif\" font-size=\"14.00\">value = [9547, 0, 0]</text>\r\n",
       "<text text-anchor=\"start\" x=\"1113\" y=\"-238.3\" font-family=\"Helvetica,sans-Serif\" font-size=\"14.00\">class = Amt1</text>\r\n",
       "</g>\r\n",
       "<!-- 15&#45;&gt;16 -->\r\n",
       "<g id=\"edge16\" class=\"edge\"><title>15&#45;&gt;16</title>\r\n",
       "<path fill=\"none\" stroke=\"black\" d=\"M1210.66,-341.907C1202.31,-330.542 1193.22,-318.178 1184.84,-306.774\"/>\r\n",
       "<polygon fill=\"black\" stroke=\"black\" points=\"1187.62,-304.652 1178.88,-298.667 1181.98,-308.797 1187.62,-304.652\"/>\r\n",
       "</g>\r\n",
       "<!-- 17 -->\r\n",
       "<g id=\"node18\" class=\"node\"><title>17</title>\r\n",
       "<path fill=\"#e9975b\" stroke=\"black\" d=\"M1399.5,-306C1399.5,-306 1253.5,-306 1253.5,-306 1247.5,-306 1241.5,-300 1241.5,-294 1241.5,-294 1241.5,-235 1241.5,-235 1241.5,-229 1247.5,-223 1253.5,-223 1253.5,-223 1399.5,-223 1399.5,-223 1405.5,-223 1411.5,-229 1411.5,-235 1411.5,-235 1411.5,-294 1411.5,-294 1411.5,-300 1405.5,-306 1399.5,-306\"/>\r\n",
       "<text text-anchor=\"start\" x=\"1285\" y=\"-290.8\" font-family=\"Helvetica,sans-Serif\" font-size=\"14.00\">in&#45;store ≤ 0.5</text>\r\n",
       "<text text-anchor=\"start\" x=\"1289\" y=\"-275.8\" font-family=\"Helvetica,sans-Serif\" font-size=\"14.00\">gini = 0.276</text>\r\n",
       "<text text-anchor=\"start\" x=\"1275\" y=\"-260.8\" font-family=\"Helvetica,sans-Serif\" font-size=\"14.00\">samples = 3608</text>\r\n",
       "<text text-anchor=\"start\" x=\"1249.5\" y=\"-245.8\" font-family=\"Helvetica,sans-Serif\" font-size=\"14.00\">value = [3043, 298, 267]</text>\r\n",
       "<text text-anchor=\"start\" x=\"1285\" y=\"-230.8\" font-family=\"Helvetica,sans-Serif\" font-size=\"14.00\">class = Amt1</text>\r\n",
       "</g>\r\n",
       "<!-- 15&#45;&gt;17 -->\r\n",
       "<g id=\"edge17\" class=\"edge\"><title>15&#45;&gt;17</title>\r\n",
       "<path fill=\"none\" stroke=\"black\" d=\"M1270.34,-341.907C1276.87,-333.014 1283.86,-323.509 1290.61,-314.331\"/>\r\n",
       "<polygon fill=\"black\" stroke=\"black\" points=\"1293.61,-316.151 1296.72,-306.021 1287.97,-312.005 1293.61,-316.151\"/>\r\n",
       "</g>\r\n",
       "<!-- 18 -->\r\n",
       "<g id=\"node19\" class=\"node\"><title>18</title>\r\n",
       "<path fill=\"#f4fef8\" stroke=\"black\" d=\"M1293.5,-187C1293.5,-187 1155.5,-187 1155.5,-187 1149.5,-187 1143.5,-181 1143.5,-175 1143.5,-175 1143.5,-116 1143.5,-116 1143.5,-110 1149.5,-104 1155.5,-104 1155.5,-104 1293.5,-104 1293.5,-104 1299.5,-104 1305.5,-110 1305.5,-116 1305.5,-116 1305.5,-175 1305.5,-175 1305.5,-181 1299.5,-187 1293.5,-187\"/>\r\n",
       "<text text-anchor=\"start\" x=\"1190.5\" y=\"-171.8\" font-family=\"Helvetica,sans-Serif\" font-size=\"14.00\">age ≤ 58.5</text>\r\n",
       "<text text-anchor=\"start\" x=\"1187\" y=\"-156.8\" font-family=\"Helvetica,sans-Serif\" font-size=\"14.00\">gini = 0.665</text>\r\n",
       "<text text-anchor=\"start\" x=\"1177\" y=\"-141.8\" font-family=\"Helvetica,sans-Serif\" font-size=\"14.00\">samples = 825</text>\r\n",
       "<text text-anchor=\"start\" x=\"1151.5\" y=\"-126.8\" font-family=\"Helvetica,sans-Serif\" font-size=\"14.00\">value = [260, 298, 267]</text>\r\n",
       "<text text-anchor=\"start\" x=\"1183\" y=\"-111.8\" font-family=\"Helvetica,sans-Serif\" font-size=\"14.00\">class = Amt2</text>\r\n",
       "</g>\r\n",
       "<!-- 17&#45;&gt;18 -->\r\n",
       "<g id=\"edge18\" class=\"edge\"><title>17&#45;&gt;18</title>\r\n",
       "<path fill=\"none\" stroke=\"black\" d=\"M1291.11,-222.907C1283.2,-213.832 1274.73,-204.121 1266.58,-194.769\"/>\r\n",
       "<polygon fill=\"black\" stroke=\"black\" points=\"1269.04,-192.259 1259.83,-187.021 1263.76,-196.859 1269.04,-192.259\"/>\r\n",
       "</g>\r\n",
       "<!-- 21 -->\r\n",
       "<g id=\"node22\" class=\"node\"><title>21</title>\r\n",
       "<path fill=\"#e58139\" stroke=\"black\" d=\"M1449,-179.5C1449,-179.5 1336,-179.5 1336,-179.5 1330,-179.5 1324,-173.5 1324,-167.5 1324,-167.5 1324,-123.5 1324,-123.5 1324,-117.5 1330,-111.5 1336,-111.5 1336,-111.5 1449,-111.5 1449,-111.5 1455,-111.5 1461,-117.5 1461,-123.5 1461,-123.5 1461,-167.5 1461,-167.5 1461,-173.5 1455,-179.5 1449,-179.5\"/>\r\n",
       "<text text-anchor=\"start\" x=\"1363.5\" y=\"-164.3\" font-family=\"Helvetica,sans-Serif\" font-size=\"14.00\">gini = 0.0</text>\r\n",
       "<text text-anchor=\"start\" x=\"1341\" y=\"-149.3\" font-family=\"Helvetica,sans-Serif\" font-size=\"14.00\">samples = 2783</text>\r\n",
       "<text text-anchor=\"start\" x=\"1332\" y=\"-134.3\" font-family=\"Helvetica,sans-Serif\" font-size=\"14.00\">value = [2783, 0, 0]</text>\r\n",
       "<text text-anchor=\"start\" x=\"1351\" y=\"-119.3\" font-family=\"Helvetica,sans-Serif\" font-size=\"14.00\">class = Amt1</text>\r\n",
       "</g>\r\n",
       "<!-- 17&#45;&gt;21 -->\r\n",
       "<g id=\"edge21\" class=\"edge\"><title>17&#45;&gt;21</title>\r\n",
       "<path fill=\"none\" stroke=\"black\" d=\"M1349.4,-222.907C1355.69,-211.763 1362.51,-199.658 1368.84,-188.439\"/>\r\n",
       "<polygon fill=\"black\" stroke=\"black\" points=\"1371.93,-190.096 1373.79,-179.667 1365.83,-186.657 1371.93,-190.096\"/>\r\n",
       "</g>\r\n",
       "<!-- 19 -->\r\n",
       "<g id=\"node20\" class=\"node\"><title>19</title>\r\n",
       "<path fill=\"#fcfffd\" stroke=\"black\" d=\"M1174.5,-68C1174.5,-68 1036.5,-68 1036.5,-68 1030.5,-68 1024.5,-62 1024.5,-56 1024.5,-56 1024.5,-12 1024.5,-12 1024.5,-6 1030.5,-0 1036.5,-0 1036.5,-0 1174.5,-0 1174.5,-0 1180.5,-0 1186.5,-6 1186.5,-12 1186.5,-12 1186.5,-56 1186.5,-56 1186.5,-62 1180.5,-68 1174.5,-68\"/>\r\n",
       "<text text-anchor=\"start\" x=\"1068\" y=\"-52.8\" font-family=\"Helvetica,sans-Serif\" font-size=\"14.00\">gini = 0.666</text>\r\n",
       "<text text-anchor=\"start\" x=\"1058\" y=\"-37.8\" font-family=\"Helvetica,sans-Serif\" font-size=\"14.00\">samples = 336</text>\r\n",
       "<text text-anchor=\"start\" x=\"1032.5\" y=\"-22.8\" font-family=\"Helvetica,sans-Serif\" font-size=\"14.00\">value = [114, 117, 105]</text>\r\n",
       "<text text-anchor=\"start\" x=\"1064\" y=\"-7.8\" font-family=\"Helvetica,sans-Serif\" font-size=\"14.00\">class = Amt2</text>\r\n",
       "</g>\r\n",
       "<!-- 18&#45;&gt;19 -->\r\n",
       "<g id=\"edge19\" class=\"edge\"><title>18&#45;&gt;19</title>\r\n",
       "<path fill=\"none\" stroke=\"black\" d=\"M1180.19,-103.726C1170.08,-94.423 1159.34,-84.5428 1149.25,-75.2612\"/>\r\n",
       "<polygon fill=\"black\" stroke=\"black\" points=\"1151.42,-72.4953 1141.69,-68.2996 1146.68,-77.6464 1151.42,-72.4953\"/>\r\n",
       "</g>\r\n",
       "<!-- 20 -->\r\n",
       "<g id=\"node21\" class=\"node\"><title>20</title>\r\n",
       "<path fill=\"#f3fdf8\" stroke=\"black\" d=\"M1354.5,-68C1354.5,-68 1216.5,-68 1216.5,-68 1210.5,-68 1204.5,-62 1204.5,-56 1204.5,-56 1204.5,-12 1204.5,-12 1204.5,-6 1210.5,-0 1216.5,-0 1216.5,-0 1354.5,-0 1354.5,-0 1360.5,-0 1366.5,-6 1366.5,-12 1366.5,-12 1366.5,-56 1366.5,-56 1366.5,-62 1360.5,-68 1354.5,-68\"/>\r\n",
       "<text text-anchor=\"start\" x=\"1248\" y=\"-52.8\" font-family=\"Helvetica,sans-Serif\" font-size=\"14.00\">gini = 0.664</text>\r\n",
       "<text text-anchor=\"start\" x=\"1238\" y=\"-37.8\" font-family=\"Helvetica,sans-Serif\" font-size=\"14.00\">samples = 489</text>\r\n",
       "<text text-anchor=\"start\" x=\"1212.5\" y=\"-22.8\" font-family=\"Helvetica,sans-Serif\" font-size=\"14.00\">value = [146, 181, 162]</text>\r\n",
       "<text text-anchor=\"start\" x=\"1244\" y=\"-7.8\" font-family=\"Helvetica,sans-Serif\" font-size=\"14.00\">class = Amt2</text>\r\n",
       "</g>\r\n",
       "<!-- 18&#45;&gt;20 -->\r\n",
       "<g id=\"edge20\" class=\"edge\"><title>18&#45;&gt;20</title>\r\n",
       "<path fill=\"none\" stroke=\"black\" d=\"M1247.21,-103.726C1252.04,-95.0615 1257.15,-85.8962 1262,-77.1802\"/>\r\n",
       "<polygon fill=\"black\" stroke=\"black\" points=\"1265.14,-78.7389 1266.95,-68.2996 1259.03,-75.3322 1265.14,-78.7389\"/>\r\n",
       "</g>\r\n",
       "<!-- 23 -->\r\n",
       "<g id=\"node24\" class=\"node\"><title>23</title>\r\n",
       "<path fill=\"#fafefc\" stroke=\"black\" d=\"M1967,-425C1967,-425 1804,-425 1804,-425 1798,-425 1792,-419 1792,-413 1792,-413 1792,-354 1792,-354 1792,-348 1798,-342 1804,-342 1804,-342 1967,-342 1967,-342 1973,-342 1979,-348 1979,-354 1979,-354 1979,-413 1979,-413 1979,-419 1973,-425 1967,-425\"/>\r\n",
       "<text text-anchor=\"start\" x=\"1851.5\" y=\"-409.8\" font-family=\"Helvetica,sans-Serif\" font-size=\"14.00\">age ≤ 18.5</text>\r\n",
       "<text text-anchor=\"start\" x=\"1848\" y=\"-394.8\" font-family=\"Helvetica,sans-Serif\" font-size=\"14.00\">gini = 0.666</text>\r\n",
       "<text text-anchor=\"start\" x=\"1834\" y=\"-379.8\" font-family=\"Helvetica,sans-Serif\" font-size=\"14.00\">samples = 9158</text>\r\n",
       "<text text-anchor=\"start\" x=\"1800\" y=\"-364.8\" font-family=\"Helvetica,sans-Serif\" font-size=\"14.00\">value = [2885, 3211, 3062]</text>\r\n",
       "<text text-anchor=\"start\" x=\"1844\" y=\"-349.8\" font-family=\"Helvetica,sans-Serif\" font-size=\"14.00\">class = Amt2</text>\r\n",
       "</g>\r\n",
       "<!-- 22&#45;&gt;23 -->\r\n",
       "<g id=\"edge23\" class=\"edge\"><title>22&#45;&gt;23</title>\r\n",
       "<path fill=\"none\" stroke=\"black\" d=\"M1885.5,-460.907C1885.5,-452.649 1885.5,-443.864 1885.5,-435.302\"/>\r\n",
       "<polygon fill=\"black\" stroke=\"black\" points=\"1889,-435.021 1885.5,-425.021 1882,-435.021 1889,-435.021\"/>\r\n",
       "</g>\r\n",
       "<!-- 38 -->\r\n",
       "<g id=\"node39\" class=\"node\"><title>38</title>\r\n",
       "<path fill=\"#fafefc\" stroke=\"black\" d=\"M3058.5,-425C3058.5,-425 2920.5,-425 2920.5,-425 2914.5,-425 2908.5,-419 2908.5,-413 2908.5,-413 2908.5,-354 2908.5,-354 2908.5,-348 2914.5,-342 2920.5,-342 2920.5,-342 3058.5,-342 3058.5,-342 3064.5,-342 3070.5,-348 3070.5,-354 3070.5,-354 3070.5,-413 3070.5,-413 3070.5,-419 3064.5,-425 3058.5,-425\"/>\r\n",
       "<text text-anchor=\"start\" x=\"2955.5\" y=\"-409.8\" font-family=\"Helvetica,sans-Serif\" font-size=\"14.00\">age ≤ 54.5</text>\r\n",
       "<text text-anchor=\"start\" x=\"2960.5\" y=\"-394.8\" font-family=\"Helvetica,sans-Serif\" font-size=\"14.00\">gini = 0.5</text>\r\n",
       "<text text-anchor=\"start\" x=\"2938\" y=\"-379.8\" font-family=\"Helvetica,sans-Serif\" font-size=\"14.00\">samples = 9044</text>\r\n",
       "<text text-anchor=\"start\" x=\"2916.5\" y=\"-364.8\" font-family=\"Helvetica,sans-Serif\" font-size=\"14.00\">value = [4461, 4583, 0]</text>\r\n",
       "<text text-anchor=\"start\" x=\"2948\" y=\"-349.8\" font-family=\"Helvetica,sans-Serif\" font-size=\"14.00\">class = Amt2</text>\r\n",
       "</g>\r\n",
       "<!-- 22&#45;&gt;38 -->\r\n",
       "<g id=\"edge38\" class=\"edge\"><title>22&#45;&gt;38</title>\r\n",
       "<path fill=\"none\" stroke=\"black\" d=\"M1979.15,-491.575C2188.3,-469.41 2691.23,-416.11 2898.18,-394.178\"/>\r\n",
       "<polygon fill=\"black\" stroke=\"black\" points=\"2898.83,-397.629 2908.4,-393.094 2898.09,-390.668 2898.83,-397.629\"/>\r\n",
       "</g>\r\n",
       "<!-- 24 -->\r\n",
       "<g id=\"node25\" class=\"node\"><title>24</title>\r\n",
       "<path fill=\"#fdf6f0\" stroke=\"black\" d=\"M1827,-306C1827,-306 1714,-306 1714,-306 1708,-306 1702,-300 1702,-294 1702,-294 1702,-235 1702,-235 1702,-229 1708,-223 1714,-223 1714,-223 1827,-223 1827,-223 1833,-223 1839,-229 1839,-235 1839,-235 1839,-294 1839,-294 1839,-300 1833,-306 1827,-306\"/>\r\n",
       "<text text-anchor=\"start\" x=\"1735.5\" y=\"-290.8\" font-family=\"Helvetica,sans-Serif\" font-size=\"14.00\">items ≤ 2.5</text>\r\n",
       "<text text-anchor=\"start\" x=\"1737\" y=\"-275.8\" font-family=\"Helvetica,sans-Serif\" font-size=\"14.00\">gini = 0.64</text>\r\n",
       "<text text-anchor=\"start\" x=\"1723\" y=\"-260.8\" font-family=\"Helvetica,sans-Serif\" font-size=\"14.00\">samples = 109</text>\r\n",
       "<text text-anchor=\"start\" x=\"1710\" y=\"-245.8\" font-family=\"Helvetica,sans-Serif\" font-size=\"14.00\">value = [46, 41, 22]</text>\r\n",
       "<text text-anchor=\"start\" x=\"1729\" y=\"-230.8\" font-family=\"Helvetica,sans-Serif\" font-size=\"14.00\">class = Amt1</text>\r\n",
       "</g>\r\n",
       "<!-- 23&#45;&gt;24 -->\r\n",
       "<g id=\"edge24\" class=\"edge\"><title>23&#45;&gt;24</title>\r\n",
       "<path fill=\"none\" stroke=\"black\" d=\"M1845.6,-341.907C1836.5,-332.651 1826.75,-322.732 1817.39,-313.209\"/>\r\n",
       "<polygon fill=\"black\" stroke=\"black\" points=\"1819.83,-310.699 1810.33,-306.021 1814.84,-315.606 1819.83,-310.699\"/>\r\n",
       "</g>\r\n",
       "<!-- 31 -->\r\n",
       "<g id=\"node32\" class=\"node\"><title>31</title>\r\n",
       "<path fill=\"#fbfefc\" stroke=\"black\" d=\"M2167,-306C2167,-306 2004,-306 2004,-306 1998,-306 1992,-300 1992,-294 1992,-294 1992,-235 1992,-235 1992,-229 1998,-223 2004,-223 2004,-223 2167,-223 2167,-223 2173,-223 2179,-229 2179,-235 2179,-235 2179,-294 2179,-294 2179,-300 2173,-306 2167,-306\"/>\r\n",
       "<text text-anchor=\"start\" x=\"2051.5\" y=\"-290.8\" font-family=\"Helvetica,sans-Serif\" font-size=\"14.00\">age ≤ 30.5</text>\r\n",
       "<text text-anchor=\"start\" x=\"2048\" y=\"-275.8\" font-family=\"Helvetica,sans-Serif\" font-size=\"14.00\">gini = 0.666</text>\r\n",
       "<text text-anchor=\"start\" x=\"2034\" y=\"-260.8\" font-family=\"Helvetica,sans-Serif\" font-size=\"14.00\">samples = 9049</text>\r\n",
       "<text text-anchor=\"start\" x=\"2000\" y=\"-245.8\" font-family=\"Helvetica,sans-Serif\" font-size=\"14.00\">value = [2839, 3170, 3040]</text>\r\n",
       "<text text-anchor=\"start\" x=\"2044\" y=\"-230.8\" font-family=\"Helvetica,sans-Serif\" font-size=\"14.00\">class = Amt2</text>\r\n",
       "</g>\r\n",
       "<!-- 23&#45;&gt;31 -->\r\n",
       "<g id=\"edge31\" class=\"edge\"><title>23&#45;&gt;31</title>\r\n",
       "<path fill=\"none\" stroke=\"black\" d=\"M1954.89,-341.907C1971.8,-332.016 1990,-321.368 2007.29,-311.254\"/>\r\n",
       "<polygon fill=\"black\" stroke=\"black\" points=\"2009.37,-314.091 2016.23,-306.021 2005.83,-308.049 2009.37,-314.091\"/>\r\n",
       "</g>\r\n",
       "<!-- 25 -->\r\n",
       "<g id=\"node26\" class=\"node\"><title>25</title>\r\n",
       "<path fill=\"#f3c3a1\" stroke=\"black\" d=\"M1621,-187C1621,-187 1524,-187 1524,-187 1518,-187 1512,-181 1512,-175 1512,-175 1512,-116 1512,-116 1512,-110 1518,-104 1524,-104 1524,-104 1621,-104 1621,-104 1627,-104 1633,-110 1633,-116 1633,-116 1633,-175 1633,-175 1633,-181 1627,-187 1621,-187\"/>\r\n",
       "<text text-anchor=\"start\" x=\"1537.5\" y=\"-171.8\" font-family=\"Helvetica,sans-Serif\" font-size=\"14.00\">items ≤ 1.5</text>\r\n",
       "<text text-anchor=\"start\" x=\"1535\" y=\"-156.8\" font-family=\"Helvetica,sans-Serif\" font-size=\"14.00\">gini = 0.573</text>\r\n",
       "<text text-anchor=\"start\" x=\"1529\" y=\"-141.8\" font-family=\"Helvetica,sans-Serif\" font-size=\"14.00\">samples = 24</text>\r\n",
       "<text text-anchor=\"start\" x=\"1520\" y=\"-126.8\" font-family=\"Helvetica,sans-Serif\" font-size=\"14.00\">value = [14, 5, 5]</text>\r\n",
       "<text text-anchor=\"start\" x=\"1531\" y=\"-111.8\" font-family=\"Helvetica,sans-Serif\" font-size=\"14.00\">class = Amt1</text>\r\n",
       "</g>\r\n",
       "<!-- 24&#45;&gt;25 -->\r\n",
       "<g id=\"edge25\" class=\"edge\"><title>24&#45;&gt;25</title>\r\n",
       "<path fill=\"none\" stroke=\"black\" d=\"M1701.8,-222.907C1682.43,-211.46 1661.35,-199.001 1641.93,-187.529\"/>\r\n",
       "<polygon fill=\"black\" stroke=\"black\" points=\"1643.53,-184.408 1633.14,-182.334 1639.97,-190.435 1643.53,-184.408\"/>\r\n",
       "</g>\r\n",
       "<!-- 28 -->\r\n",
       "<g id=\"node29\" class=\"node\"><title>28</title>\r\n",
       "<path fill=\"#f0fdf5\" stroke=\"black\" d=\"M1827,-187C1827,-187 1714,-187 1714,-187 1708,-187 1702,-181 1702,-175 1702,-175 1702,-116 1702,-116 1702,-110 1708,-104 1714,-104 1714,-104 1827,-104 1827,-104 1833,-104 1839,-110 1839,-116 1839,-116 1839,-175 1839,-175 1839,-181 1833,-187 1827,-187\"/>\r\n",
       "<text text-anchor=\"start\" x=\"1735.5\" y=\"-171.8\" font-family=\"Helvetica,sans-Serif\" font-size=\"14.00\">items ≤ 3.5</text>\r\n",
       "<text text-anchor=\"start\" x=\"1733\" y=\"-156.8\" font-family=\"Helvetica,sans-Serif\" font-size=\"14.00\">gini = 0.639</text>\r\n",
       "<text text-anchor=\"start\" x=\"1727\" y=\"-141.8\" font-family=\"Helvetica,sans-Serif\" font-size=\"14.00\">samples = 85</text>\r\n",
       "<text text-anchor=\"start\" x=\"1710\" y=\"-126.8\" font-family=\"Helvetica,sans-Serif\" font-size=\"14.00\">value = [32, 36, 17]</text>\r\n",
       "<text text-anchor=\"start\" x=\"1729\" y=\"-111.8\" font-family=\"Helvetica,sans-Serif\" font-size=\"14.00\">class = Amt2</text>\r\n",
       "</g>\r\n",
       "<!-- 24&#45;&gt;28 -->\r\n",
       "<g id=\"edge28\" class=\"edge\"><title>24&#45;&gt;28</title>\r\n",
       "<path fill=\"none\" stroke=\"black\" d=\"M1770.5,-222.907C1770.5,-214.649 1770.5,-205.864 1770.5,-197.302\"/>\r\n",
       "<polygon fill=\"black\" stroke=\"black\" points=\"1774,-197.021 1770.5,-187.021 1767,-197.021 1774,-197.021\"/>\r\n",
       "</g>\r\n",
       "<!-- 26 -->\r\n",
       "<g id=\"node27\" class=\"node\"><title>26</title>\r\n",
       "<path fill=\"#f1b991\" stroke=\"black\" d=\"M1486,-68C1486,-68 1397,-68 1397,-68 1391,-68 1385,-62 1385,-56 1385,-56 1385,-12 1385,-12 1385,-6 1391,-0 1397,-0 1397,-0 1486,-0 1486,-0 1492,-0 1498,-6 1498,-12 1498,-12 1498,-56 1498,-56 1498,-62 1492,-68 1486,-68\"/>\r\n",
       "<text text-anchor=\"start\" x=\"1404\" y=\"-52.8\" font-family=\"Helvetica,sans-Serif\" font-size=\"14.00\">gini = 0.486</text>\r\n",
       "<text text-anchor=\"start\" x=\"1398\" y=\"-37.8\" font-family=\"Helvetica,sans-Serif\" font-size=\"14.00\">samples = 12</text>\r\n",
       "<text text-anchor=\"start\" x=\"1393\" y=\"-22.8\" font-family=\"Helvetica,sans-Serif\" font-size=\"14.00\">value = [8, 3, 1]</text>\r\n",
       "<text text-anchor=\"start\" x=\"1400\" y=\"-7.8\" font-family=\"Helvetica,sans-Serif\" font-size=\"14.00\">class = Amt1</text>\r\n",
       "</g>\r\n",
       "<!-- 25&#45;&gt;26 -->\r\n",
       "<g id=\"edge26\" class=\"edge\"><title>25&#45;&gt;26</title>\r\n",
       "<path fill=\"none\" stroke=\"black\" d=\"M1523.72,-103.726C1512.37,-94.2406 1500.31,-84.1551 1489.01,-74.7159\"/>\r\n",
       "<polygon fill=\"black\" stroke=\"black\" points=\"1491.26,-72.0276 1481.34,-68.2996 1486.77,-77.3984 1491.26,-72.0276\"/>\r\n",
       "</g>\r\n",
       "<!-- 27 -->\r\n",
       "<g id=\"node28\" class=\"node\"><title>27</title>\r\n",
       "<path fill=\"#f8e0ce\" stroke=\"black\" d=\"M1617,-68C1617,-68 1528,-68 1528,-68 1522,-68 1516,-62 1516,-56 1516,-56 1516,-12 1516,-12 1516,-6 1522,-0 1528,-0 1528,-0 1617,-0 1617,-0 1623,-0 1629,-6 1629,-12 1629,-12 1629,-56 1629,-56 1629,-62 1623,-68 1617,-68\"/>\r\n",
       "<text text-anchor=\"start\" x=\"1535\" y=\"-52.8\" font-family=\"Helvetica,sans-Serif\" font-size=\"14.00\">gini = 0.611</text>\r\n",
       "<text text-anchor=\"start\" x=\"1529\" y=\"-37.8\" font-family=\"Helvetica,sans-Serif\" font-size=\"14.00\">samples = 12</text>\r\n",
       "<text text-anchor=\"start\" x=\"1524\" y=\"-22.8\" font-family=\"Helvetica,sans-Serif\" font-size=\"14.00\">value = [6, 2, 4]</text>\r\n",
       "<text text-anchor=\"start\" x=\"1531\" y=\"-7.8\" font-family=\"Helvetica,sans-Serif\" font-size=\"14.00\">class = Amt1</text>\r\n",
       "</g>\r\n",
       "<!-- 25&#45;&gt;27 -->\r\n",
       "<g id=\"edge27\" class=\"edge\"><title>25&#45;&gt;27</title>\r\n",
       "<path fill=\"none\" stroke=\"black\" d=\"M1572.5,-103.726C1572.5,-95.5175 1572.5,-86.8595 1572.5,-78.56\"/>\r\n",
       "<polygon fill=\"black\" stroke=\"black\" points=\"1576,-78.2996 1572.5,-68.2996 1569,-78.2996 1576,-78.2996\"/>\r\n",
       "</g>\r\n",
       "<!-- 29 -->\r\n",
       "<g id=\"node30\" class=\"node\"><title>29</title>\r\n",
       "<path fill=\"#6aeca0\" stroke=\"black\" d=\"M1748,-68C1748,-68 1659,-68 1659,-68 1653,-68 1647,-62 1647,-56 1647,-56 1647,-12 1647,-12 1647,-6 1653,-0 1659,-0 1659,-0 1748,-0 1748,-0 1754,-0 1760,-6 1760,-12 1760,-12 1760,-56 1760,-56 1760,-62 1754,-68 1748,-68\"/>\r\n",
       "<text text-anchor=\"start\" x=\"1670\" y=\"-52.8\" font-family=\"Helvetica,sans-Serif\" font-size=\"14.00\">gini = 0.32</text>\r\n",
       "<text text-anchor=\"start\" x=\"1664\" y=\"-37.8\" font-family=\"Helvetica,sans-Serif\" font-size=\"14.00\">samples = 5</text>\r\n",
       "<text text-anchor=\"start\" x=\"1655\" y=\"-22.8\" font-family=\"Helvetica,sans-Serif\" font-size=\"14.00\">value = [0, 4, 1]</text>\r\n",
       "<text text-anchor=\"start\" x=\"1662\" y=\"-7.8\" font-family=\"Helvetica,sans-Serif\" font-size=\"14.00\">class = Amt2</text>\r\n",
       "</g>\r\n",
       "<!-- 28&#45;&gt;29 -->\r\n",
       "<g id=\"edge29\" class=\"edge\"><title>28&#45;&gt;29</title>\r\n",
       "<path fill=\"none\" stroke=\"black\" d=\"M1745.55,-103.726C1740.19,-94.9703 1734.52,-85.7032 1729.14,-76.9051\"/>\r\n",
       "<polygon fill=\"black\" stroke=\"black\" points=\"1732.08,-75.0028 1723.88,-68.2996 1726.11,-78.6563 1732.08,-75.0028\"/>\r\n",
       "</g>\r\n",
       "<!-- 30 -->\r\n",
       "<g id=\"node31\" class=\"node\"><title>30</title>\r\n",
       "<path fill=\"#ffffff\" stroke=\"black\" d=\"M1903,-68C1903,-68 1790,-68 1790,-68 1784,-68 1778,-62 1778,-56 1778,-56 1778,-12 1778,-12 1778,-6 1784,-0 1790,-0 1790,-0 1903,-0 1903,-0 1909,-0 1915,-6 1915,-12 1915,-12 1915,-56 1915,-56 1915,-62 1909,-68 1903,-68\"/>\r\n",
       "<text text-anchor=\"start\" x=\"1813\" y=\"-52.8\" font-family=\"Helvetica,sans-Serif\" font-size=\"14.00\">gini = 0.64</text>\r\n",
       "<text text-anchor=\"start\" x=\"1803\" y=\"-37.8\" font-family=\"Helvetica,sans-Serif\" font-size=\"14.00\">samples = 80</text>\r\n",
       "<text text-anchor=\"start\" x=\"1786\" y=\"-22.8\" font-family=\"Helvetica,sans-Serif\" font-size=\"14.00\">value = [32, 32, 16]</text>\r\n",
       "<text text-anchor=\"start\" x=\"1805\" y=\"-7.8\" font-family=\"Helvetica,sans-Serif\" font-size=\"14.00\">class = Amt1</text>\r\n",
       "</g>\r\n",
       "<!-- 28&#45;&gt;30 -->\r\n",
       "<g id=\"edge30\" class=\"edge\"><title>28&#45;&gt;30</title>\r\n",
       "<path fill=\"none\" stroke=\"black\" d=\"M1798.8,-103.726C1804.94,-94.879 1811.44,-85.51 1817.61,-76.6303\"/>\r\n",
       "<polygon fill=\"black\" stroke=\"black\" points=\"1820.56,-78.5104 1823.39,-68.2996 1814.81,-74.5191 1820.56,-78.5104\"/>\r\n",
       "</g>\r\n",
       "<!-- 32 -->\r\n",
       "<g id=\"node33\" class=\"node\"><title>32</title>\r\n",
       "<path fill=\"#f5fef9\" stroke=\"black\" d=\"M2154.5,-187C2154.5,-187 2016.5,-187 2016.5,-187 2010.5,-187 2004.5,-181 2004.5,-175 2004.5,-175 2004.5,-116 2004.5,-116 2004.5,-110 2010.5,-104 2016.5,-104 2016.5,-104 2154.5,-104 2154.5,-104 2160.5,-104 2166.5,-110 2166.5,-116 2166.5,-116 2166.5,-175 2166.5,-175 2166.5,-181 2160.5,-187 2154.5,-187\"/>\r\n",
       "<text text-anchor=\"start\" x=\"2051.5\" y=\"-171.8\" font-family=\"Helvetica,sans-Serif\" font-size=\"14.00\">age ≤ 19.5</text>\r\n",
       "<text text-anchor=\"start\" x=\"2048\" y=\"-156.8\" font-family=\"Helvetica,sans-Serif\" font-size=\"14.00\">gini = 0.664</text>\r\n",
       "<text text-anchor=\"start\" x=\"2034\" y=\"-141.8\" font-family=\"Helvetica,sans-Serif\" font-size=\"14.00\">samples = 2461</text>\r\n",
       "<text text-anchor=\"start\" x=\"2012.5\" y=\"-126.8\" font-family=\"Helvetica,sans-Serif\" font-size=\"14.00\">value = [737, 903, 821]</text>\r\n",
       "<text text-anchor=\"start\" x=\"2044\" y=\"-111.8\" font-family=\"Helvetica,sans-Serif\" font-size=\"14.00\">class = Amt2</text>\r\n",
       "</g>\r\n",
       "<!-- 31&#45;&gt;32 -->\r\n",
       "<g id=\"edge32\" class=\"edge\"><title>31&#45;&gt;32</title>\r\n",
       "<path fill=\"none\" stroke=\"black\" d=\"M2085.5,-222.907C2085.5,-214.649 2085.5,-205.864 2085.5,-197.302\"/>\r\n",
       "<polygon fill=\"black\" stroke=\"black\" points=\"2089,-197.021 2085.5,-187.021 2082,-197.021 2089,-197.021\"/>\r\n",
       "</g>\r\n",
       "<!-- 35 -->\r\n",
       "<g id=\"node36\" class=\"node\"><title>35</title>\r\n",
       "<path fill=\"#fdfffe\" stroke=\"black\" d=\"M2444,-187C2444,-187 2281,-187 2281,-187 2275,-187 2269,-181 2269,-175 2269,-175 2269,-116 2269,-116 2269,-110 2275,-104 2281,-104 2281,-104 2444,-104 2444,-104 2450,-104 2456,-110 2456,-116 2456,-116 2456,-175 2456,-175 2456,-181 2450,-187 2444,-187\"/>\r\n",
       "<text text-anchor=\"start\" x=\"2327.5\" y=\"-171.8\" font-family=\"Helvetica,sans-Serif\" font-size=\"14.00\">items ≤ 7.5</text>\r\n",
       "<text text-anchor=\"start\" x=\"2325\" y=\"-156.8\" font-family=\"Helvetica,sans-Serif\" font-size=\"14.00\">gini = 0.666</text>\r\n",
       "<text text-anchor=\"start\" x=\"2311\" y=\"-141.8\" font-family=\"Helvetica,sans-Serif\" font-size=\"14.00\">samples = 6588</text>\r\n",
       "<text text-anchor=\"start\" x=\"2277\" y=\"-126.8\" font-family=\"Helvetica,sans-Serif\" font-size=\"14.00\">value = [2102, 2267, 2219]</text>\r\n",
       "<text text-anchor=\"start\" x=\"2321\" y=\"-111.8\" font-family=\"Helvetica,sans-Serif\" font-size=\"14.00\">class = Amt2</text>\r\n",
       "</g>\r\n",
       "<!-- 31&#45;&gt;35 -->\r\n",
       "<g id=\"edge35\" class=\"edge\"><title>31&#45;&gt;35</title>\r\n",
       "<path fill=\"none\" stroke=\"black\" d=\"M2179.28,-223.889C2205.11,-212.978 2233.27,-201.084 2259.59,-189.967\"/>\r\n",
       "<polygon fill=\"black\" stroke=\"black\" points=\"2260.97,-193.185 2268.82,-186.07 2258.24,-186.737 2260.97,-193.185\"/>\r\n",
       "</g>\r\n",
       "<!-- 33 -->\r\n",
       "<g id=\"node34\" class=\"node\"><title>33</title>\r\n",
       "<path fill=\"#f8f5fe\" stroke=\"black\" d=\"M2058,-68C2058,-68 1945,-68 1945,-68 1939,-68 1933,-62 1933,-56 1933,-56 1933,-12 1933,-12 1933,-6 1939,-0 1945,-0 1945,-0 2058,-0 2058,-0 2064,-0 2070,-6 2070,-12 2070,-12 2070,-56 2070,-56 2070,-62 2064,-68 2058,-68\"/>\r\n",
       "<text text-anchor=\"start\" x=\"1964\" y=\"-52.8\" font-family=\"Helvetica,sans-Serif\" font-size=\"14.00\">gini = 0.665</text>\r\n",
       "<text text-anchor=\"start\" x=\"1954\" y=\"-37.8\" font-family=\"Helvetica,sans-Serif\" font-size=\"14.00\">samples = 199</text>\r\n",
       "<text text-anchor=\"start\" x=\"1941\" y=\"-22.8\" font-family=\"Helvetica,sans-Serif\" font-size=\"14.00\">value = [65, 62, 72]</text>\r\n",
       "<text text-anchor=\"start\" x=\"1960\" y=\"-7.8\" font-family=\"Helvetica,sans-Serif\" font-size=\"14.00\">class = Amt3</text>\r\n",
       "</g>\r\n",
       "<!-- 32&#45;&gt;33 -->\r\n",
       "<g id=\"edge33\" class=\"edge\"><title>32&#45;&gt;33</title>\r\n",
       "<path fill=\"none\" stroke=\"black\" d=\"M2054.22,-103.726C2047.36,-94.7878 2040.1,-85.3168 2033.22,-76.3558\"/>\r\n",
       "<polygon fill=\"black\" stroke=\"black\" points=\"2035.91,-74.1036 2027.04,-68.2996 2030.35,-78.3643 2035.91,-74.1036\"/>\r\n",
       "</g>\r\n",
       "<!-- 34 -->\r\n",
       "<g id=\"node35\" class=\"node\"><title>34</title>\r\n",
       "<path fill=\"#f3fdf7\" stroke=\"black\" d=\"M2238.5,-68C2238.5,-68 2100.5,-68 2100.5,-68 2094.5,-68 2088.5,-62 2088.5,-56 2088.5,-56 2088.5,-12 2088.5,-12 2088.5,-6 2094.5,-0 2100.5,-0 2100.5,-0 2238.5,-0 2238.5,-0 2244.5,-0 2250.5,-6 2250.5,-12 2250.5,-12 2250.5,-56 2250.5,-56 2250.5,-62 2244.5,-68 2238.5,-68\"/>\r\n",
       "<text text-anchor=\"start\" x=\"2132\" y=\"-52.8\" font-family=\"Helvetica,sans-Serif\" font-size=\"14.00\">gini = 0.664</text>\r\n",
       "<text text-anchor=\"start\" x=\"2118\" y=\"-37.8\" font-family=\"Helvetica,sans-Serif\" font-size=\"14.00\">samples = 2262</text>\r\n",
       "<text text-anchor=\"start\" x=\"2096.5\" y=\"-22.8\" font-family=\"Helvetica,sans-Serif\" font-size=\"14.00\">value = [672, 841, 749]</text>\r\n",
       "<text text-anchor=\"start\" x=\"2128\" y=\"-7.8\" font-family=\"Helvetica,sans-Serif\" font-size=\"14.00\">class = Amt2</text>\r\n",
       "</g>\r\n",
       "<!-- 32&#45;&gt;34 -->\r\n",
       "<g id=\"edge34\" class=\"edge\"><title>32&#45;&gt;34</title>\r\n",
       "<path fill=\"none\" stroke=\"black\" d=\"M2116.78,-103.726C2123.64,-94.7878 2130.9,-85.3168 2137.78,-76.3558\"/>\r\n",
       "<polygon fill=\"black\" stroke=\"black\" points=\"2140.65,-78.3643 2143.96,-68.2996 2135.09,-74.1036 2140.65,-78.3643\"/>\r\n",
       "</g>\r\n",
       "<!-- 36 -->\r\n",
       "<g id=\"node37\" class=\"node\"><title>36</title>\r\n",
       "<path fill=\"#fcfffd\" stroke=\"black\" d=\"M2444,-68C2444,-68 2281,-68 2281,-68 2275,-68 2269,-62 2269,-56 2269,-56 2269,-12 2269,-12 2269,-6 2275,-0 2281,-0 2281,-0 2444,-0 2444,-0 2450,-0 2456,-6 2456,-12 2456,-12 2456,-56 2456,-56 2456,-62 2450,-68 2444,-68\"/>\r\n",
       "<text text-anchor=\"start\" x=\"2325\" y=\"-52.8\" font-family=\"Helvetica,sans-Serif\" font-size=\"14.00\">gini = 0.666</text>\r\n",
       "<text text-anchor=\"start\" x=\"2311\" y=\"-37.8\" font-family=\"Helvetica,sans-Serif\" font-size=\"14.00\">samples = 6091</text>\r\n",
       "<text text-anchor=\"start\" x=\"2277\" y=\"-22.8\" font-family=\"Helvetica,sans-Serif\" font-size=\"14.00\">value = [1962, 2097, 2032]</text>\r\n",
       "<text text-anchor=\"start\" x=\"2321\" y=\"-7.8\" font-family=\"Helvetica,sans-Serif\" font-size=\"14.00\">class = Amt2</text>\r\n",
       "</g>\r\n",
       "<!-- 35&#45;&gt;36 -->\r\n",
       "<g id=\"edge36\" class=\"edge\"><title>35&#45;&gt;36</title>\r\n",
       "<path fill=\"none\" stroke=\"black\" d=\"M2362.5,-103.726C2362.5,-95.5175 2362.5,-86.8595 2362.5,-78.56\"/>\r\n",
       "<polygon fill=\"black\" stroke=\"black\" points=\"2366,-78.2996 2362.5,-68.2996 2359,-78.2996 2366,-78.2996\"/>\r\n",
       "</g>\r\n",
       "<!-- 37 -->\r\n",
       "<g id=\"node38\" class=\"node\"><title>37</title>\r\n",
       "<path fill=\"#f8f5fe\" stroke=\"black\" d=\"M2624.5,-68C2624.5,-68 2486.5,-68 2486.5,-68 2480.5,-68 2474.5,-62 2474.5,-56 2474.5,-56 2474.5,-12 2474.5,-12 2474.5,-6 2480.5,-0 2486.5,-0 2486.5,-0 2624.5,-0 2624.5,-0 2630.5,-0 2636.5,-6 2636.5,-12 2636.5,-12 2636.5,-56 2636.5,-56 2636.5,-62 2630.5,-68 2624.5,-68\"/>\r\n",
       "<text text-anchor=\"start\" x=\"2518\" y=\"-52.8\" font-family=\"Helvetica,sans-Serif\" font-size=\"14.00\">gini = 0.662</text>\r\n",
       "<text text-anchor=\"start\" x=\"2508\" y=\"-37.8\" font-family=\"Helvetica,sans-Serif\" font-size=\"14.00\">samples = 497</text>\r\n",
       "<text text-anchor=\"start\" x=\"2482.5\" y=\"-22.8\" font-family=\"Helvetica,sans-Serif\" font-size=\"14.00\">value = [140, 170, 187]</text>\r\n",
       "<text text-anchor=\"start\" x=\"2514\" y=\"-7.8\" font-family=\"Helvetica,sans-Serif\" font-size=\"14.00\">class = Amt3</text>\r\n",
       "</g>\r\n",
       "<!-- 35&#45;&gt;37 -->\r\n",
       "<g id=\"edge37\" class=\"edge\"><title>35&#45;&gt;37</title>\r\n",
       "<path fill=\"none\" stroke=\"black\" d=\"M2434.09,-103.882C2451.81,-93.8269 2470.74,-83.0892 2488.25,-73.1563\"/>\r\n",
       "<polygon fill=\"black\" stroke=\"black\" points=\"2490.29,-76.0222 2497.26,-68.0433 2486.83,-69.9339 2490.29,-76.0222\"/>\r\n",
       "</g>\r\n",
       "<!-- 39 -->\r\n",
       "<g id=\"node40\" class=\"node\"><title>39</title>\r\n",
       "<path fill=\"#fbfefc\" stroke=\"black\" d=\"M3058.5,-306C3058.5,-306 2920.5,-306 2920.5,-306 2914.5,-306 2908.5,-300 2908.5,-294 2908.5,-294 2908.5,-235 2908.5,-235 2908.5,-229 2914.5,-223 2920.5,-223 2920.5,-223 3058.5,-223 3058.5,-223 3064.5,-223 3070.5,-229 3070.5,-235 3070.5,-235 3070.5,-294 3070.5,-294 3070.5,-300 3064.5,-306 3058.5,-306\"/>\r\n",
       "<text text-anchor=\"start\" x=\"2955.5\" y=\"-290.8\" font-family=\"Helvetica,sans-Serif\" font-size=\"14.00\">age ≤ 46.5</text>\r\n",
       "<text text-anchor=\"start\" x=\"2960.5\" y=\"-275.8\" font-family=\"Helvetica,sans-Serif\" font-size=\"14.00\">gini = 0.5</text>\r\n",
       "<text text-anchor=\"start\" x=\"2938\" y=\"-260.8\" font-family=\"Helvetica,sans-Serif\" font-size=\"14.00\">samples = 8917</text>\r\n",
       "<text text-anchor=\"start\" x=\"2916.5\" y=\"-245.8\" font-family=\"Helvetica,sans-Serif\" font-size=\"14.00\">value = [4411, 4506, 0]</text>\r\n",
       "<text text-anchor=\"start\" x=\"2948\" y=\"-230.8\" font-family=\"Helvetica,sans-Serif\" font-size=\"14.00\">class = Amt2</text>\r\n",
       "</g>\r\n",
       "<!-- 38&#45;&gt;39 -->\r\n",
       "<g id=\"edge39\" class=\"edge\"><title>38&#45;&gt;39</title>\r\n",
       "<path fill=\"none\" stroke=\"black\" d=\"M2989.5,-341.907C2989.5,-333.649 2989.5,-324.864 2989.5,-316.302\"/>\r\n",
       "<polygon fill=\"black\" stroke=\"black\" points=\"2993,-316.021 2989.5,-306.021 2986,-316.021 2993,-316.021\"/>\r\n",
       "</g>\r\n",
       "<!-- 46 -->\r\n",
       "<g id=\"node47\" class=\"node\"><title>46</title>\r\n",
       "<path fill=\"#baf6d3\" stroke=\"black\" d=\"M3423,-306C3423,-306 3318,-306 3318,-306 3312,-306 3306,-300 3306,-294 3306,-294 3306,-235 3306,-235 3306,-229 3312,-223 3318,-223 3318,-223 3423,-223 3423,-223 3429,-223 3435,-229 3435,-235 3435,-235 3435,-294 3435,-294 3435,-300 3429,-306 3423,-306\"/>\r\n",
       "<text text-anchor=\"start\" x=\"3335.5\" y=\"-290.8\" font-family=\"Helvetica,sans-Serif\" font-size=\"14.00\">items ≤ 7.5</text>\r\n",
       "<text text-anchor=\"start\" x=\"3333\" y=\"-275.8\" font-family=\"Helvetica,sans-Serif\" font-size=\"14.00\">gini = 0.477</text>\r\n",
       "<text text-anchor=\"start\" x=\"3323\" y=\"-260.8\" font-family=\"Helvetica,sans-Serif\" font-size=\"14.00\">samples = 127</text>\r\n",
       "<text text-anchor=\"start\" x=\"3314\" y=\"-245.8\" font-family=\"Helvetica,sans-Serif\" font-size=\"14.00\">value = [50, 77, 0]</text>\r\n",
       "<text text-anchor=\"start\" x=\"3329\" y=\"-230.8\" font-family=\"Helvetica,sans-Serif\" font-size=\"14.00\">class = Amt2</text>\r\n",
       "</g>\r\n",
       "<!-- 38&#45;&gt;46 -->\r\n",
       "<g id=\"edge46\" class=\"edge\"><title>38&#45;&gt;46</title>\r\n",
       "<path fill=\"none\" stroke=\"black\" d=\"M3070.77,-357.544C3137.49,-337.053 3231.23,-308.268 3296.03,-288.369\"/>\r\n",
       "<polygon fill=\"black\" stroke=\"black\" points=\"3297.24,-291.658 3305.77,-285.377 3295.19,-284.967 3297.24,-291.658\"/>\r\n",
       "</g>\r\n",
       "<!-- 40 -->\r\n",
       "<g id=\"node41\" class=\"node\"><title>40</title>\r\n",
       "<path fill=\"#f7fefa\" stroke=\"black\" d=\"M2970.5,-187C2970.5,-187 2832.5,-187 2832.5,-187 2826.5,-187 2820.5,-181 2820.5,-175 2820.5,-175 2820.5,-116 2820.5,-116 2820.5,-110 2826.5,-104 2832.5,-104 2832.5,-104 2970.5,-104 2970.5,-104 2976.5,-104 2982.5,-110 2982.5,-116 2982.5,-116 2982.5,-175 2982.5,-175 2982.5,-181 2976.5,-187 2970.5,-187\"/>\r\n",
       "<text text-anchor=\"start\" x=\"2867.5\" y=\"-171.8\" font-family=\"Helvetica,sans-Serif\" font-size=\"14.00\">age ≤ 42.5</text>\r\n",
       "<text text-anchor=\"start\" x=\"2872.5\" y=\"-156.8\" font-family=\"Helvetica,sans-Serif\" font-size=\"14.00\">gini = 0.5</text>\r\n",
       "<text text-anchor=\"start\" x=\"2850\" y=\"-141.8\" font-family=\"Helvetica,sans-Serif\" font-size=\"14.00\">samples = 6882</text>\r\n",
       "<text text-anchor=\"start\" x=\"2828.5\" y=\"-126.8\" font-family=\"Helvetica,sans-Serif\" font-size=\"14.00\">value = [3371, 3511, 0]</text>\r\n",
       "<text text-anchor=\"start\" x=\"2860\" y=\"-111.8\" font-family=\"Helvetica,sans-Serif\" font-size=\"14.00\">class = Amt2</text>\r\n",
       "</g>\r\n",
       "<!-- 39&#45;&gt;40 -->\r\n",
       "<g id=\"edge40\" class=\"edge\"><title>39&#45;&gt;40</title>\r\n",
       "<path fill=\"none\" stroke=\"black\" d=\"M2958.97,-222.907C2952.21,-213.923 2944.98,-204.315 2938.02,-195.05\"/>\r\n",
       "<polygon fill=\"black\" stroke=\"black\" points=\"2940.79,-192.909 2931.98,-187.021 2935.19,-197.116 2940.79,-192.909\"/>\r\n",
       "</g>\r\n",
       "<!-- 43 -->\r\n",
       "<g id=\"node44\" class=\"node\"><title>43</title>\r\n",
       "<path fill=\"#fefaf6\" stroke=\"black\" d=\"M3142.5,-187C3142.5,-187 3012.5,-187 3012.5,-187 3006.5,-187 3000.5,-181 3000.5,-175 3000.5,-175 3000.5,-116 3000.5,-116 3000.5,-110 3006.5,-104 3012.5,-104 3012.5,-104 3142.5,-104 3142.5,-104 3148.5,-104 3154.5,-110 3154.5,-116 3154.5,-116 3154.5,-175 3154.5,-175 3154.5,-181 3148.5,-187 3142.5,-187\"/>\r\n",
       "<text text-anchor=\"start\" x=\"3042.5\" y=\"-171.8\" font-family=\"Helvetica,sans-Serif\" font-size=\"14.00\">items ≤ 7.5</text>\r\n",
       "<text text-anchor=\"start\" x=\"3048.5\" y=\"-156.8\" font-family=\"Helvetica,sans-Serif\" font-size=\"14.00\">gini = 0.5</text>\r\n",
       "<text text-anchor=\"start\" x=\"3026\" y=\"-141.8\" font-family=\"Helvetica,sans-Serif\" font-size=\"14.00\">samples = 2035</text>\r\n",
       "<text text-anchor=\"start\" x=\"3008.5\" y=\"-126.8\" font-family=\"Helvetica,sans-Serif\" font-size=\"14.00\">value = [1040, 995, 0]</text>\r\n",
       "<text text-anchor=\"start\" x=\"3036\" y=\"-111.8\" font-family=\"Helvetica,sans-Serif\" font-size=\"14.00\">class = Amt1</text>\r\n",
       "</g>\r\n",
       "<!-- 39&#45;&gt;43 -->\r\n",
       "<g id=\"edge43\" class=\"edge\"><title>39&#45;&gt;43</title>\r\n",
       "<path fill=\"none\" stroke=\"black\" d=\"M3020.03,-222.907C3026.79,-213.923 3034.02,-204.315 3040.98,-195.05\"/>\r\n",
       "<polygon fill=\"black\" stroke=\"black\" points=\"3043.81,-197.116 3047.02,-187.021 3038.21,-192.909 3043.81,-197.116\"/>\r\n",
       "</g>\r\n",
       "<!-- 41 -->\r\n",
       "<g id=\"node42\" class=\"node\"><title>41</title>\r\n",
       "<path fill=\"#fbfefc\" stroke=\"black\" d=\"M2804.5,-68C2804.5,-68 2666.5,-68 2666.5,-68 2660.5,-68 2654.5,-62 2654.5,-56 2654.5,-56 2654.5,-12 2654.5,-12 2654.5,-6 2660.5,-0 2666.5,-0 2666.5,-0 2804.5,-0 2804.5,-0 2810.5,-0 2816.5,-6 2816.5,-12 2816.5,-12 2816.5,-56 2816.5,-56 2816.5,-62 2810.5,-68 2804.5,-68\"/>\r\n",
       "<text text-anchor=\"start\" x=\"2706.5\" y=\"-52.8\" font-family=\"Helvetica,sans-Serif\" font-size=\"14.00\">gini = 0.5</text>\r\n",
       "<text text-anchor=\"start\" x=\"2684\" y=\"-37.8\" font-family=\"Helvetica,sans-Serif\" font-size=\"14.00\">samples = 5901</text>\r\n",
       "<text text-anchor=\"start\" x=\"2662.5\" y=\"-22.8\" font-family=\"Helvetica,sans-Serif\" font-size=\"14.00\">value = [2917, 2984, 0]</text>\r\n",
       "<text text-anchor=\"start\" x=\"2694\" y=\"-7.8\" font-family=\"Helvetica,sans-Serif\" font-size=\"14.00\">class = Amt2</text>\r\n",
       "</g>\r\n",
       "<!-- 40&#45;&gt;41 -->\r\n",
       "<g id=\"edge41\" class=\"edge\"><title>40&#45;&gt;41</title>\r\n",
       "<path fill=\"none\" stroke=\"black\" d=\"M2839.69,-103.726C2824.82,-93.9161 2808.97,-83.4644 2794.24,-73.7496\"/>\r\n",
       "<polygon fill=\"black\" stroke=\"black\" points=\"2795.99,-70.7099 2785.72,-68.1252 2792.14,-76.5532 2795.99,-70.7099\"/>\r\n",
       "</g>\r\n",
       "<!-- 42 -->\r\n",
       "<g id=\"node43\" class=\"node\"><title>42</title>\r\n",
       "<path fill=\"#e4fbee\" stroke=\"black\" d=\"M2968.5,-68C2968.5,-68 2846.5,-68 2846.5,-68 2840.5,-68 2834.5,-62 2834.5,-56 2834.5,-56 2834.5,-12 2834.5,-12 2834.5,-6 2840.5,-0 2846.5,-0 2846.5,-0 2968.5,-0 2968.5,-0 2974.5,-0 2980.5,-6 2980.5,-12 2980.5,-12 2980.5,-56 2980.5,-56 2980.5,-62 2974.5,-68 2968.5,-68\"/>\r\n",
       "<text text-anchor=\"start\" x=\"2870\" y=\"-52.8\" font-family=\"Helvetica,sans-Serif\" font-size=\"14.00\">gini = 0.497</text>\r\n",
       "<text text-anchor=\"start\" x=\"2860\" y=\"-37.8\" font-family=\"Helvetica,sans-Serif\" font-size=\"14.00\">samples = 981</text>\r\n",
       "<text text-anchor=\"start\" x=\"2842.5\" y=\"-22.8\" font-family=\"Helvetica,sans-Serif\" font-size=\"14.00\">value = [454, 527, 0]</text>\r\n",
       "<text text-anchor=\"start\" x=\"2866\" y=\"-7.8\" font-family=\"Helvetica,sans-Serif\" font-size=\"14.00\">class = Amt2</text>\r\n",
       "</g>\r\n",
       "<!-- 40&#45;&gt;42 -->\r\n",
       "<g id=\"edge42\" class=\"edge\"><title>40&#45;&gt;42</title>\r\n",
       "<path fill=\"none\" stroke=\"black\" d=\"M2903.73,-103.726C2904.18,-95.5175 2904.66,-86.8595 2905.11,-78.56\"/>\r\n",
       "<polygon fill=\"black\" stroke=\"black\" points=\"2908.62,-78.4761 2905.68,-68.2996 2901.63,-78.0931 2908.62,-78.4761\"/>\r\n",
       "</g>\r\n",
       "<!-- 44 -->\r\n",
       "<g id=\"node45\" class=\"node\"><title>44</title>\r\n",
       "<path fill=\"#fef8f4\" stroke=\"black\" d=\"M3132.5,-68C3132.5,-68 3010.5,-68 3010.5,-68 3004.5,-68 2998.5,-62 2998.5,-56 2998.5,-56 2998.5,-12 2998.5,-12 2998.5,-6 3004.5,-0 3010.5,-0 3010.5,-0 3132.5,-0 3132.5,-0 3138.5,-0 3144.5,-6 3144.5,-12 3144.5,-12 3144.5,-56 3144.5,-56 3144.5,-62 3138.5,-68 3132.5,-68\"/>\r\n",
       "<text text-anchor=\"start\" x=\"3042.5\" y=\"-52.8\" font-family=\"Helvetica,sans-Serif\" font-size=\"14.00\">gini = 0.5</text>\r\n",
       "<text text-anchor=\"start\" x=\"3020\" y=\"-37.8\" font-family=\"Helvetica,sans-Serif\" font-size=\"14.00\">samples = 1896</text>\r\n",
       "<text text-anchor=\"start\" x=\"3006.5\" y=\"-22.8\" font-family=\"Helvetica,sans-Serif\" font-size=\"14.00\">value = [975, 921, 0]</text>\r\n",
       "<text text-anchor=\"start\" x=\"3030\" y=\"-7.8\" font-family=\"Helvetica,sans-Serif\" font-size=\"14.00\">class = Amt1</text>\r\n",
       "</g>\r\n",
       "<!-- 43&#45;&gt;44 -->\r\n",
       "<g id=\"edge44\" class=\"edge\"><title>43&#45;&gt;44</title>\r\n",
       "<path fill=\"none\" stroke=\"black\" d=\"M3075.27,-103.726C3074.82,-95.5175 3074.34,-86.8595 3073.89,-78.56\"/>\r\n",
       "<polygon fill=\"black\" stroke=\"black\" points=\"3077.37,-78.0931 3073.32,-68.2996 3070.38,-78.4761 3077.37,-78.0931\"/>\r\n",
       "</g>\r\n",
       "<!-- 45 -->\r\n",
       "<g id=\"node46\" class=\"node\"><title>45</title>\r\n",
       "<path fill=\"#e7fcf0\" stroke=\"black\" d=\"M3280,-68C3280,-68 3175,-68 3175,-68 3169,-68 3163,-62 3163,-56 3163,-56 3163,-12 3163,-12 3163,-6 3169,-0 3175,-0 3175,-0 3280,-0 3280,-0 3286,-0 3292,-6 3292,-12 3292,-12 3292,-56 3292,-56 3292,-62 3286,-68 3280,-68\"/>\r\n",
       "<text text-anchor=\"start\" x=\"3190\" y=\"-52.8\" font-family=\"Helvetica,sans-Serif\" font-size=\"14.00\">gini = 0.498</text>\r\n",
       "<text text-anchor=\"start\" x=\"3180\" y=\"-37.8\" font-family=\"Helvetica,sans-Serif\" font-size=\"14.00\">samples = 139</text>\r\n",
       "<text text-anchor=\"start\" x=\"3171\" y=\"-22.8\" font-family=\"Helvetica,sans-Serif\" font-size=\"14.00\">value = [65, 74, 0]</text>\r\n",
       "<text text-anchor=\"start\" x=\"3186\" y=\"-7.8\" font-family=\"Helvetica,sans-Serif\" font-size=\"14.00\">class = Amt2</text>\r\n",
       "</g>\r\n",
       "<!-- 43&#45;&gt;45 -->\r\n",
       "<g id=\"edge45\" class=\"edge\"><title>43&#45;&gt;45</title>\r\n",
       "<path fill=\"none\" stroke=\"black\" d=\"M3133.35,-103.726C3146.47,-94.1494 3160.43,-83.9611 3173.47,-74.4438\"/>\r\n",
       "<polygon fill=\"black\" stroke=\"black\" points=\"3175.87,-77.0227 3181.88,-68.2996 3171.74,-71.3688 3175.87,-77.0227\"/>\r\n",
       "</g>\r\n",
       "<!-- 47 -->\r\n",
       "<g id=\"node48\" class=\"node\"><title>47</title>\r\n",
       "<path fill=\"#b1f5cd\" stroke=\"black\" d=\"M3423,-187C3423,-187 3318,-187 3318,-187 3312,-187 3306,-181 3306,-175 3306,-175 3306,-116 3306,-116 3306,-110 3312,-104 3318,-104 3318,-104 3423,-104 3423,-104 3429,-104 3435,-110 3435,-116 3435,-116 3435,-175 3435,-175 3435,-181 3429,-187 3423,-187\"/>\r\n",
       "<text text-anchor=\"start\" x=\"3335.5\" y=\"-171.8\" font-family=\"Helvetica,sans-Serif\" font-size=\"14.00\">items ≤ 2.5</text>\r\n",
       "<text text-anchor=\"start\" x=\"3337\" y=\"-156.8\" font-family=\"Helvetica,sans-Serif\" font-size=\"14.00\">gini = 0.47</text>\r\n",
       "<text text-anchor=\"start\" x=\"3323\" y=\"-141.8\" font-family=\"Helvetica,sans-Serif\" font-size=\"14.00\">samples = 122</text>\r\n",
       "<text text-anchor=\"start\" x=\"3314\" y=\"-126.8\" font-family=\"Helvetica,sans-Serif\" font-size=\"14.00\">value = [46, 76, 0]</text>\r\n",
       "<text text-anchor=\"start\" x=\"3329\" y=\"-111.8\" font-family=\"Helvetica,sans-Serif\" font-size=\"14.00\">class = Amt2</text>\r\n",
       "</g>\r\n",
       "<!-- 46&#45;&gt;47 -->\r\n",
       "<g id=\"edge47\" class=\"edge\"><title>46&#45;&gt;47</title>\r\n",
       "<path fill=\"none\" stroke=\"black\" d=\"M3370.5,-222.907C3370.5,-214.649 3370.5,-205.864 3370.5,-197.302\"/>\r\n",
       "<polygon fill=\"black\" stroke=\"black\" points=\"3374,-197.021 3370.5,-187.021 3367,-197.021 3374,-197.021\"/>\r\n",
       "</g>\r\n",
       "<!-- 50 -->\r\n",
       "<g id=\"node51\" class=\"node\"><title>50</title>\r\n",
       "<path fill=\"#eca06a\" stroke=\"black\" d=\"M3554,-179.5C3554,-179.5 3465,-179.5 3465,-179.5 3459,-179.5 3453,-173.5 3453,-167.5 3453,-167.5 3453,-123.5 3453,-123.5 3453,-117.5 3459,-111.5 3465,-111.5 3465,-111.5 3554,-111.5 3554,-111.5 3560,-111.5 3566,-117.5 3566,-123.5 3566,-123.5 3566,-167.5 3566,-167.5 3566,-173.5 3560,-179.5 3554,-179.5\"/>\r\n",
       "<text text-anchor=\"start\" x=\"3476\" y=\"-164.3\" font-family=\"Helvetica,sans-Serif\" font-size=\"14.00\">gini = 0.32</text>\r\n",
       "<text text-anchor=\"start\" x=\"3470\" y=\"-149.3\" font-family=\"Helvetica,sans-Serif\" font-size=\"14.00\">samples = 5</text>\r\n",
       "<text text-anchor=\"start\" x=\"3461\" y=\"-134.3\" font-family=\"Helvetica,sans-Serif\" font-size=\"14.00\">value = [4, 1, 0]</text>\r\n",
       "<text text-anchor=\"start\" x=\"3468\" y=\"-119.3\" font-family=\"Helvetica,sans-Serif\" font-size=\"14.00\">class = Amt1</text>\r\n",
       "</g>\r\n",
       "<!-- 46&#45;&gt;50 -->\r\n",
       "<g id=\"edge50\" class=\"edge\"><title>46&#45;&gt;50</title>\r\n",
       "<path fill=\"none\" stroke=\"black\" d=\"M3418.73,-222.907C3432.88,-210.99 3448.35,-197.976 3462.43,-186.12\"/>\r\n",
       "<polygon fill=\"black\" stroke=\"black\" points=\"3464.7,-188.784 3470.1,-179.667 3460.19,-183.429 3464.7,-188.784\"/>\r\n",
       "</g>\r\n",
       "<!-- 48 -->\r\n",
       "<g id=\"node49\" class=\"node\"><title>48</title>\r\n",
       "<path fill=\"#c2f7d8\" stroke=\"black\" d=\"M3419,-68C3419,-68 3322,-68 3322,-68 3316,-68 3310,-62 3310,-56 3310,-56 3310,-12 3310,-12 3310,-6 3316,-0 3322,-0 3322,-0 3419,-0 3419,-0 3425,-0 3431,-6 3431,-12 3431,-12 3431,-56 3431,-56 3431,-62 3425,-68 3419,-68\"/>\r\n",
       "<text text-anchor=\"start\" x=\"3333\" y=\"-52.8\" font-family=\"Helvetica,sans-Serif\" font-size=\"14.00\">gini = 0.483</text>\r\n",
       "<text text-anchor=\"start\" x=\"3327\" y=\"-37.8\" font-family=\"Helvetica,sans-Serif\" font-size=\"14.00\">samples = 22</text>\r\n",
       "<text text-anchor=\"start\" x=\"3318\" y=\"-22.8\" font-family=\"Helvetica,sans-Serif\" font-size=\"14.00\">value = [9, 13, 0]</text>\r\n",
       "<text text-anchor=\"start\" x=\"3329\" y=\"-7.8\" font-family=\"Helvetica,sans-Serif\" font-size=\"14.00\">class = Amt2</text>\r\n",
       "</g>\r\n",
       "<!-- 47&#45;&gt;48 -->\r\n",
       "<g id=\"edge48\" class=\"edge\"><title>47&#45;&gt;48</title>\r\n",
       "<path fill=\"none\" stroke=\"black\" d=\"M3370.5,-103.726C3370.5,-95.5175 3370.5,-86.8595 3370.5,-78.56\"/>\r\n",
       "<polygon fill=\"black\" stroke=\"black\" points=\"3374,-78.2996 3370.5,-68.2996 3367,-78.2996 3374,-78.2996\"/>\r\n",
       "</g>\r\n",
       "<!-- 49 -->\r\n",
       "<g id=\"node50\" class=\"node\"><title>49</title>\r\n",
       "<path fill=\"#adf4cb\" stroke=\"black\" d=\"M3566,-68C3566,-68 3461,-68 3461,-68 3455,-68 3449,-62 3449,-56 3449,-56 3449,-12 3449,-12 3449,-6 3455,-0 3461,-0 3461,-0 3566,-0 3566,-0 3572,-0 3578,-6 3578,-12 3578,-12 3578,-56 3578,-56 3578,-62 3572,-68 3566,-68\"/>\r\n",
       "<text text-anchor=\"start\" x=\"3476\" y=\"-52.8\" font-family=\"Helvetica,sans-Serif\" font-size=\"14.00\">gini = 0.466</text>\r\n",
       "<text text-anchor=\"start\" x=\"3466\" y=\"-37.8\" font-family=\"Helvetica,sans-Serif\" font-size=\"14.00\">samples = 100</text>\r\n",
       "<text text-anchor=\"start\" x=\"3457\" y=\"-22.8\" font-family=\"Helvetica,sans-Serif\" font-size=\"14.00\">value = [37, 63, 0]</text>\r\n",
       "<text text-anchor=\"start\" x=\"3472\" y=\"-7.8\" font-family=\"Helvetica,sans-Serif\" font-size=\"14.00\">class = Amt2</text>\r\n",
       "</g>\r\n",
       "<!-- 47&#45;&gt;49 -->\r\n",
       "<g id=\"edge49\" class=\"edge\"><title>47&#45;&gt;49</title>\r\n",
       "<path fill=\"none\" stroke=\"black\" d=\"M3423.75,-103.726C3436.25,-94.1494 3449.56,-83.9611 3461.99,-74.4438\"/>\r\n",
       "<polygon fill=\"black\" stroke=\"black\" points=\"3464.2,-77.1582 3470.01,-68.2996 3459.95,-71.6004 3464.2,-77.1582\"/>\r\n",
       "</g>\r\n",
       "</g>\r\n",
       "</svg>\r\n"
      ],
      "text/plain": [
       "<graphviz.files.Source at 0x1c3e5cd1880>"
      ]
     },
     "execution_count": 131,
     "metadata": {},
     "output_type": "execute_result"
    }
   ],
   "source": [
    "# graph with graphviz and view graph\n",
    "dtcFit4 = tree.export_graphviz(dtc, out_file=None, \n",
    "                  feature_names=X.columns,\n",
    "                  class_names=['Amt1', 'Amt2', 'Amt3'], \n",
    "                  filled=True, rounded=True,\n",
    "                  special_characters=True)\n",
    "graph = graphviz.Source(dtcFit4)\n",
    "graph"
   ]
  },
  {
   "cell_type": "code",
   "execution_count": 132,
   "metadata": {},
   "outputs": [
    {
     "data": {
      "text/html": [
       "<div>\n",
       "<style scoped>\n",
       "    .dataframe tbody tr th:only-of-type {\n",
       "        vertical-align: middle;\n",
       "    }\n",
       "\n",
       "    .dataframe tbody tr th {\n",
       "        vertical-align: top;\n",
       "    }\n",
       "\n",
       "    .dataframe thead th {\n",
       "        text-align: right;\n",
       "    }\n",
       "</style>\n",
       "<table border=\"1\" class=\"dataframe\">\n",
       "  <thead>\n",
       "    <tr style=\"text-align: right;\">\n",
       "      <th></th>\n",
       "      <th>in-store</th>\n",
       "      <th>items</th>\n",
       "      <th>region</th>\n",
       "      <th>age</th>\n",
       "      <th>amount</th>\n",
       "    </tr>\n",
       "  </thead>\n",
       "  <tbody>\n",
       "    <tr>\n",
       "      <th>0</th>\n",
       "      <td>0</td>\n",
       "      <td>4</td>\n",
       "      <td>2</td>\n",
       "      <td>37</td>\n",
       "      <td>281.03</td>\n",
       "    </tr>\n",
       "    <tr>\n",
       "      <th>1</th>\n",
       "      <td>0</td>\n",
       "      <td>2</td>\n",
       "      <td>2</td>\n",
       "      <td>35</td>\n",
       "      <td>219.51</td>\n",
       "    </tr>\n",
       "    <tr>\n",
       "      <th>2</th>\n",
       "      <td>1</td>\n",
       "      <td>3</td>\n",
       "      <td>4</td>\n",
       "      <td>45</td>\n",
       "      <td>1525.70</td>\n",
       "    </tr>\n",
       "    <tr>\n",
       "      <th>3</th>\n",
       "      <td>1</td>\n",
       "      <td>3</td>\n",
       "      <td>3</td>\n",
       "      <td>46</td>\n",
       "      <td>715.25</td>\n",
       "    </tr>\n",
       "    <tr>\n",
       "      <th>4</th>\n",
       "      <td>1</td>\n",
       "      <td>4</td>\n",
       "      <td>1</td>\n",
       "      <td>33</td>\n",
       "      <td>1937.50</td>\n",
       "    </tr>\n",
       "  </tbody>\n",
       "</table>\n",
       "</div>"
      ],
      "text/plain": [
       "   in-store  items  region  age   amount\n",
       "0         0      4       2   37   281.03\n",
       "1         0      2       2   35   219.51\n",
       "2         1      3       4   45  1525.70\n",
       "3         1      3       3   46   715.25\n",
       "4         1      4       1   33  1937.50"
      ]
     },
     "execution_count": 132,
     "metadata": {},
     "output_type": "execute_result"
    }
   ],
   "source": [
    "# create new dataframe with amount in last column\n",
    "column_names = [\"in-store\", \"items\", \"region\", \"age\", \"amount\"]\n",
    "data_amount = df.reindex(columns=column_names)\n",
    "data_amount.head()"
   ]
  },
  {
   "cell_type": "code",
   "execution_count": 133,
   "metadata": {},
   "outputs": [
    {
     "data": {
      "text/plain": [
       "0        [5.005, 753.754)\n",
       "1        [5.005, 753.754)\n",
       "2    [1502.502, 2251.251)\n",
       "3        [5.005, 753.754)\n",
       "4    [1502.502, 2251.251)\n",
       "Name: amount, dtype: category\n",
       "Categories (4, interval[float64]): [[5.005, 753.754) < [753.754, 1502.502) < [1502.502, 2251.251) < [2251.251, 3002.995)]"
      ]
     },
     "execution_count": 133,
     "metadata": {},
     "output_type": "execute_result"
    }
   ],
   "source": [
    "# discretise amount variable to 4 bins, and view data with the bin ranges\n",
    "pd.cut(data_amount['amount'], bins = 4, right=False).head()"
   ]
  },
  {
   "cell_type": "code",
   "execution_count": 134,
   "metadata": {},
   "outputs": [
    {
     "data": {
      "text/html": [
       "<div>\n",
       "<style scoped>\n",
       "    .dataframe tbody tr th:only-of-type {\n",
       "        vertical-align: middle;\n",
       "    }\n",
       "\n",
       "    .dataframe tbody tr th {\n",
       "        vertical-align: top;\n",
       "    }\n",
       "\n",
       "    .dataframe thead th {\n",
       "        text-align: right;\n",
       "    }\n",
       "</style>\n",
       "<table border=\"1\" class=\"dataframe\">\n",
       "  <thead>\n",
       "    <tr style=\"text-align: right;\">\n",
       "      <th></th>\n",
       "      <th>in-store</th>\n",
       "      <th>items</th>\n",
       "      <th>region</th>\n",
       "      <th>age</th>\n",
       "      <th>amount</th>\n",
       "    </tr>\n",
       "  </thead>\n",
       "  <tbody>\n",
       "    <tr>\n",
       "      <th>0</th>\n",
       "      <td>0</td>\n",
       "      <td>4</td>\n",
       "      <td>2</td>\n",
       "      <td>37</td>\n",
       "      <td>0</td>\n",
       "    </tr>\n",
       "    <tr>\n",
       "      <th>1</th>\n",
       "      <td>0</td>\n",
       "      <td>2</td>\n",
       "      <td>2</td>\n",
       "      <td>35</td>\n",
       "      <td>0</td>\n",
       "    </tr>\n",
       "    <tr>\n",
       "      <th>2</th>\n",
       "      <td>1</td>\n",
       "      <td>3</td>\n",
       "      <td>4</td>\n",
       "      <td>45</td>\n",
       "      <td>2</td>\n",
       "    </tr>\n",
       "    <tr>\n",
       "      <th>3</th>\n",
       "      <td>1</td>\n",
       "      <td>3</td>\n",
       "      <td>3</td>\n",
       "      <td>46</td>\n",
       "      <td>0</td>\n",
       "    </tr>\n",
       "    <tr>\n",
       "      <th>4</th>\n",
       "      <td>1</td>\n",
       "      <td>4</td>\n",
       "      <td>1</td>\n",
       "      <td>33</td>\n",
       "      <td>2</td>\n",
       "    </tr>\n",
       "  </tbody>\n",
       "</table>\n",
       "</div>"
      ],
      "text/plain": [
       "   in-store  items  region  age  amount\n",
       "0         0      4       2   37       0\n",
       "1         0      2       2   35       0\n",
       "2         1      3       4   45       2\n",
       "3         1      3       3   46       0\n",
       "4         1      4       1   33       2"
      ]
     },
     "execution_count": 134,
     "metadata": {},
     "output_type": "execute_result"
    }
   ],
   "source": [
    "# replace amount variable in dataframe with discretised amount, view data\n",
    "data_amount['amount'] = pd.cut(data_amount['amount'], bins = 4, labels=False, right=True)\n",
    "data_amount.head()"
   ]
  },
  {
   "cell_type": "code",
   "execution_count": 135,
   "metadata": {},
   "outputs": [
    {
     "name": "stdout",
     "output_type": "stream",
     "text": [
      "Summary of feature sample\n"
     ]
    },
    {
     "data": {
      "text/html": [
       "<div>\n",
       "<style scoped>\n",
       "    .dataframe tbody tr th:only-of-type {\n",
       "        vertical-align: middle;\n",
       "    }\n",
       "\n",
       "    .dataframe tbody tr th {\n",
       "        vertical-align: top;\n",
       "    }\n",
       "\n",
       "    .dataframe thead th {\n",
       "        text-align: right;\n",
       "    }\n",
       "</style>\n",
       "<table border=\"1\" class=\"dataframe\">\n",
       "  <thead>\n",
       "    <tr style=\"text-align: right;\">\n",
       "      <th></th>\n",
       "      <th>in-store</th>\n",
       "      <th>items</th>\n",
       "      <th>region</th>\n",
       "      <th>age</th>\n",
       "    </tr>\n",
       "  </thead>\n",
       "  <tbody>\n",
       "    <tr>\n",
       "      <th>0</th>\n",
       "      <td>0</td>\n",
       "      <td>4</td>\n",
       "      <td>2</td>\n",
       "      <td>37</td>\n",
       "    </tr>\n",
       "    <tr>\n",
       "      <th>1</th>\n",
       "      <td>0</td>\n",
       "      <td>2</td>\n",
       "      <td>2</td>\n",
       "      <td>35</td>\n",
       "    </tr>\n",
       "    <tr>\n",
       "      <th>2</th>\n",
       "      <td>1</td>\n",
       "      <td>3</td>\n",
       "      <td>4</td>\n",
       "      <td>45</td>\n",
       "    </tr>\n",
       "    <tr>\n",
       "      <th>3</th>\n",
       "      <td>1</td>\n",
       "      <td>3</td>\n",
       "      <td>3</td>\n",
       "      <td>46</td>\n",
       "    </tr>\n",
       "    <tr>\n",
       "      <th>4</th>\n",
       "      <td>1</td>\n",
       "      <td>4</td>\n",
       "      <td>1</td>\n",
       "      <td>33</td>\n",
       "    </tr>\n",
       "  </tbody>\n",
       "</table>\n",
       "</div>"
      ],
      "text/plain": [
       "   in-store  items  region  age\n",
       "0         0      4       2   37\n",
       "1         0      2       2   35\n",
       "2         1      3       4   45\n",
       "3         1      3       3   46\n",
       "4         1      4       1   33"
      ]
     },
     "execution_count": 135,
     "metadata": {},
     "output_type": "execute_result"
    }
   ],
   "source": [
    "#Select features\n",
    "X = data_amount.iloc[:,0:4]\n",
    "print('Summary of feature sample')\n",
    "X.head()"
   ]
  },
  {
   "cell_type": "code",
   "execution_count": 528,
   "metadata": {},
   "outputs": [],
   "source": [
    "#dependent variable\n",
    "y = data_amount['amount']"
   ]
  },
  {
   "cell_type": "code",
   "execution_count": 137,
   "metadata": {},
   "outputs": [],
   "source": [
    "#Train/Test Split\n",
    "X_train, X_test, y_train, y_test = train_test_split(X, y, test_size = .30, \n",
    "                                                random_state = 123)"
   ]
  },
  {
   "cell_type": "code",
   "execution_count": 138,
   "metadata": {},
   "outputs": [],
   "source": [
    "#Modeling (Classification)\n",
    "dtc = DecisionTreeClassifier(max_depth=5)\n",
    "dtcFit5 = dtc.fit(X_train,y_train)"
   ]
  },
  {
   "cell_type": "code",
   "execution_count": 140,
   "metadata": {},
   "outputs": [],
   "source": [
    "#Predictions\n",
    "dtc5pred = dtcFit5.predict(X_test)"
   ]
  },
  {
   "cell_type": "code",
   "execution_count": 141,
   "metadata": {},
   "outputs": [
    {
     "name": "stdout",
     "output_type": "stream",
     "text": [
      "              precision    recall  f1-score   support\n",
      "\n",
      "           0       0.78      0.82      0.80     13982\n",
      "           1       0.34      0.32      0.33      5423\n",
      "           2       0.26      0.23      0.24      3097\n",
      "           3       0.24      0.26      0.25      1492\n",
      "\n",
      "    accuracy                           0.59     23994\n",
      "   macro avg       0.41      0.41      0.41     23994\n",
      "weighted avg       0.58      0.59      0.59     23994\n",
      "\n"
     ]
    }
   ],
   "source": [
    "print(classification_report(y_test, dtc5pred))"
   ]
  },
  {
   "cell_type": "code",
   "execution_count": null,
   "metadata": {},
   "outputs": [],
   "source": [
    "#prior model for amount discretize with 3 bins performs much better\n",
    "#Amount with 4 bins is better prediction model"
   ]
  },
  {
   "cell_type": "code",
   "execution_count": null,
   "metadata": {},
   "outputs": [],
   "source": [
    "#Next Section: Build Decision Tree with In-Store as dependant variable"
   ]
  },
  {
   "cell_type": "code",
   "execution_count": 544,
   "metadata": {},
   "outputs": [
    {
     "data": {
      "text/html": [
       "<div>\n",
       "<style scoped>\n",
       "    .dataframe tbody tr th:only-of-type {\n",
       "        vertical-align: middle;\n",
       "    }\n",
       "\n",
       "    .dataframe tbody tr th {\n",
       "        vertical-align: top;\n",
       "    }\n",
       "\n",
       "    .dataframe thead th {\n",
       "        text-align: right;\n",
       "    }\n",
       "</style>\n",
       "<table border=\"1\" class=\"dataframe\">\n",
       "  <thead>\n",
       "    <tr style=\"text-align: right;\">\n",
       "      <th></th>\n",
       "      <th>items</th>\n",
       "      <th>amount</th>\n",
       "      <th>region</th>\n",
       "      <th>age</th>\n",
       "      <th>in-store</th>\n",
       "    </tr>\n",
       "  </thead>\n",
       "  <tbody>\n",
       "    <tr>\n",
       "      <th>0</th>\n",
       "      <td>4</td>\n",
       "      <td>281.03</td>\n",
       "      <td>2</td>\n",
       "      <td>37</td>\n",
       "      <td>0</td>\n",
       "    </tr>\n",
       "    <tr>\n",
       "      <th>1</th>\n",
       "      <td>2</td>\n",
       "      <td>219.51</td>\n",
       "      <td>2</td>\n",
       "      <td>35</td>\n",
       "      <td>0</td>\n",
       "    </tr>\n",
       "    <tr>\n",
       "      <th>2</th>\n",
       "      <td>3</td>\n",
       "      <td>1525.70</td>\n",
       "      <td>4</td>\n",
       "      <td>45</td>\n",
       "      <td>1</td>\n",
       "    </tr>\n",
       "    <tr>\n",
       "      <th>3</th>\n",
       "      <td>3</td>\n",
       "      <td>715.25</td>\n",
       "      <td>3</td>\n",
       "      <td>46</td>\n",
       "      <td>1</td>\n",
       "    </tr>\n",
       "    <tr>\n",
       "      <th>4</th>\n",
       "      <td>4</td>\n",
       "      <td>1937.50</td>\n",
       "      <td>1</td>\n",
       "      <td>33</td>\n",
       "      <td>1</td>\n",
       "    </tr>\n",
       "  </tbody>\n",
       "</table>\n",
       "</div>"
      ],
      "text/plain": [
       "   items   amount  region  age  in-store\n",
       "0      4   281.03       2   37         0\n",
       "1      2   219.51       2   35         0\n",
       "2      3  1525.70       4   45         1\n",
       "3      3   715.25       3   46         1\n",
       "4      4  1937.50       1   33         1"
      ]
     },
     "execution_count": 544,
     "metadata": {},
     "output_type": "execute_result"
    }
   ],
   "source": [
    "# create new dataframe with amount in last column\n",
    "column_names = [\"items\", \"amount\", \"region\", \"age\", \"in-store\"]\n",
    "data_instore = df.reindex(columns=column_names)\n",
    "data_instore.head()"
   ]
  },
  {
   "cell_type": "code",
   "execution_count": 545,
   "metadata": {},
   "outputs": [],
   "source": [
    "data_instore.rename(columns = {'in-store': 'instore'}, inplace = True)\n"
   ]
  },
  {
   "cell_type": "code",
   "execution_count": 546,
   "metadata": {},
   "outputs": [
    {
     "data": {
      "text/html": [
       "<div>\n",
       "<style scoped>\n",
       "    .dataframe tbody tr th:only-of-type {\n",
       "        vertical-align: middle;\n",
       "    }\n",
       "\n",
       "    .dataframe tbody tr th {\n",
       "        vertical-align: top;\n",
       "    }\n",
       "\n",
       "    .dataframe thead th {\n",
       "        text-align: right;\n",
       "    }\n",
       "</style>\n",
       "<table border=\"1\" class=\"dataframe\">\n",
       "  <thead>\n",
       "    <tr style=\"text-align: right;\">\n",
       "      <th></th>\n",
       "      <th>items</th>\n",
       "      <th>amount</th>\n",
       "      <th>region</th>\n",
       "      <th>age</th>\n",
       "      <th>instore</th>\n",
       "    </tr>\n",
       "  </thead>\n",
       "  <tbody>\n",
       "    <tr>\n",
       "      <th>0</th>\n",
       "      <td>4</td>\n",
       "      <td>281.03</td>\n",
       "      <td>2</td>\n",
       "      <td>37</td>\n",
       "      <td>0</td>\n",
       "    </tr>\n",
       "    <tr>\n",
       "      <th>1</th>\n",
       "      <td>2</td>\n",
       "      <td>219.51</td>\n",
       "      <td>2</td>\n",
       "      <td>35</td>\n",
       "      <td>0</td>\n",
       "    </tr>\n",
       "    <tr>\n",
       "      <th>2</th>\n",
       "      <td>3</td>\n",
       "      <td>1525.70</td>\n",
       "      <td>4</td>\n",
       "      <td>45</td>\n",
       "      <td>1</td>\n",
       "    </tr>\n",
       "    <tr>\n",
       "      <th>3</th>\n",
       "      <td>3</td>\n",
       "      <td>715.25</td>\n",
       "      <td>3</td>\n",
       "      <td>46</td>\n",
       "      <td>1</td>\n",
       "    </tr>\n",
       "    <tr>\n",
       "      <th>4</th>\n",
       "      <td>4</td>\n",
       "      <td>1937.50</td>\n",
       "      <td>1</td>\n",
       "      <td>33</td>\n",
       "      <td>1</td>\n",
       "    </tr>\n",
       "  </tbody>\n",
       "</table>\n",
       "</div>"
      ],
      "text/plain": [
       "   items   amount  region  age  instore\n",
       "0      4   281.03       2   37        0\n",
       "1      2   219.51       2   35        0\n",
       "2      3  1525.70       4   45        1\n",
       "3      3   715.25       3   46        1\n",
       "4      4  1937.50       1   33        1"
      ]
     },
     "execution_count": 546,
     "metadata": {},
     "output_type": "execute_result"
    }
   ],
   "source": [
    "data_instore.head()"
   ]
  },
  {
   "cell_type": "code",
   "execution_count": 547,
   "metadata": {},
   "outputs": [
    {
     "name": "stdout",
     "output_type": "stream",
     "text": [
      "Summary of feature sample\n"
     ]
    },
    {
     "data": {
      "text/html": [
       "<div>\n",
       "<style scoped>\n",
       "    .dataframe tbody tr th:only-of-type {\n",
       "        vertical-align: middle;\n",
       "    }\n",
       "\n",
       "    .dataframe tbody tr th {\n",
       "        vertical-align: top;\n",
       "    }\n",
       "\n",
       "    .dataframe thead th {\n",
       "        text-align: right;\n",
       "    }\n",
       "</style>\n",
       "<table border=\"1\" class=\"dataframe\">\n",
       "  <thead>\n",
       "    <tr style=\"text-align: right;\">\n",
       "      <th></th>\n",
       "      <th>items</th>\n",
       "      <th>amount</th>\n",
       "      <th>region</th>\n",
       "      <th>age</th>\n",
       "    </tr>\n",
       "  </thead>\n",
       "  <tbody>\n",
       "    <tr>\n",
       "      <th>0</th>\n",
       "      <td>4</td>\n",
       "      <td>281.03</td>\n",
       "      <td>2</td>\n",
       "      <td>37</td>\n",
       "    </tr>\n",
       "    <tr>\n",
       "      <th>1</th>\n",
       "      <td>2</td>\n",
       "      <td>219.51</td>\n",
       "      <td>2</td>\n",
       "      <td>35</td>\n",
       "    </tr>\n",
       "    <tr>\n",
       "      <th>2</th>\n",
       "      <td>3</td>\n",
       "      <td>1525.70</td>\n",
       "      <td>4</td>\n",
       "      <td>45</td>\n",
       "    </tr>\n",
       "    <tr>\n",
       "      <th>3</th>\n",
       "      <td>3</td>\n",
       "      <td>715.25</td>\n",
       "      <td>3</td>\n",
       "      <td>46</td>\n",
       "    </tr>\n",
       "    <tr>\n",
       "      <th>4</th>\n",
       "      <td>4</td>\n",
       "      <td>1937.50</td>\n",
       "      <td>1</td>\n",
       "      <td>33</td>\n",
       "    </tr>\n",
       "  </tbody>\n",
       "</table>\n",
       "</div>"
      ],
      "text/plain": [
       "   items   amount  region  age\n",
       "0      4   281.03       2   37\n",
       "1      2   219.51       2   35\n",
       "2      3  1525.70       4   45\n",
       "3      3   715.25       3   46\n",
       "4      4  1937.50       1   33"
      ]
     },
     "execution_count": 547,
     "metadata": {},
     "output_type": "execute_result"
    }
   ],
   "source": [
    "#Select features\n",
    "X = data_instore.iloc[:,0:4]\n",
    "print('Summary of feature sample')\n",
    "X.head()"
   ]
  },
  {
   "cell_type": "code",
   "execution_count": 549,
   "metadata": {},
   "outputs": [],
   "source": [
    "#dependent variable\n",
    "y = data_instore['instore']"
   ]
  },
  {
   "cell_type": "code",
   "execution_count": 550,
   "metadata": {},
   "outputs": [
    {
     "data": {
      "text/plain": [
       "0    0\n",
       "1    0\n",
       "2    1\n",
       "3    1\n",
       "4    1\n",
       "Name: instore, dtype: int64"
      ]
     },
     "execution_count": 550,
     "metadata": {},
     "output_type": "execute_result"
    }
   ],
   "source": [
    "y.head()"
   ]
  },
  {
   "cell_type": "code",
   "execution_count": 551,
   "metadata": {},
   "outputs": [],
   "source": [
    "#Train/Test Split\n",
    "X_train, X_test, y_train, y_test = train_test_split(X, y, test_size = .30, \n",
    "                                                random_state = 123)"
   ]
  },
  {
   "cell_type": "code",
   "execution_count": 552,
   "metadata": {},
   "outputs": [],
   "source": [
    "#Modeling (Classification)\n",
    "dtc = DecisionTreeClassifier(max_depth=5)\n",
    "dtcFit6 = dtc.fit(X_train,np.ravel(y_train,order='C'))"
   ]
  },
  {
   "cell_type": "code",
   "execution_count": 553,
   "metadata": {},
   "outputs": [],
   "source": [
    "#Predictions\n",
    "dtc6pred = dtcFit6.predict(X_test)"
   ]
  },
  {
   "cell_type": "code",
   "execution_count": 554,
   "metadata": {},
   "outputs": [
    {
     "name": "stdout",
     "output_type": "stream",
     "text": [
      "              precision    recall  f1-score   support\n",
      "\n",
      "           0       1.00      0.73      0.85     11874\n",
      "           1       0.79      1.00      0.88     12120\n",
      "\n",
      "    accuracy                           0.87     23994\n",
      "   macro avg       0.90      0.87      0.86     23994\n",
      "weighted avg       0.90      0.87      0.87     23994\n",
      "\n"
     ]
    }
   ],
   "source": [
    "print(classification_report(y_test, dtc6pred))"
   ]
  },
  {
   "cell_type": "code",
   "execution_count": 555,
   "metadata": {},
   "outputs": [
    {
     "data": {
      "text/plain": [
       "<sklearn.metrics._plot.confusion_matrix.ConfusionMatrixDisplay at 0x1c390b495b0>"
      ]
     },
     "execution_count": 555,
     "metadata": {},
     "output_type": "execute_result"
    },
    {
     "data": {
      "image/png": "[encoded data removed]",
      "text/plain": [
       "<Figure size 432x288 with 2 Axes>"
      ]
     },
     "metadata": {
      "needs_background": "light"
     },
     "output_type": "display_data"
    }
   ],
   "source": [
    "# plot_confusion matrix() will run test data down the tree and draw a confusion matrix\n",
    "plot_confusion_matrix(dtcFit6, X_test, y_test, display_labels=['Online', 'In-Store'])"
   ]
  },
  {
   "cell_type": "code",
   "execution_count": null,
   "metadata": {},
   "outputs": [],
   "source": [
    "#the confusion plot shows a visual of the high accuracy."
   ]
  },
  {
   "cell_type": "code",
   "execution_count": 557,
   "metadata": {},
   "outputs": [
    {
     "data": {
      "image/svg+xml": [
       "<?xml version=\"1.0\" encoding=\"UTF-8\" standalone=\"no\"?>\r\n",
       "<!DOCTYPE svg PUBLIC \"-//W3C//DTD SVG 1.1//EN\"\r\n",
       " \"http://www.w3.org/Graphics/SVG/1.1/DTD/svg11.dtd\">\r\n",
       "<!-- Generated by graphviz version 2.38.0 (20140413.2041)\r\n",
       " -->\r\n",
       "<!-- Title: Tree Pages: 1 -->\r\n",
       "<svg width=\"630pt\" height=\"761pt\"\r\n",
       " viewBox=\"0.00 0.00 630.00 761.00\" xmlns=\"http://www.w3.org/2000/svg\" xmlns:xlink=\"http://www.w3.org/1999/xlink\">\r\n",
       "<g id=\"graph0\" class=\"graph\" transform=\"scale(1 1) rotate(0) translate(4 757)\">\r\n",
       "<title>Tree</title>\r\n",
       "<polygon fill=\"white\" stroke=\"none\" points=\"-4,4 -4,-757 626,-757 626,4 -4,4\"/>\r\n",
       "<!-- 0 -->\r\n",
       "<g id=\"node1\" class=\"node\"><title>0</title>\r\n",
       "<path fill=\"#fffefd\" stroke=\"black\" d=\"M299.5,-753C299.5,-753 160.5,-753 160.5,-753 154.5,-753 148.5,-747 148.5,-741 148.5,-741 148.5,-667 148.5,-667 148.5,-661 154.5,-655 160.5,-655 160.5,-655 299.5,-655 299.5,-655 305.5,-655 311.5,-661 311.5,-667 311.5,-667 311.5,-741 311.5,-741 311.5,-747 305.5,-753 299.5,-753\"/>\r\n",
       "<text text-anchor=\"start\" x=\"203.5\" y=\"-737.8\" font-family=\"Helvetica,sans-Serif\" font-size=\"14.00\">node #0</text>\r\n",
       "<text text-anchor=\"start\" x=\"192\" y=\"-722.8\" font-family=\"Helvetica,sans-Serif\" font-size=\"14.00\">region ≤ 1.5</text>\r\n",
       "<text text-anchor=\"start\" x=\"201\" y=\"-707.8\" font-family=\"Helvetica,sans-Serif\" font-size=\"14.00\">gini = 0.5</text>\r\n",
       "<text text-anchor=\"start\" x=\"174\" y=\"-692.8\" font-family=\"Helvetica,sans-Serif\" font-size=\"14.00\">samples = 55985</text>\r\n",
       "<text text-anchor=\"start\" x=\"156.5\" y=\"-677.8\" font-family=\"Helvetica,sans-Serif\" font-size=\"14.00\">value = [28115, 27870]</text>\r\n",
       "<text text-anchor=\"start\" x=\"185\" y=\"-662.8\" font-family=\"Helvetica,sans-Serif\" font-size=\"14.00\">class = Online</text>\r\n",
       "</g>\r\n",
       "<!-- 1 -->\r\n",
       "<g id=\"node2\" class=\"node\"><title>1</title>\r\n",
       "<path fill=\"#399de5\" stroke=\"black\" d=\"M201,-611.5C201,-611.5 95,-611.5 95,-611.5 89,-611.5 83,-605.5 83,-599.5 83,-599.5 83,-540.5 83,-540.5 83,-534.5 89,-528.5 95,-528.5 95,-528.5 201,-528.5 201,-528.5 207,-528.5 213,-534.5 213,-540.5 213,-540.5 213,-599.5 213,-599.5 213,-605.5 207,-611.5 201,-611.5\"/>\r\n",
       "<text text-anchor=\"start\" x=\"121.5\" y=\"-596.3\" font-family=\"Helvetica,sans-Serif\" font-size=\"14.00\">node #1</text>\r\n",
       "<text text-anchor=\"start\" x=\"119\" y=\"-581.3\" font-family=\"Helvetica,sans-Serif\" font-size=\"14.00\">gini = 0.0</text>\r\n",
       "<text text-anchor=\"start\" x=\"92\" y=\"-566.3\" font-family=\"Helvetica,sans-Serif\" font-size=\"14.00\">samples = 11159</text>\r\n",
       "<text text-anchor=\"start\" x=\"91\" y=\"-551.3\" font-family=\"Helvetica,sans-Serif\" font-size=\"14.00\">value = [0, 11159]</text>\r\n",
       "<text text-anchor=\"start\" x=\"99\" y=\"-536.3\" font-family=\"Helvetica,sans-Serif\" font-size=\"14.00\">class = In&#45;store</text>\r\n",
       "</g>\r\n",
       "<!-- 0&#45;&gt;1 -->\r\n",
       "<g id=\"edge1\" class=\"edge\"><title>0&#45;&gt;1</title>\r\n",
       "<path fill=\"none\" stroke=\"black\" d=\"M200.164,-654.972C193.158,-643.693 185.681,-631.657 178.64,-620.323\"/>\r\n",
       "<polygon fill=\"black\" stroke=\"black\" points=\"181.606,-618.464 173.356,-611.817 175.66,-622.158 181.606,-618.464\"/>\r\n",
       "<text text-anchor=\"middle\" x=\"167.668\" y=\"-632.461\" font-family=\"Helvetica,sans-Serif\" font-size=\"14.00\">True</text>\r\n",
       "</g>\r\n",
       "<!-- 2 -->\r\n",
       "<g id=\"node3\" class=\"node\"><title>2</title>\r\n",
       "<path fill=\"#f4ccaf\" stroke=\"black\" d=\"M382.5,-619C382.5,-619 243.5,-619 243.5,-619 237.5,-619 231.5,-613 231.5,-607 231.5,-607 231.5,-533 231.5,-533 231.5,-527 237.5,-521 243.5,-521 243.5,-521 382.5,-521 382.5,-521 388.5,-521 394.5,-527 394.5,-533 394.5,-533 394.5,-607 394.5,-607 394.5,-613 388.5,-619 382.5,-619\"/>\r\n",
       "<text text-anchor=\"start\" x=\"286.5\" y=\"-603.8\" font-family=\"Helvetica,sans-Serif\" font-size=\"14.00\">node #2</text>\r\n",
       "<text text-anchor=\"start\" x=\"275\" y=\"-588.8\" font-family=\"Helvetica,sans-Serif\" font-size=\"14.00\">region ≤ 2.5</text>\r\n",
       "<text text-anchor=\"start\" x=\"275.5\" y=\"-573.8\" font-family=\"Helvetica,sans-Serif\" font-size=\"14.00\">gini = 0.468</text>\r\n",
       "<text text-anchor=\"start\" x=\"257\" y=\"-558.8\" font-family=\"Helvetica,sans-Serif\" font-size=\"14.00\">samples = 44826</text>\r\n",
       "<text text-anchor=\"start\" x=\"239.5\" y=\"-543.8\" font-family=\"Helvetica,sans-Serif\" font-size=\"14.00\">value = [28115, 16711]</text>\r\n",
       "<text text-anchor=\"start\" x=\"268\" y=\"-528.8\" font-family=\"Helvetica,sans-Serif\" font-size=\"14.00\">class = Online</text>\r\n",
       "</g>\r\n",
       "<!-- 0&#45;&gt;2 -->\r\n",
       "<g id=\"edge2\" class=\"edge\"><title>0&#45;&gt;2</title>\r\n",
       "<path fill=\"none\" stroke=\"black\" d=\"M260.2,-654.972C265.75,-646.145 271.591,-636.855 277.285,-627.8\"/>\r\n",
       "<polygon fill=\"black\" stroke=\"black\" points=\"280.324,-629.543 282.684,-619.214 274.398,-625.816 280.324,-629.543\"/>\r\n",
       "<text text-anchor=\"middle\" x=\"288.239\" y=\"-639.889\" font-family=\"Helvetica,sans-Serif\" font-size=\"14.00\">False</text>\r\n",
       "</g>\r\n",
       "<!-- 3 -->\r\n",
       "<g id=\"node4\" class=\"node\"><title>3</title>\r\n",
       "<path fill=\"#e58139\" stroke=\"black\" d=\"M283,-477.5C283,-477.5 177,-477.5 177,-477.5 171,-477.5 165,-471.5 165,-465.5 165,-465.5 165,-406.5 165,-406.5 165,-400.5 171,-394.5 177,-394.5 177,-394.5 283,-394.5 283,-394.5 289,-394.5 295,-400.5 295,-406.5 295,-406.5 295,-465.5 295,-465.5 295,-471.5 289,-477.5 283,-477.5\"/>\r\n",
       "<text text-anchor=\"start\" x=\"203.5\" y=\"-462.3\" font-family=\"Helvetica,sans-Serif\" font-size=\"14.00\">node #3</text>\r\n",
       "<text text-anchor=\"start\" x=\"201\" y=\"-447.3\" font-family=\"Helvetica,sans-Serif\" font-size=\"14.00\">gini = 0.0</text>\r\n",
       "<text text-anchor=\"start\" x=\"174\" y=\"-432.3\" font-family=\"Helvetica,sans-Serif\" font-size=\"14.00\">samples = 14015</text>\r\n",
       "<text text-anchor=\"start\" x=\"173\" y=\"-417.3\" font-family=\"Helvetica,sans-Serif\" font-size=\"14.00\">value = [14015, 0]</text>\r\n",
       "<text text-anchor=\"start\" x=\"185\" y=\"-402.3\" font-family=\"Helvetica,sans-Serif\" font-size=\"14.00\">class = Online</text>\r\n",
       "</g>\r\n",
       "<!-- 2&#45;&gt;3 -->\r\n",
       "<g id=\"edge3\" class=\"edge\"><title>2&#45;&gt;3</title>\r\n",
       "<path fill=\"none\" stroke=\"black\" d=\"M282.8,-520.972C275.709,-509.693 268.14,-497.657 261.014,-486.323\"/>\r\n",
       "<polygon fill=\"black\" stroke=\"black\" points=\"263.951,-484.419 255.665,-477.817 258.025,-488.145 263.951,-484.419\"/>\r\n",
       "</g>\r\n",
       "<!-- 4 -->\r\n",
       "<g id=\"node5\" class=\"node\"><title>4</title>\r\n",
       "<path fill=\"#e0f0fb\" stroke=\"black\" d=\"M464.5,-485C464.5,-485 325.5,-485 325.5,-485 319.5,-485 313.5,-479 313.5,-473 313.5,-473 313.5,-399 313.5,-399 313.5,-393 319.5,-387 325.5,-387 325.5,-387 464.5,-387 464.5,-387 470.5,-387 476.5,-393 476.5,-399 476.5,-399 476.5,-473 476.5,-473 476.5,-479 470.5,-485 464.5,-485\"/>\r\n",
       "<text text-anchor=\"start\" x=\"368.5\" y=\"-469.8\" font-family=\"Helvetica,sans-Serif\" font-size=\"14.00\">node #4</text>\r\n",
       "<text text-anchor=\"start\" x=\"337.5\" y=\"-454.8\" font-family=\"Helvetica,sans-Serif\" font-size=\"14.00\">amount ≤ 1999.45</text>\r\n",
       "<text text-anchor=\"start\" x=\"357.5\" y=\"-439.8\" font-family=\"Helvetica,sans-Serif\" font-size=\"14.00\">gini = 0.496</text>\r\n",
       "<text text-anchor=\"start\" x=\"339\" y=\"-424.8\" font-family=\"Helvetica,sans-Serif\" font-size=\"14.00\">samples = 30811</text>\r\n",
       "<text text-anchor=\"start\" x=\"321.5\" y=\"-409.8\" font-family=\"Helvetica,sans-Serif\" font-size=\"14.00\">value = [14100, 16711]</text>\r\n",
       "<text text-anchor=\"start\" x=\"346\" y=\"-394.8\" font-family=\"Helvetica,sans-Serif\" font-size=\"14.00\">class = In&#45;store</text>\r\n",
       "</g>\r\n",
       "<!-- 2&#45;&gt;4 -->\r\n",
       "<g id=\"edge4\" class=\"edge\"><title>2&#45;&gt;4</title>\r\n",
       "<path fill=\"none\" stroke=\"black\" d=\"M342.836,-520.972C348.319,-512.145 354.09,-502.855 359.715,-493.8\"/>\r\n",
       "<polygon fill=\"black\" stroke=\"black\" points=\"362.745,-495.555 365.049,-485.214 356.799,-491.861 362.745,-495.555\"/>\r\n",
       "</g>\r\n",
       "<!-- 5 -->\r\n",
       "<g id=\"node6\" class=\"node\"><title>5</title>\r\n",
       "<path fill=\"#a8d4f4\" stroke=\"black\" d=\"M381.5,-351C381.5,-351 250.5,-351 250.5,-351 244.5,-351 238.5,-345 238.5,-339 238.5,-339 238.5,-265 238.5,-265 238.5,-259 244.5,-253 250.5,-253 250.5,-253 381.5,-253 381.5,-253 387.5,-253 393.5,-259 393.5,-265 393.5,-265 393.5,-339 393.5,-339 393.5,-345 387.5,-351 381.5,-351\"/>\r\n",
       "<text text-anchor=\"start\" x=\"289.5\" y=\"-335.8\" font-family=\"Helvetica,sans-Serif\" font-size=\"14.00\">node #5</text>\r\n",
       "<text text-anchor=\"start\" x=\"262.5\" y=\"-320.8\" font-family=\"Helvetica,sans-Serif\" font-size=\"14.00\">amount ≤ 999.78</text>\r\n",
       "<text text-anchor=\"start\" x=\"282.5\" y=\"-305.8\" font-family=\"Helvetica,sans-Serif\" font-size=\"14.00\">gini = 0.46</text>\r\n",
       "<text text-anchor=\"start\" x=\"260\" y=\"-290.8\" font-family=\"Helvetica,sans-Serif\" font-size=\"14.00\">samples = 26065</text>\r\n",
       "<text text-anchor=\"start\" x=\"246.5\" y=\"-275.8\" font-family=\"Helvetica,sans-Serif\" font-size=\"14.00\">value = [9354, 16711]</text>\r\n",
       "<text text-anchor=\"start\" x=\"267\" y=\"-260.8\" font-family=\"Helvetica,sans-Serif\" font-size=\"14.00\">class = In&#45;store</text>\r\n",
       "</g>\r\n",
       "<!-- 4&#45;&gt;5 -->\r\n",
       "<g id=\"edge5\" class=\"edge\"><title>4&#45;&gt;5</title>\r\n",
       "<path fill=\"none\" stroke=\"black\" d=\"M366.256,-386.972C360.973,-378.145 355.413,-368.855 349.994,-359.8\"/>\r\n",
       "<polygon fill=\"black\" stroke=\"black\" points=\"352.994,-357.997 344.855,-351.214 346.987,-361.592 352.994,-357.997\"/>\r\n",
       "</g>\r\n",
       "<!-- 12 -->\r\n",
       "<g id=\"node13\" class=\"node\"><title>12</title>\r\n",
       "<path fill=\"#e58139\" stroke=\"black\" d=\"M522,-343.5C522,-343.5 424,-343.5 424,-343.5 418,-343.5 412,-337.5 412,-331.5 412,-331.5 412,-272.5 412,-272.5 412,-266.5 418,-260.5 424,-260.5 424,-260.5 522,-260.5 522,-260.5 528,-260.5 534,-266.5 534,-272.5 534,-272.5 534,-331.5 534,-331.5 534,-337.5 528,-343.5 522,-343.5\"/>\r\n",
       "<text text-anchor=\"start\" x=\"442.5\" y=\"-328.3\" font-family=\"Helvetica,sans-Serif\" font-size=\"14.00\">node #12</text>\r\n",
       "<text text-anchor=\"start\" x=\"444\" y=\"-313.3\" font-family=\"Helvetica,sans-Serif\" font-size=\"14.00\">gini = 0.0</text>\r\n",
       "<text text-anchor=\"start\" x=\"421.5\" y=\"-298.3\" font-family=\"Helvetica,sans-Serif\" font-size=\"14.00\">samples = 4746</text>\r\n",
       "<text text-anchor=\"start\" x=\"420\" y=\"-283.3\" font-family=\"Helvetica,sans-Serif\" font-size=\"14.00\">value = [4746, 0]</text>\r\n",
       "<text text-anchor=\"start\" x=\"428\" y=\"-268.3\" font-family=\"Helvetica,sans-Serif\" font-size=\"14.00\">class = Online</text>\r\n",
       "</g>\r\n",
       "<!-- 4&#45;&gt;12 -->\r\n",
       "<g id=\"edge12\" class=\"edge\"><title>4&#45;&gt;12</title>\r\n",
       "<path fill=\"none\" stroke=\"black\" d=\"M423.38,-386.972C429.98,-375.804 437.018,-363.893 443.658,-352.656\"/>\r\n",
       "<polygon fill=\"black\" stroke=\"black\" points=\"446.807,-354.206 448.881,-343.817 440.781,-350.645 446.807,-354.206\"/>\r\n",
       "</g>\r\n",
       "<!-- 6 -->\r\n",
       "<g id=\"node7\" class=\"node\"><title>6</title>\r\n",
       "<path fill=\"#81c1ee\" stroke=\"black\" d=\"M297.5,-217C297.5,-217 166.5,-217 166.5,-217 160.5,-217 154.5,-211 154.5,-205 154.5,-205 154.5,-131 154.5,-131 154.5,-125 160.5,-119 166.5,-119 166.5,-119 297.5,-119 297.5,-119 303.5,-119 309.5,-125 309.5,-131 309.5,-131 309.5,-205 309.5,-205 309.5,-211 303.5,-217 297.5,-217\"/>\r\n",
       "<text text-anchor=\"start\" x=\"205.5\" y=\"-201.8\" font-family=\"Helvetica,sans-Serif\" font-size=\"14.00\">node #6</text>\r\n",
       "<text text-anchor=\"start\" x=\"194\" y=\"-186.8\" font-family=\"Helvetica,sans-Serif\" font-size=\"14.00\">region ≤ 3.5</text>\r\n",
       "<text text-anchor=\"start\" x=\"194.5\" y=\"-171.8\" font-family=\"Helvetica,sans-Serif\" font-size=\"14.00\">gini = 0.391</text>\r\n",
       "<text text-anchor=\"start\" x=\"176\" y=\"-156.8\" font-family=\"Helvetica,sans-Serif\" font-size=\"14.00\">samples = 16519</text>\r\n",
       "<text text-anchor=\"start\" x=\"162.5\" y=\"-141.8\" font-family=\"Helvetica,sans-Serif\" font-size=\"14.00\">value = [4404, 12115]</text>\r\n",
       "<text text-anchor=\"start\" x=\"183\" y=\"-126.8\" font-family=\"Helvetica,sans-Serif\" font-size=\"14.00\">class = In&#45;store</text>\r\n",
       "</g>\r\n",
       "<!-- 5&#45;&gt;6 -->\r\n",
       "<g id=\"edge6\" class=\"edge\"><title>5&#45;&gt;6</title>\r\n",
       "<path fill=\"none\" stroke=\"black\" d=\"M285.436,-252.972C279.82,-244.145 273.908,-234.855 268.146,-225.8\"/>\r\n",
       "<polygon fill=\"black\" stroke=\"black\" points=\"271.003,-223.771 262.682,-217.214 265.098,-227.53 271.003,-223.771\"/>\r\n",
       "</g>\r\n",
       "<!-- 9 -->\r\n",
       "<g id=\"node10\" class=\"node\"><title>9</title>\r\n",
       "<path fill=\"#fdf6f1\" stroke=\"black\" d=\"M462,-217C462,-217 340,-217 340,-217 334,-217 328,-211 328,-205 328,-205 328,-131 328,-131 328,-125 334,-119 340,-119 340,-119 462,-119 462,-119 468,-119 474,-125 474,-131 474,-131 474,-205 474,-205 474,-211 468,-217 462,-217\"/>\r\n",
       "<text text-anchor=\"start\" x=\"374.5\" y=\"-201.8\" font-family=\"Helvetica,sans-Serif\" font-size=\"14.00\">node #9</text>\r\n",
       "<text text-anchor=\"start\" x=\"363\" y=\"-186.8\" font-family=\"Helvetica,sans-Serif\" font-size=\"14.00\">region ≤ 3.5</text>\r\n",
       "<text text-anchor=\"start\" x=\"363.5\" y=\"-171.8\" font-family=\"Helvetica,sans-Serif\" font-size=\"14.00\">gini = 0.499</text>\r\n",
       "<text text-anchor=\"start\" x=\"349.5\" y=\"-156.8\" font-family=\"Helvetica,sans-Serif\" font-size=\"14.00\">samples = 9546</text>\r\n",
       "<text text-anchor=\"start\" x=\"336\" y=\"-141.8\" font-family=\"Helvetica,sans-Serif\" font-size=\"14.00\">value = [4950, 4596]</text>\r\n",
       "<text text-anchor=\"start\" x=\"356\" y=\"-126.8\" font-family=\"Helvetica,sans-Serif\" font-size=\"14.00\">class = Online</text>\r\n",
       "</g>\r\n",
       "<!-- 5&#45;&gt;9 -->\r\n",
       "<g id=\"edge9\" class=\"edge\"><title>5&#45;&gt;9</title>\r\n",
       "<path fill=\"none\" stroke=\"black\" d=\"M346.927,-252.972C352.611,-244.145 358.593,-234.855 364.424,-225.8\"/>\r\n",
       "<polygon fill=\"black\" stroke=\"black\" points=\"367.482,-227.516 369.953,-217.214 361.596,-223.727 367.482,-227.516\"/>\r\n",
       "</g>\r\n",
       "<!-- 7 -->\r\n",
       "<g id=\"node8\" class=\"node\"><title>7</title>\r\n",
       "<path fill=\"#61b1ea\" stroke=\"black\" d=\"M134,-83C134,-83 12,-83 12,-83 6,-83 0,-77 0,-71 0,-71 0,-12 0,-12 0,-6 6,-0 12,-0 12,-0 134,-0 134,-0 140,-0 146,-6 146,-12 146,-12 146,-71 146,-71 146,-77 140,-83 134,-83\"/>\r\n",
       "<text text-anchor=\"start\" x=\"46.5\" y=\"-67.8\" font-family=\"Helvetica,sans-Serif\" font-size=\"14.00\">node #7</text>\r\n",
       "<text text-anchor=\"start\" x=\"35.5\" y=\"-52.8\" font-family=\"Helvetica,sans-Serif\" font-size=\"14.00\">gini = 0.278</text>\r\n",
       "<text text-anchor=\"start\" x=\"21.5\" y=\"-37.8\" font-family=\"Helvetica,sans-Serif\" font-size=\"14.00\">samples = 9199</text>\r\n",
       "<text text-anchor=\"start\" x=\"8\" y=\"-22.8\" font-family=\"Helvetica,sans-Serif\" font-size=\"14.00\">value = [1533, 7666]</text>\r\n",
       "<text text-anchor=\"start\" x=\"24\" y=\"-7.8\" font-family=\"Helvetica,sans-Serif\" font-size=\"14.00\">class = In&#45;store</text>\r\n",
       "</g>\r\n",
       "<!-- 6&#45;&gt;7 -->\r\n",
       "<g id=\"edge7\" class=\"edge\"><title>6&#45;&gt;7</title>\r\n",
       "<path fill=\"none\" stroke=\"black\" d=\"M170.526,-118.865C158.125,-109.154 145.106,-98.96 132.764,-89.2961\"/>\r\n",
       "<polygon fill=\"black\" stroke=\"black\" points=\"134.796,-86.4419 124.764,-83.0325 130.48,-91.9533 134.796,-86.4419\"/>\r\n",
       "</g>\r\n",
       "<!-- 8 -->\r\n",
       "<g id=\"node9\" class=\"node\"><title>8</title>\r\n",
       "<path fill=\"#b9dcf6\" stroke=\"black\" d=\"M298,-83C298,-83 176,-83 176,-83 170,-83 164,-77 164,-71 164,-71 164,-12 164,-12 164,-6 170,-0 176,-0 176,-0 298,-0 298,-0 304,-0 310,-6 310,-12 310,-12 310,-71 310,-71 310,-77 304,-83 298,-83\"/>\r\n",
       "<text text-anchor=\"start\" x=\"210.5\" y=\"-67.8\" font-family=\"Helvetica,sans-Serif\" font-size=\"14.00\">node #8</text>\r\n",
       "<text text-anchor=\"start\" x=\"199.5\" y=\"-52.8\" font-family=\"Helvetica,sans-Serif\" font-size=\"14.00\">gini = 0.477</text>\r\n",
       "<text text-anchor=\"start\" x=\"185.5\" y=\"-37.8\" font-family=\"Helvetica,sans-Serif\" font-size=\"14.00\">samples = 7320</text>\r\n",
       "<text text-anchor=\"start\" x=\"172\" y=\"-22.8\" font-family=\"Helvetica,sans-Serif\" font-size=\"14.00\">value = [2871, 4449]</text>\r\n",
       "<text text-anchor=\"start\" x=\"188\" y=\"-7.8\" font-family=\"Helvetica,sans-Serif\" font-size=\"14.00\">class = In&#45;store</text>\r\n",
       "</g>\r\n",
       "<!-- 6&#45;&gt;8 -->\r\n",
       "<g id=\"edge8\" class=\"edge\"><title>6&#45;&gt;8</title>\r\n",
       "<path fill=\"none\" stroke=\"black\" d=\"M233.933,-118.865C234.269,-110.498 234.62,-101.771 234.958,-93.3346\"/>\r\n",
       "<polygon fill=\"black\" stroke=\"black\" points=\"238.46,-93.3634 235.364,-83.231 231.466,-93.0824 238.46,-93.3634\"/>\r\n",
       "</g>\r\n",
       "<!-- 10 -->\r\n",
       "<g id=\"node11\" class=\"node\"><title>10</title>\r\n",
       "<path fill=\"#e58139\" stroke=\"black\" d=\"M446,-83C446,-83 348,-83 348,-83 342,-83 336,-77 336,-71 336,-71 336,-12 336,-12 336,-6 342,-0 348,-0 348,-0 446,-0 446,-0 452,-0 458,-6 458,-12 458,-12 458,-71 458,-71 458,-77 452,-83 446,-83\"/>\r\n",
       "<text text-anchor=\"start\" x=\"366.5\" y=\"-67.8\" font-family=\"Helvetica,sans-Serif\" font-size=\"14.00\">node #10</text>\r\n",
       "<text text-anchor=\"start\" x=\"359.5\" y=\"-52.8\" font-family=\"Helvetica,sans-Serif\" font-size=\"14.00\">gini = 0.001</text>\r\n",
       "<text text-anchor=\"start\" x=\"345.5\" y=\"-37.8\" font-family=\"Helvetica,sans-Serif\" font-size=\"14.00\">samples = 1740</text>\r\n",
       "<text text-anchor=\"start\" x=\"344\" y=\"-22.8\" font-family=\"Helvetica,sans-Serif\" font-size=\"14.00\">value = [1739, 1]</text>\r\n",
       "<text text-anchor=\"start\" x=\"352\" y=\"-7.8\" font-family=\"Helvetica,sans-Serif\" font-size=\"14.00\">class = Online</text>\r\n",
       "</g>\r\n",
       "<!-- 9&#45;&gt;10 -->\r\n",
       "<g id=\"edge10\" class=\"edge\"><title>9&#45;&gt;10</title>\r\n",
       "<path fill=\"none\" stroke=\"black\" d=\"M399.453,-118.865C399.185,-110.498 398.904,-101.771 398.633,-93.3346\"/>\r\n",
       "<polygon fill=\"black\" stroke=\"black\" points=\"402.128,-93.1134 398.309,-83.231 395.132,-93.3382 402.128,-93.1134\"/>\r\n",
       "</g>\r\n",
       "<!-- 11 -->\r\n",
       "<g id=\"node12\" class=\"node\"><title>11</title>\r\n",
       "<path fill=\"#c3e1f7\" stroke=\"black\" d=\"M610,-83C610,-83 488,-83 488,-83 482,-83 476,-77 476,-71 476,-71 476,-12 476,-12 476,-6 482,-0 488,-0 488,-0 610,-0 610,-0 616,-0 622,-6 622,-12 622,-12 622,-71 622,-71 622,-77 616,-83 610,-83\"/>\r\n",
       "<text text-anchor=\"start\" x=\"518.5\" y=\"-67.8\" font-family=\"Helvetica,sans-Serif\" font-size=\"14.00\">node #11</text>\r\n",
       "<text text-anchor=\"start\" x=\"511.5\" y=\"-52.8\" font-family=\"Helvetica,sans-Serif\" font-size=\"14.00\">gini = 0.484</text>\r\n",
       "<text text-anchor=\"start\" x=\"497.5\" y=\"-37.8\" font-family=\"Helvetica,sans-Serif\" font-size=\"14.00\">samples = 7806</text>\r\n",
       "<text text-anchor=\"start\" x=\"484\" y=\"-22.8\" font-family=\"Helvetica,sans-Serif\" font-size=\"14.00\">value = [3211, 4595]</text>\r\n",
       "<text text-anchor=\"start\" x=\"500\" y=\"-7.8\" font-family=\"Helvetica,sans-Serif\" font-size=\"14.00\">class = In&#45;store</text>\r\n",
       "</g>\r\n",
       "<!-- 9&#45;&gt;11 -->\r\n",
       "<g id=\"edge11\" class=\"edge\"><title>9&#45;&gt;11</title>\r\n",
       "<path fill=\"none\" stroke=\"black\" d=\"M458.221,-118.865C469.588,-109.302 481.513,-99.2708 492.845,-89.7385\"/>\r\n",
       "<polygon fill=\"black\" stroke=\"black\" points=\"495.181,-92.3467 500.581,-83.231 490.675,-86.99 495.181,-92.3467\"/>\r\n",
       "</g>\r\n",
       "</g>\r\n",
       "</svg>\r\n"
      ],
      "text/plain": [
       "<graphviz.files.Source at 0x1c3e349f070>"
      ]
     },
     "execution_count": 557,
     "metadata": {},
     "output_type": "execute_result"
    }
   ],
   "source": [
    "# graph with graphviz and view graph\n",
    "dtcFit6 = tree.export_graphviz(dtc, out_file=None, \n",
    "                  feature_names=X.columns,\n",
    "                  class_names=['Online', 'In-store'], \n",
    "                  filled=True, rounded=True,\n",
    "                  special_characters=True,\n",
    "                node_ids=True)\n",
    "graph = graphviz.Source(dtcFit6)\n",
    "graph"
   ]
  },
  {
   "cell_type": "code",
   "execution_count": null,
   "metadata": {},
   "outputs": [],
   "source": [
    "#Region 1 shops online\n",
    "#Region 2 shops online\n",
    "#Region 3 or 4 is in-store if amount less than equal to 1999.45.\n",
    "#Region 4 in-store for amount less than equal to 999.78\n",
    "#region 3 or 4 online for amount greater than or equal to 2000\n",
    "#Region 3 online for amount greater than 999.78\n",
    "\n",
    "##No gini breaks pcked age to split."
   ]
  },
  {
   "cell_type": "code",
   "execution_count": null,
   "metadata": {},
   "outputs": [],
   "source": [
    "#Build Random Forest Classifier"
   ]
  },
  {
   "cell_type": "code",
   "execution_count": 210,
   "metadata": {},
   "outputs": [],
   "source": [
    "#import packages for Random Forest classification\n",
    "from sklearn import datasets\n",
    "from sklearn import metrics\n",
    "import matplotlib.pyplot as plt"
   ]
  },
  {
   "cell_type": "code",
   "execution_count": 376,
   "metadata": {},
   "outputs": [
    {
     "data": {
      "text/html": [
       "<div>\n",
       "<style scoped>\n",
       "    .dataframe tbody tr th:only-of-type {\n",
       "        vertical-align: middle;\n",
       "    }\n",
       "\n",
       "    .dataframe tbody tr th {\n",
       "        vertical-align: top;\n",
       "    }\n",
       "\n",
       "    .dataframe thead th {\n",
       "        text-align: right;\n",
       "    }\n",
       "</style>\n",
       "<table border=\"1\" class=\"dataframe\">\n",
       "  <thead>\n",
       "    <tr style=\"text-align: right;\">\n",
       "      <th></th>\n",
       "      <th>in-store</th>\n",
       "      <th>age</th>\n",
       "      <th>items</th>\n",
       "      <th>amount</th>\n",
       "      <th>region</th>\n",
       "    </tr>\n",
       "  </thead>\n",
       "  <tbody>\n",
       "    <tr>\n",
       "      <th>0</th>\n",
       "      <td>0</td>\n",
       "      <td>37</td>\n",
       "      <td>4</td>\n",
       "      <td>281.03</td>\n",
       "      <td>2</td>\n",
       "    </tr>\n",
       "    <tr>\n",
       "      <th>1</th>\n",
       "      <td>0</td>\n",
       "      <td>35</td>\n",
       "      <td>2</td>\n",
       "      <td>219.51</td>\n",
       "      <td>2</td>\n",
       "    </tr>\n",
       "    <tr>\n",
       "      <th>2</th>\n",
       "      <td>1</td>\n",
       "      <td>45</td>\n",
       "      <td>3</td>\n",
       "      <td>1525.70</td>\n",
       "      <td>4</td>\n",
       "    </tr>\n",
       "    <tr>\n",
       "      <th>3</th>\n",
       "      <td>1</td>\n",
       "      <td>46</td>\n",
       "      <td>3</td>\n",
       "      <td>715.25</td>\n",
       "      <td>3</td>\n",
       "    </tr>\n",
       "    <tr>\n",
       "      <th>4</th>\n",
       "      <td>1</td>\n",
       "      <td>33</td>\n",
       "      <td>4</td>\n",
       "      <td>1937.50</td>\n",
       "      <td>1</td>\n",
       "    </tr>\n",
       "  </tbody>\n",
       "</table>\n",
       "</div>"
      ],
      "text/plain": [
       "   in-store  age  items   amount  region\n",
       "0         0   37      4   281.03       2\n",
       "1         0   35      2   219.51       2\n",
       "2         1   45      3  1525.70       4\n",
       "3         1   46      3   715.25       3\n",
       "4         1   33      4  1937.50       1"
      ]
     },
     "execution_count": 376,
     "metadata": {},
     "output_type": "execute_result"
    }
   ],
   "source": [
    "#review dataset\n",
    "data.head()"
   ]
  },
  {
   "cell_type": "code",
   "execution_count": 377,
   "metadata": {
    "scrolled": true
   },
   "outputs": [
    {
     "data": {
      "text/html": [
       "<div>\n",
       "<style scoped>\n",
       "    .dataframe tbody tr th:only-of-type {\n",
       "        vertical-align: middle;\n",
       "    }\n",
       "\n",
       "    .dataframe tbody tr th {\n",
       "        vertical-align: top;\n",
       "    }\n",
       "\n",
       "    .dataframe thead th {\n",
       "        text-align: right;\n",
       "    }\n",
       "</style>\n",
       "<table border=\"1\" class=\"dataframe\">\n",
       "  <thead>\n",
       "    <tr style=\"text-align: right;\">\n",
       "      <th></th>\n",
       "      <th>in-store</th>\n",
       "      <th>age</th>\n",
       "      <th>items</th>\n",
       "      <th>amount</th>\n",
       "      <th>region</th>\n",
       "    </tr>\n",
       "  </thead>\n",
       "  <tbody>\n",
       "    <tr>\n",
       "      <th>0</th>\n",
       "      <td>0</td>\n",
       "      <td>37</td>\n",
       "      <td>4</td>\n",
       "      <td>281.03</td>\n",
       "      <td>2</td>\n",
       "    </tr>\n",
       "    <tr>\n",
       "      <th>1</th>\n",
       "      <td>0</td>\n",
       "      <td>35</td>\n",
       "      <td>2</td>\n",
       "      <td>219.51</td>\n",
       "      <td>2</td>\n",
       "    </tr>\n",
       "    <tr>\n",
       "      <th>2</th>\n",
       "      <td>1</td>\n",
       "      <td>45</td>\n",
       "      <td>3</td>\n",
       "      <td>1525.70</td>\n",
       "      <td>4</td>\n",
       "    </tr>\n",
       "    <tr>\n",
       "      <th>3</th>\n",
       "      <td>1</td>\n",
       "      <td>46</td>\n",
       "      <td>3</td>\n",
       "      <td>715.25</td>\n",
       "      <td>3</td>\n",
       "    </tr>\n",
       "    <tr>\n",
       "      <th>4</th>\n",
       "      <td>1</td>\n",
       "      <td>33</td>\n",
       "      <td>4</td>\n",
       "      <td>1937.50</td>\n",
       "      <td>1</td>\n",
       "    </tr>\n",
       "  </tbody>\n",
       "</table>\n",
       "</div>"
      ],
      "text/plain": [
       "   in-store  age  items   amount  region\n",
       "0         0   37      4   281.03       2\n",
       "1         0   35      2   219.51       2\n",
       "2         1   45      3  1525.70       4\n",
       "3         1   46      3   715.25       3\n",
       "4         1   33      4  1937.50       1"
      ]
     },
     "execution_count": 377,
     "metadata": {},
     "output_type": "execute_result"
    }
   ],
   "source": [
    "# place data into a dataframe\n",
    "column_names = [\"in-store\", \"age\", \"items\", \"amount\", \"region\"]\n",
    "data_age = df.reindex(columns=column_names)\n",
    "data_age.head()\n"
   ]
  },
  {
   "cell_type": "code",
   "execution_count": 378,
   "metadata": {},
   "outputs": [],
   "source": [
    "# Features\n",
    "feature_names = ['in-store', 'age', 'items', 'amount'] #array of features\n",
    "X=data[feature_names] # Features \n",
    "\n",
    "y=data.region   #Label\n"
   ]
  },
  {
   "cell_type": "code",
   "execution_count": 379,
   "metadata": {},
   "outputs": [],
   "source": [
    "#Train/Test Split\n",
    "X_train, X_test, y_train, y_test = train_test_split(X, y, test_size = .30, \n",
    "                                                random_state = 123)"
   ]
  },
  {
   "cell_type": "code",
   "execution_count": 380,
   "metadata": {},
   "outputs": [],
   "source": [
    "# create a gaussian classifier\n",
    "rf=RandomForestClassifier(n_estimators=100)"
   ]
  },
  {
   "cell_type": "code",
   "execution_count": 381,
   "metadata": {},
   "outputs": [],
   "source": [
    "# train model to predict\n",
    "rfFit1=rf.fit(X_train,y_train)\n",
    "\n",
    "rf1pred=rfFit1.predict(X_test)"
   ]
  },
  {
   "cell_type": "code",
   "execution_count": 382,
   "metadata": {},
   "outputs": [
    {
     "name": "stdout",
     "output_type": "stream",
     "text": [
      "Accuracy: 0.5787083333333334\n"
     ]
    }
   ],
   "source": [
    "#check accuracy and predicted values\n",
    "# Model Accuracy, how often is the classifier correct?\n",
    "print(\"Accuracy:\",metrics.accuracy_score(y_test, rf1pred))"
   ]
  },
  {
   "cell_type": "code",
   "execution_count": 383,
   "metadata": {},
   "outputs": [
    {
     "name": "stdout",
     "output_type": "stream",
     "text": [
      "Feature: 0, Score: 0.17056\n",
      "Feature: 1, Score: 0.17223\n",
      "Feature: 2, Score: 0.04143\n",
      "Feature: 3, Score: 0.61578\n"
     ]
    },
    {
     "data": {
      "image/png": "[encoded data removed]",
      "text/plain": [
       "<Figure size 432x288 with 1 Axes>"
      ]
     },
     "metadata": {
      "needs_background": "light"
     },
     "output_type": "display_data"
    }
   ],
   "source": [
    "#find important features\n",
    "importance = rfFit1.feature_importances_\n",
    "# summarize feature importance\n",
    "for i,v in enumerate(importance):\n",
    "\tprint('Feature: %0d, Score: %.5f' % (i,v))\n",
    "# plot feature importance\n",
    "plt.bar([x for x in range(len(importance))], importance)\n",
    "plt.xlabel('Features')\n",
    "plt.ylabel('Importance Score')\n",
    "plt.title(r'Bar Chart of RandomForestClassifer Feature Importance Scores')\n",
    "plt.show()"
   ]
  },
  {
   "cell_type": "code",
   "execution_count": null,
   "metadata": {},
   "outputs": [],
   "source": [
    "#Feature 3 = \"items\" that has low importance"
   ]
  },
  {
   "cell_type": "code",
   "execution_count": 384,
   "metadata": {},
   "outputs": [],
   "source": [
    "# Features\n",
    "feature_names = ['in-store', 'age', 'amount'] #removed feature \"items\"\n",
    "X=data[feature_names] # Features \n",
    "\n",
    "y=data.region   #Label\n",
    "\n",
    "                                     \n",
    "# Split dataset into training set and test set\n",
    "X_train, X_test, y_train, y_test = train_test_split(X, y, test_size=0.70, random_state=123) # 30% training and 70% test"
   ]
  },
  {
   "cell_type": "code",
   "execution_count": 385,
   "metadata": {},
   "outputs": [
    {
     "name": "stdout",
     "output_type": "stream",
     "text": [
      "Accuracy: 0.5725178571428572\n"
     ]
    }
   ],
   "source": [
    "# generate model on selected training set features, perform predictions on test set features,\n",
    "# and compare actual and predicted values\n",
    "\n",
    "# create a gaussian classifier\n",
    "rf=RandomForestClassifier(n_estimators=100)\n",
    "\n",
    "# train model using the training sets\n",
    "rfFit2=rf.fit(X_train,y_train)\n",
    "\n",
    "#prediction on test set\n",
    "rf2pred=rfFit2.predict(X_test)\n",
    "\n",
    "#check accuracy and predicted values\n",
    "# Model Accuracy, how often is the classifier correct?\n",
    "print(\"Accuracy:\",metrics.accuracy_score(y_test, rf2pred))\n"
   ]
  },
  {
   "cell_type": "code",
   "execution_count": 386,
   "metadata": {},
   "outputs": [],
   "source": [
    "#removing the least important feature \"item\" did not increase accuracy as expected. Region and items have a negative\n",
    "#covariance and a weak correlation of -0.133. "
   ]
  },
  {
   "cell_type": "code",
   "execution_count": null,
   "metadata": {},
   "outputs": [],
   "source": [
    "#Review Random Forest Classifier for in-store variable"
   ]
  },
  {
   "cell_type": "code",
   "execution_count": 387,
   "metadata": {},
   "outputs": [
    {
     "data": {
      "text/html": [
       "<div>\n",
       "<style scoped>\n",
       "    .dataframe tbody tr th:only-of-type {\n",
       "        vertical-align: middle;\n",
       "    }\n",
       "\n",
       "    .dataframe tbody tr th {\n",
       "        vertical-align: top;\n",
       "    }\n",
       "\n",
       "    .dataframe thead th {\n",
       "        text-align: right;\n",
       "    }\n",
       "</style>\n",
       "<table border=\"1\" class=\"dataframe\">\n",
       "  <thead>\n",
       "    <tr style=\"text-align: right;\">\n",
       "      <th></th>\n",
       "      <th>items</th>\n",
       "      <th>amount</th>\n",
       "      <th>region</th>\n",
       "      <th>age</th>\n",
       "      <th>in-store</th>\n",
       "    </tr>\n",
       "  </thead>\n",
       "  <tbody>\n",
       "    <tr>\n",
       "      <th>0</th>\n",
       "      <td>4</td>\n",
       "      <td>281.03</td>\n",
       "      <td>2</td>\n",
       "      <td>37</td>\n",
       "      <td>0</td>\n",
       "    </tr>\n",
       "    <tr>\n",
       "      <th>1</th>\n",
       "      <td>2</td>\n",
       "      <td>219.51</td>\n",
       "      <td>2</td>\n",
       "      <td>35</td>\n",
       "      <td>0</td>\n",
       "    </tr>\n",
       "    <tr>\n",
       "      <th>2</th>\n",
       "      <td>3</td>\n",
       "      <td>1525.70</td>\n",
       "      <td>4</td>\n",
       "      <td>45</td>\n",
       "      <td>1</td>\n",
       "    </tr>\n",
       "    <tr>\n",
       "      <th>3</th>\n",
       "      <td>3</td>\n",
       "      <td>715.25</td>\n",
       "      <td>3</td>\n",
       "      <td>46</td>\n",
       "      <td>1</td>\n",
       "    </tr>\n",
       "    <tr>\n",
       "      <th>4</th>\n",
       "      <td>4</td>\n",
       "      <td>1937.50</td>\n",
       "      <td>1</td>\n",
       "      <td>33</td>\n",
       "      <td>1</td>\n",
       "    </tr>\n",
       "  </tbody>\n",
       "</table>\n",
       "</div>"
      ],
      "text/plain": [
       "   items   amount  region  age  in-store\n",
       "0      4   281.03       2   37         0\n",
       "1      2   219.51       2   35         0\n",
       "2      3  1525.70       4   45         1\n",
       "3      3   715.25       3   46         1\n",
       "4      4  1937.50       1   33         1"
      ]
     },
     "execution_count": 387,
     "metadata": {},
     "output_type": "execute_result"
    }
   ],
   "source": [
    "#review dataset\n",
    "data_instore.head()"
   ]
  },
  {
   "cell_type": "code",
   "execution_count": 388,
   "metadata": {},
   "outputs": [],
   "source": [
    "# Features\n",
    "feature_names = ['items', 'amount', 'region', 'age'] #array of features\n",
    "label_names = ['in-store']\n",
    "X=data[feature_names] # Features \n",
    "\n",
    "y=(data[label_names])    #Label"
   ]
  },
  {
   "cell_type": "code",
   "execution_count": 389,
   "metadata": {},
   "outputs": [
    {
     "data": {
      "text/html": [
       "<div>\n",
       "<style scoped>\n",
       "    .dataframe tbody tr th:only-of-type {\n",
       "        vertical-align: middle;\n",
       "    }\n",
       "\n",
       "    .dataframe tbody tr th {\n",
       "        vertical-align: top;\n",
       "    }\n",
       "\n",
       "    .dataframe thead th {\n",
       "        text-align: right;\n",
       "    }\n",
       "</style>\n",
       "<table border=\"1\" class=\"dataframe\">\n",
       "  <thead>\n",
       "    <tr style=\"text-align: right;\">\n",
       "      <th></th>\n",
       "      <th>items</th>\n",
       "      <th>amount</th>\n",
       "      <th>region</th>\n",
       "      <th>age</th>\n",
       "    </tr>\n",
       "  </thead>\n",
       "  <tbody>\n",
       "    <tr>\n",
       "      <th>0</th>\n",
       "      <td>4</td>\n",
       "      <td>281.03</td>\n",
       "      <td>2</td>\n",
       "      <td>37</td>\n",
       "    </tr>\n",
       "    <tr>\n",
       "      <th>1</th>\n",
       "      <td>2</td>\n",
       "      <td>219.51</td>\n",
       "      <td>2</td>\n",
       "      <td>35</td>\n",
       "    </tr>\n",
       "    <tr>\n",
       "      <th>2</th>\n",
       "      <td>3</td>\n",
       "      <td>1525.70</td>\n",
       "      <td>4</td>\n",
       "      <td>45</td>\n",
       "    </tr>\n",
       "    <tr>\n",
       "      <th>3</th>\n",
       "      <td>3</td>\n",
       "      <td>715.25</td>\n",
       "      <td>3</td>\n",
       "      <td>46</td>\n",
       "    </tr>\n",
       "    <tr>\n",
       "      <th>4</th>\n",
       "      <td>4</td>\n",
       "      <td>1937.50</td>\n",
       "      <td>1</td>\n",
       "      <td>33</td>\n",
       "    </tr>\n",
       "  </tbody>\n",
       "</table>\n",
       "</div>"
      ],
      "text/plain": [
       "   items   amount  region  age\n",
       "0      4   281.03       2   37\n",
       "1      2   219.51       2   35\n",
       "2      3  1525.70       4   45\n",
       "3      3   715.25       3   46\n",
       "4      4  1937.50       1   33"
      ]
     },
     "execution_count": 389,
     "metadata": {},
     "output_type": "execute_result"
    }
   ],
   "source": [
    "X.head()"
   ]
  },
  {
   "cell_type": "code",
   "execution_count": 390,
   "metadata": {},
   "outputs": [
    {
     "data": {
      "text/html": [
       "<div>\n",
       "<style scoped>\n",
       "    .dataframe tbody tr th:only-of-type {\n",
       "        vertical-align: middle;\n",
       "    }\n",
       "\n",
       "    .dataframe tbody tr th {\n",
       "        vertical-align: top;\n",
       "    }\n",
       "\n",
       "    .dataframe thead th {\n",
       "        text-align: right;\n",
       "    }\n",
       "</style>\n",
       "<table border=\"1\" class=\"dataframe\">\n",
       "  <thead>\n",
       "    <tr style=\"text-align: right;\">\n",
       "      <th></th>\n",
       "      <th>in-store</th>\n",
       "    </tr>\n",
       "  </thead>\n",
       "  <tbody>\n",
       "    <tr>\n",
       "      <th>0</th>\n",
       "      <td>0</td>\n",
       "    </tr>\n",
       "    <tr>\n",
       "      <th>1</th>\n",
       "      <td>0</td>\n",
       "    </tr>\n",
       "    <tr>\n",
       "      <th>2</th>\n",
       "      <td>1</td>\n",
       "    </tr>\n",
       "    <tr>\n",
       "      <th>3</th>\n",
       "      <td>1</td>\n",
       "    </tr>\n",
       "    <tr>\n",
       "      <th>4</th>\n",
       "      <td>1</td>\n",
       "    </tr>\n",
       "  </tbody>\n",
       "</table>\n",
       "</div>"
      ],
      "text/plain": [
       "   in-store\n",
       "0         0\n",
       "1         0\n",
       "2         1\n",
       "3         1\n",
       "4         1"
      ]
     },
     "execution_count": 390,
     "metadata": {},
     "output_type": "execute_result"
    }
   ],
   "source": [
    "y.head()"
   ]
  },
  {
   "cell_type": "code",
   "execution_count": 391,
   "metadata": {},
   "outputs": [],
   "source": [
    "#Train/Test Split\n",
    "X_train, X_test, y_train, y_test = train_test_split(X, y, test_size = .30, \n",
    "                                                random_state = 123)"
   ]
  },
  {
   "cell_type": "code",
   "execution_count": 392,
   "metadata": {},
   "outputs": [],
   "source": [
    "# create a gaussian classifier\n",
    "rf=RandomForestClassifier(n_estimators=100)"
   ]
  },
  {
   "cell_type": "code",
   "execution_count": 393,
   "metadata": {},
   "outputs": [],
   "source": [
    "# train model to predict\n",
    "rfFit3=rf.fit(X_train,np.ravel(y_train,order='C'))\n",
    "\n",
    "rf3pred=rfFit3.predict(X_test)"
   ]
  },
  {
   "cell_type": "code",
   "execution_count": 394,
   "metadata": {},
   "outputs": [
    {
     "name": "stdout",
     "output_type": "stream",
     "text": [
      "Accuracy: 0.8621666666666666\n"
     ]
    }
   ],
   "source": [
    "#check accuracy and predicted values\n",
    "# Model Accuracy, how often is the classifier correct?\n",
    "print(\"Accuracy:\",metrics.accuracy_score(y_test, rf3pred))"
   ]
  },
  {
   "cell_type": "code",
   "execution_count": 374,
   "metadata": {},
   "outputs": [
    {
     "name": "stdout",
     "output_type": "stream",
     "text": [
      "Feature: 0, Score: 0.02192\n",
      "Feature: 1, Score: 0.37668\n",
      "Feature: 2, Score: 0.47830\n",
      "Feature: 3, Score: 0.12311\n"
     ]
    },
    {
     "data": {
      "image/png": "[encoded data removed]",
      "text/plain": [
       "<Figure size 432x288 with 1 Axes>"
      ]
     },
     "metadata": {
      "needs_background": "light"
     },
     "output_type": "display_data"
    }
   ],
   "source": [
    "#find important features\n",
    "importance = rfFit3.feature_importances_\n",
    "# summarize feature importance\n",
    "for i,v in enumerate(importance):\n",
    "\tprint('Feature: %0d, Score: %.5f' % (i,v))\n",
    "# plot feature importance\n",
    "plt.bar([x for x in range(len(importance))], importance)\n",
    "plt.xlabel('Features')\n",
    "plt.ylabel('Importance Score')\n",
    "plt.title(r'Bar Chart of RandomForestClassifer Feature Importance Scores')\n",
    "plt.show()"
   ]
  },
  {
   "cell_type": "code",
   "execution_count": null,
   "metadata": {},
   "outputs": [],
   "source": [
    "#Feature 1 = \"Items\" that has low importance"
   ]
  },
  {
   "cell_type": "code",
   "execution_count": 395,
   "metadata": {},
   "outputs": [],
   "source": [
    "# Features\n",
    "feature_names = ['amount', 'region', 'age'] #removed feature \"items\"\n",
    "label_names = ['in-store']\n",
    "X=data[feature_names] # Features \n",
    "\n",
    "y=(data[label_names])    #Label\n",
    "                                     \n",
    "# Split dataset into training set and test set\n",
    "X_train, X_test, y_train, y_test = train_test_split(X, y, test_size=0.70, random_state=123) # 30% training and 70% test"
   ]
  },
  {
   "cell_type": "code",
   "execution_count": 396,
   "metadata": {},
   "outputs": [
    {
     "name": "stdout",
     "output_type": "stream",
     "text": [
      "Accuracy: 0.8536785714285714\n"
     ]
    }
   ],
   "source": [
    "# generate model on selected training set features, perform predictions on test set features,\n",
    "# and compare actual and predicted values\n",
    "\n",
    "# create a gaussian classifier\n",
    "rf=RandomForestClassifier(n_estimators=100)\n",
    "\n",
    "# train model using the training sets\n",
    "rfFit4=rf.fit(X_train,np.ravel(y_train,order='C'))\n",
    "\n",
    "#prediction on test set\n",
    "rf4pred=rfFit4.predict(X_test)\n",
    "\n",
    "#check accuracy and predicted values\n",
    "# Model Accuracy, how often is the classifier correct?\n",
    "print(\"Accuracy:\",metrics.accuracy_score(y_test, rf4pred))\n"
   ]
  },
  {
   "cell_type": "code",
   "execution_count": null,
   "metadata": {},
   "outputs": [],
   "source": [
    "#removing the least important feature \"items\" did not increase accuracy as expected. In-store and items have a negative\n",
    "#covariance and a weak correlation of -0.004. "
   ]
  },
  {
   "cell_type": "code",
   "execution_count": null,
   "metadata": {},
   "outputs": [],
   "source": [
    "#Next section: Build Gradient Booster"
   ]
  },
  {
   "cell_type": "code",
   "execution_count": 325,
   "metadata": {},
   "outputs": [
    {
     "data": {
      "text/html": [
       "<div>\n",
       "<style scoped>\n",
       "    .dataframe tbody tr th:only-of-type {\n",
       "        vertical-align: middle;\n",
       "    }\n",
       "\n",
       "    .dataframe tbody tr th {\n",
       "        vertical-align: top;\n",
       "    }\n",
       "\n",
       "    .dataframe thead th {\n",
       "        text-align: right;\n",
       "    }\n",
       "</style>\n",
       "<table border=\"1\" class=\"dataframe\">\n",
       "  <thead>\n",
       "    <tr style=\"text-align: right;\">\n",
       "      <th></th>\n",
       "      <th>in-store</th>\n",
       "      <th>age</th>\n",
       "      <th>items</th>\n",
       "      <th>amount</th>\n",
       "      <th>region</th>\n",
       "    </tr>\n",
       "  </thead>\n",
       "  <tbody>\n",
       "    <tr>\n",
       "      <th>0</th>\n",
       "      <td>0</td>\n",
       "      <td>37</td>\n",
       "      <td>4</td>\n",
       "      <td>281.03</td>\n",
       "      <td>2</td>\n",
       "    </tr>\n",
       "    <tr>\n",
       "      <th>1</th>\n",
       "      <td>0</td>\n",
       "      <td>35</td>\n",
       "      <td>2</td>\n",
       "      <td>219.51</td>\n",
       "      <td>2</td>\n",
       "    </tr>\n",
       "    <tr>\n",
       "      <th>2</th>\n",
       "      <td>1</td>\n",
       "      <td>45</td>\n",
       "      <td>3</td>\n",
       "      <td>1525.70</td>\n",
       "      <td>4</td>\n",
       "    </tr>\n",
       "    <tr>\n",
       "      <th>3</th>\n",
       "      <td>1</td>\n",
       "      <td>46</td>\n",
       "      <td>3</td>\n",
       "      <td>715.25</td>\n",
       "      <td>3</td>\n",
       "    </tr>\n",
       "    <tr>\n",
       "      <th>4</th>\n",
       "      <td>1</td>\n",
       "      <td>33</td>\n",
       "      <td>4</td>\n",
       "      <td>1937.50</td>\n",
       "      <td>1</td>\n",
       "    </tr>\n",
       "  </tbody>\n",
       "</table>\n",
       "</div>"
      ],
      "text/plain": [
       "   in-store  age  items   amount  region\n",
       "0         0   37      4   281.03       2\n",
       "1         0   35      2   219.51       2\n",
       "2         1   45      3  1525.70       4\n",
       "3         1   46      3   715.25       3\n",
       "4         1   33      4  1937.50       1"
      ]
     },
     "execution_count": 325,
     "metadata": {},
     "output_type": "execute_result"
    }
   ],
   "source": [
    "#review dataset\n",
    "data.head()"
   ]
  },
  {
   "cell_type": "code",
   "execution_count": 326,
   "metadata": {},
   "outputs": [
    {
     "name": "stdout",
     "output_type": "stream",
     "text": [
      "Summary of feature sample\n"
     ]
    },
    {
     "data": {
      "text/html": [
       "<div>\n",
       "<style scoped>\n",
       "    .dataframe tbody tr th:only-of-type {\n",
       "        vertical-align: middle;\n",
       "    }\n",
       "\n",
       "    .dataframe tbody tr th {\n",
       "        vertical-align: top;\n",
       "    }\n",
       "\n",
       "    .dataframe thead th {\n",
       "        text-align: right;\n",
       "    }\n",
       "</style>\n",
       "<table border=\"1\" class=\"dataframe\">\n",
       "  <thead>\n",
       "    <tr style=\"text-align: right;\">\n",
       "      <th></th>\n",
       "      <th>in-store</th>\n",
       "      <th>age</th>\n",
       "      <th>items</th>\n",
       "      <th>amount</th>\n",
       "    </tr>\n",
       "  </thead>\n",
       "  <tbody>\n",
       "    <tr>\n",
       "      <th>0</th>\n",
       "      <td>0</td>\n",
       "      <td>37</td>\n",
       "      <td>4</td>\n",
       "      <td>281.03</td>\n",
       "    </tr>\n",
       "    <tr>\n",
       "      <th>1</th>\n",
       "      <td>0</td>\n",
       "      <td>35</td>\n",
       "      <td>2</td>\n",
       "      <td>219.51</td>\n",
       "    </tr>\n",
       "    <tr>\n",
       "      <th>2</th>\n",
       "      <td>1</td>\n",
       "      <td>45</td>\n",
       "      <td>3</td>\n",
       "      <td>1525.70</td>\n",
       "    </tr>\n",
       "    <tr>\n",
       "      <th>3</th>\n",
       "      <td>1</td>\n",
       "      <td>46</td>\n",
       "      <td>3</td>\n",
       "      <td>715.25</td>\n",
       "    </tr>\n",
       "    <tr>\n",
       "      <th>4</th>\n",
       "      <td>1</td>\n",
       "      <td>33</td>\n",
       "      <td>4</td>\n",
       "      <td>1937.50</td>\n",
       "    </tr>\n",
       "  </tbody>\n",
       "</table>\n",
       "</div>"
      ],
      "text/plain": [
       "   in-store  age  items   amount\n",
       "0         0   37      4   281.03\n",
       "1         0   35      2   219.51\n",
       "2         1   45      3  1525.70\n",
       "3         1   46      3   715.25\n",
       "4         1   33      4  1937.50"
      ]
     },
     "execution_count": 326,
     "metadata": {},
     "output_type": "execute_result"
    }
   ],
   "source": [
    "#Select features and split data\n",
    "X = data.iloc[:,0:4]\n",
    "print('Summary of feature sample')\n",
    "X.head()"
   ]
  },
  {
   "cell_type": "code",
   "execution_count": 327,
   "metadata": {},
   "outputs": [],
   "source": [
    "#dependent variable\n",
    "y = data['region']"
   ]
  },
  {
   "cell_type": "code",
   "execution_count": 328,
   "metadata": {},
   "outputs": [],
   "source": [
    "#Train/Test Split\n",
    "X_train, X_test, y_train, y_test = train_test_split(X, y, test_size = .30, \n",
    "                                                random_state = 123)"
   ]
  },
  {
   "cell_type": "code",
   "execution_count": 329,
   "metadata": {},
   "outputs": [],
   "source": [
    "#instantiate a gradient boosting classifier model dusing default parameters\n",
    "gbc =GradientBoostingClassifier()\n",
    "gbcFit1 = gbc.fit(X_train, y_train)"
   ]
  },
  {
   "cell_type": "code",
   "execution_count": 330,
   "metadata": {},
   "outputs": [
    {
     "name": "stdout",
     "output_type": "stream",
     "text": [
      "0.6450416666666666\n"
     ]
    }
   ],
   "source": [
    "#Use model on test set with default classification accuracy score\n",
    "gbc1score = gbcFit1.score(X_test, y_test)\n",
    "print(gbc1score)"
   ]
  },
  {
   "cell_type": "code",
   "execution_count": null,
   "metadata": {},
   "outputs": [],
   "source": [
    "#Gradient Booster Classifier uses leaf to guess target variable\n",
    "#first guess is average value\n",
    "#build tree based on errors by previous run\n",
    "#scales tree and builds another tree\n",
    "#weighted sum of predictions is the final answer"
   ]
  },
  {
   "cell_type": "code",
   "execution_count": 401,
   "metadata": {},
   "outputs": [],
   "source": [
    "#cross validation and choosing right model\n",
    "clf_dt = DecisionTreeClassifier() #create variable for "
   ]
  },
  {
   "cell_type": "code",
   "execution_count": 402,
   "metadata": {},
   "outputs": [
    {
     "name": "stdout",
     "output_type": "stream",
     "text": [
      "[('Random Forest Classifier', RandomForestClassifier()), ('Decision Tree Classifier', DecisionTreeClassifier())]\n"
     ]
    }
   ],
   "source": [
    "#create an empty list\n",
    "cv_class = []\n",
    "\n",
    "#add random forest classifier and decison tree to empty list\n",
    "cv_class.append(('Random Forest Classifier', RandomForestClassifier()))\n",
    "cv_class.append(('Decision Tree Classifier', DecisionTreeClassifier()))\n",
    "\n",
    "print(cv_class)"
   ]
  },
  {
   "cell_type": "code",
   "execution_count": 403,
   "metadata": {},
   "outputs": [],
   "source": [
    "#classification using data split for region as dependent variable\n",
    "results = []\n",
    "names = []\n",
    "\n",
    "for name, model in cv_class:\n",
    "    result = cross_val_score(clf_dt, X_train,y_train, cv=3, scoring='accuracy')\n",
    "    names.append(name)\n",
    "    results.append(result)"
   ]
  },
  {
   "cell_type": "code",
   "execution_count": 404,
   "metadata": {},
   "outputs": [
    {
     "name": "stdout",
     "output_type": "stream",
     "text": [
      "Random Forest Classifier 0.5666606910497513\n",
      "Decision Tree Classifier 0.5651963846071207\n"
     ]
    }
   ],
   "source": [
    "for i in range(len(names)):\n",
    "    print(names[i],results[i].mean())"
   ]
  },
  {
   "cell_type": "code",
   "execution_count": 405,
   "metadata": {},
   "outputs": [
    {
     "name": "stdout",
     "output_type": "stream",
     "text": [
      "[0.56629346 0.56490063 0.56396657]\n"
     ]
    }
   ],
   "source": [
    "print(cross_val_score(cv,X_train,y_train,cv=3))  #of folds being held out"
   ]
  },
  {
   "cell_type": "code",
   "execution_count": null,
   "metadata": {},
   "outputs": [],
   "source": [
    "# The decision tree classifier performs slightly better than the the random forest classifier"
   ]
  },
  {
   "cell_type": "code",
   "execution_count": 410,
   "metadata": {},
   "outputs": [],
   "source": [
    "#cross validation and choosing right model for in-store as dependent variable\n",
    "clf_dt = DecisionTreeClassifier() #create variable for "
   ]
  },
  {
   "cell_type": "code",
   "execution_count": 411,
   "metadata": {},
   "outputs": [
    {
     "name": "stdout",
     "output_type": "stream",
     "text": [
      "[('Random Forest Classifier', RandomForestClassifier()), ('Decision Tree Classifier', DecisionTreeClassifier())]\n"
     ]
    }
   ],
   "source": [
    "#create an empty list\n",
    "cv_class = []\n",
    "\n",
    "#add random forest classifier and decison tree to empty list\n",
    "cv_class.append(('Random Forest Classifier', RandomForestClassifier()))\n",
    "cv_class.append(('Decision Tree Classifier', DecisionTreeClassifier()))\n",
    "\n",
    "print(cv_class)"
   ]
  },
  {
   "cell_type": "code",
   "execution_count": 412,
   "metadata": {},
   "outputs": [],
   "source": [
    "#classification using data split for region as dependent variable\n",
    "results = []\n",
    "names = []\n",
    "\n",
    "for name, model in cv_class:\n",
    "    result = cross_val_score(clf_dt, X_train,y_train, cv=3, scoring='accuracy')\n",
    "    names.append(name)\n",
    "    results.append(result)"
   ]
  },
  {
   "cell_type": "code",
   "execution_count": 413,
   "metadata": {},
   "outputs": [
    {
     "name": "stdout",
     "output_type": "stream",
     "text": [
      "Random Forest Classifier 0.8453871287797913\n",
      "Decision Tree Classifier 0.8452442435710169\n"
     ]
    }
   ],
   "source": [
    "for i in range(len(names)):\n",
    "    print(names[i],results[i].mean())"
   ]
  },
  {
   "cell_type": "code",
   "execution_count": 414,
   "metadata": {},
   "outputs": [
    {
     "name": "stdout",
     "output_type": "stream",
     "text": [
      "[0.84556853 0.84626514 0.84454209]\n"
     ]
    }
   ],
   "source": [
    "print(cross_val_score(cv,X_train,y_train,cv=3))  #of folds being held out"
   ]
  },
  {
   "cell_type": "code",
   "execution_count": null,
   "metadata": {},
   "outputs": [],
   "source": [
    "# Vey little difference in scores for the two classifiers\n",
    "# The random forest classifier performs slightly better than the the decision tree classifier."
   ]
  }
 ],
 "metadata": {
  "kernelspec": {
   "display_name": "Python 3",
   "language": "python",
   "name": "python3"
  },
  "language_info": {
   "codemirror_mode": {
    "name": "ipython",
    "version": 3
   },
   "file_extension": ".py",
   "mimetype": "text/x-python",
   "name": "python",
   "nbconvert_exporter": "python",
   "pygments_lexer": "ipython3",
   "version": "3.8.5"
  }
 },
 "nbformat": 4,
 "nbformat_minor": 4
}
